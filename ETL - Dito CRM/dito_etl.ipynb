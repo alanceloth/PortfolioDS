{
 "cells": [
  {
   "cell_type": "markdown",
   "metadata": {},
   "source": [
    "# Requeriments"
   ]
  },
  {
   "cell_type": "code",
   "execution_count": 1,
   "metadata": {},
   "outputs": [],
   "source": [
    "#!python.exe -m pip install --upgrade pip\n",
    "#!pip install selenium\n",
    "#!pip install telegram\n",
    "#!pip install python-telegram-bot"
   ]
  },
  {
   "cell_type": "markdown",
   "metadata": {},
   "source": [
    "# Imports"
   ]
  },
  {
   "cell_type": "code",
   "execution_count": 4,
   "metadata": {},
   "outputs": [],
   "source": [
    "import time\n",
    "import yaml\n",
    "from selenium import webdriver\n",
    "from selenium.webdriver.chrome.options import Options\n",
    "from selenium.webdriver.common.by import By\n",
    "from datetime import datetime\n",
    "import pandas as pd\n",
    "import os\n",
    "import logging\n",
    "from logging.config import dictConfig\n",
    "from ftplib import FTP\n",
    "import telegram\n",
    "from telegram import Update\n",
    "from telegram.ext import Updater, CommandHandler\n",
    "from telegram.ext.callbackcontext import CallbackContext\n",
    "import warnings"
   ]
  },
  {
   "cell_type": "markdown",
   "metadata": {},
   "source": [
    "# Setup"
   ]
  },
  {
   "cell_type": "code",
   "execution_count": 5,
   "metadata": {},
   "outputs": [],
   "source": [
    "warnings.filterwarnings(\"ignore\", category=DeprecationWarning) \n",
    "\n",
    "stream = open(\"config.yaml\", 'r')\n",
    "c = yaml.safe_load(stream)\n",
    "\n",
    "#Dito\n",
    "DITO_EMAIL = c['email']\n",
    "DITO_SENHA = c['senha'] \n",
    "api_key = c['api_key']\n",
    "api_secret = c['api_secret']\n",
    "\n",
    "TELEGRAM_BOT_TOKEN = c['telegram_api']\n",
    "TELEGRAM_CHAT_ID = c['bot_chat_id'] \n",
    "\n",
    "DRIVER_PATH = '/path/to/chromedriver'\n",
    "options = Options()\n",
    "options.headless = True\n",
    "options.add_argument(\"--window-size=1920,1080\")\n",
    "timestamp = int(datetime.utcnow().timestamp())\n",
    "logging.basicConfig(filename=f\"log/log_{timestamp}.log\", level=logging.INFO)\n",
    "\n",
    "Output_Directory = \"/retorno_dito\"\n",
    "\n",
    "driver = webdriver.Chrome(options=options, executable_path=DRIVER_PATH)\n",
    "\n",
    "bot = telegram.Bot(token=TELEGRAM_BOT_TOKEN)"
   ]
  },
  {
   "cell_type": "code",
   "execution_count": 6,
   "metadata": {},
   "outputs": [],
   "source": [
    "def login_ftp():\n",
    "    ftp = FTP(c['ftp_host'])\n",
    "    ftp.login(c['ftp_user'],c['ftp_password'])\n",
    "    return ftp\n",
    "    "
   ]
  },
  {
   "cell_type": "code",
   "execution_count": 8,
   "metadata": {},
   "outputs": [],
   "source": [
    "def telegram_bot_sendtext(bot_message, num_try = 0):\n",
    "    global bot\n",
    "    try:\n",
    "        bot = telegram.Bot(token=TELEGRAM_BOT_TOKEN)\n",
    "        return bot.send_message(chat_id=TELEGRAM_CHAT_ID, text=bot_message)\n",
    "    except:\n",
    "        if num_try == 1:\n",
    "            bot = telegram.Bot(token=TELEGRAM_BOT_TOKEN)\n",
    "            return telegram_bot_sendtext(bot_message, 1)\n",
    "        return 0"
   ]
  },
  {
   "cell_type": "code",
   "execution_count": 9,
   "metadata": {},
   "outputs": [],
   "source": [
    "login_page = 'https://crm.dito.com.br/admins/sign_in'\n",
    "notification_page = 'https://crm.dito.com.br/notifications'\n",
    "report_page = ''\n",
    "\n",
    "login_path = '//*[@id=\"admin_email\"]'\n",
    "password_path = '//*[@id=\"admin_password\"]'\n",
    "login_button = '//*[@id=\"new_admin\"]/div[4]/input'\n",
    "\n",
    "menu_date_path = '//*[@id=\"notifications-calendar\"]/span[2]'\n",
    "menu_date_today = '//*[@id=\"period-datepicker\"]/div[1]/span[1]'\n",
    "menu_date_yesterday = '//*[@id=\"period-datepicker\"]/div[1]/span[2]'\n",
    "menu_date_mtd = '//*[@id=\"period-datepicker\"]/div[1]/span[3]'\n",
    "menu_date_last_month = '//*[@id=\"period-datepicker\"]/div[1]/span[4]'\n",
    "menu_date_last_7d = '//*[@id=\"period-datepicker\"]/div[1]/span[5]'\n",
    "menu_date_last_15d = '//*[@id=\"period-datepicker\"]/div[1]/span[6]'\n",
    "menu_date_last_30d = '//*[@id=\"period-datepicker\"]/div[1]/span[7]'\n",
    "menu_date_last_90d = '//*[@id=\"period-datepicker\"]/div[1]/span[8]'\n",
    "\n",
    "filter_button_path = '//*[@id=\"notifications-calendar\"]/span[2]'\n",
    "export_button_path = '//*[@id=\"page-actions\"]/button[2]'\n",
    "confirm_export_path = '//*[@id=\"export-warning\"]/div[2]/div/div/button'\n",
    "\n",
    "export_path = 'https://crm.dito.com.br/exports'\n",
    "notifications_path = '//*[@id=\"notifications\"]'\n",
    "download_button_1 = '//*[@id=\"exports\"]/div/table/tbody/tr[2]/td[4]/a'\n",
    "\n",
    "csv_content_path = '/html/body/pre/text()'"
   ]
  },
  {
   "cell_type": "markdown",
   "metadata": {},
   "source": [
    "# ETL"
   ]
  },
  {
   "cell_type": "code",
   "execution_count": 7,
   "metadata": {},
   "outputs": [],
   "source": [
    "try:\n",
    "    logging.info('[INFO] - Starting ETL.')\n",
    "    telegram_bot_sendtext('🤖 INITIALIZING ETL - DITO 🔔')\n",
    "\n",
    "    logging.info(f'[INFO] - Beginning Extraction step.')\n",
    "    logging.info(f'[INFO] - Starting Selenium.')\n",
    "    try:\n",
    "        driver.get(login_page)\n",
    "        #driver.save_screenshot('debug/login_1.png')\n",
    "        login = driver.find_element(By.XPATH, login_path).send_keys(DITO_EMAIL)\n",
    "        password = driver.find_element(By.XPATH, password_path).send_keys(DITO_SENHA)\n",
    "        time.sleep(1)\n",
    "        #driver.save_screenshot('debug/login_2.png')\n",
    "        submit = driver.find_element(By.XPATH,login_button).click()\n",
    "        time.sleep(1)\n",
    "        #driver.save_screenshot('debug/login_3.png')\n",
    "        time.sleep(5)\n",
    "        logging.info('[INFO] - Login successful.')\n",
    "    except:\n",
    "        telegram_bot_sendtext('🤖 LOGIN ERROR ⚠️')\n",
    "        driver.quit()\n",
    "        exit()\n",
    "    \n",
    "    try:\n",
    "        driver.get(notification_page)\n",
    "        time.sleep(3)\n",
    "        menu_date = driver.find_element(By.XPATH, menu_date_path).click()\n",
    "        #driver.save_screenshot('debug/notification_1.png')\n",
    "        #mudar o parâmetro para o período selecionado\n",
    "        time.sleep(1)\n",
    "        menu_date_pick = driver.find_element(By.XPATH, menu_date_last_15d).click()\n",
    "        #driver.save_screenshot('debug/notification_2.png')\n",
    "        time.sleep(1)\n",
    "        #driver.save_screenshot('debug/notification_3.png')\n",
    "        time.sleep(1)\n",
    "        export_button = driver.find_element(By.XPATH, export_button_path).click()\n",
    "        #driver.save_screenshot('debug/notification_4.png')\n",
    "        time.sleep(1)\n",
    "        confirm_export_button = driver.find_element(By.XPATH, confirm_export_path).click()\n",
    "        timestamp = int(datetime.utcnow().timestamp())\n",
    "        #driver.save_screenshot('debug/notification_5.png')\n",
    "        logging.info('[INFO] - Filters set, generating file...')\n",
    "        time.sleep(60*3)\n",
    "        logging.info('[INFO] - 6 min passed, begin export...')\n",
    "    except:\n",
    "        telegram_bot_sendtext('🤖 ERROR WHILE FILTERING DATA ⚠️')\n",
    "        driver.quit()\n",
    "        exit()\n",
    "\n",
    "    try:\n",
    "        driver.get(export_path)\n",
    "        #driver.save_screenshot('debug/export_1.png')\n",
    "        time.sleep(4)\n",
    "        open_notification_tab = driver.find_element(By.XPATH, notifications_path).click()\n",
    "        #driver.save_screenshot('debug/export_2.png')\n",
    "        time.sleep(2)\n",
    "        open_last_file = driver.find_element(By.XPATH, download_button_1).click()\n",
    "        get_url = driver.current_url\n",
    "        url = get_url.split(\"U/\")\n",
    "        url = str(url[1])\n",
    "        logging.info(f'[INFO] - File export successful, generating txt file. Current URL:{url}')\n",
    "        #driver.save_screenshot('debug/export_3.png')\n",
    "        time.sleep(2)\n",
    "        logging.info('[INFO] - File export successful, generating txt file.')\n",
    "    except:\n",
    "        telegram_bot_sendtext('🤖 ERROR ON FILE EXPORT ⚠️')\n",
    "        driver.quit()\n",
    "        exit()\n",
    "\n",
    "    try:\n",
    "        ext_text = driver.find_element(By.TAG_NAME,\"body\").text\n",
    "        with open(f'download/{url}.txt','w', encoding='utf-8', newline='\\n') as file:\n",
    "            writer = file.write(ext_text)\n",
    "            logging.info(f'[INFO] - Txt file generated, {url}.txt')\n",
    "    except:\n",
    "        telegram_bot_sendtext('🤖 ERROR WHILE WRITING FILE ⚠️')\n",
    "        driver.quit()\n",
    "        exit()\n",
    "\n",
    "    driver.quit()\n",
    "\n",
    "    logging.info(f'[INFO] - Extraction completed, Selenium closed.')\n",
    "\n",
    "    #TRANSFORMAÇÃO TXT PARA CSV\n",
    "    try: \n",
    "        logging.info(f'[INFO] - Beginning Transformation step.')\n",
    "        data = open(f'download/{url}.txt', 'r', encoding='utf-8').read()\n",
    "        data = data.encode(encoding=\"cp1252\",errors=\"ignore\").decode('utf8',errors=\"ignore\")\n",
    "        with open(f'download/{url}_2.txt','w', encoding='utf-8', newline='\\n') as file:\n",
    "            writer = file.write(data)\n",
    "        df = pd.read_csv(f'download/{url}_2.txt', delimiter = \",\", encoding='utf-8')\n",
    "        df.set_index('Nome', inplace= True)\n",
    "        df.drop(columns = df.columns[0], axis=1, inplace=True)\n",
    "        logging.info(f'[INFO] - Dataframe generated.')\n",
    "        df.to_csv(f'output/{url}', sep=',')\n",
    "    except:\n",
    "        telegram_bot_sendtext('🤖 ERROR WHILE TRANSFORMING(ENCODE/DECODE) FILE ⚠️')\n",
    "\n",
    "    logging.info(f'[INFO] - Transformation completed.')\n",
    "\n",
    "    logging.info(f'[INFO] - Beginning Loading step.')\n",
    "    #CARGA NO FTP\n",
    "    try:\n",
    "        ftp = login_ftp()\n",
    "        File2Send= (f'output/{url}')\n",
    "        logging.info(f'[INFO] - Sending file to FTP. (filename = output/{url}.csv')\n",
    "        ftp.cwd(Output_Directory)\n",
    "        with open(File2Send, \"rb\") as f:\n",
    "            ftp.storbinary('STOR ' + os.path.basename(File2Send), f) \n",
    "            logging.info(f'[INFO] - File sent.')\n",
    "            telegram_bot_sendtext('🤖 FILE SENT TO FTP ✅')\n",
    "    except:\n",
    "        telegram_bot_sendtext('🤖 ERRO NO ENVIO PARA O FTP ⚠️')\n",
    "\n",
    "    logging.info(f'[INFO] - Loading completed.') \n",
    "\n",
    "    logging.info(f'[INFO] - ETL completed.')\n",
    "    telegram_bot_sendtext('🤖 ETL FINISHED ✅')\n",
    "except:\n",
    "    telegram_bot_sendtext('🚨 ETL ERROR 🚨')"
   ]
  },
  {
   "cell_type": "markdown",
   "metadata": {},
   "source": [
    "# Results"
   ]
  },
  {
   "cell_type": "markdown",
   "metadata": {},
   "source": [
    "[Result](/assets/results.jpg \"Results in FTP\")"
   ]
  },
  {
   "cell_type": "markdown",
   "metadata": {},
   "source": [
    "As we can see above, this are the ETL result. The file are correctly stored in the customer FTP as requested."
   ]
  }
 ],
 "metadata": {
  "kernelspec": {
   "display_name": "Python 3.10.4 64-bit",
   "language": "python",
   "name": "python3"
  },
  "language_info": {
   "codemirror_mode": {
    "name": "ipython",
    "version": 3
   },
   "file_extension": ".py",
   "mimetype": "text/x-python",
   "name": "python",
   "nbconvert_exporter": "python",
   "pygments_lexer": "ipython3",
   "version": "3.10.4"
  },
  "orig_nbformat": 4,
  "vscode": {
   "interpreter": {
    "hash": "369f2c481f4da34e4445cda3fffd2e751bd1c4d706f27375911949ba6bb62e1c"
   }
  }
 },
 "nbformat": 4,
 "nbformat_minor": 2
}
