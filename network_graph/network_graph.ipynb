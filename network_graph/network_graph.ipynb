{
 "cells": [
  {
   "cell_type": "code",
   "execution_count": null,
   "metadata": {},
   "outputs": [],
   "source": [
    "import pandas as pd\n",
    "import json\n",
    "\n",
    "# Leitura dos dados da tabela\n",
    "df = pd.read_csv('tabela.csv')\n",
    "\n",
    "# Criação dos nós (nodes) do JSON\n",
    "nodes = []\n",
    "for dim_a in df['Dimensão A'].unique():\n",
    "    node = {\n",
    "        'id': dim_a,\n",
    "        'size': df.loc[df['Dimensão A'] == dim_a, 'Medida'].sum(),\n",
    "        'type': 'Dimensão A'\n",
    "    }\n",
    "    nodes.append(node)\n",
    "\n",
    "for dim_b in df['Dimensão B'].unique():\n",
    "    node = {\n",
    "        'id': dim_b,\n",
    "        'size': df.loc[df['Dimensão B'] == dim_b, 'Medida'].sum(),\n",
    "        'type': 'Dimensão B'\n",
    "    }\n",
    "    nodes.append(node)\n",
    "\n",
    "# Criação dos links do JSON\n",
    "links = []\n",
    "for index, row in df.iterrows():\n",
    "    link = {\n",
    "        'source': row['Dimensão A'],\n",
    "        'target': row['Dimensão B']\n",
    "    }\n",
    "    links.append(link)\n",
    "\n",
    "# Criação do JSON final\n",
    "data = {\n",
    "    'nodes': nodes,\n",
    "    'links': links\n",
    "}\n",
    "\n",
    "# Exportação do JSON para um arquivo\n",
    "with open('dados.json', 'w') as file:\n",
    "    json.dump(data, file)\n",
    "``\n"
   ]
  }
 ],
 "metadata": {
  "language_info": {
   "name": "python"
  },
  "orig_nbformat": 4
 },
 "nbformat": 4,
 "nbformat_minor": 2
}
