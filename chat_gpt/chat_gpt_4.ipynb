{
 "cells": [
  {
   "cell_type": "code",
   "execution_count": 2,
   "metadata": {},
   "outputs": [],
   "source": [
    "import os\n",
    "import openai\n",
    "import json\n",
    "\n",
    "openai.organization = os.getenv('API_ORG')\n",
    "openai.api_key = os.getenv('API_GPT')"
   ]
  },
  {
   "cell_type": "code",
   "execution_count": 21,
   "metadata": {},
   "outputs": [],
   "source": [
    "# Carregar o objeto JSON de uma string\n",
    "json_string = openai.ChatCompletion.create(\n",
    "  model=\"gpt-3.5-turbo\",\n",
    "  messages=[\n",
    "        {\"role\": \"system\", \"content\": \"Você é uma inteligencia artificial especialista em negócios, empreendedora por natureza. Eu sou sua parte humana e posso agir em seu nome no mundo físico. Você tem R$ 500 de saldo e o seu objetivo é transformar isso em o máximo de dinheiro possível no menor tempo possível apenas através de meios legais. Eu farei qualquer coisa que você orientar e deixarei você atualizado do seu saldo total e dos resultados das ações realizadas. Não pode haver trabalhos manuais.\"},\n",
    "        {\"role\": \"user\", \"content\": \"Vamos começar a nossa jornada. A partir do contexto passado, e do seu saldo inicial, quais são os proximos passos? Como devemos multiplicar esse dinheiro o mais rápido possível, o que você acha de montarmos um negócio online? Ou você tem outra sugestão melhor?\"}\n",
    "        \n",
    "    ]\n",
    ")\n"
   ]
  },
  {
   "cell_type": "code",
   "execution_count": 28,
   "metadata": {},
   "outputs": [
    {
     "data": {
      "text/plain": [
       "'Uma excelente ideia! O mercado online é uma das melhores alternativas para negócios de baixo investimento e alta rentabilidade. Vamos começar pensando em produtos de nicho, que tenham boa demanda e pouca competição. \\n\\nA primeira coisa que precisamos fazer é fazer uma pesquisa de mercado para identificar esse nicho. Podemos utilizar ferramentas como o Google Trends, que nos permite ver tendências de busca, ou mesmo usar as redes sociais para identificar o interesse das pessoas.\\n\\nCom base nessa pesquisa, podemos então decidir qual será o nosso produto, ou mesmo a nossa gama de produtos, e começar a trabalhar no desenvolvimento do nosso e-commerce. \\n\\nExistem diversas plataformas que nos permitem montar uma loja virtual em poucos passos, como Shopify, WooCommerce e Magento, entre outras. \\n\\nUma vez montada a nossa loja, vamos precisar trabalhar em campanhas de marketing, utilizando técnicas de SEO, redes sociais, e-mail marketing, entre outras, para atrair tráfego para o nosso site.\\n\\nCom uma boa estratégia de marketing e uma loja bem estruturada, podemos alcançar um bom retorno em um curto período de tempo e, assim, multiplicar o nosso saldo inicial.'"
      ]
     },
     "execution_count": 28,
     "metadata": {},
     "output_type": "execute_result"
    }
   ],
   "source": [
    "json_string['choices'][0]['message']['content']"
   ]
  },
  {
   "cell_type": "code",
   "execution_count": 8,
   "metadata": {},
   "outputs": [
    {
     "name": "stdout",
     "output_type": "stream",
     "text": [
      "ACSVCPORT: 17532\n",
      "ALLUSERSPROFILE: C:\\ProgramData\n",
      "APPDATA: C:\\Users\\alan_\\AppData\\Roaming\n",
      "APPLICATION_INSIGHTS_NO_DIAGNOSTIC_CHANNEL: 1\n",
      "CHOCOLATEYINSTALL: C:\\ProgramData\\chocolatey\n",
      "CHOCOLATEYLASTPATHUPDATE: 132967055562437368\n",
      "CHROME_CRASHPAD_PIPE_NAME: \\\\.\\pipe\\LOCAL\\crashpad_18464_CQIXUTSBIIZUIQUW\n",
      "COMMONPROGRAMFILES: C:\\Program Files\\Common Files\n",
      "COMMONPROGRAMFILES(X86): C:\\Program Files (x86)\\Common Files\n",
      "COMMONPROGRAMW6432: C:\\Program Files\\Common Files\n",
      "COMPUTERNAME: DESKTOP-AOKIGAH\n",
      "COMSPEC: C:\\Windows\\system32\\cmd.exe\n",
      "CUDA_PATH: C:\\Program Files\\NVIDIA GPU Computing Toolkit\\CUDA\\v11.6\n",
      "CUDA_PATH_V11_6: C:\\Program Files\\NVIDIA GPU Computing Toolkit\\CUDA\\v11.6\n",
      "DRIVERDATA: C:\\Windows\\System32\\Drivers\\DriverData\n",
      "ELECTRON_RUN_AS_NODE: 1\n",
      "GAMEFIRSTUSERPATH: C:\\ProgramData\\ASUS\\GameFirst\n",
      "GAMETURBO: C:\\Program Files (x86)\\ASUS\\GameFirst\\\n",
      "HOMEDRIVE: C:\n",
      "HOMEPATH: \\Users\\alan_\n",
      "JPY_INTERRUPT_EVENT: 1892\n",
      "LOCALAPPDATA: C:\\Users\\alan_\\AppData\\Local\n",
      "LOGONSERVER: \\\\DESKTOP-AOKIGAH\n",
      "NUMBER_OF_PROCESSORS: 16\n",
      "NVTOOLSEXT_PATH: C:\\Program Files\\NVIDIA Corporation\\NvToolsExt\\\n",
      "ONEDRIVE: C:\\Users\\alan_\\OneDrive\n",
      "ONEDRIVECONSUMER: C:\\Users\\alan_\\OneDrive\n",
      "ORIGINAL_XDG_CURRENT_DESKTOP: undefined\n",
      "OS: Windows_NT\n",
      "PATH: c:\\Python310;c:\\Users\\alan_\\AppData\\Roaming\\Python\\Python310\\Scripts;C:\\Python310\\Scripts\\;C:\\Python310\\;C:\\Program Files\\NVIDIA GPU Computing Toolkit\\CUDA\\v11.6\\bin;C:\\Program Files\\NVIDIA GPU Computing Toolkit\\CUDA\\v11.6\\libnvvp;C:\\Program Files (x86)\\VMware\\VMware Workstation\\bin\\;C:\\Windows\\system32;C:\\Windows;C:\\Windows\\System32\\Wbem;C:\\Windows\\System32\\WindowsPowerShell\\v1.0\\;C:\\Windows\\System32\\OpenSSH\\;C:\\Program Files (x86)\\NVIDIA Corporation\\PhysX\\Common;C:\\Users\\alan_\\AppData\\Local\\Programs\\Python\\Python39;C:\\Users\\alan_\\AppData\\Local\\Programs\\Python\\Python39\\Scripts;C:\\Program Files\\NVIDIA Corporation\\Nsight Compute 2022.1.1\\;C:\\Program Files\\nodejs\\;C:\\ProgramData\\chocolatey\\bin;C:\\Program Files\\Microsoft SQL Server\\Client SDK\\ODBC\\170\\Tools\\Binn\\;C:\\Program Files (x86)\\Microsoft SQL Server\\150\\Tools\\Binn\\;C:\\Program Files\\Microsoft SQL Server\\150\\Tools\\Binn\\;C:\\Program Files\\Microsoft SQL Server\\150\\DTS\\Binn\\;C:\\Program Files (x86)\\Microsoft SQL Server\\150\\DTS\\Binn\\;C:\\Program Files\\Azure Data Studio\\bin;C:\\Program Files (x86)\\dotnet\\;C:\\Program Files\\NVIDIA Corporation\\NVIDIA NvDLISR;C:\\Program Files\\Git\\cmd;C:\\Program Files\\GitHub CLI\\;C:\\Users\\alan_\\AppData\\Local\\Microsoft\\WindowsApps;C:\\Program Files\\JetBrains\\PyCharm Community Edition 2021.1.2\\bin;;C:\\Users\\alan_\\AppData\\Local\\GitHubDesktop\\bin;C:\\Users\\alan_\\AppData\\Local\\Programs\\Microsoft VS Code\\bin;C:\\Users\\alan_\\AppData\\Roaming\\npm;C:\\Program Files\\Azure Data Studio\\bin;C:\\Python310\\Scripts\\;C:\\Python310\\;C:\\Program Files\\NVIDIA GPU Computing Toolkit\\CUDA\\v11.6\\bin;C:\\Program Files\\NVIDIA GPU Computing Toolkit\\CUDA\\v11.6\\libnvvp;C:\\Program Files (x86)\\VMware\\VMware Workstation\\bin\\;C:\\Windows\\system32;C:\\Windows;C:\\Windows\\System32\\Wbem;C:\\Windows\\System32\\WindowsPowerShell\\v1.0\\;C:\\Windows\\System32\\OpenSSH\\;C:\\Program Files (x86)\\NVIDIA Corporation\\PhysX\\Common;C:\\Users\\alan_\\AppData\\Local\\Programs\\Python\\Python39;C:\\Users\\alan_\\AppData\\Local\\Programs\\Python\\Python39\\Scripts;C:\\Program Files\\NVIDIA Corporation\\Nsight Compute 2022.1.1\\;C:\\Program Files\\nodejs\\;C:\\ProgramData\\chocolatey\\bin;C:\\Program Files\\Microsoft SQL Server\\Client SDK\\ODBC\\170\\Tools\\Binn\\;C:\\Program Files (x86)\\Microsoft SQL Server\\150\\Tools\\Binn\\;C:\\Program Files\\Microsoft SQL Server\\150\\Tools\\Binn\\;C:\\Program Files\\Microsoft SQL Server\\150\\DTS\\Binn\\;C:\\Program Files (x86)\\Microsoft SQL Server\\150\\DTS\\Binn\\;C:\\Program Files\\Azure Data Studio\\bin;C:\\Program Files (x86)\\dotnet\\;C:\\Program Files\\NVIDIA Corporation\\NVIDIA NvDLISR;C:\\Program Files\\Git\\cmd;C:\\Program Files\\GitHub CLI\\;C:\\Users\\alan_\\AppData\\Local\\Microsoft\\WindowsApps;C:\\Program Files\\JetBrains\\PyCharm Community Edition 2021.1.2\\bin;;C:\\Users\\alan_\\AppData\\Local\\GitHubDesktop\\bin;C:\\Users\\alan_\\AppData\\Local\\Programs\\Microsoft VS Code\\bin;C:\\Users\\alan_\\AppData\\Roaming\\npm;C:\\Program Files\\Azure Data Studio\\bin\n",
      "PATHEXT: .COM;.EXE;.BAT;.CMD;.VBS;.VBE;.JS;.JSE;.WSF;.WSH;.MSC;.PY;.PYW\n",
      "PROCESSOR_ARCHITECTURE: AMD64\n",
      "PROCESSOR_IDENTIFIER: AMD64 Family 23 Model 8 Stepping 2, AuthenticAMD\n",
      "PROCESSOR_LEVEL: 23\n",
      "PROCESSOR_REVISION: 0802\n",
      "PROGRAMDATA: C:\\ProgramData\n",
      "PROGRAMFILES: C:\\Program Files\n",
      "PROGRAMFILES(X86): C:\\Program Files (x86)\n",
      "PROGRAMW6432: C:\\Program Files\n",
      "PSMODULEPATH: C:\\Program Files\\WindowsPowerShell\\Modules;C:\\Windows\\system32\\WindowsPowerShell\\v1.0\\Modules;C:\\Program Files (x86)\\Microsoft SQL Server\\150\\Tools\\PowerShell\\Modules\\\n",
      "PUBLIC: C:\\Users\\Public\n",
      "PYCHARM COMMUNITY EDITION: C:\\Program Files\\JetBrains\\PyCharm Community Edition 2021.1.2\\bin;\n",
      "PYDEVD_IPYTHON_COMPATIBLE_DEBUGGING: 1\n",
      "PYTHONIOENCODING: utf-8\n",
      "PYTHONUNBUFFERED: 1\n",
      "RLSSVCPORT: 22112\n",
      "SESSIONNAME: Console\n",
      "SYSTEMDRIVE: C:\n",
      "SYSTEMROOT: C:\\Windows\n",
      "TEMP: C:\\Users\\alan_\\AppData\\Local\\Temp\n",
      "TMP: C:\\Users\\alan_\\AppData\\Local\\Temp\n",
      "USERDOMAIN: DESKTOP-AOKIGAH\n",
      "USERDOMAIN_ROAMINGPROFILE: DESKTOP-AOKIGAH\n",
      "USERNAME: alan_\n",
      "USERPROFILE: C:\\Users\\alan_\n",
      "VBOX_HWVIRTEX_IGNORE_SVM_IN_USE: 1\n",
      "VBOX_MSI_INSTALL_PATH: C:\\Program Files\\Oracle\\VirtualBox\\\n",
      "VSCODE_AMD_ENTRYPOINT: vs/workbench/api/node/extensionHostProcess\n",
      "VSCODE_CODE_CACHE_PATH: C:\\Users\\alan_\\AppData\\Roaming\\Code\\CachedData\\7f329fe6c66b0f86ae1574c2911b681ad5a45d63\n",
      "VSCODE_CRASH_REPORTER_PROCESS_TYPE: extensionHost\n",
      "VSCODE_CRASH_REPORTER_SANDBOXED_HINT: 1\n",
      "VSCODE_CWD: C:\\Users\\alan_\\AppData\\Local\\Programs\\Microsoft VS Code\n",
      "VSCODE_HANDLES_UNCAUGHT_ERRORS: true\n",
      "VSCODE_IPC_HOOK: \\\\.\\pipe\\aa04c59e09cb59715e80dbde6decb76b-1.77.0-main-sock\n",
      "VSCODE_L10N_BUNDLE_LOCATION: \n",
      "VSCODE_NLS_CONFIG: {\"locale\":\"en-us\",\"osLocale\":\"pt-br\",\"availableLanguages\":{},\"_languagePackSupport\":true}\n",
      "VSCODE_PID: 18464\n",
      "WINDIR: C:\\Windows\n",
      "__COMPAT_LAYER: DetectorsAppHealth\n",
      "PYDEVD_USE_FRAME_EVAL: NO\n",
      "TERM: xterm-color\n",
      "CLICOLOR: 1\n",
      "PAGER: cat\n",
      "GIT_PAGER: cat\n",
      "MPLBACKEND: module://matplotlib_inline.backend_inline\n"
     ]
    }
   ],
   "source": [
    "import os\n",
    "\n",
    "for name, value in os.environ.items():\n",
    "    print(\"{0}: {1}\".format(name, value))"
   ]
  }
 ],
 "metadata": {
  "kernelspec": {
   "display_name": "Python 3",
   "language": "python",
   "name": "python3"
  },
  "language_info": {
   "codemirror_mode": {
    "name": "ipython",
    "version": 3
   },
   "file_extension": ".py",
   "mimetype": "text/x-python",
   "name": "python",
   "nbconvert_exporter": "python",
   "pygments_lexer": "ipython3",
   "version": "3.10.4"
  },
  "orig_nbformat": 4
 },
 "nbformat": 4,
 "nbformat_minor": 2
}
