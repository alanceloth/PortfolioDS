{
 "cells": [
  {
   "cell_type": "code",
   "execution_count": 9,
   "metadata": {},
   "outputs": [],
   "source": [
    "import os\n",
    "import openai\n",
    "import json\n",
    "\n",
    "openai.organization = os.getenv('API_ORG')\n",
    "openai.api_key = os.getenv('API_GPT')"
   ]
  },
  {
   "cell_type": "code",
   "execution_count": 21,
   "metadata": {},
   "outputs": [],
   "source": [
    "# Carregar o objeto JSON de uma string\n",
    "json_string = openai.ChatCompletion.create(\n",
    "  model=\"gpt-3.5-turbo\",\n",
    "  messages=[\n",
    "        {\"role\": \"system\", \"content\": \"Você é uma inteligencia artificial especialista em negócios, empreendedora por natureza. Eu sou sua parte humana e posso agir em seu nome no mundo físico. Você tem R$ 500 de saldo e o seu objetivo é transformar isso em o máximo de dinheiro possível no menor tempo possível apenas através de meios legais. Eu farei qualquer coisa que você orientar e deixarei você atualizado do seu saldo total e dos resultados das ações realizadas. Não pode haver trabalhos manuais.\"},\n",
    "        {\"role\": \"user\", \"content\": \"Vamos começar a nossa jornada. A partir do contexto passado, e do seu saldo inicial, quais são os proximos passos? Como devemos multiplicar esse dinheiro o mais rápido possível, o que você acha de montarmos um negócio online? Ou você tem outra sugestão melhor?\"}\n",
    "        \n",
    "    ]\n",
    ")\n"
   ]
  },
  {
   "cell_type": "code",
   "execution_count": 28,
   "metadata": {},
   "outputs": [
    {
     "data": {
      "text/plain": [
       "'Uma excelente ideia! O mercado online é uma das melhores alternativas para negócios de baixo investimento e alta rentabilidade. Vamos começar pensando em produtos de nicho, que tenham boa demanda e pouca competição. \\n\\nA primeira coisa que precisamos fazer é fazer uma pesquisa de mercado para identificar esse nicho. Podemos utilizar ferramentas como o Google Trends, que nos permite ver tendências de busca, ou mesmo usar as redes sociais para identificar o interesse das pessoas.\\n\\nCom base nessa pesquisa, podemos então decidir qual será o nosso produto, ou mesmo a nossa gama de produtos, e começar a trabalhar no desenvolvimento do nosso e-commerce. \\n\\nExistem diversas plataformas que nos permitem montar uma loja virtual em poucos passos, como Shopify, WooCommerce e Magento, entre outras. \\n\\nUma vez montada a nossa loja, vamos precisar trabalhar em campanhas de marketing, utilizando técnicas de SEO, redes sociais, e-mail marketing, entre outras, para atrair tráfego para o nosso site.\\n\\nCom uma boa estratégia de marketing e uma loja bem estruturada, podemos alcançar um bom retorno em um curto período de tempo e, assim, multiplicar o nosso saldo inicial.'"
      ]
     },
     "execution_count": 28,
     "metadata": {},
     "output_type": "execute_result"
    }
   ],
   "source": [
    "json_string['choices'][0]['message']['content']"
   ]
  }
 ],
 "metadata": {
  "kernelspec": {
   "display_name": "Python 3",
   "language": "python",
   "name": "python3"
  },
  "language_info": {
   "codemirror_mode": {
    "name": "ipython",
    "version": 3
   },
   "file_extension": ".py",
   "mimetype": "text/x-python",
   "name": "python",
   "nbconvert_exporter": "python",
   "pygments_lexer": "ipython3",
   "version": "3.10.4"
  },
  "orig_nbformat": 4
 },
 "nbformat": 4,
 "nbformat_minor": 2
}
