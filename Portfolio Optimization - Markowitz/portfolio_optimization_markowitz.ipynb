{
 "cells": [
  {
   "cell_type": "markdown",
   "metadata": {
    "application/vnd.databricks.v1+cell": {
     "cellMetadata": {},
     "inputWidgets": {},
     "nuid": "94f9d168-7506-49fd-83e4-7aa67dcb48c9",
     "showTitle": false,
     "title": ""
    }
   },
   "source": [
    "Disclaimer: I am not a financial advisor. Do not take anything on this code as financial advice, ever.\n",
    "Do your own research.\n",
    "Consult a professional investment advisor before making any investment decisions!"
   ]
  },
  {
   "cell_type": "markdown",
   "metadata": {
    "application/vnd.databricks.v1+cell": {
     "cellMetadata": {},
     "inputWidgets": {},
     "nuid": "b8a782e5-d353-4a82-8f13-e32e42849a5f",
     "showTitle": false,
     "title": ""
    }
   },
   "source": [
    "This code uses the Markowitz Efficient Frontier to optmize a stock portfolio.\n",
    "- [Efficient Frontier](https://www.investopedia.com/terms/e/efficientfrontier.asp)\n",
    "- [Markowitz Efficient Set](https://www.investopedia.com/terms/m/markowitzefficientset.asp)\n",
    "- [Efficient Frontier - Wikipedia](https://en.wikipedia.org/wiki/Efficient_frontier)"
   ]
  },
  {
   "cell_type": "markdown",
   "metadata": {
    "application/vnd.databricks.v1+cell": {
     "cellMetadata": {},
     "inputWidgets": {},
     "nuid": "ab3cf378-5607-4943-bc87-42570c6d8d77",
     "showTitle": false,
     "title": ""
    }
   },
   "source": [
    "## Dependencies"
   ]
  },
  {
   "cell_type": "code",
   "execution_count": 0,
   "metadata": {
    "application/vnd.databricks.v1+cell": {
     "cellMetadata": {},
     "inputWidgets": {},
     "nuid": "c62cb295-30d7-42c4-9daf-7790de2db87f",
     "showTitle": false,
     "title": ""
    }
   },
   "outputs": [],
   "source": [
    "'''\n",
    "!pip install investpy\n",
    "!pip install pandas\n",
    "!pip install yfinance\n",
    "!pip install PyPortfolioOpt\n",
    "!pip install vectorbt\n",
    "'''\n"
   ]
  },
  {
   "cell_type": "markdown",
   "metadata": {
    "application/vnd.databricks.v1+cell": {
     "cellMetadata": {},
     "inputWidgets": {},
     "nuid": "544b1b91-a927-42b6-a614-82227774abc6",
     "showTitle": false,
     "title": ""
    }
   },
   "source": [
    "## Imports"
   ]
  },
  {
   "cell_type": "code",
   "execution_count": 0,
   "metadata": {
    "application/vnd.databricks.v1+cell": {
     "cellMetadata": {},
     "inputWidgets": {},
     "nuid": "a89a3fc3-9cd0-4cc8-bb9d-0b14d7fac653",
     "showTitle": false,
     "title": ""
    }
   },
   "outputs": [],
   "source": [
    "import investpy as inv\n",
    "import pandas as pd\n",
    "import yfinance as yf\n",
    "from collections import OrderedDict\n",
    "import matplotlib.pyplot as plt\n",
    "import numpy as np\n",
    "from pypfopt.efficient_frontier import EfficientFrontier\n",
    "from pypfopt import CovarianceShrinkage, risk_models, expected_returns, objective_functions, plotting\n",
    "from pypfopt.discrete_allocation import DiscreteAllocation, get_latest_prices\n",
    "import vectorbt as vbt"
   ]
  },
  {
   "cell_type": "markdown",
   "metadata": {
    "application/vnd.databricks.v1+cell": {
     "cellMetadata": {},
     "inputWidgets": {},
     "nuid": "9f1182a0-cc29-40d4-87ec-240676c7c239",
     "showTitle": false,
     "title": ""
    }
   },
   "source": [
    "## Config"
   ]
  },
  {
   "cell_type": "code",
   "execution_count": 0,
   "metadata": {
    "application/vnd.databricks.v1+cell": {
     "cellMetadata": {},
     "inputWidgets": {},
     "nuid": "5e1d93cc-6f48-4d91-aaed-a497877568c3",
     "showTitle": false,
     "title": ""
    }
   },
   "outputs": [],
   "source": [
    "portfolio_value = 20000"
   ]
  },
  {
   "cell_type": "markdown",
   "metadata": {
    "application/vnd.databricks.v1+cell": {
     "cellMetadata": {},
     "inputWidgets": {},
     "nuid": "45eaf302-65a7-43a0-9daa-03b324f73c3d",
     "showTitle": false,
     "title": ""
    }
   },
   "source": [
    "## Stock List"
   ]
  },
  {
   "cell_type": "code",
   "execution_count": 0,
   "metadata": {
    "application/vnd.databricks.v1+cell": {
     "cellMetadata": {},
     "inputWidgets": {},
     "nuid": "7da8839a-dae9-43c9-869b-9c6b6af10721",
     "showTitle": false,
     "title": ""
    }
   },
   "outputs": [],
   "source": [
    "#lista_tickers = inv.get_stocks_list('brazil')\n",
    "\n",
    "#source: https://infograficos.valor.globo.com/carteira-valor/\n",
    "#november-22 \n",
    "'''\n",
    "Removed:\n",
    "1 Failed download:\n",
    "- AURE3.SA: Data doesn't exist for startDate = 1514775600, endDate = 1640919600\n",
    "'''\n",
    "\n",
    "lista_tickers = ['ITUB4','VALE3', 'B3SA3','MULT3','BBDC4','LREN3','BPAC11','ITSA4','ALSO3', 'ANIM3','CYRE3','SBSP3','SOMA3','RENT3','MULT3','RDOR3','CCRO3','CIEL3',\n",
    "'CASH3','AGRO3','HYPE3', 'PRIO3', 'UNIP6', 'ELET3', 'PCAR3', 'RDOR3', 'WEGE3', 'ABEV3', 'LREN3', 'TOTS3','CYRE3', 'GGBR4', 'RADL3', 'COGN3', 'CURY3','MGLU3','KLBN11','MRVE3', 'YDUQ3',\n",
    "'BBDC4', 'ELET3', 'MULT3', 'STBP3', 'VBBR3', 'CCRO3', 'MDIA3', 'VBBR3', 'ALSO3', 'BPAC11', 'UGPA3', 'SIMH3', 'CPLE6', 'ODPV3', 'TAEE11', 'HYPE3', 'PSSA3', 'TOTS3', 'AMER3',\n",
    "'SLCE3', 'GGBR4', 'EMBR3', 'MYPK3', 'TRPL4', 'SLCE3', 'ALSO3', 'EGIE3', 'RANI3', 'RAPT4', 'EQTL3', 'JBSS3', 'ASAI3', 'IGTI11' ]\n",
    "\n",
    "\n",
    "lista_tickers = list(set(lista_tickers))\n",
    "#lista_tickers = list(OrderedDict.fromkeys(lista_tickers))\n",
    "\n",
    "for i in range(len(lista_tickers)):\n",
    "    lista_tickers[i] = lista_tickers[i] +'.SA'\n",
    "    \n",
    "len(lista_tickers)"
   ]
  },
  {
   "cell_type": "code",
   "execution_count": 0,
   "metadata": {
    "application/vnd.databricks.v1+cell": {
     "cellMetadata": {},
     "inputWidgets": {},
     "nuid": "5e4abff8-b3de-4d99-b595-c804eed9a3f9",
     "showTitle": false,
     "title": ""
    }
   },
   "outputs": [],
   "source": [
    "df = yf.download(lista_tickers, start='2021-11-22', end='2022-05-22')['Adj Close']\n",
    "df = df.dropna()\n",
    "df.head()"
   ]
  },
  {
   "cell_type": "code",
   "execution_count": 0,
   "metadata": {
    "application/vnd.databricks.v1+cell": {
     "cellMetadata": {},
     "inputWidgets": {},
     "nuid": "a44fbf0c-0941-403d-ac60-1e68149844dc",
     "showTitle": false,
     "title": ""
    }
   },
   "outputs": [],
   "source": [
    "#out of samples\n",
    "df_out = yf.download(lista_tickers, start='2022-05-23', end='2022-11-23')['Adj Close']\n",
    "df_out = df_out.dropna()\n",
    "df_out.head()"
   ]
  },
  {
   "cell_type": "markdown",
   "metadata": {
    "application/vnd.databricks.v1+cell": {
     "cellMetadata": {},
     "inputWidgets": {},
     "nuid": "8f5bb89e-5174-4869-b0db-28153b805c27",
     "showTitle": false,
     "title": ""
    }
   },
   "source": [
    "## Efficient Frontier 1"
   ]
  },
  {
   "cell_type": "code",
   "execution_count": 0,
   "metadata": {
    "application/vnd.databricks.v1+cell": {
     "cellMetadata": {},
     "inputWidgets": {},
     "nuid": "bbd3a99c-a711-4f2a-90df-7e42c82d4cab",
     "showTitle": false,
     "title": ""
    }
   },
   "outputs": [],
   "source": [
    "\n",
    "mean = expected_returns.mean_historical_return(df)\n",
    "\n",
    "s = CovarianceShrinkage(df).ledoit_wolf()"
   ]
  },
  {
   "cell_type": "code",
   "execution_count": 0,
   "metadata": {
    "application/vnd.databricks.v1+cell": {
     "cellMetadata": {},
     "inputWidgets": {},
     "nuid": "675414c8-da8a-4645-b321-ebeab4c7322c",
     "showTitle": false,
     "title": ""
    }
   },
   "outputs": [],
   "source": [
    "corr = s.corr()\n",
    "corr.style.background_gradient(cmap='coolwarm', axis = None).format(precision=2)"
   ]
  },
  {
   "cell_type": "code",
   "execution_count": 0,
   "metadata": {
    "application/vnd.databricks.v1+cell": {
     "cellMetadata": {},
     "inputWidgets": {},
     "nuid": "92500f44-1b6e-4651-a3aa-050db5abe8a2",
     "showTitle": false,
     "title": ""
    }
   },
   "outputs": [],
   "source": [
    "f = plt.figure(figsize=(19, 15))\n",
    "plt.matshow(s.corr(), fignum=f.number)\n",
    "plt.xticks(range(s.select_dtypes(['number']).shape[1]), s.select_dtypes(['number']).columns, fontsize=14, rotation=90)\n",
    "plt.yticks(range(s.select_dtypes(['number']).shape[1]), s.select_dtypes(['number']).columns, fontsize=14)\n",
    "cb = plt.colorbar()\n",
    "cb.ax.tick_params(labelsize=14)\n",
    "plt.title('Correlation Matrix', fontsize=16);"
   ]
  },
  {
   "cell_type": "code",
   "execution_count": 0,
   "metadata": {
    "application/vnd.databricks.v1+cell": {
     "cellMetadata": {},
     "inputWidgets": {},
     "nuid": "8c8f01da-a96f-4c72-a62e-2a572a7bdfa5",
     "showTitle": false,
     "title": ""
    }
   },
   "outputs": [],
   "source": [
    "#Expected returns\n",
    "\n",
    "exp_return = expected_returns.mean_historical_return(df)\n",
    "exp_return"
   ]
  },
  {
   "cell_type": "code",
   "execution_count": 0,
   "metadata": {
    "application/vnd.databricks.v1+cell": {
     "cellMetadata": {},
     "inputWidgets": {},
     "nuid": "f4b68074-f9c7-42a0-a778-2b262c81a8dd",
     "showTitle": false,
     "title": ""
    }
   },
   "outputs": [],
   "source": [
    "#Sharp ratio\n",
    "\n",
    "ef = EfficientFrontier(mean, s)\n",
    "\n",
    "#para não alocar recursos nas ações que estão zeradas e manter apenas as relevantes\n",
    "ef.add_objective(objective_functions.L2_reg, gamma = 0.1)\n",
    "\n",
    "w = ef.max_sharpe()\n",
    "\n",
    "cleaned_weights  = ef.clean_weights()\n",
    "cleaned_weights_ = cleaned_weights.values()\n",
    "cleaned_weights_ = list(cleaned_weights_)\n",
    "cleaned_weights_ = np.array(cleaned_weights_)\n",
    "\n",
    "print(cleaned_weights)"
   ]
  },
  {
   "cell_type": "code",
   "execution_count": 0,
   "metadata": {
    "application/vnd.databricks.v1+cell": {
     "cellMetadata": {},
     "inputWidgets": {},
     "nuid": "878058a5-e2c9-48fd-b8e9-373da871c459",
     "showTitle": false,
     "title": ""
    }
   },
   "outputs": [],
   "source": [
    "ef.portfolio_performance(verbose=True)"
   ]
  },
  {
   "cell_type": "code",
   "execution_count": 0,
   "metadata": {
    "application/vnd.databricks.v1+cell": {
     "cellMetadata": {},
     "inputWidgets": {},
     "nuid": "697b5dab-32d4-47b2-878d-5bcf66bbe3ca",
     "showTitle": false,
     "title": ""
    }
   },
   "outputs": [],
   "source": [
    "latest_prices = get_latest_prices(df)\n",
    "da = DiscreteAllocation(w, latest_prices, total_portfolio_value=portfolio_value)\n",
    "allocation, leftover = da.lp_portfolio()\n",
    "print('Qtd ações alocadas: ',allocation)\n",
    "print('Sobrou: R$',leftover)"
   ]
  },
  {
   "cell_type": "markdown",
   "metadata": {
    "application/vnd.databricks.v1+cell": {
     "cellMetadata": {},
     "inputWidgets": {},
     "nuid": "542d5e61-3c6d-4de3-8524-a303c99904a4",
     "showTitle": false,
     "title": ""
    }
   },
   "source": [
    "## Efficient Frontier 2"
   ]
  },
  {
   "cell_type": "code",
   "execution_count": 0,
   "metadata": {
    "application/vnd.databricks.v1+cell": {
     "cellMetadata": {},
     "inputWidgets": {},
     "nuid": "088be9e7-e47a-4705-8e68-1515f6dcc857",
     "showTitle": false,
     "title": ""
    }
   },
   "outputs": [],
   "source": [
    "mean_2 = expected_returns.mean_historical_return(df_out)\n",
    "\n",
    "s_2 = CovarianceShrinkage(df_out).ledoit_wolf()"
   ]
  },
  {
   "cell_type": "code",
   "execution_count": 0,
   "metadata": {
    "application/vnd.databricks.v1+cell": {
     "cellMetadata": {},
     "inputWidgets": {},
     "nuid": "d74b80a9-fffd-4878-91ee-a1254ce73b24",
     "showTitle": false,
     "title": ""
    }
   },
   "outputs": [],
   "source": [
    "corr_2 = s_2.corr()\n",
    "corr_2.style.background_gradient(cmap='coolwarm', axis = None).format(precision=2)"
   ]
  },
  {
   "cell_type": "code",
   "execution_count": 0,
   "metadata": {
    "application/vnd.databricks.v1+cell": {
     "cellMetadata": {},
     "inputWidgets": {},
     "nuid": "58bdc49c-4978-4a88-ad2d-b3de45b7d4cc",
     "showTitle": false,
     "title": ""
    }
   },
   "outputs": [],
   "source": [
    "f_2 = plt.figure(figsize=(19, 15))\n",
    "plt.matshow(s_2.corr(), fignum=f_2.number)\n",
    "plt.xticks(range(s_2.select_dtypes(['number']).shape[1]), s.select_dtypes(['number']).columns, fontsize=14, rotation=90)\n",
    "plt.yticks(range(s_2.select_dtypes(['number']).shape[1]), s.select_dtypes(['number']).columns, fontsize=14)\n",
    "cb_2 = plt.colorbar()\n",
    "cb_2.ax.tick_params(labelsize=14)\n",
    "plt.title('Correlation Matrix: Out of Sample', fontsize=16);"
   ]
  },
  {
   "cell_type": "code",
   "execution_count": 0,
   "metadata": {
    "application/vnd.databricks.v1+cell": {
     "cellMetadata": {},
     "inputWidgets": {},
     "nuid": "d612cd8d-e524-4c19-b7ef-0f4cdc7bad92",
     "showTitle": false,
     "title": ""
    }
   },
   "outputs": [],
   "source": [
    "exp_return_2 = expected_returns.mean_historical_return(df_out)\n",
    "exp_return_2"
   ]
  },
  {
   "cell_type": "code",
   "execution_count": 0,
   "metadata": {
    "application/vnd.databricks.v1+cell": {
     "cellMetadata": {},
     "inputWidgets": {},
     "nuid": "4dce049c-84a1-4793-ac0d-c447c6f3c4a7",
     "showTitle": false,
     "title": ""
    }
   },
   "outputs": [],
   "source": [
    "#Sharp ratio\n",
    "\n",
    "ef_2 = EfficientFrontier(mean_2, s_2)\n",
    "\n",
    "#para não alocar recursos nas ações que estão zeradas e manter apenas as relevantes\n",
    "ef_2.add_objective(objective_functions.L2_reg, gamma = 0.1)\n",
    "\n",
    "w_2 = ef_2.max_sharpe()\n",
    "\n",
    "cleaned_weights_2  = ef_2.clean_weights()\n",
    "cleaned_weights_2_ = cleaned_weights_2.values()\n",
    "cleaned_weights_2_ = list(cleaned_weights_2_)\n",
    "cleaned_weights_2_ = np.array(cleaned_weights_2_)\n",
    "\n",
    "print(cleaned_weights_2)"
   ]
  },
  {
   "cell_type": "code",
   "execution_count": 0,
   "metadata": {
    "application/vnd.databricks.v1+cell": {
     "cellMetadata": {},
     "inputWidgets": {},
     "nuid": "44a90d7b-d4f9-460b-9813-1c41af9f0ee9",
     "showTitle": false,
     "title": ""
    }
   },
   "outputs": [],
   "source": [
    "ef_2.portfolio_performance(verbose=True)"
   ]
  },
  {
   "cell_type": "code",
   "execution_count": 0,
   "metadata": {
    "application/vnd.databricks.v1+cell": {
     "cellMetadata": {},
     "inputWidgets": {},
     "nuid": "207dccee-14b7-49b3-a101-0cc45bcb640a",
     "showTitle": false,
     "title": ""
    }
   },
   "outputs": [],
   "source": [
    "latest_prices_2 = get_latest_prices(df_out)\n",
    "da_2 = DiscreteAllocation(w_2, latest_prices_2, total_portfolio_value=portfolio_value)\n",
    "allocation_2, leftover_2 = da_2.lp_portfolio()\n",
    "print('Qtd ações alocadas: ',allocation_2)\n",
    "print('Sobrou: R$',leftover_2)"
   ]
  },
  {
   "cell_type": "markdown",
   "metadata": {
    "application/vnd.databricks.v1+cell": {
     "cellMetadata": {},
     "inputWidgets": {},
     "nuid": "854c8f87-cf94-4ba0-81b9-a25a857801df",
     "showTitle": false,
     "title": ""
    }
   },
   "source": [
    "# Backtest"
   ]
  },
  {
   "cell_type": "markdown",
   "metadata": {
    "application/vnd.databricks.v1+cell": {
     "cellMetadata": {},
     "inputWidgets": {},
     "nuid": "a912755a-e08f-4734-8116-6e5743f68aff",
     "showTitle": false,
     "title": ""
    }
   },
   "source": [
    "We will fist try to backtest the strategy using the cleaned weights from the first dataset (Start 2021-11-22, End 2022-05-20) and will result in a overfit, because the cleaned weights was calculated using the same dataset. Then we will move the the out of sample dataset (same stocks different period) (Start 2022-05-23, End 2022-11-22) and reproduce the same steps."
   ]
  },
  {
   "cell_type": "markdown",
   "metadata": {
    "application/vnd.databricks.v1+cell": {
     "cellMetadata": {},
     "inputWidgets": {},
     "nuid": "23d75cd9-36ce-4517-acde-d38aeb181d78",
     "showTitle": false,
     "title": ""
    }
   },
   "source": [
    "## Backtest 1"
   ]
  },
  {
   "cell_type": "markdown",
   "metadata": {
    "application/vnd.databricks.v1+cell": {
     "cellMetadata": {},
     "inputWidgets": {},
     "nuid": "69a7fb97-4b72-46b8-b3a8-124c62b348f9",
     "showTitle": false,
     "title": ""
    }
   },
   "source": [
    "Using the first data sample (overfitting)"
   ]
  },
  {
   "cell_type": "code",
   "execution_count": 0,
   "metadata": {
    "application/vnd.databricks.v1+cell": {
     "cellMetadata": {},
     "inputWidgets": {},
     "nuid": "6c1711df-d456-4c44-a349-ebcbfae39760",
     "showTitle": false,
     "title": ""
    }
   },
   "outputs": [],
   "source": [
    "opt_weights = np.full_like(df, np.nan)\n",
    "opt_weights[0,:] = cleaned_weights_\n",
    "print(opt_weights.shape)\n"
   ]
  },
  {
   "cell_type": "code",
   "execution_count": 0,
   "metadata": {
    "application/vnd.databricks.v1+cell": {
     "cellMetadata": {},
     "inputWidgets": {},
     "nuid": "d8641483-f0fe-43f0-8187-f2a9592ea02f",
     "showTitle": false,
     "title": ""
    }
   },
   "outputs": [],
   "source": [
    "#Vectorbt Backtest\n",
    "\n",
    "pyopt_pf = vbt.Portfolio.from_orders(\n",
    "    close = df,\n",
    "    size = opt_weights,\n",
    "    size_type = 'targetpercent',\n",
    "    group_by = True,\n",
    "    cash_sharing = True,\n",
    "    freq = 'd'\n",
    ")"
   ]
  },
  {
   "cell_type": "code",
   "execution_count": 0,
   "metadata": {
    "application/vnd.databricks.v1+cell": {
     "cellMetadata": {},
     "inputWidgets": {},
     "nuid": "89c10685-62d1-4a61-a853-c5114112fa14",
     "showTitle": false,
     "title": ""
    }
   },
   "outputs": [],
   "source": [
    "pyopt_pf.stats()"
   ]
  },
  {
   "cell_type": "code",
   "execution_count": 0,
   "metadata": {
    "application/vnd.databricks.v1+cell": {
     "cellMetadata": {},
     "inputWidgets": {},
     "nuid": "1abd1d4f-ea48-4021-a413-cd4cbb621272",
     "showTitle": false,
     "title": ""
    }
   },
   "outputs": [],
   "source": [
    "pyopt_pf.plot(width=800, height=400, title='Overfit Backtest: Cumulative Returns').show();"
   ]
  },
  {
   "cell_type": "code",
   "execution_count": 0,
   "metadata": {
    "application/vnd.databricks.v1+cell": {
     "cellMetadata": {},
     "inputWidgets": {},
     "nuid": "ed75e90d-8bf4-43c8-9c57-e278974b3f81",
     "showTitle": false,
     "title": ""
    }
   },
   "outputs": [],
   "source": [
    "pyopt_pf.plot_underwater(width=800, height=400, title='Overfit Backtest: Drawdown').show();"
   ]
  },
  {
   "cell_type": "code",
   "execution_count": 0,
   "metadata": {
    "application/vnd.databricks.v1+cell": {
     "cellMetadata": {},
     "inputWidgets": {},
     "nuid": "fa78b8bf-d531-47f3-9b01-81fdf8c28ed0",
     "showTitle": false,
     "title": ""
    }
   },
   "outputs": [],
   "source": [
    "pyopt_pf.drawdowns.plot(top_n=3, width=800, height=400, title='Overfit Backtest: Drawdown').show()"
   ]
  },
  {
   "cell_type": "markdown",
   "metadata": {
    "application/vnd.databricks.v1+cell": {
     "cellMetadata": {},
     "inputWidgets": {},
     "nuid": "f1492fbe-a4ce-45e1-9e18-6870cc63fab6",
     "showTitle": false,
     "title": ""
    }
   },
   "source": [
    "## Backtest 2"
   ]
  },
  {
   "cell_type": "markdown",
   "metadata": {
    "application/vnd.databricks.v1+cell": {
     "cellMetadata": {},
     "inputWidgets": {},
     "nuid": "5e8d83c2-58af-4524-86f4-0f1846fc37e4",
     "showTitle": false,
     "title": ""
    }
   },
   "source": [
    "Using out of sample data with cleaned weights from the first dataset (to prevent overfitting)"
   ]
  },
  {
   "cell_type": "code",
   "execution_count": 0,
   "metadata": {
    "application/vnd.databricks.v1+cell": {
     "cellMetadata": {},
     "inputWidgets": {},
     "nuid": "2caf775f-5e9f-4032-ae96-f95698410ff9",
     "showTitle": false,
     "title": ""
    }
   },
   "outputs": [],
   "source": [
    "opt_weights = np.full_like(df_out, np.nan)\n",
    "opt_weights[0,:] = cleaned_weights_\n",
    "print(opt_weights.shape)"
   ]
  },
  {
   "cell_type": "code",
   "execution_count": 0,
   "metadata": {
    "application/vnd.databricks.v1+cell": {
     "cellMetadata": {},
     "inputWidgets": {},
     "nuid": "e5a35293-fb46-49f6-8631-20911308ba73",
     "showTitle": false,
     "title": ""
    }
   },
   "outputs": [],
   "source": [
    "#Vectorbt Backtest\n",
    "\n",
    "pyopt_pf = vbt.Portfolio.from_orders(\n",
    "    close = df_out,\n",
    "    size = opt_weights,\n",
    "    size_type = 'targetpercent',\n",
    "    group_by = True,\n",
    "    cash_sharing = True,\n",
    "    freq = 'd'\n",
    ")"
   ]
  },
  {
   "cell_type": "code",
   "execution_count": 0,
   "metadata": {
    "application/vnd.databricks.v1+cell": {
     "cellMetadata": {},
     "inputWidgets": {},
     "nuid": "6047b078-50c2-409a-9829-910ddcdca8c7",
     "showTitle": false,
     "title": ""
    }
   },
   "outputs": [],
   "source": [
    "pyopt_pf"
   ]
  },
  {
   "cell_type": "code",
   "execution_count": 0,
   "metadata": {
    "application/vnd.databricks.v1+cell": {
     "cellMetadata": {},
     "inputWidgets": {},
     "nuid": "b736bf6c-648d-4063-8ff1-2b77d79fc71b",
     "showTitle": false,
     "title": ""
    }
   },
   "outputs": [],
   "source": [
    "pyopt_pf.stats()"
   ]
  },
  {
   "cell_type": "code",
   "execution_count": 0,
   "metadata": {
    "application/vnd.databricks.v1+cell": {
     "cellMetadata": {},
     "inputWidgets": {},
     "nuid": "5a861112-974c-47ea-ac28-f7cb2c24c52e",
     "showTitle": false,
     "title": ""
    }
   },
   "outputs": [],
   "source": [
    "pyopt_pf.plot(width=800, height=400, title='Out of Sample Backtest: Cumulative Returns').show();"
   ]
  },
  {
   "cell_type": "code",
   "execution_count": 0,
   "metadata": {
    "application/vnd.databricks.v1+cell": {
     "cellMetadata": {},
     "inputWidgets": {},
     "nuid": "46849207-4d51-40f7-a4ee-5448c581d2d0",
     "showTitle": false,
     "title": ""
    }
   },
   "outputs": [],
   "source": [
    "pyopt_pf.plot_underwater(width=800, height=400, title='Out of Sample Backtest: Drawdown').show();"
   ]
  },
  {
   "cell_type": "code",
   "execution_count": 0,
   "metadata": {
    "application/vnd.databricks.v1+cell": {
     "cellMetadata": {},
     "inputWidgets": {},
     "nuid": "e64b3dfb-c3a0-488e-9b9c-f310bd44d17e",
     "showTitle": false,
     "title": ""
    }
   },
   "outputs": [],
   "source": [
    "pyopt_pf.drawdowns.plot(top_n=3, width=800, height=400, title='Out of Sample Backtest: Drawdown').show()"
   ]
  }
 ],
 "metadata": {
  "application/vnd.databricks.v1+notebook": {
   "dashboards": [],
   "language": "python",
   "notebookMetadata": {
    "pythonIndentUnit": 4
   },
   "notebookName": "portfolio_optimization_markowitz",
   "widgets": {}
  },
  "kernelspec": {
   "display_name": "Python 3.10.4 64-bit",
   "language": "python",
   "name": "python3"
  },
  "language_info": {
   "codemirror_mode": {
    "name": "ipython",
    "version": 3
   },
   "file_extension": ".py",
   "mimetype": "text/x-python",
   "name": "python",
   "nbconvert_exporter": "python",
   "pygments_lexer": "ipython3",
   "version": "3.10.4"
  },
  "orig_nbformat": 4,
  "vscode": {
   "interpreter": {
    "hash": "369f2c481f4da34e4445cda3fffd2e751bd1c4d706f27375911949ba6bb62e1c"
   }
  }
 },
 "nbformat": 4,
 "nbformat_minor": 0
}
