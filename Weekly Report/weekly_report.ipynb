{
 "cells": [
  {
   "cell_type": "markdown",
   "metadata": {},
   "source": [
    "Aqui estão alguns pontos interessantes que você pode analisar sobre o Bitcoin semanalmente:\n",
    "\n",
    "**Imagem 1: Resumo**\n",
    "\n",
    "* Preço do Bitcoin\n",
    "* Volume de negociação\n",
    "* Dominance do Bitcoin\n",
    "* Outras criptomoedas de destaque\n",
    "\n",
    "**Imagem 2: Detalhe 1**\n",
    "\n",
    "* Análise técnica do preço do Bitcoin\n",
    "* Análise fundamental do Bitcoin\n",
    "* Notícias e eventos relacionados ao Bitcoin\n",
    "\n",
    "**Imagem 3: Detalhe 2**\n",
    "\n",
    "* Dados de adoção do Bitcoin\n",
    "* Dados de mineração do Bitcoin\n",
    "* Dados de desenvolvimento do Bitcoin\n",
    "\n",
    "A imagem 1 deve fornecer um resumo geral do que aconteceu com o Bitcoin na semana. Ela deve incluir o preço do Bitcoin, o volume de negociação, a dominance do Bitcoin e as outras criptomoedas de destaque.\n",
    "\n",
    "A imagem 2 deve fornecer detalhes sobre a análise técnica e fundamental do Bitcoin. Ela também pode incluir notícias e eventos relacionados ao Bitcoin.\n",
    "\n",
    "A imagem 3 deve fornecer dados sobre a adoção, mineração e desenvolvimento do Bitcoin.\n",
    "\n",
    "Aqui estão alguns exemplos específicos de como você pode analisar esses pontos:\n",
    "\n",
    "**Preço do Bitcoin**\n",
    "\n",
    "* Você pode usar uma linha de tendência para identificar tendências de curto, médio e longo prazo.\n",
    "* Você pode usar indicadores técnicos para identificar oportunidades de compra e venda.\n",
    "* Você pode comparar o preço do Bitcoin com outros ativos, como ações ou ouro.\n",
    "\n",
    "**Volume de negociação**\n",
    "\n",
    "* Você pode usar o volume de negociação para identificar interesse dos investidores.\n",
    "* Você pode comparar o volume de negociação com o preço do Bitcoin para identificar possíveis divergências.\n",
    "\n",
    "**Dominance do Bitcoin**\n",
    "\n",
    "* Você pode usar a dominance do Bitcoin para identificar a participação do Bitcoin no mercado de criptomoedas.\n",
    "* Você pode comparar a dominance do Bitcoin com a dominance de outras criptomoedas para identificar possíveis mudanças no cenário do mercado.\n",
    "\n",
    "**Outras criptomoedas de destaque**\n",
    "\n",
    "* Você pode analisar o preço, volume de negociação e dominance de outras criptomoedas de destaque.\n",
    "* Você pode comparar essas criptomoedas com o Bitcoin para identificar possíveis oportunidades de investimento.\n",
    "\n",
    "**Análise técnica**\n",
    "\n",
    "* Você pode usar indicadores técnicos para identificar tendências de curto, médio e longo prazo.\n",
    "* Você pode comparar o preço do Bitcoin com outras criptomoedas para identificar possíveis divergências.\n",
    "\n",
    "**Análise fundamental**\n",
    "\n",
    "* Você pode analisar notícias e eventos relacionados ao Bitcoin.\n",
    "* Você pode analisar dados econômicos e políticos globais.\n",
    "\n",
    "**Notícias e eventos relacionados ao Bitcoin**\n",
    "\n",
    "* Você pode acompanhar notícias sobre o Bitcoin em sites, blogs e redes sociais.\n",
    "* Você pode participar de fóruns e comunidades de discussão sobre o Bitcoin.\n",
    "\n",
    "**Dados de adoção do Bitcoin**\n",
    "\n",
    "* Você pode acompanhar dados sobre o número de usuários do Bitcoin, o número de empresas que aceitam Bitcoin como pagamento e o número de ATMs de Bitcoin.\n",
    "\n",
    "**Dados de mineração do Bitcoin**\n",
    "\n",
    "* Você pode acompanhar dados sobre a dificuldade de mineração do Bitcoin, o hashrate do Bitcoin e o custo de mineração do Bitcoin.\n",
    "\n",
    "**Dados de desenvolvimento do Bitcoin**\n",
    "\n",
    "* Você pode acompanhar dados sobre o desenvolvimento do software do Bitcoin, o desenvolvimento de novos projetos relacionados ao Bitcoin e o desenvolvimento de regulamentações relacionadas ao Bitcoin.\n",
    "\n",
    "Claro, você pode adaptar esses pontos de acordo com seus interesses e objetivos. Você também pode incluir outros pontos que você considere importantes."
   ]
  },
  {
   "cell_type": "markdown",
   "metadata": {},
   "source": [
    "# **Case Weekly Report**"
   ]
  },
  {
   "cell_type": "markdown",
   "metadata": {},
   "source": [
    "## **1. Bibliotecas**"
   ]
  },
  {
   "cell_type": "code",
   "execution_count": 7,
   "metadata": {},
   "outputs": [],
   "source": [
    "import numpy as np\n",
    "import pandas as pd\n",
    "import matplotlib.pyplot as plt\n",
    "import seaborn as sns\n",
    "from datetime import datetime, timedelta\n",
    "\n",
    "import yfinance as yf\n",
    "import MetaTrader5 as mt5\n",
    "\n",
    "import kaleido\n",
    "import plotly.graph_objects as go\n",
    "from plotly.subplots import make_subplots\n",
    "\n",
    "import telegram\n",
    "from telegram import Update\n",
    "from telegram.ext import Updater, CommandHandler\n",
    "from telegram.ext.callbackcontext import CallbackContext\n",
    "\n",
    "import yaml\n",
    "import urllib3\n",
    "\n",
    "urllib3.disable_warnings()\n",
    "\n",
    "from binance.client import Client\n",
    "\n",
    "from requests import Request, Session\n",
    "from requests.exceptions import ConnectionError, Timeout, TooManyRedirects\n",
    "import json"
   ]
  },
  {
   "cell_type": "code",
   "execution_count": 2,
   "metadata": {},
   "outputs": [],
   "source": [
    "## TESTE BOT TELEGRAM\n",
    "\n",
    "def get_info_cripto(config: dict) -> Client:\n",
    "    \"\"\"\n",
    "    Recebe as configuracoes criptografadas e faz a conexão na binance\n",
    "\n",
    "    input (config) [dict]: Dicionario que tem como chaves binance, e dentro da binance a api key e api secret\n",
    "\n",
    "    output (client): Retorna o cliente configurado da binance\n",
    "    \n",
    "    \"\"\"\n",
    "    info_binance = config['binance']\n",
    "    api_key = info_binance['api_key']\n",
    "    api_secret = info_binance['api_secret']\n",
    "\n",
    "    client = Client(api_key, api_secret, {\"verify\": False, \"timeout\": 20})\n",
    "    return client\n",
    "\n",
    "\n",
    "configs = open(\"../Weekly Report/config/config.yaml\", 'r')\n",
    "configs_unique = yaml.safe_load(configs)\n",
    "\n",
    "chat_id = configs_unique['telegram']['chat_id']\n",
    "token_telegram = configs_unique['telegram']['token']\n",
    "\n",
    "client_binance = get_info_cripto(config=configs_unique)\n",
    "\n",
    "TELEGRAM_BOT_TOKEN = token_telegram\n",
    "TELEGRAM_CHAT_ID = chat_id\n",
    "\n",
    "def telegram_bot_sendtext(bot_message, num_try = 0):\n",
    "    global bot\n",
    "    try:\n",
    "        return bot.send_message(chat_id=TELEGRAM_CHAT_ID, text=bot_message)\n",
    "    except:\n",
    "        if num_try == 1:\n",
    "            bot = telegram.Bot(token=TELEGRAM_BOT_TOKEN)\n",
    "            return telegram_bot_sendtext(bot_message, 1)\n",
    "        return 0\n",
    "    \n",
    "bot = telegram.Bot(token=TELEGRAM_BOT_TOKEN)\n",
    "\n"
   ]
  },
  {
   "cell_type": "code",
   "execution_count": 4,
   "metadata": {},
   "outputs": [
    {
     "data": {
      "text/plain": [
       "<telegram.message.Message at 0x1fdbd9a30b0>"
      ]
     },
     "execution_count": 4,
     "metadata": {},
     "output_type": "execute_result"
    }
   ],
   "source": [
    "telegram_bot_sendtext('🤖 WEEKLY REPORT: BOT INICIALIZADO...')"
   ]
  },
  {
   "cell_type": "code",
   "execution_count": 5,
   "metadata": {},
   "outputs": [
    {
     "data": {
      "text/plain": [
       "<binance.client.Client at 0x1fdfd677d60>"
      ]
     },
     "execution_count": 5,
     "metadata": {},
     "output_type": "execute_result"
    }
   ],
   "source": [
    "client_binance"
   ]
  },
  {
   "cell_type": "code",
   "execution_count": 6,
   "metadata": {},
   "outputs": [
    {
     "data": {
      "text/plain": [
       "{'symbol': 'BTCUSDT', 'price': '41337.59000000'}"
      ]
     },
     "execution_count": 6,
     "metadata": {},
     "output_type": "execute_result"
    }
   ],
   "source": [
    "client_binance.get_symbol_ticker(symbol='BTCUSDT')"
   ]
  },
  {
   "cell_type": "code",
   "execution_count": 29,
   "metadata": {},
   "outputs": [],
   "source": [
    "api_key_coinmarketcap = configs_unique['coinmarketcap']['api_key']\n",
    "\n",
    "url = 'https://pro-api.coinmarketcap.com/v1/global-metrics/quotes/latest'\n",
    "parameters = {\n",
    "  }\n",
    "headers = {\n",
    "  'Accepts': 'application/json',\n",
    "  'X-CMC_PRO_API_KEY': api_key_coinmarketcap,\n",
    "}\n",
    "\n",
    "session = Session()\n",
    "session.headers.update(headers)\n",
    "\n",
    "try:\n",
    "  response = session.get(url, params=parameters)\n",
    "  data = json.loads(response.text)\n",
    "  #print(data)\n",
    "except (ConnectionError, Timeout, TooManyRedirects) as e:\n",
    "  print(e)"
   ]
  },
  {
   "cell_type": "code",
   "execution_count": 30,
   "metadata": {},
   "outputs": [
    {
     "data": {
      "text/plain": [
       "{'active_cryptocurrencies': 8902,\n",
       " 'total_cryptocurrencies': 27340,\n",
       " 'active_market_pairs': 66865,\n",
       " 'active_exchanges': 684,\n",
       " 'total_exchanges': 7501,\n",
       " 'eth_dominance': 16.941841750712,\n",
       " 'btc_dominance': 51.898656076637,\n",
       " 'eth_dominance_yesterday': 17.1039783,\n",
       " 'btc_dominance_yesterday': 52.03259832,\n",
       " 'eth_dominance_24h_percentage_change': -0.162136549288,\n",
       " 'btc_dominance_24h_percentage_change': -0.133942243363,\n",
       " 'defi_volume_24h': 8284911133.036773,\n",
       " 'defi_volume_24h_reported': 74794392604.151,\n",
       " 'defi_market_cap': 65853391855.20952,\n",
       " 'defi_24h_percentage_change': -26.961562476354,\n",
       " 'stablecoin_volume_24h': 61330373277.92613,\n",
       " 'stablecoin_volume_24h_reported': 251951506464.28302,\n",
       " 'stablecoin_market_cap': 126977584979.97733,\n",
       " 'stablecoin_24h_percentage_change': -31.392634825512,\n",
       " 'derivatives_volume_24h': 331253990705.57465,\n",
       " 'derivatives_volume_24h_reported': 331253990705.57465,\n",
       " 'derivatives_24h_percentage_change': -32.659852251439,\n",
       " 'quote': {'USD': {'total_market_cap': 1557886411172.0288,\n",
       "   'total_volume_24h': 68276324090.76,\n",
       "   'total_volume_24h_reported': 307754161467.57,\n",
       "   'altcoin_volume_24h': 44423991980.327255,\n",
       "   'altcoin_volume_24h_reported': 201656701975.6184,\n",
       "   'altcoin_market_cap': 749364300573.2024,\n",
       "   'defi_volume_24h': 8284911133.036773,\n",
       "   'defi_volume_24h_reported': 74794392604.151,\n",
       "   'defi_24h_percentage_change': -26.961562476354,\n",
       "   'defi_market_cap': 65853391855.20952,\n",
       "   'stablecoin_volume_24h': 61330373277.92613,\n",
       "   'stablecoin_volume_24h_reported': 251951506464.28302,\n",
       "   'stablecoin_24h_percentage_change': -31.392634825512,\n",
       "   'stablecoin_market_cap': 126977584979.97733,\n",
       "   'derivatives_volume_24h': 331253990705.57465,\n",
       "   'derivatives_volume_24h_reported': 331253990705.57465,\n",
       "   'derivatives_24h_percentage_change': -32.659852251439,\n",
       "   'total_market_cap_yesterday': 1571534167425.4675,\n",
       "   'total_volume_24h_yesterday': 98092843503.13,\n",
       "   'total_market_cap_yesterday_percentage_change': -0.8684352231295662,\n",
       "   'total_volume_24h_yesterday_percentage_change': -30.396222953225532,\n",
       "   'last_updated': '2023-12-13T01:16:59.999Z'}},\n",
       " 'last_updated': '2023-12-13T01:16:59.999Z'}"
      ]
     },
     "execution_count": 30,
     "metadata": {},
     "output_type": "execute_result"
    }
   ],
   "source": [
    "data[\"data\"]"
   ]
  },
  {
   "cell_type": "code",
   "execution_count": 31,
   "metadata": {},
   "outputs": [],
   "source": [
    "eth_dominance = data[\"data\"][\"eth_dominance\"]\n",
    "btc_dominance = data[\"data\"][\"btc_dominance\"]\n",
    "eth_dominance_yesterday = data[\"data\"][\"eth_dominance_yesterday\"]\n",
    "btc_dominance_yesterday = data[\"data\"][\"btc_dominance_yesterday\"]\n",
    "eth_dominance_24h_percentage_change = data[\"data\"][\"eth_dominance_24h_percentage_change\"]\n",
    "btc_dominance_24h_percentage_change = data[\"data\"][\"btc_dominance_24h_percentage_change\"]\n",
    "defi_market_cap = data[\"data\"][\"defi_market_cap\"]\n",
    "defi_24h_percentage_change = data[\"data\"][\"defi_24h_percentage_change\"]\n",
    "stablecoin_market_cap = data[\"data\"][\"stablecoin_market_cap\"]\n",
    "stablecoin_24h_percentage_change = data[\"data\"][\"stablecoin_24h_percentage_change\"]\n",
    "derivatives_volume_24h = data[\"data\"][\"derivatives_volume_24h\"]\n",
    "derivatives_24h_percentage_change = data[\"data\"][\"derivatives_24h_percentage_change\"]"
   ]
  },
  {
   "cell_type": "markdown",
   "metadata": {},
   "source": [
    "## **2. Organizar datas da extração**"
   ]
  },
  {
   "cell_type": "code",
   "execution_count": 56,
   "metadata": {},
   "outputs": [
    {
     "data": {
      "text/plain": [
       "datetime.datetime(2023, 12, 5, 20, 3, 13, 513312)"
      ]
     },
     "execution_count": 56,
     "metadata": {},
     "output_type": "execute_result"
    }
   ],
   "source": [
    "hoje = datetime.now()\n",
    "hoje"
   ]
  },
  {
   "cell_type": "code",
   "execution_count": 57,
   "metadata": {},
   "outputs": [
    {
     "data": {
      "text/plain": [
       "1"
      ]
     },
     "execution_count": 57,
     "metadata": {},
     "output_type": "execute_result"
    }
   ],
   "source": [
    "hoje.weekday()"
   ]
  },
  {
   "cell_type": "code",
   "execution_count": 58,
   "metadata": {},
   "outputs": [
    {
     "data": {
      "text/plain": [
       "datetime.datetime(2023, 12, 4, 20, 3, 13, 513312)"
      ]
     },
     "execution_count": 58,
     "metadata": {},
     "output_type": "execute_result"
    }
   ],
   "source": [
    "segunda = hoje - timedelta(days = hoje.weekday())\n",
    "segunda"
   ]
  },
  {
   "cell_type": "code",
   "execution_count": 59,
   "metadata": {},
   "outputs": [
    {
     "data": {
      "text/plain": [
       "datetime.date(2023, 12, 4)"
      ]
     },
     "execution_count": 59,
     "metadata": {},
     "output_type": "execute_result"
    }
   ],
   "source": [
    "segunda.date()"
   ]
  },
  {
   "cell_type": "code",
   "execution_count": 60,
   "metadata": {},
   "outputs": [
    {
     "data": {
      "text/plain": [
       "'2023-12-04'"
      ]
     },
     "execution_count": 60,
     "metadata": {},
     "output_type": "execute_result"
    }
   ],
   "source": [
    "#data_inicio = segunda.date().strftime('%Y-%m-%d')\n",
    "data_inicio = (hoje.date() - timedelta(days = 7)).strftime('%Y-%m-%d')\n",
    "data_final = (hoje.date() - timedelta(days = 1)).strftime('%Y-%m-%d')\n",
    "data_final"
   ]
  },
  {
   "cell_type": "code",
   "execution_count": 61,
   "metadata": {},
   "outputs": [
    {
     "data": {
      "text/plain": [
       "'2023-11-28'"
      ]
     },
     "execution_count": 61,
     "metadata": {},
     "output_type": "execute_result"
    }
   ],
   "source": [
    "data_inicio"
   ]
  },
  {
   "cell_type": "code",
   "execution_count": 62,
   "metadata": {},
   "outputs": [],
   "source": [
    "def capa_post_weekly():\n",
    "        semana_ano = segunda.date().strftime('%U')\n",
    "        ano = segunda.date().strftime('%Y')\n",
    "\n",
    "        print('Trading com Dados apresenta')\n",
    "        print('Weekly Report')\n",
    "        print(f'Semana: {semana_ano} de {ano}')\n",
    "        print(f'{segunda.date().strftime(\"%d-%m\")} a {(segunda.date()+timedelta(days=4)).strftime(\"%d-%m\")}')\n"
   ]
  },
  {
   "cell_type": "code",
   "execution_count": 63,
   "metadata": {},
   "outputs": [
    {
     "name": "stdout",
     "output_type": "stream",
     "text": [
      "Trading com Dados apresenta\n",
      "Weekly Report\n",
      "Semana: 49 de 2023\n",
      "04-12 a 08-12\n"
     ]
    }
   ],
   "source": [
    "capa_post_weekly()"
   ]
  },
  {
   "cell_type": "markdown",
   "metadata": {},
   "source": [
    "## **3. Índices Internacionais**"
   ]
  },
  {
   "cell_type": "markdown",
   "metadata": {},
   "source": [
    "### 3.1 Extração e manipulação de dados"
   ]
  },
  {
   "cell_type": "code",
   "execution_count": 64,
   "metadata": {},
   "outputs": [],
   "source": [
    "dict_yf_world_indices = {\n",
    "    'Bovespa (BVSP)': ['^BVSP', 'Brasil'],\n",
    "    'S&P 500 (GSPC)': ['^GSPC', 'EUA'],\n",
    "    'Dow Jones 30 (DJI)': ['^DJI', 'EUA'],\n",
    "    'NASDAQ Composite (IXIC)': ['^IXIC', 'EUA'],\n",
    "    'Russell 2000 (RUT)': ['^RUT', 'EUA'],\n",
    "    'S&P/TSX Composite (GSPTSE)': ['^GSPTSE', 'Canada'],\n",
    "    'S&P/BMV IPC (MXX)': ['^MXX', 'Mexico'],\n",
    "    'Nikkei 225 (NIKKEI)': ['^N225', 'Japão'],\n",
    "    'S&P Merval (MERV)': ['^MERV', 'Argentina'],\n",
    "    'Shangai Composite (SSEC)': ['000001.SS', 'China'],\n",
    "    'SZSE Component (SZI)': ['399001.SZ', 'China'],\n",
    "    'Hang Seng (HK50)': ['^HSI', 'Hong Kong'],\n",
    "    'BSE Sensex 30 (BSESN)': ['^BSESN', 'India'],\n",
    "    'EuroNext 100 (N100)': ['^N100', 'Zona Euro'],\n",
    "    'DAX (DE30)': ['^GDAXI', 'Alemanha'],\n",
    "    'FTSE 100 (UK100)': ['^FTSE', 'UK'],\n",
    "    'CAC 40 (FCHI)': ['^FCHI', 'França'],\n",
    "    'MOEX Russia (IMOEX)': ['IMOEX.ME', 'Russia'],\n",
    "    'Bitcoin USD (BTC-USD)': ['BTC-USD', 'EUA'],\n",
    "    \n",
    "}"
   ]
  },
  {
   "cell_type": "code",
   "execution_count": 65,
   "metadata": {},
   "outputs": [
    {
     "data": {
      "text/plain": [
       "{'Bovespa (BVSP)': ['^BVSP', 'Brasil'],\n",
       " 'S&P 500 (GSPC)': ['^GSPC', 'EUA'],\n",
       " 'Dow Jones 30 (DJI)': ['^DJI', 'EUA'],\n",
       " 'NASDAQ Composite (IXIC)': ['^IXIC', 'EUA'],\n",
       " 'Russell 2000 (RUT)': ['^RUT', 'EUA'],\n",
       " 'S&P/TSX Composite (GSPTSE)': ['^GSPTSE', 'Canada'],\n",
       " 'S&P/BMV IPC (MXX)': ['^MXX', 'Mexico'],\n",
       " 'Nikkei 225 (NIKKEI)': ['^N225', 'Japão'],\n",
       " 'S&P Merval (MERV)': ['^MERV', 'Argentina'],\n",
       " 'Shangai Composite (SSEC)': ['000001.SS', 'China'],\n",
       " 'SZSE Component (SZI)': ['399001.SZ', 'China'],\n",
       " 'Hang Seng (HK50)': ['^HSI', 'Hong Kong'],\n",
       " 'BSE Sensex 30 (BSESN)': ['^BSESN', 'India'],\n",
       " 'EuroNext 100 (N100)': ['^N100', 'Zona Euro'],\n",
       " 'DAX (DE30)': ['^GDAXI', 'Alemanha'],\n",
       " 'FTSE 100 (UK100)': ['^FTSE', 'UK'],\n",
       " 'CAC 40 (FCHI)': ['^FCHI', 'França'],\n",
       " 'MOEX Russia (IMOEX)': ['IMOEX.ME', 'Russia'],\n",
       " 'Bitcoin USD (BTC-USD)': ['BTC-USD', 'EUA']}"
      ]
     },
     "execution_count": 65,
     "metadata": {},
     "output_type": "execute_result"
    }
   ],
   "source": [
    "dict_yf_world_indices"
   ]
  },
  {
   "cell_type": "code",
   "execution_count": 66,
   "metadata": {},
   "outputs": [
    {
     "data": {
      "text/html": [
       "<div>\n",
       "<style scoped>\n",
       "    .dataframe tbody tr th:only-of-type {\n",
       "        vertical-align: middle;\n",
       "    }\n",
       "\n",
       "    .dataframe tbody tr th {\n",
       "        vertical-align: top;\n",
       "    }\n",
       "\n",
       "    .dataframe thead th {\n",
       "        text-align: right;\n",
       "    }\n",
       "</style>\n",
       "<table border=\"1\" class=\"dataframe\">\n",
       "  <thead>\n",
       "    <tr style=\"text-align: right;\">\n",
       "      <th></th>\n",
       "      <th>Ticker_YF</th>\n",
       "      <th>Country</th>\n",
       "    </tr>\n",
       "  </thead>\n",
       "  <tbody>\n",
       "    <tr>\n",
       "      <th>Bovespa (BVSP)</th>\n",
       "      <td>^BVSP</td>\n",
       "      <td>Brasil</td>\n",
       "    </tr>\n",
       "    <tr>\n",
       "      <th>S&amp;P 500 (GSPC)</th>\n",
       "      <td>^GSPC</td>\n",
       "      <td>EUA</td>\n",
       "    </tr>\n",
       "    <tr>\n",
       "      <th>Dow Jones 30 (DJI)</th>\n",
       "      <td>^DJI</td>\n",
       "      <td>EUA</td>\n",
       "    </tr>\n",
       "    <tr>\n",
       "      <th>NASDAQ Composite (IXIC)</th>\n",
       "      <td>^IXIC</td>\n",
       "      <td>EUA</td>\n",
       "    </tr>\n",
       "    <tr>\n",
       "      <th>Russell 2000 (RUT)</th>\n",
       "      <td>^RUT</td>\n",
       "      <td>EUA</td>\n",
       "    </tr>\n",
       "    <tr>\n",
       "      <th>S&amp;P/TSX Composite (GSPTSE)</th>\n",
       "      <td>^GSPTSE</td>\n",
       "      <td>Canada</td>\n",
       "    </tr>\n",
       "    <tr>\n",
       "      <th>S&amp;P/BMV IPC (MXX)</th>\n",
       "      <td>^MXX</td>\n",
       "      <td>Mexico</td>\n",
       "    </tr>\n",
       "    <tr>\n",
       "      <th>Nikkei 225 (NIKKEI)</th>\n",
       "      <td>^N225</td>\n",
       "      <td>Japão</td>\n",
       "    </tr>\n",
       "    <tr>\n",
       "      <th>S&amp;P Merval (MERV)</th>\n",
       "      <td>^MERV</td>\n",
       "      <td>Argentina</td>\n",
       "    </tr>\n",
       "    <tr>\n",
       "      <th>Shangai Composite (SSEC)</th>\n",
       "      <td>000001.SS</td>\n",
       "      <td>China</td>\n",
       "    </tr>\n",
       "    <tr>\n",
       "      <th>SZSE Component (SZI)</th>\n",
       "      <td>399001.SZ</td>\n",
       "      <td>China</td>\n",
       "    </tr>\n",
       "    <tr>\n",
       "      <th>Hang Seng (HK50)</th>\n",
       "      <td>^HSI</td>\n",
       "      <td>Hong Kong</td>\n",
       "    </tr>\n",
       "    <tr>\n",
       "      <th>BSE Sensex 30 (BSESN)</th>\n",
       "      <td>^BSESN</td>\n",
       "      <td>India</td>\n",
       "    </tr>\n",
       "    <tr>\n",
       "      <th>EuroNext 100 (N100)</th>\n",
       "      <td>^N100</td>\n",
       "      <td>Zona Euro</td>\n",
       "    </tr>\n",
       "    <tr>\n",
       "      <th>DAX (DE30)</th>\n",
       "      <td>^GDAXI</td>\n",
       "      <td>Alemanha</td>\n",
       "    </tr>\n",
       "    <tr>\n",
       "      <th>FTSE 100 (UK100)</th>\n",
       "      <td>^FTSE</td>\n",
       "      <td>UK</td>\n",
       "    </tr>\n",
       "    <tr>\n",
       "      <th>CAC 40 (FCHI)</th>\n",
       "      <td>^FCHI</td>\n",
       "      <td>França</td>\n",
       "    </tr>\n",
       "    <tr>\n",
       "      <th>MOEX Russia (IMOEX)</th>\n",
       "      <td>IMOEX.ME</td>\n",
       "      <td>Russia</td>\n",
       "    </tr>\n",
       "    <tr>\n",
       "      <th>Bitcoin USD (BTC-USD)</th>\n",
       "      <td>BTC-USD</td>\n",
       "      <td>EUA</td>\n",
       "    </tr>\n",
       "  </tbody>\n",
       "</table>\n",
       "</div>"
      ],
      "text/plain": [
       "                            Ticker_YF    Country\n",
       "Bovespa (BVSP)                  ^BVSP     Brasil\n",
       "S&P 500 (GSPC)                  ^GSPC        EUA\n",
       "Dow Jones 30 (DJI)               ^DJI        EUA\n",
       "NASDAQ Composite (IXIC)         ^IXIC        EUA\n",
       "Russell 2000 (RUT)               ^RUT        EUA\n",
       "S&P/TSX Composite (GSPTSE)    ^GSPTSE     Canada\n",
       "S&P/BMV IPC (MXX)                ^MXX     Mexico\n",
       "Nikkei 225 (NIKKEI)             ^N225      Japão\n",
       "S&P Merval (MERV)               ^MERV  Argentina\n",
       "Shangai Composite (SSEC)    000001.SS      China\n",
       "SZSE Component (SZI)        399001.SZ      China\n",
       "Hang Seng (HK50)                 ^HSI  Hong Kong\n",
       "BSE Sensex 30 (BSESN)          ^BSESN      India\n",
       "EuroNext 100 (N100)             ^N100  Zona Euro\n",
       "DAX (DE30)                     ^GDAXI   Alemanha\n",
       "FTSE 100 (UK100)                ^FTSE         UK\n",
       "CAC 40 (FCHI)                   ^FCHI     França\n",
       "MOEX Russia (IMOEX)          IMOEX.ME     Russia\n",
       "Bitcoin USD (BTC-USD)         BTC-USD        EUA"
      ]
     },
     "execution_count": 66,
     "metadata": {},
     "output_type": "execute_result"
    }
   ],
   "source": [
    "df_yf_world_indices = pd.DataFrame.from_dict(dict_yf_world_indices, orient='index', columns=['Ticker_YF', 'Country'])\n",
    "df_yf_world_indices"
   ]
  },
  {
   "cell_type": "code",
   "execution_count": 67,
   "metadata": {},
   "outputs": [
    {
     "data": {
      "text/html": [
       "<div>\n",
       "<style scoped>\n",
       "    .dataframe tbody tr th:only-of-type {\n",
       "        vertical-align: middle;\n",
       "    }\n",
       "\n",
       "    .dataframe tbody tr th {\n",
       "        vertical-align: top;\n",
       "    }\n",
       "\n",
       "    .dataframe thead th {\n",
       "        text-align: right;\n",
       "    }\n",
       "</style>\n",
       "<table border=\"1\" class=\"dataframe\">\n",
       "  <thead>\n",
       "    <tr style=\"text-align: right;\">\n",
       "      <th></th>\n",
       "      <th>Ticker_YF</th>\n",
       "      <th>Country</th>\n",
       "    </tr>\n",
       "  </thead>\n",
       "  <tbody>\n",
       "    <tr>\n",
       "      <th>Bovespa (BVSP)</th>\n",
       "      <td>^BVSP</td>\n",
       "      <td>Brasil</td>\n",
       "    </tr>\n",
       "    <tr>\n",
       "      <th>S&amp;P 500 (GSPC)</th>\n",
       "      <td>^GSPC</td>\n",
       "      <td>EUA</td>\n",
       "    </tr>\n",
       "    <tr>\n",
       "      <th>Dow Jones 30 (DJI)</th>\n",
       "      <td>^DJI</td>\n",
       "      <td>EUA</td>\n",
       "    </tr>\n",
       "    <tr>\n",
       "      <th>NASDAQ Composite (IXIC)</th>\n",
       "      <td>^IXIC</td>\n",
       "      <td>EUA</td>\n",
       "    </tr>\n",
       "    <tr>\n",
       "      <th>Russell 2000 (RUT)</th>\n",
       "      <td>^RUT</td>\n",
       "      <td>EUA</td>\n",
       "    </tr>\n",
       "    <tr>\n",
       "      <th>S&amp;P/TSX Composite (GSPTSE)</th>\n",
       "      <td>^GSPTSE</td>\n",
       "      <td>Canada</td>\n",
       "    </tr>\n",
       "    <tr>\n",
       "      <th>S&amp;P/BMV IPC (MXX)</th>\n",
       "      <td>^MXX</td>\n",
       "      <td>Mexico</td>\n",
       "    </tr>\n",
       "    <tr>\n",
       "      <th>Nikkei 225 (NIKKEI)</th>\n",
       "      <td>^N225</td>\n",
       "      <td>Japão</td>\n",
       "    </tr>\n",
       "    <tr>\n",
       "      <th>S&amp;P Merval (MERV)</th>\n",
       "      <td>^MERV</td>\n",
       "      <td>Argentina</td>\n",
       "    </tr>\n",
       "    <tr>\n",
       "      <th>Shangai Composite (SSEC)</th>\n",
       "      <td>000001.SS</td>\n",
       "      <td>China</td>\n",
       "    </tr>\n",
       "    <tr>\n",
       "      <th>SZSE Component (SZI)</th>\n",
       "      <td>399001.SZ</td>\n",
       "      <td>China</td>\n",
       "    </tr>\n",
       "    <tr>\n",
       "      <th>Hang Seng (HK50)</th>\n",
       "      <td>^HSI</td>\n",
       "      <td>Hong Kong</td>\n",
       "    </tr>\n",
       "    <tr>\n",
       "      <th>BSE Sensex 30 (BSESN)</th>\n",
       "      <td>^BSESN</td>\n",
       "      <td>India</td>\n",
       "    </tr>\n",
       "    <tr>\n",
       "      <th>EuroNext 100 (N100)</th>\n",
       "      <td>^N100</td>\n",
       "      <td>Zona Euro</td>\n",
       "    </tr>\n",
       "    <tr>\n",
       "      <th>DAX (DE30)</th>\n",
       "      <td>^GDAXI</td>\n",
       "      <td>Alemanha</td>\n",
       "    </tr>\n",
       "    <tr>\n",
       "      <th>FTSE 100 (UK100)</th>\n",
       "      <td>^FTSE</td>\n",
       "      <td>UK</td>\n",
       "    </tr>\n",
       "    <tr>\n",
       "      <th>CAC 40 (FCHI)</th>\n",
       "      <td>^FCHI</td>\n",
       "      <td>França</td>\n",
       "    </tr>\n",
       "    <tr>\n",
       "      <th>MOEX Russia (IMOEX)</th>\n",
       "      <td>IMOEX.ME</td>\n",
       "      <td>Russia</td>\n",
       "    </tr>\n",
       "    <tr>\n",
       "      <th>Bitcoin USD (BTC-USD)</th>\n",
       "      <td>BTC-USD</td>\n",
       "      <td>EUA</td>\n",
       "    </tr>\n",
       "  </tbody>\n",
       "</table>\n",
       "</div>"
      ],
      "text/plain": [
       "                            Ticker_YF    Country\n",
       "Bovespa (BVSP)                  ^BVSP     Brasil\n",
       "S&P 500 (GSPC)                  ^GSPC        EUA\n",
       "Dow Jones 30 (DJI)               ^DJI        EUA\n",
       "NASDAQ Composite (IXIC)         ^IXIC        EUA\n",
       "Russell 2000 (RUT)               ^RUT        EUA\n",
       "S&P/TSX Composite (GSPTSE)    ^GSPTSE     Canada\n",
       "S&P/BMV IPC (MXX)                ^MXX     Mexico\n",
       "Nikkei 225 (NIKKEI)             ^N225      Japão\n",
       "S&P Merval (MERV)               ^MERV  Argentina\n",
       "Shangai Composite (SSEC)    000001.SS      China\n",
       "SZSE Component (SZI)        399001.SZ      China\n",
       "Hang Seng (HK50)                 ^HSI  Hong Kong\n",
       "BSE Sensex 30 (BSESN)          ^BSESN      India\n",
       "EuroNext 100 (N100)             ^N100  Zona Euro\n",
       "DAX (DE30)                     ^GDAXI   Alemanha\n",
       "FTSE 100 (UK100)                ^FTSE         UK\n",
       "CAC 40 (FCHI)                   ^FCHI     França\n",
       "MOEX Russia (IMOEX)          IMOEX.ME     Russia\n",
       "Bitcoin USD (BTC-USD)         BTC-USD        EUA"
      ]
     },
     "execution_count": 67,
     "metadata": {},
     "output_type": "execute_result"
    }
   ],
   "source": [
    "df_yf_world_indices"
   ]
  },
  {
   "cell_type": "code",
   "execution_count": 68,
   "metadata": {},
   "outputs": [
    {
     "data": {
      "text/html": [
       "<div>\n",
       "<style scoped>\n",
       "    .dataframe tbody tr th:only-of-type {\n",
       "        vertical-align: middle;\n",
       "    }\n",
       "\n",
       "    .dataframe tbody tr th {\n",
       "        vertical-align: top;\n",
       "    }\n",
       "\n",
       "    .dataframe thead th {\n",
       "        text-align: right;\n",
       "    }\n",
       "</style>\n",
       "<table border=\"1\" class=\"dataframe\">\n",
       "  <thead>\n",
       "    <tr style=\"text-align: right;\">\n",
       "      <th></th>\n",
       "      <th>Índice</th>\n",
       "      <th>Ticker_YF</th>\n",
       "      <th>Country</th>\n",
       "    </tr>\n",
       "  </thead>\n",
       "  <tbody>\n",
       "    <tr>\n",
       "      <th>0</th>\n",
       "      <td>Bovespa (BVSP)</td>\n",
       "      <td>^BVSP</td>\n",
       "      <td>Brasil</td>\n",
       "    </tr>\n",
       "    <tr>\n",
       "      <th>1</th>\n",
       "      <td>S&amp;P 500 (GSPC)</td>\n",
       "      <td>^GSPC</td>\n",
       "      <td>EUA</td>\n",
       "    </tr>\n",
       "    <tr>\n",
       "      <th>2</th>\n",
       "      <td>Dow Jones 30 (DJI)</td>\n",
       "      <td>^DJI</td>\n",
       "      <td>EUA</td>\n",
       "    </tr>\n",
       "    <tr>\n",
       "      <th>3</th>\n",
       "      <td>NASDAQ Composite (IXIC)</td>\n",
       "      <td>^IXIC</td>\n",
       "      <td>EUA</td>\n",
       "    </tr>\n",
       "    <tr>\n",
       "      <th>4</th>\n",
       "      <td>Russell 2000 (RUT)</td>\n",
       "      <td>^RUT</td>\n",
       "      <td>EUA</td>\n",
       "    </tr>\n",
       "    <tr>\n",
       "      <th>5</th>\n",
       "      <td>S&amp;P/TSX Composite (GSPTSE)</td>\n",
       "      <td>^GSPTSE</td>\n",
       "      <td>Canada</td>\n",
       "    </tr>\n",
       "    <tr>\n",
       "      <th>6</th>\n",
       "      <td>S&amp;P/BMV IPC (MXX)</td>\n",
       "      <td>^MXX</td>\n",
       "      <td>Mexico</td>\n",
       "    </tr>\n",
       "    <tr>\n",
       "      <th>7</th>\n",
       "      <td>Nikkei 225 (NIKKEI)</td>\n",
       "      <td>^N225</td>\n",
       "      <td>Japão</td>\n",
       "    </tr>\n",
       "    <tr>\n",
       "      <th>8</th>\n",
       "      <td>S&amp;P Merval (MERV)</td>\n",
       "      <td>^MERV</td>\n",
       "      <td>Argentina</td>\n",
       "    </tr>\n",
       "    <tr>\n",
       "      <th>9</th>\n",
       "      <td>Shangai Composite (SSEC)</td>\n",
       "      <td>000001.SS</td>\n",
       "      <td>China</td>\n",
       "    </tr>\n",
       "    <tr>\n",
       "      <th>10</th>\n",
       "      <td>SZSE Component (SZI)</td>\n",
       "      <td>399001.SZ</td>\n",
       "      <td>China</td>\n",
       "    </tr>\n",
       "    <tr>\n",
       "      <th>11</th>\n",
       "      <td>Hang Seng (HK50)</td>\n",
       "      <td>^HSI</td>\n",
       "      <td>Hong Kong</td>\n",
       "    </tr>\n",
       "    <tr>\n",
       "      <th>12</th>\n",
       "      <td>BSE Sensex 30 (BSESN)</td>\n",
       "      <td>^BSESN</td>\n",
       "      <td>India</td>\n",
       "    </tr>\n",
       "    <tr>\n",
       "      <th>13</th>\n",
       "      <td>EuroNext 100 (N100)</td>\n",
       "      <td>^N100</td>\n",
       "      <td>Zona Euro</td>\n",
       "    </tr>\n",
       "    <tr>\n",
       "      <th>14</th>\n",
       "      <td>DAX (DE30)</td>\n",
       "      <td>^GDAXI</td>\n",
       "      <td>Alemanha</td>\n",
       "    </tr>\n",
       "    <tr>\n",
       "      <th>15</th>\n",
       "      <td>FTSE 100 (UK100)</td>\n",
       "      <td>^FTSE</td>\n",
       "      <td>UK</td>\n",
       "    </tr>\n",
       "    <tr>\n",
       "      <th>16</th>\n",
       "      <td>CAC 40 (FCHI)</td>\n",
       "      <td>^FCHI</td>\n",
       "      <td>França</td>\n",
       "    </tr>\n",
       "    <tr>\n",
       "      <th>17</th>\n",
       "      <td>MOEX Russia (IMOEX)</td>\n",
       "      <td>IMOEX.ME</td>\n",
       "      <td>Russia</td>\n",
       "    </tr>\n",
       "    <tr>\n",
       "      <th>18</th>\n",
       "      <td>Bitcoin USD (BTC-USD)</td>\n",
       "      <td>BTC-USD</td>\n",
       "      <td>EUA</td>\n",
       "    </tr>\n",
       "  </tbody>\n",
       "</table>\n",
       "</div>"
      ],
      "text/plain": [
       "                        Índice  Ticker_YF    Country\n",
       "0               Bovespa (BVSP)      ^BVSP     Brasil\n",
       "1               S&P 500 (GSPC)      ^GSPC        EUA\n",
       "2           Dow Jones 30 (DJI)       ^DJI        EUA\n",
       "3      NASDAQ Composite (IXIC)      ^IXIC        EUA\n",
       "4           Russell 2000 (RUT)       ^RUT        EUA\n",
       "5   S&P/TSX Composite (GSPTSE)    ^GSPTSE     Canada\n",
       "6            S&P/BMV IPC (MXX)       ^MXX     Mexico\n",
       "7          Nikkei 225 (NIKKEI)      ^N225      Japão\n",
       "8            S&P Merval (MERV)      ^MERV  Argentina\n",
       "9     Shangai Composite (SSEC)  000001.SS      China\n",
       "10        SZSE Component (SZI)  399001.SZ      China\n",
       "11            Hang Seng (HK50)       ^HSI  Hong Kong\n",
       "12       BSE Sensex 30 (BSESN)     ^BSESN      India\n",
       "13         EuroNext 100 (N100)      ^N100  Zona Euro\n",
       "14                  DAX (DE30)     ^GDAXI   Alemanha\n",
       "15            FTSE 100 (UK100)      ^FTSE         UK\n",
       "16               CAC 40 (FCHI)      ^FCHI     França\n",
       "17         MOEX Russia (IMOEX)   IMOEX.ME     Russia\n",
       "18       Bitcoin USD (BTC-USD)    BTC-USD        EUA"
      ]
     },
     "execution_count": 68,
     "metadata": {},
     "output_type": "execute_result"
    }
   ],
   "source": [
    "df_yf_world_indices = df_yf_world_indices.reset_index()\n",
    "df_yf_world_indices = df_yf_world_indices.rename({'index': 'Índice'}, axis=1)\n",
    "df_yf_world_indices"
   ]
  },
  {
   "cell_type": "code",
   "execution_count": 69,
   "metadata": {},
   "outputs": [
    {
     "data": {
      "text/html": [
       "<div>\n",
       "<style scoped>\n",
       "    .dataframe tbody tr th:only-of-type {\n",
       "        vertical-align: middle;\n",
       "    }\n",
       "\n",
       "    .dataframe tbody tr th {\n",
       "        vertical-align: top;\n",
       "    }\n",
       "\n",
       "    .dataframe thead th {\n",
       "        text-align: right;\n",
       "    }\n",
       "</style>\n",
       "<table border=\"1\" class=\"dataframe\">\n",
       "  <thead>\n",
       "    <tr style=\"text-align: right;\">\n",
       "      <th></th>\n",
       "      <th>Open</th>\n",
       "      <th>High</th>\n",
       "      <th>Low</th>\n",
       "      <th>Close</th>\n",
       "      <th>Adj Close</th>\n",
       "      <th>Volume</th>\n",
       "    </tr>\n",
       "    <tr>\n",
       "      <th>Date</th>\n",
       "      <th></th>\n",
       "      <th></th>\n",
       "      <th></th>\n",
       "      <th></th>\n",
       "      <th></th>\n",
       "      <th></th>\n",
       "    </tr>\n",
       "  </thead>\n",
       "  <tbody>\n",
       "    <tr>\n",
       "      <th>2023-11-28</th>\n",
       "      <td>125726.0</td>\n",
       "      <td>126916.0</td>\n",
       "      <td>125388.0</td>\n",
       "      <td>126538.0</td>\n",
       "      <td>126538.0</td>\n",
       "      <td>12394200</td>\n",
       "    </tr>\n",
       "    <tr>\n",
       "      <th>2023-11-29</th>\n",
       "      <td>126541.0</td>\n",
       "      <td>127388.0</td>\n",
       "      <td>126018.0</td>\n",
       "      <td>126101.0</td>\n",
       "      <td>126101.0</td>\n",
       "      <td>12417500</td>\n",
       "    </tr>\n",
       "    <tr>\n",
       "      <th>2023-11-30</th>\n",
       "      <td>126168.0</td>\n",
       "      <td>127399.0</td>\n",
       "      <td>126168.0</td>\n",
       "      <td>127331.0</td>\n",
       "      <td>127331.0</td>\n",
       "      <td>19238400</td>\n",
       "    </tr>\n",
       "    <tr>\n",
       "      <th>2023-12-01</th>\n",
       "      <td>127331.0</td>\n",
       "      <td>128165.0</td>\n",
       "      <td>126656.0</td>\n",
       "      <td>128103.0</td>\n",
       "      <td>128103.0</td>\n",
       "      <td>13696500</td>\n",
       "    </tr>\n",
       "  </tbody>\n",
       "</table>\n",
       "</div>"
      ],
      "text/plain": [
       "                Open      High       Low     Close  Adj Close    Volume\n",
       "Date                                                                   \n",
       "2023-11-28  125726.0  126916.0  125388.0  126538.0   126538.0  12394200\n",
       "2023-11-29  126541.0  127388.0  126018.0  126101.0   126101.0  12417500\n",
       "2023-11-30  126168.0  127399.0  126168.0  127331.0   127331.0  19238400\n",
       "2023-12-01  127331.0  128165.0  126656.0  128103.0   128103.0  13696500"
      ]
     },
     "execution_count": 69,
     "metadata": {},
     "output_type": "execute_result"
    }
   ],
   "source": [
    "ohlcv_indice = pd.DataFrame(yf.download(df_yf_world_indices.Ticker_YF.values[0], start=data_inicio, end=data_final, progress=False, interval=\"1d\"))\n",
    "ohlcv_indice"
   ]
  },
  {
   "cell_type": "code",
   "execution_count": 70,
   "metadata": {},
   "outputs": [
    {
     "data": {
      "text/html": [
       "<div>\n",
       "<style scoped>\n",
       "    .dataframe tbody tr th:only-of-type {\n",
       "        vertical-align: middle;\n",
       "    }\n",
       "\n",
       "    .dataframe tbody tr th {\n",
       "        vertical-align: top;\n",
       "    }\n",
       "\n",
       "    .dataframe thead th {\n",
       "        text-align: right;\n",
       "    }\n",
       "</style>\n",
       "<table border=\"1\" class=\"dataframe\">\n",
       "  <thead>\n",
       "    <tr style=\"text-align: right;\">\n",
       "      <th></th>\n",
       "      <th>Open</th>\n",
       "      <th>High</th>\n",
       "      <th>Low</th>\n",
       "      <th>Close</th>\n",
       "      <th>Ticker_YF</th>\n",
       "    </tr>\n",
       "    <tr>\n",
       "      <th>Date</th>\n",
       "      <th></th>\n",
       "      <th></th>\n",
       "      <th></th>\n",
       "      <th></th>\n",
       "      <th></th>\n",
       "    </tr>\n",
       "  </thead>\n",
       "  <tbody>\n",
       "    <tr>\n",
       "      <th>2023-12-03</th>\n",
       "      <td>125726.0</td>\n",
       "      <td>128165.0</td>\n",
       "      <td>125388.0</td>\n",
       "      <td>128103.0</td>\n",
       "      <td>^BVSP</td>\n",
       "    </tr>\n",
       "  </tbody>\n",
       "</table>\n",
       "</div>"
      ],
      "text/plain": [
       "                Open      High       Low     Close Ticker_YF\n",
       "Date                                                        \n",
       "2023-12-03  125726.0  128165.0  125388.0  128103.0     ^BVSP"
      ]
     },
     "execution_count": 70,
     "metadata": {},
     "output_type": "execute_result"
    }
   ],
   "source": [
    "ohlcv_indice = ohlcv_indice.resample(\"W\").agg({'Open': 'first', 'High': 'max', 'Low': 'min', 'Close': 'last'})\n",
    "ohlcv_indice[\"Ticker_YF\"] = df_yf_world_indices.Ticker_YF.values[0]\n",
    "ohlcv_indice"
   ]
  },
  {
   "cell_type": "code",
   "execution_count": 71,
   "metadata": {},
   "outputs": [
    {
     "data": {
      "text/html": [
       "<div>\n",
       "<style scoped>\n",
       "    .dataframe tbody tr th:only-of-type {\n",
       "        vertical-align: middle;\n",
       "    }\n",
       "\n",
       "    .dataframe tbody tr th {\n",
       "        vertical-align: top;\n",
       "    }\n",
       "\n",
       "    .dataframe thead th {\n",
       "        text-align: right;\n",
       "    }\n",
       "</style>\n",
       "<table border=\"1\" class=\"dataframe\">\n",
       "  <thead>\n",
       "    <tr style=\"text-align: right;\">\n",
       "      <th></th>\n",
       "      <th>Open</th>\n",
       "      <th>High</th>\n",
       "      <th>Low</th>\n",
       "      <th>Close</th>\n",
       "      <th>Ticker_YF</th>\n",
       "      <th>Resultado_%</th>\n",
       "    </tr>\n",
       "    <tr>\n",
       "      <th>Date</th>\n",
       "      <th></th>\n",
       "      <th></th>\n",
       "      <th></th>\n",
       "      <th></th>\n",
       "      <th></th>\n",
       "      <th></th>\n",
       "    </tr>\n",
       "  </thead>\n",
       "  <tbody>\n",
       "    <tr>\n",
       "      <th>2023-12-03</th>\n",
       "      <td>125726.0</td>\n",
       "      <td>128165.0</td>\n",
       "      <td>125388.0</td>\n",
       "      <td>128103.0</td>\n",
       "      <td>^BVSP</td>\n",
       "      <td>1.890619</td>\n",
       "    </tr>\n",
       "  </tbody>\n",
       "</table>\n",
       "</div>"
      ],
      "text/plain": [
       "                Open      High       Low     Close Ticker_YF  Resultado_%\n",
       "Date                                                                     \n",
       "2023-12-03  125726.0  128165.0  125388.0  128103.0     ^BVSP     1.890619"
      ]
     },
     "execution_count": 71,
     "metadata": {},
     "output_type": "execute_result"
    }
   ],
   "source": [
    "ohlcv_indice[\"Resultado_%\"] = (ohlcv_indice.Close/ohlcv_indice.Open-1)*100\n",
    "ohlcv_indice\n"
   ]
  },
  {
   "cell_type": "code",
   "execution_count": 72,
   "metadata": {},
   "outputs": [],
   "source": [
    "world_ohlcv = pd.DataFrame()\n",
    "\n",
    "for i in df_yf_world_indices.Ticker_YF:\n",
    "    try:\n",
    "        ohlcv_indice = pd.DataFrame(yf.download(i, start=data_inicio, end=data_final, progress=False, interval=\"1d\"))\n",
    "        ohlcv_indice = ohlcv_indice.resample(\"W\").agg({'Open': 'first', 'High': 'max', 'Low': 'min', 'Close': 'last'})\n",
    "        ohlcv_indice[\"Ticker_YF\"] = i\n",
    "        ohlcv_indice[\"Resultado_%\"] = (ohlcv_indice.Close/ohlcv_indice.Open-1)*100\n",
    "        world_ohlcv = pd.concat([ohlcv_indice, world_ohlcv], axis=0)\n",
    "    \n",
    "    except:\n",
    "        pass"
   ]
  },
  {
   "cell_type": "code",
   "execution_count": 73,
   "metadata": {},
   "outputs": [
    {
     "data": {
      "text/html": [
       "<div>\n",
       "<style scoped>\n",
       "    .dataframe tbody tr th:only-of-type {\n",
       "        vertical-align: middle;\n",
       "    }\n",
       "\n",
       "    .dataframe tbody tr th {\n",
       "        vertical-align: top;\n",
       "    }\n",
       "\n",
       "    .dataframe thead th {\n",
       "        text-align: right;\n",
       "    }\n",
       "</style>\n",
       "<table border=\"1\" class=\"dataframe\">\n",
       "  <thead>\n",
       "    <tr style=\"text-align: right;\">\n",
       "      <th></th>\n",
       "      <th>Open</th>\n",
       "      <th>High</th>\n",
       "      <th>Low</th>\n",
       "      <th>Close</th>\n",
       "      <th>Ticker_YF</th>\n",
       "      <th>Resultado_%</th>\n",
       "    </tr>\n",
       "    <tr>\n",
       "      <th>Date</th>\n",
       "      <th></th>\n",
       "      <th></th>\n",
       "      <th></th>\n",
       "      <th></th>\n",
       "      <th></th>\n",
       "      <th></th>\n",
       "    </tr>\n",
       "  </thead>\n",
       "  <tbody>\n",
       "    <tr>\n",
       "      <th>2023-12-03</th>\n",
       "      <td>37247.992188</td>\n",
       "      <td>40135.605469</td>\n",
       "      <td>36891.089844</td>\n",
       "      <td>39978.390625</td>\n",
       "      <td>BTC-USD</td>\n",
       "      <td>7.330324</td>\n",
       "    </tr>\n",
       "    <tr>\n",
       "      <th>2023-12-10</th>\n",
       "      <td>39978.628906</td>\n",
       "      <td>42371.750000</td>\n",
       "      <td>39978.628906</td>\n",
       "      <td>41980.097656</td>\n",
       "      <td>BTC-USD</td>\n",
       "      <td>5.006347</td>\n",
       "    </tr>\n",
       "    <tr>\n",
       "      <th>2023-12-03</th>\n",
       "      <td>3189.159912</td>\n",
       "      <td>3200.330078</td>\n",
       "      <td>3136.560059</td>\n",
       "      <td>3142.290039</td>\n",
       "      <td>IMOEX.ME</td>\n",
       "      <td>-1.469662</td>\n",
       "    </tr>\n",
       "    <tr>\n",
       "      <th>2023-12-03</th>\n",
       "      <td>7230.740234</td>\n",
       "      <td>7360.100098</td>\n",
       "      <td>7213.740234</td>\n",
       "      <td>7346.149902</td>\n",
       "      <td>^FCHI</td>\n",
       "      <td>1.596098</td>\n",
       "    </tr>\n",
       "    <tr>\n",
       "      <th>2023-12-03</th>\n",
       "      <td>7460.700195</td>\n",
       "      <td>7538.700195</td>\n",
       "      <td>7387.100098</td>\n",
       "      <td>7529.399902</td>\n",
       "      <td>^FTSE</td>\n",
       "      <td>0.920821</td>\n",
       "    </tr>\n",
       "    <tr>\n",
       "      <th>2023-12-03</th>\n",
       "      <td>15939.190430</td>\n",
       "      <td>16399.060547</td>\n",
       "      <td>15915.400391</td>\n",
       "      <td>16397.519531</td>\n",
       "      <td>^GDAXI</td>\n",
       "      <td>2.875485</td>\n",
       "    </tr>\n",
       "    <tr>\n",
       "      <th>2023-12-03</th>\n",
       "      <td>1352.699951</td>\n",
       "      <td>1368.680054</td>\n",
       "      <td>1345.199951</td>\n",
       "      <td>1367.829956</td>\n",
       "      <td>^N100</td>\n",
       "      <td>1.118504</td>\n",
       "    </tr>\n",
       "    <tr>\n",
       "      <th>2023-12-03</th>\n",
       "      <td>66063.718750</td>\n",
       "      <td>67564.328125</td>\n",
       "      <td>65906.648438</td>\n",
       "      <td>67481.187500</td>\n",
       "      <td>^BSESN</td>\n",
       "      <td>2.145608</td>\n",
       "    </tr>\n",
       "    <tr>\n",
       "      <th>2023-12-03</th>\n",
       "      <td>17541.480469</td>\n",
       "      <td>17541.480469</td>\n",
       "      <td>16830.300781</td>\n",
       "      <td>16830.300781</td>\n",
       "      <td>^HSI</td>\n",
       "      <td>-4.054274</td>\n",
       "    </tr>\n",
       "    <tr>\n",
       "      <th>2023-12-10</th>\n",
       "      <td>16919.080078</td>\n",
       "      <td>16941.910156</td>\n",
       "      <td>16617.029297</td>\n",
       "      <td>16646.050781</td>\n",
       "      <td>^HSI</td>\n",
       "      <td>-1.613736</td>\n",
       "    </tr>\n",
       "    <tr>\n",
       "      <th>2023-12-03</th>\n",
       "      <td>9781.540039</td>\n",
       "      <td>9835.139648</td>\n",
       "      <td>9624.919922</td>\n",
       "      <td>9720.570312</td>\n",
       "      <td>399001.SZ</td>\n",
       "      <td>-0.623314</td>\n",
       "    </tr>\n",
       "    <tr>\n",
       "      <th>2023-12-10</th>\n",
       "      <td>9715.469727</td>\n",
       "      <td>9736.110352</td>\n",
       "      <td>9660.440430</td>\n",
       "      <td>9660.440430</td>\n",
       "      <td>399001.SZ</td>\n",
       "      <td>-0.566409</td>\n",
       "    </tr>\n",
       "    <tr>\n",
       "      <th>2023-12-03</th>\n",
       "      <td>3028.600098</td>\n",
       "      <td>3039.689941</td>\n",
       "      <td>3010.232910</td>\n",
       "      <td>3031.635986</td>\n",
       "      <td>000001.SS</td>\n",
       "      <td>0.100241</td>\n",
       "    </tr>\n",
       "    <tr>\n",
       "      <th>2023-12-10</th>\n",
       "      <td>3033.298096</td>\n",
       "      <td>3038.979004</td>\n",
       "      <td>3022.347900</td>\n",
       "      <td>3022.914062</td>\n",
       "      <td>000001.SS</td>\n",
       "      <td>-0.342335</td>\n",
       "    </tr>\n",
       "    <tr>\n",
       "      <th>2023-12-03</th>\n",
       "      <td>843665.187500</td>\n",
       "      <td>872667.500000</td>\n",
       "      <td>766620.312500</td>\n",
       "      <td>870169.187500</td>\n",
       "      <td>^MERV</td>\n",
       "      <td>3.141531</td>\n",
       "    </tr>\n",
       "    <tr>\n",
       "      <th>2023-12-03</th>\n",
       "      <td>33520.390625</td>\n",
       "      <td>33551.570312</td>\n",
       "      <td>33161.070312</td>\n",
       "      <td>33431.511719</td>\n",
       "      <td>^N225</td>\n",
       "      <td>-0.265149</td>\n",
       "    </tr>\n",
       "    <tr>\n",
       "      <th>2023-12-10</th>\n",
       "      <td>33318.070312</td>\n",
       "      <td>33324.378906</td>\n",
       "      <td>33023.039062</td>\n",
       "      <td>33231.269531</td>\n",
       "      <td>^N225</td>\n",
       "      <td>-0.260522</td>\n",
       "    </tr>\n",
       "    <tr>\n",
       "      <th>2023-12-03</th>\n",
       "      <td>52184.121094</td>\n",
       "      <td>54165.808594</td>\n",
       "      <td>52172.558594</td>\n",
       "      <td>53901.429688</td>\n",
       "      <td>^MXX</td>\n",
       "      <td>3.290864</td>\n",
       "    </tr>\n",
       "    <tr>\n",
       "      <th>2023-12-03</th>\n",
       "      <td>19955.699219</td>\n",
       "      <td>20459.699219</td>\n",
       "      <td>19918.500000</td>\n",
       "      <td>20452.900391</td>\n",
       "      <td>^GSPTSE</td>\n",
       "      <td>2.491525</td>\n",
       "    </tr>\n",
       "    <tr>\n",
       "      <th>2023-12-03</th>\n",
       "      <td>1799.709961</td>\n",
       "      <td>1863.660034</td>\n",
       "      <td>1789.199951</td>\n",
       "      <td>1862.640015</td>\n",
       "      <td>^RUT</td>\n",
       "      <td>3.496678</td>\n",
       "    </tr>\n",
       "    <tr>\n",
       "      <th>2023-12-03</th>\n",
       "      <td>14224.629883</td>\n",
       "      <td>14423.219727</td>\n",
       "      <td>14127.049805</td>\n",
       "      <td>14305.030273</td>\n",
       "      <td>^IXIC</td>\n",
       "      <td>0.565220</td>\n",
       "    </tr>\n",
       "    <tr>\n",
       "      <th>2023-12-03</th>\n",
       "      <td>35332.128906</td>\n",
       "      <td>36264.851562</td>\n",
       "      <td>35307.730469</td>\n",
       "      <td>36245.500000</td>\n",
       "      <td>^DJI</td>\n",
       "      <td>2.585101</td>\n",
       "    </tr>\n",
       "    <tr>\n",
       "      <th>2023-12-03</th>\n",
       "      <td>4545.549805</td>\n",
       "      <td>4599.390137</td>\n",
       "      <td>4537.240234</td>\n",
       "      <td>4594.629883</td>\n",
       "      <td>^GSPC</td>\n",
       "      <td>1.079739</td>\n",
       "    </tr>\n",
       "    <tr>\n",
       "      <th>2023-12-03</th>\n",
       "      <td>125726.000000</td>\n",
       "      <td>128165.000000</td>\n",
       "      <td>125388.000000</td>\n",
       "      <td>128103.000000</td>\n",
       "      <td>^BVSP</td>\n",
       "      <td>1.890619</td>\n",
       "    </tr>\n",
       "  </tbody>\n",
       "</table>\n",
       "</div>"
      ],
      "text/plain": [
       "                     Open           High            Low          Close  \\\n",
       "Date                                                                     \n",
       "2023-12-03   37247.992188   40135.605469   36891.089844   39978.390625   \n",
       "2023-12-10   39978.628906   42371.750000   39978.628906   41980.097656   \n",
       "2023-12-03    3189.159912    3200.330078    3136.560059    3142.290039   \n",
       "2023-12-03    7230.740234    7360.100098    7213.740234    7346.149902   \n",
       "2023-12-03    7460.700195    7538.700195    7387.100098    7529.399902   \n",
       "2023-12-03   15939.190430   16399.060547   15915.400391   16397.519531   \n",
       "2023-12-03    1352.699951    1368.680054    1345.199951    1367.829956   \n",
       "2023-12-03   66063.718750   67564.328125   65906.648438   67481.187500   \n",
       "2023-12-03   17541.480469   17541.480469   16830.300781   16830.300781   \n",
       "2023-12-10   16919.080078   16941.910156   16617.029297   16646.050781   \n",
       "2023-12-03    9781.540039    9835.139648    9624.919922    9720.570312   \n",
       "2023-12-10    9715.469727    9736.110352    9660.440430    9660.440430   \n",
       "2023-12-03    3028.600098    3039.689941    3010.232910    3031.635986   \n",
       "2023-12-10    3033.298096    3038.979004    3022.347900    3022.914062   \n",
       "2023-12-03  843665.187500  872667.500000  766620.312500  870169.187500   \n",
       "2023-12-03   33520.390625   33551.570312   33161.070312   33431.511719   \n",
       "2023-12-10   33318.070312   33324.378906   33023.039062   33231.269531   \n",
       "2023-12-03   52184.121094   54165.808594   52172.558594   53901.429688   \n",
       "2023-12-03   19955.699219   20459.699219   19918.500000   20452.900391   \n",
       "2023-12-03    1799.709961    1863.660034    1789.199951    1862.640015   \n",
       "2023-12-03   14224.629883   14423.219727   14127.049805   14305.030273   \n",
       "2023-12-03   35332.128906   36264.851562   35307.730469   36245.500000   \n",
       "2023-12-03    4545.549805    4599.390137    4537.240234    4594.629883   \n",
       "2023-12-03  125726.000000  128165.000000  125388.000000  128103.000000   \n",
       "\n",
       "            Ticker_YF  Resultado_%  \n",
       "Date                                \n",
       "2023-12-03    BTC-USD     7.330324  \n",
       "2023-12-10    BTC-USD     5.006347  \n",
       "2023-12-03   IMOEX.ME    -1.469662  \n",
       "2023-12-03      ^FCHI     1.596098  \n",
       "2023-12-03      ^FTSE     0.920821  \n",
       "2023-12-03     ^GDAXI     2.875485  \n",
       "2023-12-03      ^N100     1.118504  \n",
       "2023-12-03     ^BSESN     2.145608  \n",
       "2023-12-03       ^HSI    -4.054274  \n",
       "2023-12-10       ^HSI    -1.613736  \n",
       "2023-12-03  399001.SZ    -0.623314  \n",
       "2023-12-10  399001.SZ    -0.566409  \n",
       "2023-12-03  000001.SS     0.100241  \n",
       "2023-12-10  000001.SS    -0.342335  \n",
       "2023-12-03      ^MERV     3.141531  \n",
       "2023-12-03      ^N225    -0.265149  \n",
       "2023-12-10      ^N225    -0.260522  \n",
       "2023-12-03       ^MXX     3.290864  \n",
       "2023-12-03    ^GSPTSE     2.491525  \n",
       "2023-12-03       ^RUT     3.496678  \n",
       "2023-12-03      ^IXIC     0.565220  \n",
       "2023-12-03       ^DJI     2.585101  \n",
       "2023-12-03      ^GSPC     1.079739  \n",
       "2023-12-03      ^BVSP     1.890619  "
      ]
     },
     "execution_count": 73,
     "metadata": {},
     "output_type": "execute_result"
    }
   ],
   "source": [
    "world_ohlcv"
   ]
  },
  {
   "cell_type": "code",
   "execution_count": 74,
   "metadata": {},
   "outputs": [
    {
     "data": {
      "text/html": [
       "<div>\n",
       "<style scoped>\n",
       "    .dataframe tbody tr th:only-of-type {\n",
       "        vertical-align: middle;\n",
       "    }\n",
       "\n",
       "    .dataframe tbody tr th {\n",
       "        vertical-align: top;\n",
       "    }\n",
       "\n",
       "    .dataframe thead th {\n",
       "        text-align: right;\n",
       "    }\n",
       "</style>\n",
       "<table border=\"1\" class=\"dataframe\">\n",
       "  <thead>\n",
       "    <tr style=\"text-align: right;\">\n",
       "      <th></th>\n",
       "      <th>Open</th>\n",
       "      <th>High</th>\n",
       "      <th>Low</th>\n",
       "      <th>Close</th>\n",
       "      <th>Ticker_YF</th>\n",
       "      <th>Resultado_%</th>\n",
       "      <th>Índice</th>\n",
       "      <th>Country</th>\n",
       "    </tr>\n",
       "  </thead>\n",
       "  <tbody>\n",
       "    <tr>\n",
       "      <th>0</th>\n",
       "      <td>37247.992188</td>\n",
       "      <td>40135.605469</td>\n",
       "      <td>36891.089844</td>\n",
       "      <td>39978.390625</td>\n",
       "      <td>BTC-USD</td>\n",
       "      <td>7.330324</td>\n",
       "      <td>Bitcoin USD (BTC-USD)</td>\n",
       "      <td>EUA</td>\n",
       "    </tr>\n",
       "    <tr>\n",
       "      <th>1</th>\n",
       "      <td>39978.628906</td>\n",
       "      <td>42371.750000</td>\n",
       "      <td>39978.628906</td>\n",
       "      <td>41980.097656</td>\n",
       "      <td>BTC-USD</td>\n",
       "      <td>5.006347</td>\n",
       "      <td>Bitcoin USD (BTC-USD)</td>\n",
       "      <td>EUA</td>\n",
       "    </tr>\n",
       "    <tr>\n",
       "      <th>2</th>\n",
       "      <td>3189.159912</td>\n",
       "      <td>3200.330078</td>\n",
       "      <td>3136.560059</td>\n",
       "      <td>3142.290039</td>\n",
       "      <td>IMOEX.ME</td>\n",
       "      <td>-1.469662</td>\n",
       "      <td>MOEX Russia (IMOEX)</td>\n",
       "      <td>Russia</td>\n",
       "    </tr>\n",
       "    <tr>\n",
       "      <th>3</th>\n",
       "      <td>7230.740234</td>\n",
       "      <td>7360.100098</td>\n",
       "      <td>7213.740234</td>\n",
       "      <td>7346.149902</td>\n",
       "      <td>^FCHI</td>\n",
       "      <td>1.596098</td>\n",
       "      <td>CAC 40 (FCHI)</td>\n",
       "      <td>França</td>\n",
       "    </tr>\n",
       "    <tr>\n",
       "      <th>4</th>\n",
       "      <td>7460.700195</td>\n",
       "      <td>7538.700195</td>\n",
       "      <td>7387.100098</td>\n",
       "      <td>7529.399902</td>\n",
       "      <td>^FTSE</td>\n",
       "      <td>0.920821</td>\n",
       "      <td>FTSE 100 (UK100)</td>\n",
       "      <td>UK</td>\n",
       "    </tr>\n",
       "    <tr>\n",
       "      <th>5</th>\n",
       "      <td>15939.190430</td>\n",
       "      <td>16399.060547</td>\n",
       "      <td>15915.400391</td>\n",
       "      <td>16397.519531</td>\n",
       "      <td>^GDAXI</td>\n",
       "      <td>2.875485</td>\n",
       "      <td>DAX (DE30)</td>\n",
       "      <td>Alemanha</td>\n",
       "    </tr>\n",
       "    <tr>\n",
       "      <th>6</th>\n",
       "      <td>1352.699951</td>\n",
       "      <td>1368.680054</td>\n",
       "      <td>1345.199951</td>\n",
       "      <td>1367.829956</td>\n",
       "      <td>^N100</td>\n",
       "      <td>1.118504</td>\n",
       "      <td>EuroNext 100 (N100)</td>\n",
       "      <td>Zona Euro</td>\n",
       "    </tr>\n",
       "    <tr>\n",
       "      <th>7</th>\n",
       "      <td>66063.718750</td>\n",
       "      <td>67564.328125</td>\n",
       "      <td>65906.648438</td>\n",
       "      <td>67481.187500</td>\n",
       "      <td>^BSESN</td>\n",
       "      <td>2.145608</td>\n",
       "      <td>BSE Sensex 30 (BSESN)</td>\n",
       "      <td>India</td>\n",
       "    </tr>\n",
       "    <tr>\n",
       "      <th>8</th>\n",
       "      <td>17541.480469</td>\n",
       "      <td>17541.480469</td>\n",
       "      <td>16830.300781</td>\n",
       "      <td>16830.300781</td>\n",
       "      <td>^HSI</td>\n",
       "      <td>-4.054274</td>\n",
       "      <td>Hang Seng (HK50)</td>\n",
       "      <td>Hong Kong</td>\n",
       "    </tr>\n",
       "    <tr>\n",
       "      <th>9</th>\n",
       "      <td>16919.080078</td>\n",
       "      <td>16941.910156</td>\n",
       "      <td>16617.029297</td>\n",
       "      <td>16646.050781</td>\n",
       "      <td>^HSI</td>\n",
       "      <td>-1.613736</td>\n",
       "      <td>Hang Seng (HK50)</td>\n",
       "      <td>Hong Kong</td>\n",
       "    </tr>\n",
       "    <tr>\n",
       "      <th>10</th>\n",
       "      <td>9781.540039</td>\n",
       "      <td>9835.139648</td>\n",
       "      <td>9624.919922</td>\n",
       "      <td>9720.570312</td>\n",
       "      <td>399001.SZ</td>\n",
       "      <td>-0.623314</td>\n",
       "      <td>SZSE Component (SZI)</td>\n",
       "      <td>China</td>\n",
       "    </tr>\n",
       "    <tr>\n",
       "      <th>11</th>\n",
       "      <td>9715.469727</td>\n",
       "      <td>9736.110352</td>\n",
       "      <td>9660.440430</td>\n",
       "      <td>9660.440430</td>\n",
       "      <td>399001.SZ</td>\n",
       "      <td>-0.566409</td>\n",
       "      <td>SZSE Component (SZI)</td>\n",
       "      <td>China</td>\n",
       "    </tr>\n",
       "    <tr>\n",
       "      <th>12</th>\n",
       "      <td>3028.600098</td>\n",
       "      <td>3039.689941</td>\n",
       "      <td>3010.232910</td>\n",
       "      <td>3031.635986</td>\n",
       "      <td>000001.SS</td>\n",
       "      <td>0.100241</td>\n",
       "      <td>Shangai Composite (SSEC)</td>\n",
       "      <td>China</td>\n",
       "    </tr>\n",
       "    <tr>\n",
       "      <th>13</th>\n",
       "      <td>3033.298096</td>\n",
       "      <td>3038.979004</td>\n",
       "      <td>3022.347900</td>\n",
       "      <td>3022.914062</td>\n",
       "      <td>000001.SS</td>\n",
       "      <td>-0.342335</td>\n",
       "      <td>Shangai Composite (SSEC)</td>\n",
       "      <td>China</td>\n",
       "    </tr>\n",
       "    <tr>\n",
       "      <th>14</th>\n",
       "      <td>843665.187500</td>\n",
       "      <td>872667.500000</td>\n",
       "      <td>766620.312500</td>\n",
       "      <td>870169.187500</td>\n",
       "      <td>^MERV</td>\n",
       "      <td>3.141531</td>\n",
       "      <td>S&amp;P Merval (MERV)</td>\n",
       "      <td>Argentina</td>\n",
       "    </tr>\n",
       "    <tr>\n",
       "      <th>15</th>\n",
       "      <td>33520.390625</td>\n",
       "      <td>33551.570312</td>\n",
       "      <td>33161.070312</td>\n",
       "      <td>33431.511719</td>\n",
       "      <td>^N225</td>\n",
       "      <td>-0.265149</td>\n",
       "      <td>Nikkei 225 (NIKKEI)</td>\n",
       "      <td>Japão</td>\n",
       "    </tr>\n",
       "    <tr>\n",
       "      <th>16</th>\n",
       "      <td>33318.070312</td>\n",
       "      <td>33324.378906</td>\n",
       "      <td>33023.039062</td>\n",
       "      <td>33231.269531</td>\n",
       "      <td>^N225</td>\n",
       "      <td>-0.260522</td>\n",
       "      <td>Nikkei 225 (NIKKEI)</td>\n",
       "      <td>Japão</td>\n",
       "    </tr>\n",
       "    <tr>\n",
       "      <th>17</th>\n",
       "      <td>52184.121094</td>\n",
       "      <td>54165.808594</td>\n",
       "      <td>52172.558594</td>\n",
       "      <td>53901.429688</td>\n",
       "      <td>^MXX</td>\n",
       "      <td>3.290864</td>\n",
       "      <td>S&amp;P/BMV IPC (MXX)</td>\n",
       "      <td>Mexico</td>\n",
       "    </tr>\n",
       "    <tr>\n",
       "      <th>18</th>\n",
       "      <td>19955.699219</td>\n",
       "      <td>20459.699219</td>\n",
       "      <td>19918.500000</td>\n",
       "      <td>20452.900391</td>\n",
       "      <td>^GSPTSE</td>\n",
       "      <td>2.491525</td>\n",
       "      <td>S&amp;P/TSX Composite (GSPTSE)</td>\n",
       "      <td>Canada</td>\n",
       "    </tr>\n",
       "    <tr>\n",
       "      <th>19</th>\n",
       "      <td>1799.709961</td>\n",
       "      <td>1863.660034</td>\n",
       "      <td>1789.199951</td>\n",
       "      <td>1862.640015</td>\n",
       "      <td>^RUT</td>\n",
       "      <td>3.496678</td>\n",
       "      <td>Russell 2000 (RUT)</td>\n",
       "      <td>EUA</td>\n",
       "    </tr>\n",
       "    <tr>\n",
       "      <th>20</th>\n",
       "      <td>14224.629883</td>\n",
       "      <td>14423.219727</td>\n",
       "      <td>14127.049805</td>\n",
       "      <td>14305.030273</td>\n",
       "      <td>^IXIC</td>\n",
       "      <td>0.565220</td>\n",
       "      <td>NASDAQ Composite (IXIC)</td>\n",
       "      <td>EUA</td>\n",
       "    </tr>\n",
       "    <tr>\n",
       "      <th>21</th>\n",
       "      <td>35332.128906</td>\n",
       "      <td>36264.851562</td>\n",
       "      <td>35307.730469</td>\n",
       "      <td>36245.500000</td>\n",
       "      <td>^DJI</td>\n",
       "      <td>2.585101</td>\n",
       "      <td>Dow Jones 30 (DJI)</td>\n",
       "      <td>EUA</td>\n",
       "    </tr>\n",
       "    <tr>\n",
       "      <th>22</th>\n",
       "      <td>4545.549805</td>\n",
       "      <td>4599.390137</td>\n",
       "      <td>4537.240234</td>\n",
       "      <td>4594.629883</td>\n",
       "      <td>^GSPC</td>\n",
       "      <td>1.079739</td>\n",
       "      <td>S&amp;P 500 (GSPC)</td>\n",
       "      <td>EUA</td>\n",
       "    </tr>\n",
       "    <tr>\n",
       "      <th>23</th>\n",
       "      <td>125726.000000</td>\n",
       "      <td>128165.000000</td>\n",
       "      <td>125388.000000</td>\n",
       "      <td>128103.000000</td>\n",
       "      <td>^BVSP</td>\n",
       "      <td>1.890619</td>\n",
       "      <td>Bovespa (BVSP)</td>\n",
       "      <td>Brasil</td>\n",
       "    </tr>\n",
       "  </tbody>\n",
       "</table>\n",
       "</div>"
      ],
      "text/plain": [
       "             Open           High            Low          Close  Ticker_YF  \\\n",
       "0    37247.992188   40135.605469   36891.089844   39978.390625    BTC-USD   \n",
       "1    39978.628906   42371.750000   39978.628906   41980.097656    BTC-USD   \n",
       "2     3189.159912    3200.330078    3136.560059    3142.290039   IMOEX.ME   \n",
       "3     7230.740234    7360.100098    7213.740234    7346.149902      ^FCHI   \n",
       "4     7460.700195    7538.700195    7387.100098    7529.399902      ^FTSE   \n",
       "5    15939.190430   16399.060547   15915.400391   16397.519531     ^GDAXI   \n",
       "6     1352.699951    1368.680054    1345.199951    1367.829956      ^N100   \n",
       "7    66063.718750   67564.328125   65906.648438   67481.187500     ^BSESN   \n",
       "8    17541.480469   17541.480469   16830.300781   16830.300781       ^HSI   \n",
       "9    16919.080078   16941.910156   16617.029297   16646.050781       ^HSI   \n",
       "10    9781.540039    9835.139648    9624.919922    9720.570312  399001.SZ   \n",
       "11    9715.469727    9736.110352    9660.440430    9660.440430  399001.SZ   \n",
       "12    3028.600098    3039.689941    3010.232910    3031.635986  000001.SS   \n",
       "13    3033.298096    3038.979004    3022.347900    3022.914062  000001.SS   \n",
       "14  843665.187500  872667.500000  766620.312500  870169.187500      ^MERV   \n",
       "15   33520.390625   33551.570312   33161.070312   33431.511719      ^N225   \n",
       "16   33318.070312   33324.378906   33023.039062   33231.269531      ^N225   \n",
       "17   52184.121094   54165.808594   52172.558594   53901.429688       ^MXX   \n",
       "18   19955.699219   20459.699219   19918.500000   20452.900391    ^GSPTSE   \n",
       "19    1799.709961    1863.660034    1789.199951    1862.640015       ^RUT   \n",
       "20   14224.629883   14423.219727   14127.049805   14305.030273      ^IXIC   \n",
       "21   35332.128906   36264.851562   35307.730469   36245.500000       ^DJI   \n",
       "22    4545.549805    4599.390137    4537.240234    4594.629883      ^GSPC   \n",
       "23  125726.000000  128165.000000  125388.000000  128103.000000      ^BVSP   \n",
       "\n",
       "    Resultado_%                      Índice    Country  \n",
       "0      7.330324       Bitcoin USD (BTC-USD)        EUA  \n",
       "1      5.006347       Bitcoin USD (BTC-USD)        EUA  \n",
       "2     -1.469662         MOEX Russia (IMOEX)     Russia  \n",
       "3      1.596098               CAC 40 (FCHI)     França  \n",
       "4      0.920821            FTSE 100 (UK100)         UK  \n",
       "5      2.875485                  DAX (DE30)   Alemanha  \n",
       "6      1.118504         EuroNext 100 (N100)  Zona Euro  \n",
       "7      2.145608       BSE Sensex 30 (BSESN)      India  \n",
       "8     -4.054274            Hang Seng (HK50)  Hong Kong  \n",
       "9     -1.613736            Hang Seng (HK50)  Hong Kong  \n",
       "10    -0.623314        SZSE Component (SZI)      China  \n",
       "11    -0.566409        SZSE Component (SZI)      China  \n",
       "12     0.100241    Shangai Composite (SSEC)      China  \n",
       "13    -0.342335    Shangai Composite (SSEC)      China  \n",
       "14     3.141531           S&P Merval (MERV)  Argentina  \n",
       "15    -0.265149         Nikkei 225 (NIKKEI)      Japão  \n",
       "16    -0.260522         Nikkei 225 (NIKKEI)      Japão  \n",
       "17     3.290864           S&P/BMV IPC (MXX)     Mexico  \n",
       "18     2.491525  S&P/TSX Composite (GSPTSE)     Canada  \n",
       "19     3.496678          Russell 2000 (RUT)        EUA  \n",
       "20     0.565220     NASDAQ Composite (IXIC)        EUA  \n",
       "21     2.585101          Dow Jones 30 (DJI)        EUA  \n",
       "22     1.079739              S&P 500 (GSPC)        EUA  \n",
       "23     1.890619              Bovespa (BVSP)     Brasil  "
      ]
     },
     "execution_count": 74,
     "metadata": {},
     "output_type": "execute_result"
    }
   ],
   "source": [
    "world_indices_result = pd.merge(world_ohlcv, df_yf_world_indices, on=\"Ticker_YF\", how=\"outer\")\n",
    "world_indices_result"
   ]
  },
  {
   "cell_type": "code",
   "execution_count": 75,
   "metadata": {},
   "outputs": [
    {
     "data": {
      "text/html": [
       "<div>\n",
       "<style scoped>\n",
       "    .dataframe tbody tr th:only-of-type {\n",
       "        vertical-align: middle;\n",
       "    }\n",
       "\n",
       "    .dataframe tbody tr th {\n",
       "        vertical-align: top;\n",
       "    }\n",
       "\n",
       "    .dataframe thead th {\n",
       "        text-align: right;\n",
       "    }\n",
       "</style>\n",
       "<table border=\"1\" class=\"dataframe\">\n",
       "  <thead>\n",
       "    <tr style=\"text-align: right;\">\n",
       "      <th></th>\n",
       "      <th>Open</th>\n",
       "      <th>High</th>\n",
       "      <th>Low</th>\n",
       "      <th>Close</th>\n",
       "      <th>Ticker_YF</th>\n",
       "      <th>Resultado_%</th>\n",
       "      <th>Índice</th>\n",
       "      <th>Country</th>\n",
       "    </tr>\n",
       "  </thead>\n",
       "  <tbody>\n",
       "    <tr>\n",
       "      <th>0</th>\n",
       "      <td>37247.992188</td>\n",
       "      <td>40135.605469</td>\n",
       "      <td>36891.089844</td>\n",
       "      <td>39978.390625</td>\n",
       "      <td>BTC-USD</td>\n",
       "      <td>7.330324</td>\n",
       "      <td>Bitcoin USD (BTC-USD)</td>\n",
       "      <td>EUA</td>\n",
       "    </tr>\n",
       "    <tr>\n",
       "      <th>1</th>\n",
       "      <td>39978.628906</td>\n",
       "      <td>42371.750000</td>\n",
       "      <td>39978.628906</td>\n",
       "      <td>41980.097656</td>\n",
       "      <td>BTC-USD</td>\n",
       "      <td>5.006347</td>\n",
       "      <td>Bitcoin USD (BTC-USD)</td>\n",
       "      <td>EUA</td>\n",
       "    </tr>\n",
       "    <tr>\n",
       "      <th>2</th>\n",
       "      <td>3189.159912</td>\n",
       "      <td>3200.330078</td>\n",
       "      <td>3136.560059</td>\n",
       "      <td>3142.290039</td>\n",
       "      <td>IMOEX.ME</td>\n",
       "      <td>-1.469662</td>\n",
       "      <td>MOEX Russia (IMOEX)</td>\n",
       "      <td>Russia</td>\n",
       "    </tr>\n",
       "    <tr>\n",
       "      <th>3</th>\n",
       "      <td>7230.740234</td>\n",
       "      <td>7360.100098</td>\n",
       "      <td>7213.740234</td>\n",
       "      <td>7346.149902</td>\n",
       "      <td>^FCHI</td>\n",
       "      <td>1.596098</td>\n",
       "      <td>CAC 40 (FCHI)</td>\n",
       "      <td>França</td>\n",
       "    </tr>\n",
       "    <tr>\n",
       "      <th>4</th>\n",
       "      <td>7460.700195</td>\n",
       "      <td>7538.700195</td>\n",
       "      <td>7387.100098</td>\n",
       "      <td>7529.399902</td>\n",
       "      <td>^FTSE</td>\n",
       "      <td>0.920821</td>\n",
       "      <td>FTSE 100 (UK100)</td>\n",
       "      <td>UK</td>\n",
       "    </tr>\n",
       "    <tr>\n",
       "      <th>5</th>\n",
       "      <td>15939.190430</td>\n",
       "      <td>16399.060547</td>\n",
       "      <td>15915.400391</td>\n",
       "      <td>16397.519531</td>\n",
       "      <td>^GDAXI</td>\n",
       "      <td>2.875485</td>\n",
       "      <td>DAX (DE30)</td>\n",
       "      <td>Alemanha</td>\n",
       "    </tr>\n",
       "    <tr>\n",
       "      <th>6</th>\n",
       "      <td>1352.699951</td>\n",
       "      <td>1368.680054</td>\n",
       "      <td>1345.199951</td>\n",
       "      <td>1367.829956</td>\n",
       "      <td>^N100</td>\n",
       "      <td>1.118504</td>\n",
       "      <td>EuroNext 100 (N100)</td>\n",
       "      <td>Zona Euro</td>\n",
       "    </tr>\n",
       "    <tr>\n",
       "      <th>7</th>\n",
       "      <td>66063.718750</td>\n",
       "      <td>67564.328125</td>\n",
       "      <td>65906.648438</td>\n",
       "      <td>67481.187500</td>\n",
       "      <td>^BSESN</td>\n",
       "      <td>2.145608</td>\n",
       "      <td>BSE Sensex 30 (BSESN)</td>\n",
       "      <td>India</td>\n",
       "    </tr>\n",
       "    <tr>\n",
       "      <th>8</th>\n",
       "      <td>17541.480469</td>\n",
       "      <td>17541.480469</td>\n",
       "      <td>16830.300781</td>\n",
       "      <td>16830.300781</td>\n",
       "      <td>^HSI</td>\n",
       "      <td>-4.054274</td>\n",
       "      <td>Hang Seng (HK50)</td>\n",
       "      <td>Hong Kong</td>\n",
       "    </tr>\n",
       "    <tr>\n",
       "      <th>9</th>\n",
       "      <td>16919.080078</td>\n",
       "      <td>16941.910156</td>\n",
       "      <td>16617.029297</td>\n",
       "      <td>16646.050781</td>\n",
       "      <td>^HSI</td>\n",
       "      <td>-1.613736</td>\n",
       "      <td>Hang Seng (HK50)</td>\n",
       "      <td>Hong Kong</td>\n",
       "    </tr>\n",
       "    <tr>\n",
       "      <th>10</th>\n",
       "      <td>9781.540039</td>\n",
       "      <td>9835.139648</td>\n",
       "      <td>9624.919922</td>\n",
       "      <td>9720.570312</td>\n",
       "      <td>399001.SZ</td>\n",
       "      <td>-0.623314</td>\n",
       "      <td>SZSE Component (SZI)</td>\n",
       "      <td>China</td>\n",
       "    </tr>\n",
       "    <tr>\n",
       "      <th>11</th>\n",
       "      <td>9715.469727</td>\n",
       "      <td>9736.110352</td>\n",
       "      <td>9660.440430</td>\n",
       "      <td>9660.440430</td>\n",
       "      <td>399001.SZ</td>\n",
       "      <td>-0.566409</td>\n",
       "      <td>SZSE Component (SZI)</td>\n",
       "      <td>China</td>\n",
       "    </tr>\n",
       "    <tr>\n",
       "      <th>12</th>\n",
       "      <td>3028.600098</td>\n",
       "      <td>3039.689941</td>\n",
       "      <td>3010.232910</td>\n",
       "      <td>3031.635986</td>\n",
       "      <td>000001.SS</td>\n",
       "      <td>0.100241</td>\n",
       "      <td>Shangai Composite (SSEC)</td>\n",
       "      <td>China</td>\n",
       "    </tr>\n",
       "    <tr>\n",
       "      <th>13</th>\n",
       "      <td>3033.298096</td>\n",
       "      <td>3038.979004</td>\n",
       "      <td>3022.347900</td>\n",
       "      <td>3022.914062</td>\n",
       "      <td>000001.SS</td>\n",
       "      <td>-0.342335</td>\n",
       "      <td>Shangai Composite (SSEC)</td>\n",
       "      <td>China</td>\n",
       "    </tr>\n",
       "    <tr>\n",
       "      <th>14</th>\n",
       "      <td>843665.187500</td>\n",
       "      <td>872667.500000</td>\n",
       "      <td>766620.312500</td>\n",
       "      <td>870169.187500</td>\n",
       "      <td>^MERV</td>\n",
       "      <td>3.141531</td>\n",
       "      <td>S&amp;P Merval (MERV)</td>\n",
       "      <td>Argentina</td>\n",
       "    </tr>\n",
       "    <tr>\n",
       "      <th>15</th>\n",
       "      <td>33520.390625</td>\n",
       "      <td>33551.570312</td>\n",
       "      <td>33161.070312</td>\n",
       "      <td>33431.511719</td>\n",
       "      <td>^N225</td>\n",
       "      <td>-0.265149</td>\n",
       "      <td>Nikkei 225 (NIKKEI)</td>\n",
       "      <td>Japão</td>\n",
       "    </tr>\n",
       "    <tr>\n",
       "      <th>16</th>\n",
       "      <td>33318.070312</td>\n",
       "      <td>33324.378906</td>\n",
       "      <td>33023.039062</td>\n",
       "      <td>33231.269531</td>\n",
       "      <td>^N225</td>\n",
       "      <td>-0.260522</td>\n",
       "      <td>Nikkei 225 (NIKKEI)</td>\n",
       "      <td>Japão</td>\n",
       "    </tr>\n",
       "    <tr>\n",
       "      <th>17</th>\n",
       "      <td>52184.121094</td>\n",
       "      <td>54165.808594</td>\n",
       "      <td>52172.558594</td>\n",
       "      <td>53901.429688</td>\n",
       "      <td>^MXX</td>\n",
       "      <td>3.290864</td>\n",
       "      <td>S&amp;P/BMV IPC (MXX)</td>\n",
       "      <td>Mexico</td>\n",
       "    </tr>\n",
       "    <tr>\n",
       "      <th>18</th>\n",
       "      <td>19955.699219</td>\n",
       "      <td>20459.699219</td>\n",
       "      <td>19918.500000</td>\n",
       "      <td>20452.900391</td>\n",
       "      <td>^GSPTSE</td>\n",
       "      <td>2.491525</td>\n",
       "      <td>S&amp;P/TSX Composite (GSPTSE)</td>\n",
       "      <td>Canada</td>\n",
       "    </tr>\n",
       "    <tr>\n",
       "      <th>19</th>\n",
       "      <td>1799.709961</td>\n",
       "      <td>1863.660034</td>\n",
       "      <td>1789.199951</td>\n",
       "      <td>1862.640015</td>\n",
       "      <td>^RUT</td>\n",
       "      <td>3.496678</td>\n",
       "      <td>Russell 2000 (RUT)</td>\n",
       "      <td>EUA</td>\n",
       "    </tr>\n",
       "    <tr>\n",
       "      <th>20</th>\n",
       "      <td>14224.629883</td>\n",
       "      <td>14423.219727</td>\n",
       "      <td>14127.049805</td>\n",
       "      <td>14305.030273</td>\n",
       "      <td>^IXIC</td>\n",
       "      <td>0.565220</td>\n",
       "      <td>NASDAQ Composite (IXIC)</td>\n",
       "      <td>EUA</td>\n",
       "    </tr>\n",
       "    <tr>\n",
       "      <th>21</th>\n",
       "      <td>35332.128906</td>\n",
       "      <td>36264.851562</td>\n",
       "      <td>35307.730469</td>\n",
       "      <td>36245.500000</td>\n",
       "      <td>^DJI</td>\n",
       "      <td>2.585101</td>\n",
       "      <td>Dow Jones 30 (DJI)</td>\n",
       "      <td>EUA</td>\n",
       "    </tr>\n",
       "    <tr>\n",
       "      <th>22</th>\n",
       "      <td>4545.549805</td>\n",
       "      <td>4599.390137</td>\n",
       "      <td>4537.240234</td>\n",
       "      <td>4594.629883</td>\n",
       "      <td>^GSPC</td>\n",
       "      <td>1.079739</td>\n",
       "      <td>S&amp;P 500 (GSPC)</td>\n",
       "      <td>EUA</td>\n",
       "    </tr>\n",
       "    <tr>\n",
       "      <th>23</th>\n",
       "      <td>125726.000000</td>\n",
       "      <td>128165.000000</td>\n",
       "      <td>125388.000000</td>\n",
       "      <td>128103.000000</td>\n",
       "      <td>^BVSP</td>\n",
       "      <td>1.890619</td>\n",
       "      <td>Bovespa (BVSP)</td>\n",
       "      <td>Brasil</td>\n",
       "    </tr>\n",
       "  </tbody>\n",
       "</table>\n",
       "</div>"
      ],
      "text/plain": [
       "             Open           High            Low          Close  Ticker_YF  \\\n",
       "0    37247.992188   40135.605469   36891.089844   39978.390625    BTC-USD   \n",
       "1    39978.628906   42371.750000   39978.628906   41980.097656    BTC-USD   \n",
       "2     3189.159912    3200.330078    3136.560059    3142.290039   IMOEX.ME   \n",
       "3     7230.740234    7360.100098    7213.740234    7346.149902      ^FCHI   \n",
       "4     7460.700195    7538.700195    7387.100098    7529.399902      ^FTSE   \n",
       "5    15939.190430   16399.060547   15915.400391   16397.519531     ^GDAXI   \n",
       "6     1352.699951    1368.680054    1345.199951    1367.829956      ^N100   \n",
       "7    66063.718750   67564.328125   65906.648438   67481.187500     ^BSESN   \n",
       "8    17541.480469   17541.480469   16830.300781   16830.300781       ^HSI   \n",
       "9    16919.080078   16941.910156   16617.029297   16646.050781       ^HSI   \n",
       "10    9781.540039    9835.139648    9624.919922    9720.570312  399001.SZ   \n",
       "11    9715.469727    9736.110352    9660.440430    9660.440430  399001.SZ   \n",
       "12    3028.600098    3039.689941    3010.232910    3031.635986  000001.SS   \n",
       "13    3033.298096    3038.979004    3022.347900    3022.914062  000001.SS   \n",
       "14  843665.187500  872667.500000  766620.312500  870169.187500      ^MERV   \n",
       "15   33520.390625   33551.570312   33161.070312   33431.511719      ^N225   \n",
       "16   33318.070312   33324.378906   33023.039062   33231.269531      ^N225   \n",
       "17   52184.121094   54165.808594   52172.558594   53901.429688       ^MXX   \n",
       "18   19955.699219   20459.699219   19918.500000   20452.900391    ^GSPTSE   \n",
       "19    1799.709961    1863.660034    1789.199951    1862.640015       ^RUT   \n",
       "20   14224.629883   14423.219727   14127.049805   14305.030273      ^IXIC   \n",
       "21   35332.128906   36264.851562   35307.730469   36245.500000       ^DJI   \n",
       "22    4545.549805    4599.390137    4537.240234    4594.629883      ^GSPC   \n",
       "23  125726.000000  128165.000000  125388.000000  128103.000000      ^BVSP   \n",
       "\n",
       "    Resultado_%                      Índice    Country  \n",
       "0      7.330324       Bitcoin USD (BTC-USD)        EUA  \n",
       "1      5.006347       Bitcoin USD (BTC-USD)        EUA  \n",
       "2     -1.469662         MOEX Russia (IMOEX)     Russia  \n",
       "3      1.596098               CAC 40 (FCHI)     França  \n",
       "4      0.920821            FTSE 100 (UK100)         UK  \n",
       "5      2.875485                  DAX (DE30)   Alemanha  \n",
       "6      1.118504         EuroNext 100 (N100)  Zona Euro  \n",
       "7      2.145608       BSE Sensex 30 (BSESN)      India  \n",
       "8     -4.054274            Hang Seng (HK50)  Hong Kong  \n",
       "9     -1.613736            Hang Seng (HK50)  Hong Kong  \n",
       "10    -0.623314        SZSE Component (SZI)      China  \n",
       "11    -0.566409        SZSE Component (SZI)      China  \n",
       "12     0.100241    Shangai Composite (SSEC)      China  \n",
       "13    -0.342335    Shangai Composite (SSEC)      China  \n",
       "14     3.141531           S&P Merval (MERV)  Argentina  \n",
       "15    -0.265149         Nikkei 225 (NIKKEI)      Japão  \n",
       "16    -0.260522         Nikkei 225 (NIKKEI)      Japão  \n",
       "17     3.290864           S&P/BMV IPC (MXX)     Mexico  \n",
       "18     2.491525  S&P/TSX Composite (GSPTSE)     Canada  \n",
       "19     3.496678          Russell 2000 (RUT)        EUA  \n",
       "20     0.565220     NASDAQ Composite (IXIC)        EUA  \n",
       "21     2.585101          Dow Jones 30 (DJI)        EUA  \n",
       "22     1.079739              S&P 500 (GSPC)        EUA  \n",
       "23     1.890619              Bovespa (BVSP)     Brasil  "
      ]
     },
     "execution_count": 75,
     "metadata": {},
     "output_type": "execute_result"
    }
   ],
   "source": [
    "world_indices_result = world_indices_result.dropna()\n",
    "world_indices_result\n"
   ]
  },
  {
   "cell_type": "markdown",
   "metadata": {},
   "source": [
    "### 3.2 Figura dos resutlados"
   ]
  },
  {
   "cell_type": "code",
   "execution_count": 76,
   "metadata": {},
   "outputs": [
    {
     "data": {
      "text/html": [
       "<div>\n",
       "<style scoped>\n",
       "    .dataframe tbody tr th:only-of-type {\n",
       "        vertical-align: middle;\n",
       "    }\n",
       "\n",
       "    .dataframe tbody tr th {\n",
       "        vertical-align: top;\n",
       "    }\n",
       "\n",
       "    .dataframe thead th {\n",
       "        text-align: right;\n",
       "    }\n",
       "</style>\n",
       "<table border=\"1\" class=\"dataframe\">\n",
       "  <thead>\n",
       "    <tr style=\"text-align: right;\">\n",
       "      <th></th>\n",
       "      <th>Open</th>\n",
       "      <th>High</th>\n",
       "      <th>Low</th>\n",
       "      <th>Close</th>\n",
       "      <th>Ticker_YF</th>\n",
       "      <th>Resultado_%</th>\n",
       "      <th>Índice</th>\n",
       "      <th>Country</th>\n",
       "      <th>Color</th>\n",
       "    </tr>\n",
       "  </thead>\n",
       "  <tbody>\n",
       "    <tr>\n",
       "      <th>0</th>\n",
       "      <td>37247.992188</td>\n",
       "      <td>40135.605469</td>\n",
       "      <td>36891.089844</td>\n",
       "      <td>39978.390625</td>\n",
       "      <td>BTC-USD</td>\n",
       "      <td>7.330324</td>\n",
       "      <td>Bitcoin USD (BTC-USD)</td>\n",
       "      <td>EUA</td>\n",
       "      <td>green</td>\n",
       "    </tr>\n",
       "    <tr>\n",
       "      <th>1</th>\n",
       "      <td>39978.628906</td>\n",
       "      <td>42371.750000</td>\n",
       "      <td>39978.628906</td>\n",
       "      <td>41980.097656</td>\n",
       "      <td>BTC-USD</td>\n",
       "      <td>5.006347</td>\n",
       "      <td>Bitcoin USD (BTC-USD)</td>\n",
       "      <td>EUA</td>\n",
       "      <td>green</td>\n",
       "    </tr>\n",
       "    <tr>\n",
       "      <th>19</th>\n",
       "      <td>1799.709961</td>\n",
       "      <td>1863.660034</td>\n",
       "      <td>1789.199951</td>\n",
       "      <td>1862.640015</td>\n",
       "      <td>^RUT</td>\n",
       "      <td>3.496678</td>\n",
       "      <td>Russell 2000 (RUT)</td>\n",
       "      <td>EUA</td>\n",
       "      <td>green</td>\n",
       "    </tr>\n",
       "    <tr>\n",
       "      <th>17</th>\n",
       "      <td>52184.121094</td>\n",
       "      <td>54165.808594</td>\n",
       "      <td>52172.558594</td>\n",
       "      <td>53901.429688</td>\n",
       "      <td>^MXX</td>\n",
       "      <td>3.290864</td>\n",
       "      <td>S&amp;P/BMV IPC (MXX)</td>\n",
       "      <td>Mexico</td>\n",
       "      <td>green</td>\n",
       "    </tr>\n",
       "    <tr>\n",
       "      <th>14</th>\n",
       "      <td>843665.187500</td>\n",
       "      <td>872667.500000</td>\n",
       "      <td>766620.312500</td>\n",
       "      <td>870169.187500</td>\n",
       "      <td>^MERV</td>\n",
       "      <td>3.141531</td>\n",
       "      <td>S&amp;P Merval (MERV)</td>\n",
       "      <td>Argentina</td>\n",
       "      <td>green</td>\n",
       "    </tr>\n",
       "    <tr>\n",
       "      <th>5</th>\n",
       "      <td>15939.190430</td>\n",
       "      <td>16399.060547</td>\n",
       "      <td>15915.400391</td>\n",
       "      <td>16397.519531</td>\n",
       "      <td>^GDAXI</td>\n",
       "      <td>2.875485</td>\n",
       "      <td>DAX (DE30)</td>\n",
       "      <td>Alemanha</td>\n",
       "      <td>green</td>\n",
       "    </tr>\n",
       "    <tr>\n",
       "      <th>21</th>\n",
       "      <td>35332.128906</td>\n",
       "      <td>36264.851562</td>\n",
       "      <td>35307.730469</td>\n",
       "      <td>36245.500000</td>\n",
       "      <td>^DJI</td>\n",
       "      <td>2.585101</td>\n",
       "      <td>Dow Jones 30 (DJI)</td>\n",
       "      <td>EUA</td>\n",
       "      <td>green</td>\n",
       "    </tr>\n",
       "    <tr>\n",
       "      <th>18</th>\n",
       "      <td>19955.699219</td>\n",
       "      <td>20459.699219</td>\n",
       "      <td>19918.500000</td>\n",
       "      <td>20452.900391</td>\n",
       "      <td>^GSPTSE</td>\n",
       "      <td>2.491525</td>\n",
       "      <td>S&amp;P/TSX Composite (GSPTSE)</td>\n",
       "      <td>Canada</td>\n",
       "      <td>green</td>\n",
       "    </tr>\n",
       "    <tr>\n",
       "      <th>7</th>\n",
       "      <td>66063.718750</td>\n",
       "      <td>67564.328125</td>\n",
       "      <td>65906.648438</td>\n",
       "      <td>67481.187500</td>\n",
       "      <td>^BSESN</td>\n",
       "      <td>2.145608</td>\n",
       "      <td>BSE Sensex 30 (BSESN)</td>\n",
       "      <td>India</td>\n",
       "      <td>green</td>\n",
       "    </tr>\n",
       "    <tr>\n",
       "      <th>23</th>\n",
       "      <td>125726.000000</td>\n",
       "      <td>128165.000000</td>\n",
       "      <td>125388.000000</td>\n",
       "      <td>128103.000000</td>\n",
       "      <td>^BVSP</td>\n",
       "      <td>1.890619</td>\n",
       "      <td>Bovespa (BVSP)</td>\n",
       "      <td>Brasil</td>\n",
       "      <td>green</td>\n",
       "    </tr>\n",
       "    <tr>\n",
       "      <th>3</th>\n",
       "      <td>7230.740234</td>\n",
       "      <td>7360.100098</td>\n",
       "      <td>7213.740234</td>\n",
       "      <td>7346.149902</td>\n",
       "      <td>^FCHI</td>\n",
       "      <td>1.596098</td>\n",
       "      <td>CAC 40 (FCHI)</td>\n",
       "      <td>França</td>\n",
       "      <td>green</td>\n",
       "    </tr>\n",
       "    <tr>\n",
       "      <th>6</th>\n",
       "      <td>1352.699951</td>\n",
       "      <td>1368.680054</td>\n",
       "      <td>1345.199951</td>\n",
       "      <td>1367.829956</td>\n",
       "      <td>^N100</td>\n",
       "      <td>1.118504</td>\n",
       "      <td>EuroNext 100 (N100)</td>\n",
       "      <td>Zona Euro</td>\n",
       "      <td>green</td>\n",
       "    </tr>\n",
       "    <tr>\n",
       "      <th>22</th>\n",
       "      <td>4545.549805</td>\n",
       "      <td>4599.390137</td>\n",
       "      <td>4537.240234</td>\n",
       "      <td>4594.629883</td>\n",
       "      <td>^GSPC</td>\n",
       "      <td>1.079739</td>\n",
       "      <td>S&amp;P 500 (GSPC)</td>\n",
       "      <td>EUA</td>\n",
       "      <td>green</td>\n",
       "    </tr>\n",
       "    <tr>\n",
       "      <th>4</th>\n",
       "      <td>7460.700195</td>\n",
       "      <td>7538.700195</td>\n",
       "      <td>7387.100098</td>\n",
       "      <td>7529.399902</td>\n",
       "      <td>^FTSE</td>\n",
       "      <td>0.920821</td>\n",
       "      <td>FTSE 100 (UK100)</td>\n",
       "      <td>UK</td>\n",
       "      <td>green</td>\n",
       "    </tr>\n",
       "    <tr>\n",
       "      <th>20</th>\n",
       "      <td>14224.629883</td>\n",
       "      <td>14423.219727</td>\n",
       "      <td>14127.049805</td>\n",
       "      <td>14305.030273</td>\n",
       "      <td>^IXIC</td>\n",
       "      <td>0.565220</td>\n",
       "      <td>NASDAQ Composite (IXIC)</td>\n",
       "      <td>EUA</td>\n",
       "      <td>green</td>\n",
       "    </tr>\n",
       "    <tr>\n",
       "      <th>12</th>\n",
       "      <td>3028.600098</td>\n",
       "      <td>3039.689941</td>\n",
       "      <td>3010.232910</td>\n",
       "      <td>3031.635986</td>\n",
       "      <td>000001.SS</td>\n",
       "      <td>0.100241</td>\n",
       "      <td>Shangai Composite (SSEC)</td>\n",
       "      <td>China</td>\n",
       "      <td>green</td>\n",
       "    </tr>\n",
       "    <tr>\n",
       "      <th>16</th>\n",
       "      <td>33318.070312</td>\n",
       "      <td>33324.378906</td>\n",
       "      <td>33023.039062</td>\n",
       "      <td>33231.269531</td>\n",
       "      <td>^N225</td>\n",
       "      <td>-0.260522</td>\n",
       "      <td>Nikkei 225 (NIKKEI)</td>\n",
       "      <td>Japão</td>\n",
       "      <td>red</td>\n",
       "    </tr>\n",
       "    <tr>\n",
       "      <th>15</th>\n",
       "      <td>33520.390625</td>\n",
       "      <td>33551.570312</td>\n",
       "      <td>33161.070312</td>\n",
       "      <td>33431.511719</td>\n",
       "      <td>^N225</td>\n",
       "      <td>-0.265149</td>\n",
       "      <td>Nikkei 225 (NIKKEI)</td>\n",
       "      <td>Japão</td>\n",
       "      <td>red</td>\n",
       "    </tr>\n",
       "    <tr>\n",
       "      <th>13</th>\n",
       "      <td>3033.298096</td>\n",
       "      <td>3038.979004</td>\n",
       "      <td>3022.347900</td>\n",
       "      <td>3022.914062</td>\n",
       "      <td>000001.SS</td>\n",
       "      <td>-0.342335</td>\n",
       "      <td>Shangai Composite (SSEC)</td>\n",
       "      <td>China</td>\n",
       "      <td>red</td>\n",
       "    </tr>\n",
       "    <tr>\n",
       "      <th>11</th>\n",
       "      <td>9715.469727</td>\n",
       "      <td>9736.110352</td>\n",
       "      <td>9660.440430</td>\n",
       "      <td>9660.440430</td>\n",
       "      <td>399001.SZ</td>\n",
       "      <td>-0.566409</td>\n",
       "      <td>SZSE Component (SZI)</td>\n",
       "      <td>China</td>\n",
       "      <td>red</td>\n",
       "    </tr>\n",
       "    <tr>\n",
       "      <th>10</th>\n",
       "      <td>9781.540039</td>\n",
       "      <td>9835.139648</td>\n",
       "      <td>9624.919922</td>\n",
       "      <td>9720.570312</td>\n",
       "      <td>399001.SZ</td>\n",
       "      <td>-0.623314</td>\n",
       "      <td>SZSE Component (SZI)</td>\n",
       "      <td>China</td>\n",
       "      <td>red</td>\n",
       "    </tr>\n",
       "    <tr>\n",
       "      <th>2</th>\n",
       "      <td>3189.159912</td>\n",
       "      <td>3200.330078</td>\n",
       "      <td>3136.560059</td>\n",
       "      <td>3142.290039</td>\n",
       "      <td>IMOEX.ME</td>\n",
       "      <td>-1.469662</td>\n",
       "      <td>MOEX Russia (IMOEX)</td>\n",
       "      <td>Russia</td>\n",
       "      <td>red</td>\n",
       "    </tr>\n",
       "    <tr>\n",
       "      <th>9</th>\n",
       "      <td>16919.080078</td>\n",
       "      <td>16941.910156</td>\n",
       "      <td>16617.029297</td>\n",
       "      <td>16646.050781</td>\n",
       "      <td>^HSI</td>\n",
       "      <td>-1.613736</td>\n",
       "      <td>Hang Seng (HK50)</td>\n",
       "      <td>Hong Kong</td>\n",
       "      <td>red</td>\n",
       "    </tr>\n",
       "    <tr>\n",
       "      <th>8</th>\n",
       "      <td>17541.480469</td>\n",
       "      <td>17541.480469</td>\n",
       "      <td>16830.300781</td>\n",
       "      <td>16830.300781</td>\n",
       "      <td>^HSI</td>\n",
       "      <td>-4.054274</td>\n",
       "      <td>Hang Seng (HK50)</td>\n",
       "      <td>Hong Kong</td>\n",
       "      <td>red</td>\n",
       "    </tr>\n",
       "  </tbody>\n",
       "</table>\n",
       "</div>"
      ],
      "text/plain": [
       "             Open           High            Low          Close  Ticker_YF  \\\n",
       "0    37247.992188   40135.605469   36891.089844   39978.390625    BTC-USD   \n",
       "1    39978.628906   42371.750000   39978.628906   41980.097656    BTC-USD   \n",
       "19    1799.709961    1863.660034    1789.199951    1862.640015       ^RUT   \n",
       "17   52184.121094   54165.808594   52172.558594   53901.429688       ^MXX   \n",
       "14  843665.187500  872667.500000  766620.312500  870169.187500      ^MERV   \n",
       "5    15939.190430   16399.060547   15915.400391   16397.519531     ^GDAXI   \n",
       "21   35332.128906   36264.851562   35307.730469   36245.500000       ^DJI   \n",
       "18   19955.699219   20459.699219   19918.500000   20452.900391    ^GSPTSE   \n",
       "7    66063.718750   67564.328125   65906.648438   67481.187500     ^BSESN   \n",
       "23  125726.000000  128165.000000  125388.000000  128103.000000      ^BVSP   \n",
       "3     7230.740234    7360.100098    7213.740234    7346.149902      ^FCHI   \n",
       "6     1352.699951    1368.680054    1345.199951    1367.829956      ^N100   \n",
       "22    4545.549805    4599.390137    4537.240234    4594.629883      ^GSPC   \n",
       "4     7460.700195    7538.700195    7387.100098    7529.399902      ^FTSE   \n",
       "20   14224.629883   14423.219727   14127.049805   14305.030273      ^IXIC   \n",
       "12    3028.600098    3039.689941    3010.232910    3031.635986  000001.SS   \n",
       "16   33318.070312   33324.378906   33023.039062   33231.269531      ^N225   \n",
       "15   33520.390625   33551.570312   33161.070312   33431.511719      ^N225   \n",
       "13    3033.298096    3038.979004    3022.347900    3022.914062  000001.SS   \n",
       "11    9715.469727    9736.110352    9660.440430    9660.440430  399001.SZ   \n",
       "10    9781.540039    9835.139648    9624.919922    9720.570312  399001.SZ   \n",
       "2     3189.159912    3200.330078    3136.560059    3142.290039   IMOEX.ME   \n",
       "9    16919.080078   16941.910156   16617.029297   16646.050781       ^HSI   \n",
       "8    17541.480469   17541.480469   16830.300781   16830.300781       ^HSI   \n",
       "\n",
       "    Resultado_%                      Índice    Country  Color  \n",
       "0      7.330324       Bitcoin USD (BTC-USD)        EUA  green  \n",
       "1      5.006347       Bitcoin USD (BTC-USD)        EUA  green  \n",
       "19     3.496678          Russell 2000 (RUT)        EUA  green  \n",
       "17     3.290864           S&P/BMV IPC (MXX)     Mexico  green  \n",
       "14     3.141531           S&P Merval (MERV)  Argentina  green  \n",
       "5      2.875485                  DAX (DE30)   Alemanha  green  \n",
       "21     2.585101          Dow Jones 30 (DJI)        EUA  green  \n",
       "18     2.491525  S&P/TSX Composite (GSPTSE)     Canada  green  \n",
       "7      2.145608       BSE Sensex 30 (BSESN)      India  green  \n",
       "23     1.890619              Bovespa (BVSP)     Brasil  green  \n",
       "3      1.596098               CAC 40 (FCHI)     França  green  \n",
       "6      1.118504         EuroNext 100 (N100)  Zona Euro  green  \n",
       "22     1.079739              S&P 500 (GSPC)        EUA  green  \n",
       "4      0.920821            FTSE 100 (UK100)         UK  green  \n",
       "20     0.565220     NASDAQ Composite (IXIC)        EUA  green  \n",
       "12     0.100241    Shangai Composite (SSEC)      China  green  \n",
       "16    -0.260522         Nikkei 225 (NIKKEI)      Japão    red  \n",
       "15    -0.265149         Nikkei 225 (NIKKEI)      Japão    red  \n",
       "13    -0.342335    Shangai Composite (SSEC)      China    red  \n",
       "11    -0.566409        SZSE Component (SZI)      China    red  \n",
       "10    -0.623314        SZSE Component (SZI)      China    red  \n",
       "2     -1.469662         MOEX Russia (IMOEX)     Russia    red  \n",
       "9     -1.613736            Hang Seng (HK50)  Hong Kong    red  \n",
       "8     -4.054274            Hang Seng (HK50)  Hong Kong    red  "
      ]
     },
     "execution_count": 76,
     "metadata": {},
     "output_type": "execute_result"
    }
   ],
   "source": [
    "df_fig = world_indices_result.sort_values(by=\"Resultado_%\", ascending=False)\n",
    "df_fig[\"Color\"] = np.where(df_fig[\"Resultado_%\"] > 0, \"green\", \"red\")\n",
    "df_fig"
   ]
  },
  {
   "cell_type": "code",
   "execution_count": 77,
   "metadata": {},
   "outputs": [
    {
     "data": {
      "application/vnd.plotly.v1+json": {
       "config": {
        "plotlyServerURL": "https://plot.ly"
       },
       "data": [
        {
         "marker": {
          "color": [
           "green",
           "green",
           "green",
           "green",
           "green",
           "green",
           "green",
           "green",
           "green",
           "green",
           "green",
           "green",
           "green",
           "green",
           "green",
           "green",
           "red",
           "red",
           "red",
           "red",
           "red",
           "red",
           "red",
           "red"
          ]
         },
         "orientation": "h",
         "type": "bar",
         "x": [
          7.3303238031076745,
          5.006346652591431,
          3.496677524536018,
          3.2908642662867083,
          3.1415305968162777,
          2.875485449429349,
          2.585100649251948,
          2.4915246838749683,
          2.1456084774216455,
          1.8906192832031543,
          1.5960975533333643,
          1.1185041346164715,
          1.0797390906241322,
          0.9208211727153026,
          0.5652195613338851,
          0.10024065819136396,
          -0.2605216341638905,
          -0.265148778378832,
          -0.34233474177280954,
          -0.5664090200862559,
          -0.623314184872914,
          -1.469662053285825,
          -1.613736063747373,
          -4.054274032154592
         ],
         "y": [
          "Bitcoin USD (BTC-USD)",
          "Bitcoin USD (BTC-USD)",
          "Russell 2000 (RUT)",
          "S&P/BMV IPC (MXX)",
          "S&P Merval (MERV)",
          "DAX (DE30)",
          "Dow Jones 30 (DJI)",
          "S&P/TSX Composite (GSPTSE)",
          "BSE Sensex 30 (BSESN)",
          "Bovespa (BVSP)",
          "CAC 40 (FCHI)",
          "EuroNext 100 (N100)",
          "S&P 500 (GSPC)",
          "FTSE 100 (UK100)",
          "NASDAQ Composite (IXIC)",
          "Shangai Composite (SSEC)",
          "Nikkei 225 (NIKKEI)",
          "Nikkei 225 (NIKKEI)",
          "Shangai Composite (SSEC)",
          "SZSE Component (SZI)",
          "SZSE Component (SZI)",
          "MOEX Russia (IMOEX)",
          "Hang Seng (HK50)",
          "Hang Seng (HK50)"
         ]
        }
       ],
       "layout": {
        "annotations": [
         {
          "font": {
           "color": "black",
           "size": 10
          },
          "showarrow": false,
          "text": "EUA",
          "x": 7.3303238031076745,
          "y": "Bitcoin USD (BTC-USD)"
         },
         {
          "font": {
           "color": "black",
           "size": 10
          },
          "showarrow": false,
          "text": "EUA",
          "x": 5.006346652591431,
          "y": "Bitcoin USD (BTC-USD)"
         },
         {
          "font": {
           "color": "black",
           "size": 10
          },
          "showarrow": false,
          "text": "EUA",
          "x": 3.496677524536018,
          "y": "Russell 2000 (RUT)"
         },
         {
          "font": {
           "color": "black",
           "size": 10
          },
          "showarrow": false,
          "text": "Mexico",
          "x": 3.2908642662867083,
          "y": "S&P/BMV IPC (MXX)"
         },
         {
          "font": {
           "color": "black",
           "size": 10
          },
          "showarrow": false,
          "text": "Argentina",
          "x": 3.1415305968162777,
          "y": "S&P Merval (MERV)"
         },
         {
          "font": {
           "color": "black",
           "size": 10
          },
          "showarrow": false,
          "text": "Alemanha",
          "x": 2.875485449429349,
          "y": "DAX (DE30)"
         },
         {
          "font": {
           "color": "black",
           "size": 10
          },
          "showarrow": false,
          "text": "EUA",
          "x": 2.585100649251948,
          "y": "Dow Jones 30 (DJI)"
         },
         {
          "font": {
           "color": "black",
           "size": 10
          },
          "showarrow": false,
          "text": "Canada",
          "x": 2.4915246838749683,
          "y": "S&P/TSX Composite (GSPTSE)"
         },
         {
          "font": {
           "color": "black",
           "size": 10
          },
          "showarrow": false,
          "text": "India",
          "x": 2.1456084774216455,
          "y": "BSE Sensex 30 (BSESN)"
         },
         {
          "font": {
           "color": "black",
           "size": 10
          },
          "showarrow": false,
          "text": "Brasil",
          "x": 1.8906192832031543,
          "y": "Bovespa (BVSP)"
         },
         {
          "font": {
           "color": "black",
           "size": 10
          },
          "showarrow": false,
          "text": "França",
          "x": 1.5960975533333643,
          "y": "CAC 40 (FCHI)"
         },
         {
          "font": {
           "color": "black",
           "size": 10
          },
          "showarrow": false,
          "text": "Zona Euro",
          "x": 1.1185041346164715,
          "y": "EuroNext 100 (N100)"
         },
         {
          "font": {
           "color": "black",
           "size": 10
          },
          "showarrow": false,
          "text": "EUA",
          "x": 1.0797390906241322,
          "y": "S&P 500 (GSPC)"
         },
         {
          "font": {
           "color": "black",
           "size": 10
          },
          "showarrow": false,
          "text": "UK",
          "x": 0.9208211727153026,
          "y": "FTSE 100 (UK100)"
         },
         {
          "font": {
           "color": "black",
           "size": 10
          },
          "showarrow": false,
          "text": "EUA",
          "x": 0.5652195613338851,
          "y": "NASDAQ Composite (IXIC)"
         },
         {
          "font": {
           "color": "black",
           "size": 10
          },
          "showarrow": false,
          "text": "China",
          "x": 0.10024065819136396,
          "y": "Shangai Composite (SSEC)"
         },
         {
          "font": {
           "color": "black",
           "size": 10
          },
          "showarrow": false,
          "text": "Japão",
          "x": -0.2605216341638905,
          "y": "Nikkei 225 (NIKKEI)"
         },
         {
          "font": {
           "color": "black",
           "size": 10
          },
          "showarrow": false,
          "text": "Japão",
          "x": -0.265148778378832,
          "y": "Nikkei 225 (NIKKEI)"
         },
         {
          "font": {
           "color": "black",
           "size": 10
          },
          "showarrow": false,
          "text": "China",
          "x": -0.34233474177280954,
          "y": "Shangai Composite (SSEC)"
         },
         {
          "font": {
           "color": "black",
           "size": 10
          },
          "showarrow": false,
          "text": "China",
          "x": -0.5664090200862559,
          "y": "SZSE Component (SZI)"
         },
         {
          "font": {
           "color": "black",
           "size": 10
          },
          "showarrow": false,
          "text": "China",
          "x": -0.623314184872914,
          "y": "SZSE Component (SZI)"
         },
         {
          "font": {
           "color": "black",
           "size": 10
          },
          "showarrow": false,
          "text": "Russia",
          "x": -1.469662053285825,
          "y": "MOEX Russia (IMOEX)"
         },
         {
          "font": {
           "color": "black",
           "size": 10
          },
          "showarrow": false,
          "text": "Hong Kong",
          "x": -1.613736063747373,
          "y": "Hang Seng (HK50)"
         },
         {
          "font": {
           "color": "black",
           "size": 10
          },
          "showarrow": false,
          "text": "Hong Kong",
          "x": -4.054274032154592,
          "y": "Hang Seng (HK50)"
         }
        ],
        "template": {
         "data": {
          "bar": [
           {
            "error_x": {
             "color": "#2a3f5f"
            },
            "error_y": {
             "color": "#2a3f5f"
            },
            "marker": {
             "line": {
              "color": "#E5ECF6",
              "width": 0.5
             },
             "pattern": {
              "fillmode": "overlay",
              "size": 10,
              "solidity": 0.2
             }
            },
            "type": "bar"
           }
          ],
          "barpolar": [
           {
            "marker": {
             "line": {
              "color": "#E5ECF6",
              "width": 0.5
             },
             "pattern": {
              "fillmode": "overlay",
              "size": 10,
              "solidity": 0.2
             }
            },
            "type": "barpolar"
           }
          ],
          "carpet": [
           {
            "aaxis": {
             "endlinecolor": "#2a3f5f",
             "gridcolor": "white",
             "linecolor": "white",
             "minorgridcolor": "white",
             "startlinecolor": "#2a3f5f"
            },
            "baxis": {
             "endlinecolor": "#2a3f5f",
             "gridcolor": "white",
             "linecolor": "white",
             "minorgridcolor": "white",
             "startlinecolor": "#2a3f5f"
            },
            "type": "carpet"
           }
          ],
          "choropleth": [
           {
            "colorbar": {
             "outlinewidth": 0,
             "ticks": ""
            },
            "type": "choropleth"
           }
          ],
          "contour": [
           {
            "colorbar": {
             "outlinewidth": 0,
             "ticks": ""
            },
            "colorscale": [
             [
              0,
              "#0d0887"
             ],
             [
              0.1111111111111111,
              "#46039f"
             ],
             [
              0.2222222222222222,
              "#7201a8"
             ],
             [
              0.3333333333333333,
              "#9c179e"
             ],
             [
              0.4444444444444444,
              "#bd3786"
             ],
             [
              0.5555555555555556,
              "#d8576b"
             ],
             [
              0.6666666666666666,
              "#ed7953"
             ],
             [
              0.7777777777777778,
              "#fb9f3a"
             ],
             [
              0.8888888888888888,
              "#fdca26"
             ],
             [
              1,
              "#f0f921"
             ]
            ],
            "type": "contour"
           }
          ],
          "contourcarpet": [
           {
            "colorbar": {
             "outlinewidth": 0,
             "ticks": ""
            },
            "type": "contourcarpet"
           }
          ],
          "heatmap": [
           {
            "colorbar": {
             "outlinewidth": 0,
             "ticks": ""
            },
            "colorscale": [
             [
              0,
              "#0d0887"
             ],
             [
              0.1111111111111111,
              "#46039f"
             ],
             [
              0.2222222222222222,
              "#7201a8"
             ],
             [
              0.3333333333333333,
              "#9c179e"
             ],
             [
              0.4444444444444444,
              "#bd3786"
             ],
             [
              0.5555555555555556,
              "#d8576b"
             ],
             [
              0.6666666666666666,
              "#ed7953"
             ],
             [
              0.7777777777777778,
              "#fb9f3a"
             ],
             [
              0.8888888888888888,
              "#fdca26"
             ],
             [
              1,
              "#f0f921"
             ]
            ],
            "type": "heatmap"
           }
          ],
          "heatmapgl": [
           {
            "colorbar": {
             "outlinewidth": 0,
             "ticks": ""
            },
            "colorscale": [
             [
              0,
              "#0d0887"
             ],
             [
              0.1111111111111111,
              "#46039f"
             ],
             [
              0.2222222222222222,
              "#7201a8"
             ],
             [
              0.3333333333333333,
              "#9c179e"
             ],
             [
              0.4444444444444444,
              "#bd3786"
             ],
             [
              0.5555555555555556,
              "#d8576b"
             ],
             [
              0.6666666666666666,
              "#ed7953"
             ],
             [
              0.7777777777777778,
              "#fb9f3a"
             ],
             [
              0.8888888888888888,
              "#fdca26"
             ],
             [
              1,
              "#f0f921"
             ]
            ],
            "type": "heatmapgl"
           }
          ],
          "histogram": [
           {
            "marker": {
             "pattern": {
              "fillmode": "overlay",
              "size": 10,
              "solidity": 0.2
             }
            },
            "type": "histogram"
           }
          ],
          "histogram2d": [
           {
            "colorbar": {
             "outlinewidth": 0,
             "ticks": ""
            },
            "colorscale": [
             [
              0,
              "#0d0887"
             ],
             [
              0.1111111111111111,
              "#46039f"
             ],
             [
              0.2222222222222222,
              "#7201a8"
             ],
             [
              0.3333333333333333,
              "#9c179e"
             ],
             [
              0.4444444444444444,
              "#bd3786"
             ],
             [
              0.5555555555555556,
              "#d8576b"
             ],
             [
              0.6666666666666666,
              "#ed7953"
             ],
             [
              0.7777777777777778,
              "#fb9f3a"
             ],
             [
              0.8888888888888888,
              "#fdca26"
             ],
             [
              1,
              "#f0f921"
             ]
            ],
            "type": "histogram2d"
           }
          ],
          "histogram2dcontour": [
           {
            "colorbar": {
             "outlinewidth": 0,
             "ticks": ""
            },
            "colorscale": [
             [
              0,
              "#0d0887"
             ],
             [
              0.1111111111111111,
              "#46039f"
             ],
             [
              0.2222222222222222,
              "#7201a8"
             ],
             [
              0.3333333333333333,
              "#9c179e"
             ],
             [
              0.4444444444444444,
              "#bd3786"
             ],
             [
              0.5555555555555556,
              "#d8576b"
             ],
             [
              0.6666666666666666,
              "#ed7953"
             ],
             [
              0.7777777777777778,
              "#fb9f3a"
             ],
             [
              0.8888888888888888,
              "#fdca26"
             ],
             [
              1,
              "#f0f921"
             ]
            ],
            "type": "histogram2dcontour"
           }
          ],
          "mesh3d": [
           {
            "colorbar": {
             "outlinewidth": 0,
             "ticks": ""
            },
            "type": "mesh3d"
           }
          ],
          "parcoords": [
           {
            "line": {
             "colorbar": {
              "outlinewidth": 0,
              "ticks": ""
             }
            },
            "type": "parcoords"
           }
          ],
          "pie": [
           {
            "automargin": true,
            "type": "pie"
           }
          ],
          "scatter": [
           {
            "fillpattern": {
             "fillmode": "overlay",
             "size": 10,
             "solidity": 0.2
            },
            "type": "scatter"
           }
          ],
          "scatter3d": [
           {
            "line": {
             "colorbar": {
              "outlinewidth": 0,
              "ticks": ""
             }
            },
            "marker": {
             "colorbar": {
              "outlinewidth": 0,
              "ticks": ""
             }
            },
            "type": "scatter3d"
           }
          ],
          "scattercarpet": [
           {
            "marker": {
             "colorbar": {
              "outlinewidth": 0,
              "ticks": ""
             }
            },
            "type": "scattercarpet"
           }
          ],
          "scattergeo": [
           {
            "marker": {
             "colorbar": {
              "outlinewidth": 0,
              "ticks": ""
             }
            },
            "type": "scattergeo"
           }
          ],
          "scattergl": [
           {
            "marker": {
             "colorbar": {
              "outlinewidth": 0,
              "ticks": ""
             }
            },
            "type": "scattergl"
           }
          ],
          "scattermapbox": [
           {
            "marker": {
             "colorbar": {
              "outlinewidth": 0,
              "ticks": ""
             }
            },
            "type": "scattermapbox"
           }
          ],
          "scatterpolar": [
           {
            "marker": {
             "colorbar": {
              "outlinewidth": 0,
              "ticks": ""
             }
            },
            "type": "scatterpolar"
           }
          ],
          "scatterpolargl": [
           {
            "marker": {
             "colorbar": {
              "outlinewidth": 0,
              "ticks": ""
             }
            },
            "type": "scatterpolargl"
           }
          ],
          "scatterternary": [
           {
            "marker": {
             "colorbar": {
              "outlinewidth": 0,
              "ticks": ""
             }
            },
            "type": "scatterternary"
           }
          ],
          "surface": [
           {
            "colorbar": {
             "outlinewidth": 0,
             "ticks": ""
            },
            "colorscale": [
             [
              0,
              "#0d0887"
             ],
             [
              0.1111111111111111,
              "#46039f"
             ],
             [
              0.2222222222222222,
              "#7201a8"
             ],
             [
              0.3333333333333333,
              "#9c179e"
             ],
             [
              0.4444444444444444,
              "#bd3786"
             ],
             [
              0.5555555555555556,
              "#d8576b"
             ],
             [
              0.6666666666666666,
              "#ed7953"
             ],
             [
              0.7777777777777778,
              "#fb9f3a"
             ],
             [
              0.8888888888888888,
              "#fdca26"
             ],
             [
              1,
              "#f0f921"
             ]
            ],
            "type": "surface"
           }
          ],
          "table": [
           {
            "cells": {
             "fill": {
              "color": "#EBF0F8"
             },
             "line": {
              "color": "white"
             }
            },
            "header": {
             "fill": {
              "color": "#C8D4E3"
             },
             "line": {
              "color": "white"
             }
            },
            "type": "table"
           }
          ]
         },
         "layout": {
          "annotationdefaults": {
           "arrowcolor": "#2a3f5f",
           "arrowhead": 0,
           "arrowwidth": 1
          },
          "autotypenumbers": "strict",
          "coloraxis": {
           "colorbar": {
            "outlinewidth": 0,
            "ticks": ""
           }
          },
          "colorscale": {
           "diverging": [
            [
             0,
             "#8e0152"
            ],
            [
             0.1,
             "#c51b7d"
            ],
            [
             0.2,
             "#de77ae"
            ],
            [
             0.3,
             "#f1b6da"
            ],
            [
             0.4,
             "#fde0ef"
            ],
            [
             0.5,
             "#f7f7f7"
            ],
            [
             0.6,
             "#e6f5d0"
            ],
            [
             0.7,
             "#b8e186"
            ],
            [
             0.8,
             "#7fbc41"
            ],
            [
             0.9,
             "#4d9221"
            ],
            [
             1,
             "#276419"
            ]
           ],
           "sequential": [
            [
             0,
             "#0d0887"
            ],
            [
             0.1111111111111111,
             "#46039f"
            ],
            [
             0.2222222222222222,
             "#7201a8"
            ],
            [
             0.3333333333333333,
             "#9c179e"
            ],
            [
             0.4444444444444444,
             "#bd3786"
            ],
            [
             0.5555555555555556,
             "#d8576b"
            ],
            [
             0.6666666666666666,
             "#ed7953"
            ],
            [
             0.7777777777777778,
             "#fb9f3a"
            ],
            [
             0.8888888888888888,
             "#fdca26"
            ],
            [
             1,
             "#f0f921"
            ]
           ],
           "sequentialminus": [
            [
             0,
             "#0d0887"
            ],
            [
             0.1111111111111111,
             "#46039f"
            ],
            [
             0.2222222222222222,
             "#7201a8"
            ],
            [
             0.3333333333333333,
             "#9c179e"
            ],
            [
             0.4444444444444444,
             "#bd3786"
            ],
            [
             0.5555555555555556,
             "#d8576b"
            ],
            [
             0.6666666666666666,
             "#ed7953"
            ],
            [
             0.7777777777777778,
             "#fb9f3a"
            ],
            [
             0.8888888888888888,
             "#fdca26"
            ],
            [
             1,
             "#f0f921"
            ]
           ]
          },
          "colorway": [
           "#636efa",
           "#EF553B",
           "#00cc96",
           "#ab63fa",
           "#FFA15A",
           "#19d3f3",
           "#FF6692",
           "#B6E880",
           "#FF97FF",
           "#FECB52"
          ],
          "font": {
           "color": "#2a3f5f"
          },
          "geo": {
           "bgcolor": "white",
           "lakecolor": "white",
           "landcolor": "#E5ECF6",
           "showlakes": true,
           "showland": true,
           "subunitcolor": "white"
          },
          "hoverlabel": {
           "align": "left"
          },
          "hovermode": "closest",
          "mapbox": {
           "style": "light"
          },
          "paper_bgcolor": "white",
          "plot_bgcolor": "#E5ECF6",
          "polar": {
           "angularaxis": {
            "gridcolor": "white",
            "linecolor": "white",
            "ticks": ""
           },
           "bgcolor": "#E5ECF6",
           "radialaxis": {
            "gridcolor": "white",
            "linecolor": "white",
            "ticks": ""
           }
          },
          "scene": {
           "xaxis": {
            "backgroundcolor": "#E5ECF6",
            "gridcolor": "white",
            "gridwidth": 2,
            "linecolor": "white",
            "showbackground": true,
            "ticks": "",
            "zerolinecolor": "white"
           },
           "yaxis": {
            "backgroundcolor": "#E5ECF6",
            "gridcolor": "white",
            "gridwidth": 2,
            "linecolor": "white",
            "showbackground": true,
            "ticks": "",
            "zerolinecolor": "white"
           },
           "zaxis": {
            "backgroundcolor": "#E5ECF6",
            "gridcolor": "white",
            "gridwidth": 2,
            "linecolor": "white",
            "showbackground": true,
            "ticks": "",
            "zerolinecolor": "white"
           }
          },
          "shapedefaults": {
           "line": {
            "color": "#2a3f5f"
           }
          },
          "ternary": {
           "aaxis": {
            "gridcolor": "white",
            "linecolor": "white",
            "ticks": ""
           },
           "baxis": {
            "gridcolor": "white",
            "linecolor": "white",
            "ticks": ""
           },
           "bgcolor": "#E5ECF6",
           "caxis": {
            "gridcolor": "white",
            "linecolor": "white",
            "ticks": ""
           }
          },
          "title": {
           "x": 0.05
          },
          "xaxis": {
           "automargin": true,
           "gridcolor": "white",
           "linecolor": "white",
           "ticks": "",
           "title": {
            "standoff": 15
           },
           "zerolinecolor": "white",
           "zerolinewidth": 2
          },
          "yaxis": {
           "automargin": true,
           "gridcolor": "white",
           "linecolor": "white",
           "ticks": "",
           "title": {
            "standoff": 15
           },
           "zerolinecolor": "white",
           "zerolinewidth": 2
          }
         }
        }
       }
      }
     },
     "metadata": {},
     "output_type": "display_data"
    }
   ],
   "source": [
    "fig_indices_results = go.Figure()\n",
    "\n",
    "fig_indices_results.add_trace(go.Bar(\n",
    "    x=df_fig[\"Resultado_%\"],\n",
    "    y=df_fig[\"Índice\"],\n",
    "    marker_color=df_fig[\"Color\"],\n",
    "    orientation=\"h\",\n",
    "    )\n",
    ")\n",
    "\n",
    "# Adicionando anotações de texto\n",
    "for i in range(len(df_fig)):\n",
    "    fig_indices_results.add_annotation(\n",
    "        x=df_fig[\"Resultado_%\"].iloc[i],\n",
    "        y=df_fig[\"Índice\"].iloc[i],\n",
    "        text=df_fig[\"Country\"].iloc[i],\n",
    "        showarrow=False,\n",
    "        font=dict(\n",
    "            size=10,\n",
    "            color=\"black\"\n",
    "        )\n",
    "    )\n",
    "\n",
    "fig_indices_results.show()"
   ]
  },
  {
   "cell_type": "code",
   "execution_count": 24,
   "metadata": {},
   "outputs": [],
   "source": [
    "annotations = []\n",
    "x_pos = []\n",
    "y_pos = []\n",
    "x_neg = []\n",
    "y_neg = []\n",
    "\n",
    "for i in range(len(df_fig)):\n",
    "\n",
    "    if df_fig[\"Resultado_%\"].iloc[i] > 0:\n",
    "        y_pos.append(df_fig[\"Índice\"].iloc[i])\n",
    "        x_pos.append(np.round(df_fig[\"Resultado_%\"].iloc[i], decimals=2))\n",
    "\n",
    "    else:\n",
    "        y_neg.append(df_fig[\"Índice\"].iloc[i])\n",
    "        x_neg.append(np.round(df_fig[\"Resultado_%\"].iloc[i], decimals=2))\n",
    "        "
   ]
  },
  {
   "cell_type": "code",
   "execution_count": 25,
   "metadata": {},
   "outputs": [
    {
     "data": {
      "text/plain": [
       "[1.08, 0.81, 0.3, 0.17, 0.11, 0.0]"
      ]
     },
     "execution_count": 25,
     "metadata": {},
     "output_type": "execute_result"
    }
   ],
   "source": [
    "x_pos"
   ]
  },
  {
   "cell_type": "code",
   "execution_count": 26,
   "metadata": {},
   "outputs": [
    {
     "data": {
      "text/plain": [
       "['Bitcoin USD (BTC-USD)',\n",
       " 'Bovespa (BVSP)',\n",
       " 'NASDAQ Composite (IXIC)',\n",
       " 'BSE Sensex 30 (BSESN)',\n",
       " 'Dow Jones 30 (DJI)',\n",
       " 'S&P 500 (GSPC)']"
      ]
     },
     "execution_count": 26,
     "metadata": {},
     "output_type": "execute_result"
    }
   ],
   "source": [
    "y_pos"
   ]
  },
  {
   "cell_type": "code",
   "execution_count": 27,
   "metadata": {},
   "outputs": [],
   "source": [
    "result_max = df_fig[\"Resultado_%\"].max()\n",
    "result_min = df_fig[\"Resultado_%\"].min()\n",
    "\n",
    "for yd, xd in zip(y_pos, x_pos):\n",
    "    annotations.append(\n",
    "        dict(\n",
    "            x=xd, \n",
    "            y=yd, \n",
    "            xref='x1', \n",
    "            yref='y1', \n",
    "            text=str(xd) + \"%\", \n",
    "            font=dict(family='Arial', size=17, color=\"black\"),\n",
    "            showarrow=False\n",
    "            )\n",
    "        )\n",
    "    \n",
    "for yd, xd in zip(y_neg, x_neg):\n",
    "    annotations.append(\n",
    "        dict(\n",
    "            x=xd, \n",
    "            y=yd, \n",
    "            xref='x1', \n",
    "            yref='y1', \n",
    "            text=str(xd) + \"%\", \n",
    "            font=dict(family='Arial', size=17, color=\"black\"),\n",
    "            showarrow=False\n",
    "            )\n",
    "        )\n"
   ]
  },
  {
   "cell_type": "code",
   "execution_count": 28,
   "metadata": {},
   "outputs": [],
   "source": [
    "fig_indices_results.update_xaxes(\n",
    "    visible=True,\n",
    "    showticklabels=True,\n",
    "    range=[(result_min), (result_max)],\n",
    ")\n",
    "\n",
    "fig_indices_results = fig_indices_results.update_layout(\n",
    "    title_text=\"<b>Resultado semanal\",\n",
    "    template=\"simple_white\",\n",
    "    margin=dict(l=20,r=20,t=70,b=20),\n",
    "    paper_bgcolor=\"#f7f8fa\",\n",
    "    width= 800,\n",
    "    height= (50 *len(df_fig)),\n",
    "    annotations = annotations,\n",
    "    font=dict(\n",
    "        family=\"Arial\",\n",
    "        size=17,\n",
    "        color=\"black\"\n",
    "    ),\n",
    ")"
   ]
  },
  {
   "cell_type": "code",
   "execution_count": 29,
   "metadata": {},
   "outputs": [
    {
     "data": {
      "application/vnd.plotly.v1+json": {
       "config": {
        "plotlyServerURL": "https://plot.ly"
       },
       "data": [
        {
         "marker": {
          "color": [
           "green",
           "green",
           "green",
           "green",
           "green",
           "green",
           "red",
           "red",
           "red",
           "red",
           "red",
           "red",
           "red",
           "red",
           "red",
           "red",
           "red",
           "red",
           "red"
          ]
         },
         "orientation": "h",
         "type": "bar",
         "x": [
          1.079454037239036,
          0.8134356302333501,
          0.2981197585661288,
          0.16723910959068888,
          0.11459338726149682,
          0.0006646403711396687,
          -0.09114516765280634,
          -0.33276680461676866,
          -0.4406933460547324,
          -0.456403867198929,
          -0.5067322445916123,
          -0.5430550745274432,
          -0.5866008564610836,
          -0.7418645315775185,
          -0.8663688362348876,
          -1.059754755757425,
          -1.1534029651782074,
          -3.8697741327096025,
          -15.712686140444331
         ],
         "y": [
          "Bitcoin USD (BTC-USD)",
          "Bovespa (BVSP)",
          "NASDAQ Composite (IXIC)",
          "BSE Sensex 30 (BSESN)",
          "Dow Jones 30 (DJI)",
          "S&P 500 (GSPC)",
          "DAX (DE30)",
          "S&P/TSX Composite (GSPTSE)",
          "FTSE 100 (UK100)",
          "Russell 2000 (RUT)",
          "EuroNext 100 (N100)",
          "Shangai Composite (SSEC)",
          "CAC 40 (FCHI)",
          "MOEX Russia (IMOEX)",
          "SZSE Component (SZI)",
          "S&P/BMV IPC (MXX)",
          "Nikkei 225 (NIKKEI)",
          "Hang Seng (HK50)",
          "S&P Merval (MERV)"
         ]
        }
       ],
       "layout": {
        "annotations": [
         {
          "font": {
           "color": "black",
           "family": "Arial",
           "size": 17
          },
          "showarrow": false,
          "text": "1.08%",
          "x": 1.08,
          "xref": "x",
          "y": "Bitcoin USD (BTC-USD)",
          "yref": "y"
         },
         {
          "font": {
           "color": "black",
           "family": "Arial",
           "size": 17
          },
          "showarrow": false,
          "text": "0.81%",
          "x": 0.81,
          "xref": "x",
          "y": "Bovespa (BVSP)",
          "yref": "y"
         },
         {
          "font": {
           "color": "black",
           "family": "Arial",
           "size": 17
          },
          "showarrow": false,
          "text": "0.3%",
          "x": 0.3,
          "xref": "x",
          "y": "NASDAQ Composite (IXIC)",
          "yref": "y"
         },
         {
          "font": {
           "color": "black",
           "family": "Arial",
           "size": 17
          },
          "showarrow": false,
          "text": "0.17%",
          "x": 0.17,
          "xref": "x",
          "y": "BSE Sensex 30 (BSESN)",
          "yref": "y"
         },
         {
          "font": {
           "color": "black",
           "family": "Arial",
           "size": 17
          },
          "showarrow": false,
          "text": "0.11%",
          "x": 0.11,
          "xref": "x",
          "y": "Dow Jones 30 (DJI)",
          "yref": "y"
         },
         {
          "font": {
           "color": "black",
           "family": "Arial",
           "size": 17
          },
          "showarrow": false,
          "text": "0.0%",
          "x": 0,
          "xref": "x",
          "y": "S&P 500 (GSPC)",
          "yref": "y"
         },
         {
          "font": {
           "color": "black",
           "family": "Arial",
           "size": 17
          },
          "showarrow": false,
          "text": "-0.09%",
          "x": -0.09,
          "xref": "x",
          "y": "DAX (DE30)",
          "yref": "y"
         },
         {
          "font": {
           "color": "black",
           "family": "Arial",
           "size": 17
          },
          "showarrow": false,
          "text": "-0.33%",
          "x": -0.33,
          "xref": "x",
          "y": "S&P/TSX Composite (GSPTSE)",
          "yref": "y"
         },
         {
          "font": {
           "color": "black",
           "family": "Arial",
           "size": 17
          },
          "showarrow": false,
          "text": "-0.44%",
          "x": -0.44,
          "xref": "x",
          "y": "FTSE 100 (UK100)",
          "yref": "y"
         },
         {
          "font": {
           "color": "black",
           "family": "Arial",
           "size": 17
          },
          "showarrow": false,
          "text": "-0.46%",
          "x": -0.46,
          "xref": "x",
          "y": "Russell 2000 (RUT)",
          "yref": "y"
         },
         {
          "font": {
           "color": "black",
           "family": "Arial",
           "size": 17
          },
          "showarrow": false,
          "text": "-0.51%",
          "x": -0.51,
          "xref": "x",
          "y": "EuroNext 100 (N100)",
          "yref": "y"
         },
         {
          "font": {
           "color": "black",
           "family": "Arial",
           "size": 17
          },
          "showarrow": false,
          "text": "-0.54%",
          "x": -0.54,
          "xref": "x",
          "y": "Shangai Composite (SSEC)",
          "yref": "y"
         },
         {
          "font": {
           "color": "black",
           "family": "Arial",
           "size": 17
          },
          "showarrow": false,
          "text": "-0.59%",
          "x": -0.59,
          "xref": "x",
          "y": "CAC 40 (FCHI)",
          "yref": "y"
         },
         {
          "font": {
           "color": "black",
           "family": "Arial",
           "size": 17
          },
          "showarrow": false,
          "text": "-0.74%",
          "x": -0.74,
          "xref": "x",
          "y": "MOEX Russia (IMOEX)",
          "yref": "y"
         },
         {
          "font": {
           "color": "black",
           "family": "Arial",
           "size": 17
          },
          "showarrow": false,
          "text": "-0.87%",
          "x": -0.87,
          "xref": "x",
          "y": "SZSE Component (SZI)",
          "yref": "y"
         },
         {
          "font": {
           "color": "black",
           "family": "Arial",
           "size": 17
          },
          "showarrow": false,
          "text": "-1.06%",
          "x": -1.06,
          "xref": "x",
          "y": "S&P/BMV IPC (MXX)",
          "yref": "y"
         },
         {
          "font": {
           "color": "black",
           "family": "Arial",
           "size": 17
          },
          "showarrow": false,
          "text": "-1.15%",
          "x": -1.15,
          "xref": "x",
          "y": "Nikkei 225 (NIKKEI)",
          "yref": "y"
         },
         {
          "font": {
           "color": "black",
           "family": "Arial",
           "size": 17
          },
          "showarrow": false,
          "text": "-3.87%",
          "x": -3.87,
          "xref": "x",
          "y": "Hang Seng (HK50)",
          "yref": "y"
         },
         {
          "font": {
           "color": "black",
           "family": "Arial",
           "size": 17
          },
          "showarrow": false,
          "text": "-15.71%",
          "x": -15.71,
          "xref": "x",
          "y": "S&P Merval (MERV)",
          "yref": "y"
         }
        ],
        "font": {
         "color": "black",
         "family": "Arial",
         "size": 17
        },
        "height": 950,
        "margin": {
         "b": 20,
         "l": 20,
         "r": 20,
         "t": 70
        },
        "paper_bgcolor": "#f7f8fa",
        "template": {
         "data": {
          "bar": [
           {
            "error_x": {
             "color": "rgb(36,36,36)"
            },
            "error_y": {
             "color": "rgb(36,36,36)"
            },
            "marker": {
             "line": {
              "color": "white",
              "width": 0.5
             },
             "pattern": {
              "fillmode": "overlay",
              "size": 10,
              "solidity": 0.2
             }
            },
            "type": "bar"
           }
          ],
          "barpolar": [
           {
            "marker": {
             "line": {
              "color": "white",
              "width": 0.5
             },
             "pattern": {
              "fillmode": "overlay",
              "size": 10,
              "solidity": 0.2
             }
            },
            "type": "barpolar"
           }
          ],
          "carpet": [
           {
            "aaxis": {
             "endlinecolor": "rgb(36,36,36)",
             "gridcolor": "white",
             "linecolor": "white",
             "minorgridcolor": "white",
             "startlinecolor": "rgb(36,36,36)"
            },
            "baxis": {
             "endlinecolor": "rgb(36,36,36)",
             "gridcolor": "white",
             "linecolor": "white",
             "minorgridcolor": "white",
             "startlinecolor": "rgb(36,36,36)"
            },
            "type": "carpet"
           }
          ],
          "choropleth": [
           {
            "colorbar": {
             "outlinewidth": 1,
             "tickcolor": "rgb(36,36,36)",
             "ticks": "outside"
            },
            "type": "choropleth"
           }
          ],
          "contour": [
           {
            "colorbar": {
             "outlinewidth": 1,
             "tickcolor": "rgb(36,36,36)",
             "ticks": "outside"
            },
            "colorscale": [
             [
              0,
              "#440154"
             ],
             [
              0.1111111111111111,
              "#482878"
             ],
             [
              0.2222222222222222,
              "#3e4989"
             ],
             [
              0.3333333333333333,
              "#31688e"
             ],
             [
              0.4444444444444444,
              "#26828e"
             ],
             [
              0.5555555555555556,
              "#1f9e89"
             ],
             [
              0.6666666666666666,
              "#35b779"
             ],
             [
              0.7777777777777778,
              "#6ece58"
             ],
             [
              0.8888888888888888,
              "#b5de2b"
             ],
             [
              1,
              "#fde725"
             ]
            ],
            "type": "contour"
           }
          ],
          "contourcarpet": [
           {
            "colorbar": {
             "outlinewidth": 1,
             "tickcolor": "rgb(36,36,36)",
             "ticks": "outside"
            },
            "type": "contourcarpet"
           }
          ],
          "heatmap": [
           {
            "colorbar": {
             "outlinewidth": 1,
             "tickcolor": "rgb(36,36,36)",
             "ticks": "outside"
            },
            "colorscale": [
             [
              0,
              "#440154"
             ],
             [
              0.1111111111111111,
              "#482878"
             ],
             [
              0.2222222222222222,
              "#3e4989"
             ],
             [
              0.3333333333333333,
              "#31688e"
             ],
             [
              0.4444444444444444,
              "#26828e"
             ],
             [
              0.5555555555555556,
              "#1f9e89"
             ],
             [
              0.6666666666666666,
              "#35b779"
             ],
             [
              0.7777777777777778,
              "#6ece58"
             ],
             [
              0.8888888888888888,
              "#b5de2b"
             ],
             [
              1,
              "#fde725"
             ]
            ],
            "type": "heatmap"
           }
          ],
          "heatmapgl": [
           {
            "colorbar": {
             "outlinewidth": 1,
             "tickcolor": "rgb(36,36,36)",
             "ticks": "outside"
            },
            "colorscale": [
             [
              0,
              "#440154"
             ],
             [
              0.1111111111111111,
              "#482878"
             ],
             [
              0.2222222222222222,
              "#3e4989"
             ],
             [
              0.3333333333333333,
              "#31688e"
             ],
             [
              0.4444444444444444,
              "#26828e"
             ],
             [
              0.5555555555555556,
              "#1f9e89"
             ],
             [
              0.6666666666666666,
              "#35b779"
             ],
             [
              0.7777777777777778,
              "#6ece58"
             ],
             [
              0.8888888888888888,
              "#b5de2b"
             ],
             [
              1,
              "#fde725"
             ]
            ],
            "type": "heatmapgl"
           }
          ],
          "histogram": [
           {
            "marker": {
             "line": {
              "color": "white",
              "width": 0.6
             }
            },
            "type": "histogram"
           }
          ],
          "histogram2d": [
           {
            "colorbar": {
             "outlinewidth": 1,
             "tickcolor": "rgb(36,36,36)",
             "ticks": "outside"
            },
            "colorscale": [
             [
              0,
              "#440154"
             ],
             [
              0.1111111111111111,
              "#482878"
             ],
             [
              0.2222222222222222,
              "#3e4989"
             ],
             [
              0.3333333333333333,
              "#31688e"
             ],
             [
              0.4444444444444444,
              "#26828e"
             ],
             [
              0.5555555555555556,
              "#1f9e89"
             ],
             [
              0.6666666666666666,
              "#35b779"
             ],
             [
              0.7777777777777778,
              "#6ece58"
             ],
             [
              0.8888888888888888,
              "#b5de2b"
             ],
             [
              1,
              "#fde725"
             ]
            ],
            "type": "histogram2d"
           }
          ],
          "histogram2dcontour": [
           {
            "colorbar": {
             "outlinewidth": 1,
             "tickcolor": "rgb(36,36,36)",
             "ticks": "outside"
            },
            "colorscale": [
             [
              0,
              "#440154"
             ],
             [
              0.1111111111111111,
              "#482878"
             ],
             [
              0.2222222222222222,
              "#3e4989"
             ],
             [
              0.3333333333333333,
              "#31688e"
             ],
             [
              0.4444444444444444,
              "#26828e"
             ],
             [
              0.5555555555555556,
              "#1f9e89"
             ],
             [
              0.6666666666666666,
              "#35b779"
             ],
             [
              0.7777777777777778,
              "#6ece58"
             ],
             [
              0.8888888888888888,
              "#b5de2b"
             ],
             [
              1,
              "#fde725"
             ]
            ],
            "type": "histogram2dcontour"
           }
          ],
          "mesh3d": [
           {
            "colorbar": {
             "outlinewidth": 1,
             "tickcolor": "rgb(36,36,36)",
             "ticks": "outside"
            },
            "type": "mesh3d"
           }
          ],
          "parcoords": [
           {
            "line": {
             "colorbar": {
              "outlinewidth": 1,
              "tickcolor": "rgb(36,36,36)",
              "ticks": "outside"
             }
            },
            "type": "parcoords"
           }
          ],
          "pie": [
           {
            "automargin": true,
            "type": "pie"
           }
          ],
          "scatter": [
           {
            "fillpattern": {
             "fillmode": "overlay",
             "size": 10,
             "solidity": 0.2
            },
            "type": "scatter"
           }
          ],
          "scatter3d": [
           {
            "line": {
             "colorbar": {
              "outlinewidth": 1,
              "tickcolor": "rgb(36,36,36)",
              "ticks": "outside"
             }
            },
            "marker": {
             "colorbar": {
              "outlinewidth": 1,
              "tickcolor": "rgb(36,36,36)",
              "ticks": "outside"
             }
            },
            "type": "scatter3d"
           }
          ],
          "scattercarpet": [
           {
            "marker": {
             "colorbar": {
              "outlinewidth": 1,
              "tickcolor": "rgb(36,36,36)",
              "ticks": "outside"
             }
            },
            "type": "scattercarpet"
           }
          ],
          "scattergeo": [
           {
            "marker": {
             "colorbar": {
              "outlinewidth": 1,
              "tickcolor": "rgb(36,36,36)",
              "ticks": "outside"
             }
            },
            "type": "scattergeo"
           }
          ],
          "scattergl": [
           {
            "marker": {
             "colorbar": {
              "outlinewidth": 1,
              "tickcolor": "rgb(36,36,36)",
              "ticks": "outside"
             }
            },
            "type": "scattergl"
           }
          ],
          "scattermapbox": [
           {
            "marker": {
             "colorbar": {
              "outlinewidth": 1,
              "tickcolor": "rgb(36,36,36)",
              "ticks": "outside"
             }
            },
            "type": "scattermapbox"
           }
          ],
          "scatterpolar": [
           {
            "marker": {
             "colorbar": {
              "outlinewidth": 1,
              "tickcolor": "rgb(36,36,36)",
              "ticks": "outside"
             }
            },
            "type": "scatterpolar"
           }
          ],
          "scatterpolargl": [
           {
            "marker": {
             "colorbar": {
              "outlinewidth": 1,
              "tickcolor": "rgb(36,36,36)",
              "ticks": "outside"
             }
            },
            "type": "scatterpolargl"
           }
          ],
          "scatterternary": [
           {
            "marker": {
             "colorbar": {
              "outlinewidth": 1,
              "tickcolor": "rgb(36,36,36)",
              "ticks": "outside"
             }
            },
            "type": "scatterternary"
           }
          ],
          "surface": [
           {
            "colorbar": {
             "outlinewidth": 1,
             "tickcolor": "rgb(36,36,36)",
             "ticks": "outside"
            },
            "colorscale": [
             [
              0,
              "#440154"
             ],
             [
              0.1111111111111111,
              "#482878"
             ],
             [
              0.2222222222222222,
              "#3e4989"
             ],
             [
              0.3333333333333333,
              "#31688e"
             ],
             [
              0.4444444444444444,
              "#26828e"
             ],
             [
              0.5555555555555556,
              "#1f9e89"
             ],
             [
              0.6666666666666666,
              "#35b779"
             ],
             [
              0.7777777777777778,
              "#6ece58"
             ],
             [
              0.8888888888888888,
              "#b5de2b"
             ],
             [
              1,
              "#fde725"
             ]
            ],
            "type": "surface"
           }
          ],
          "table": [
           {
            "cells": {
             "fill": {
              "color": "rgb(237,237,237)"
             },
             "line": {
              "color": "white"
             }
            },
            "header": {
             "fill": {
              "color": "rgb(217,217,217)"
             },
             "line": {
              "color": "white"
             }
            },
            "type": "table"
           }
          ]
         },
         "layout": {
          "annotationdefaults": {
           "arrowhead": 0,
           "arrowwidth": 1
          },
          "autotypenumbers": "strict",
          "coloraxis": {
           "colorbar": {
            "outlinewidth": 1,
            "tickcolor": "rgb(36,36,36)",
            "ticks": "outside"
           }
          },
          "colorscale": {
           "diverging": [
            [
             0,
             "rgb(103,0,31)"
            ],
            [
             0.1,
             "rgb(178,24,43)"
            ],
            [
             0.2,
             "rgb(214,96,77)"
            ],
            [
             0.3,
             "rgb(244,165,130)"
            ],
            [
             0.4,
             "rgb(253,219,199)"
            ],
            [
             0.5,
             "rgb(247,247,247)"
            ],
            [
             0.6,
             "rgb(209,229,240)"
            ],
            [
             0.7,
             "rgb(146,197,222)"
            ],
            [
             0.8,
             "rgb(67,147,195)"
            ],
            [
             0.9,
             "rgb(33,102,172)"
            ],
            [
             1,
             "rgb(5,48,97)"
            ]
           ],
           "sequential": [
            [
             0,
             "#440154"
            ],
            [
             0.1111111111111111,
             "#482878"
            ],
            [
             0.2222222222222222,
             "#3e4989"
            ],
            [
             0.3333333333333333,
             "#31688e"
            ],
            [
             0.4444444444444444,
             "#26828e"
            ],
            [
             0.5555555555555556,
             "#1f9e89"
            ],
            [
             0.6666666666666666,
             "#35b779"
            ],
            [
             0.7777777777777778,
             "#6ece58"
            ],
            [
             0.8888888888888888,
             "#b5de2b"
            ],
            [
             1,
             "#fde725"
            ]
           ],
           "sequentialminus": [
            [
             0,
             "#440154"
            ],
            [
             0.1111111111111111,
             "#482878"
            ],
            [
             0.2222222222222222,
             "#3e4989"
            ],
            [
             0.3333333333333333,
             "#31688e"
            ],
            [
             0.4444444444444444,
             "#26828e"
            ],
            [
             0.5555555555555556,
             "#1f9e89"
            ],
            [
             0.6666666666666666,
             "#35b779"
            ],
            [
             0.7777777777777778,
             "#6ece58"
            ],
            [
             0.8888888888888888,
             "#b5de2b"
            ],
            [
             1,
             "#fde725"
            ]
           ]
          },
          "colorway": [
           "#1F77B4",
           "#FF7F0E",
           "#2CA02C",
           "#D62728",
           "#9467BD",
           "#8C564B",
           "#E377C2",
           "#7F7F7F",
           "#BCBD22",
           "#17BECF"
          ],
          "font": {
           "color": "rgb(36,36,36)"
          },
          "geo": {
           "bgcolor": "white",
           "lakecolor": "white",
           "landcolor": "white",
           "showlakes": true,
           "showland": true,
           "subunitcolor": "white"
          },
          "hoverlabel": {
           "align": "left"
          },
          "hovermode": "closest",
          "mapbox": {
           "style": "light"
          },
          "paper_bgcolor": "white",
          "plot_bgcolor": "white",
          "polar": {
           "angularaxis": {
            "gridcolor": "rgb(232,232,232)",
            "linecolor": "rgb(36,36,36)",
            "showgrid": false,
            "showline": true,
            "ticks": "outside"
           },
           "bgcolor": "white",
           "radialaxis": {
            "gridcolor": "rgb(232,232,232)",
            "linecolor": "rgb(36,36,36)",
            "showgrid": false,
            "showline": true,
            "ticks": "outside"
           }
          },
          "scene": {
           "xaxis": {
            "backgroundcolor": "white",
            "gridcolor": "rgb(232,232,232)",
            "gridwidth": 2,
            "linecolor": "rgb(36,36,36)",
            "showbackground": true,
            "showgrid": false,
            "showline": true,
            "ticks": "outside",
            "zeroline": false,
            "zerolinecolor": "rgb(36,36,36)"
           },
           "yaxis": {
            "backgroundcolor": "white",
            "gridcolor": "rgb(232,232,232)",
            "gridwidth": 2,
            "linecolor": "rgb(36,36,36)",
            "showbackground": true,
            "showgrid": false,
            "showline": true,
            "ticks": "outside",
            "zeroline": false,
            "zerolinecolor": "rgb(36,36,36)"
           },
           "zaxis": {
            "backgroundcolor": "white",
            "gridcolor": "rgb(232,232,232)",
            "gridwidth": 2,
            "linecolor": "rgb(36,36,36)",
            "showbackground": true,
            "showgrid": false,
            "showline": true,
            "ticks": "outside",
            "zeroline": false,
            "zerolinecolor": "rgb(36,36,36)"
           }
          },
          "shapedefaults": {
           "fillcolor": "black",
           "line": {
            "width": 0
           },
           "opacity": 0.3
          },
          "ternary": {
           "aaxis": {
            "gridcolor": "rgb(232,232,232)",
            "linecolor": "rgb(36,36,36)",
            "showgrid": false,
            "showline": true,
            "ticks": "outside"
           },
           "baxis": {
            "gridcolor": "rgb(232,232,232)",
            "linecolor": "rgb(36,36,36)",
            "showgrid": false,
            "showline": true,
            "ticks": "outside"
           },
           "bgcolor": "white",
           "caxis": {
            "gridcolor": "rgb(232,232,232)",
            "linecolor": "rgb(36,36,36)",
            "showgrid": false,
            "showline": true,
            "ticks": "outside"
           }
          },
          "title": {
           "x": 0.05
          },
          "xaxis": {
           "automargin": true,
           "gridcolor": "rgb(232,232,232)",
           "linecolor": "rgb(36,36,36)",
           "showgrid": false,
           "showline": true,
           "ticks": "outside",
           "title": {
            "standoff": 15
           },
           "zeroline": false,
           "zerolinecolor": "rgb(36,36,36)"
          },
          "yaxis": {
           "automargin": true,
           "gridcolor": "rgb(232,232,232)",
           "linecolor": "rgb(36,36,36)",
           "showgrid": false,
           "showline": true,
           "ticks": "outside",
           "title": {
            "standoff": 15
           },
           "zeroline": false,
           "zerolinecolor": "rgb(36,36,36)"
          }
         }
        },
        "title": {
         "text": "<b>Resultado semanal"
        },
        "width": 800,
        "xaxis": {
         "range": [
          -15.712686140444331,
          1.079454037239036
         ],
         "showticklabels": true,
         "visible": true
        }
       }
      }
     },
     "metadata": {},
     "output_type": "display_data"
    }
   ],
   "source": [
    "fig_indices_results"
   ]
  },
  {
   "cell_type": "code",
   "execution_count": 30,
   "metadata": {},
   "outputs": [
    {
     "data": {
      "text/plain": [
       "15.71"
      ]
     },
     "execution_count": 30,
     "metadata": {},
     "output_type": "execute_result"
    }
   ],
   "source": [
    "max(list(np.abs(x_neg))+x_pos)"
   ]
  },
  {
   "cell_type": "code",
   "execution_count": 31,
   "metadata": {},
   "outputs": [
    {
     "data": {
      "text/plain": [
       "19.637500000000003"
      ]
     },
     "execution_count": 31,
     "metadata": {},
     "output_type": "execute_result"
    }
   ],
   "source": [
    "max(list(np.abs(x_neg))+x_pos)*1.25"
   ]
  },
  {
   "cell_type": "code",
   "execution_count": 32,
   "metadata": {},
   "outputs": [],
   "source": [
    "fig_indices_results = go.Figure()\n",
    "\n",
    "fig_indices_results.add_trace(go.Bar(\n",
    "    x=df_fig[\"Resultado_%\"],\n",
    "    y=df_fig[\"Índice\"],\n",
    "    marker_color=df_fig[\"Color\"],\n",
    "    orientation=\"h\",\n",
    "    )\n",
    ")\n",
    "\n",
    "annotations = []\n",
    "x_pos = []\n",
    "y_pos = []\n",
    "x_neg = []\n",
    "y_neg = []\n",
    "\n",
    "for i in range(len(df_fig)):\n",
    "\n",
    "    if df_fig[\"Resultado_%\"].iloc[i] > 0:\n",
    "        y_pos.append(df_fig[\"Índice\"].iloc[i])\n",
    "        x_pos.append(np.round(df_fig[\"Resultado_%\"].iloc[i], decimals=2))\n",
    "\n",
    "    else:\n",
    "        y_neg.append(df_fig[\"Índice\"].iloc[i])\n",
    "        x_neg.append(np.round(df_fig[\"Resultado_%\"].iloc[i], decimals=2))\n",
    "\n",
    "\n",
    "eixo_range = max(list(np.abs(x_neg))+x_pos)*1.25\n",
    "dist_barra = 2\n",
    "\n",
    "result_max = df_fig[\"Resultado_%\"].max() + eixo_range\n",
    "result_min = df_fig[\"Resultado_%\"].min() - eixo_range\n",
    "\n",
    "for yd, xd in zip(y_pos, x_pos):\n",
    "    annotations.append(\n",
    "        dict(\n",
    "            x=xd + dist_barra, \n",
    "            y=yd, \n",
    "            xref='x1', \n",
    "            yref='y1', \n",
    "            text=str(xd) + \"%\", \n",
    "            font=dict(family='Arial', size=17, color=\"black\"),\n",
    "            showarrow=False\n",
    "            )\n",
    "        )\n",
    "    \n",
    "for yd, xd in zip(y_neg, x_neg):\n",
    "    annotations.append(\n",
    "        dict(\n",
    "            x=xd + dist_barra, \n",
    "            y=yd, \n",
    "            xref='x1', \n",
    "            yref='y1', \n",
    "            text=str(xd) + \"%\", \n",
    "            font=dict(family='Arial', size=17, color=\"black\"),\n",
    "            showarrow=False\n",
    "            )\n",
    "        )\n",
    "\n",
    "fig_indices_results.update_xaxes(\n",
    "    visible=True,\n",
    "    showticklabels=True,\n",
    "    range=[(result_min), (result_max)],\n",
    ")\n",
    "\n",
    "fig_indices_results = fig_indices_results.update_layout(\n",
    "    title_text=\"<b>Resultado semanal\",\n",
    "    template=\"simple_white\",\n",
    "    margin=dict(l=20,r=20,t=70,b=20),\n",
    "    paper_bgcolor=\"#f7f8fa\",\n",
    "    width= 800,\n",
    "    height= (50 *len(df_fig)),\n",
    "    annotations = annotations,\n",
    "    font=dict(\n",
    "        family=\"Arial\",\n",
    "        size=17,\n",
    "        color=\"black\"\n",
    "    ),\n",
    ")\n",
    "        "
   ]
  },
  {
   "cell_type": "code",
   "execution_count": 33,
   "metadata": {},
   "outputs": [
    {
     "data": {
      "application/vnd.plotly.v1+json": {
       "config": {
        "plotlyServerURL": "https://plot.ly"
       },
       "data": [
        {
         "marker": {
          "color": [
           "green",
           "green",
           "green",
           "green",
           "green",
           "green",
           "red",
           "red",
           "red",
           "red",
           "red",
           "red",
           "red",
           "red",
           "red",
           "red",
           "red",
           "red",
           "red"
          ]
         },
         "orientation": "h",
         "type": "bar",
         "x": [
          1.079454037239036,
          0.8134356302333501,
          0.2981197585661288,
          0.16723910959068888,
          0.11459338726149682,
          0.0006646403711396687,
          -0.09114516765280634,
          -0.33276680461676866,
          -0.4406933460547324,
          -0.456403867198929,
          -0.5067322445916123,
          -0.5430550745274432,
          -0.5866008564610836,
          -0.7418645315775185,
          -0.8663688362348876,
          -1.059754755757425,
          -1.1534029651782074,
          -3.8697741327096025,
          -15.712686140444331
         ],
         "y": [
          "Bitcoin USD (BTC-USD)",
          "Bovespa (BVSP)",
          "NASDAQ Composite (IXIC)",
          "BSE Sensex 30 (BSESN)",
          "Dow Jones 30 (DJI)",
          "S&P 500 (GSPC)",
          "DAX (DE30)",
          "S&P/TSX Composite (GSPTSE)",
          "FTSE 100 (UK100)",
          "Russell 2000 (RUT)",
          "EuroNext 100 (N100)",
          "Shangai Composite (SSEC)",
          "CAC 40 (FCHI)",
          "MOEX Russia (IMOEX)",
          "SZSE Component (SZI)",
          "S&P/BMV IPC (MXX)",
          "Nikkei 225 (NIKKEI)",
          "Hang Seng (HK50)",
          "S&P Merval (MERV)"
         ]
        }
       ],
       "layout": {
        "annotations": [
         {
          "font": {
           "color": "black",
           "family": "Arial",
           "size": 17
          },
          "showarrow": false,
          "text": "1.08%",
          "x": 3.08,
          "xref": "x",
          "y": "Bitcoin USD (BTC-USD)",
          "yref": "y"
         },
         {
          "font": {
           "color": "black",
           "family": "Arial",
           "size": 17
          },
          "showarrow": false,
          "text": "0.81%",
          "x": 2.81,
          "xref": "x",
          "y": "Bovespa (BVSP)",
          "yref": "y"
         },
         {
          "font": {
           "color": "black",
           "family": "Arial",
           "size": 17
          },
          "showarrow": false,
          "text": "0.3%",
          "x": 2.3,
          "xref": "x",
          "y": "NASDAQ Composite (IXIC)",
          "yref": "y"
         },
         {
          "font": {
           "color": "black",
           "family": "Arial",
           "size": 17
          },
          "showarrow": false,
          "text": "0.17%",
          "x": 2.17,
          "xref": "x",
          "y": "BSE Sensex 30 (BSESN)",
          "yref": "y"
         },
         {
          "font": {
           "color": "black",
           "family": "Arial",
           "size": 17
          },
          "showarrow": false,
          "text": "0.11%",
          "x": 2.11,
          "xref": "x",
          "y": "Dow Jones 30 (DJI)",
          "yref": "y"
         },
         {
          "font": {
           "color": "black",
           "family": "Arial",
           "size": 17
          },
          "showarrow": false,
          "text": "0.0%",
          "x": 2,
          "xref": "x",
          "y": "S&P 500 (GSPC)",
          "yref": "y"
         },
         {
          "font": {
           "color": "black",
           "family": "Arial",
           "size": 17
          },
          "showarrow": false,
          "text": "-0.09%",
          "x": 1.91,
          "xref": "x",
          "y": "DAX (DE30)",
          "yref": "y"
         },
         {
          "font": {
           "color": "black",
           "family": "Arial",
           "size": 17
          },
          "showarrow": false,
          "text": "-0.33%",
          "x": 1.67,
          "xref": "x",
          "y": "S&P/TSX Composite (GSPTSE)",
          "yref": "y"
         },
         {
          "font": {
           "color": "black",
           "family": "Arial",
           "size": 17
          },
          "showarrow": false,
          "text": "-0.44%",
          "x": 1.56,
          "xref": "x",
          "y": "FTSE 100 (UK100)",
          "yref": "y"
         },
         {
          "font": {
           "color": "black",
           "family": "Arial",
           "size": 17
          },
          "showarrow": false,
          "text": "-0.46%",
          "x": 1.54,
          "xref": "x",
          "y": "Russell 2000 (RUT)",
          "yref": "y"
         },
         {
          "font": {
           "color": "black",
           "family": "Arial",
           "size": 17
          },
          "showarrow": false,
          "text": "-0.51%",
          "x": 1.49,
          "xref": "x",
          "y": "EuroNext 100 (N100)",
          "yref": "y"
         },
         {
          "font": {
           "color": "black",
           "family": "Arial",
           "size": 17
          },
          "showarrow": false,
          "text": "-0.54%",
          "x": 1.46,
          "xref": "x",
          "y": "Shangai Composite (SSEC)",
          "yref": "y"
         },
         {
          "font": {
           "color": "black",
           "family": "Arial",
           "size": 17
          },
          "showarrow": false,
          "text": "-0.59%",
          "x": 1.4100000000000001,
          "xref": "x",
          "y": "CAC 40 (FCHI)",
          "yref": "y"
         },
         {
          "font": {
           "color": "black",
           "family": "Arial",
           "size": 17
          },
          "showarrow": false,
          "text": "-0.74%",
          "x": 1.26,
          "xref": "x",
          "y": "MOEX Russia (IMOEX)",
          "yref": "y"
         },
         {
          "font": {
           "color": "black",
           "family": "Arial",
           "size": 17
          },
          "showarrow": false,
          "text": "-0.87%",
          "x": 1.13,
          "xref": "x",
          "y": "SZSE Component (SZI)",
          "yref": "y"
         },
         {
          "font": {
           "color": "black",
           "family": "Arial",
           "size": 17
          },
          "showarrow": false,
          "text": "-1.06%",
          "x": 0.94,
          "xref": "x",
          "y": "S&P/BMV IPC (MXX)",
          "yref": "y"
         },
         {
          "font": {
           "color": "black",
           "family": "Arial",
           "size": 17
          },
          "showarrow": false,
          "text": "-1.15%",
          "x": 0.8500000000000001,
          "xref": "x",
          "y": "Nikkei 225 (NIKKEI)",
          "yref": "y"
         },
         {
          "font": {
           "color": "black",
           "family": "Arial",
           "size": 17
          },
          "showarrow": false,
          "text": "-3.87%",
          "x": -1.87,
          "xref": "x",
          "y": "Hang Seng (HK50)",
          "yref": "y"
         },
         {
          "font": {
           "color": "black",
           "family": "Arial",
           "size": 17
          },
          "showarrow": false,
          "text": "-15.71%",
          "x": -13.71,
          "xref": "x",
          "y": "S&P Merval (MERV)",
          "yref": "y"
         }
        ],
        "font": {
         "color": "black",
         "family": "Arial",
         "size": 17
        },
        "height": 950,
        "margin": {
         "b": 20,
         "l": 20,
         "r": 20,
         "t": 70
        },
        "paper_bgcolor": "#f7f8fa",
        "template": {
         "data": {
          "bar": [
           {
            "error_x": {
             "color": "rgb(36,36,36)"
            },
            "error_y": {
             "color": "rgb(36,36,36)"
            },
            "marker": {
             "line": {
              "color": "white",
              "width": 0.5
             },
             "pattern": {
              "fillmode": "overlay",
              "size": 10,
              "solidity": 0.2
             }
            },
            "type": "bar"
           }
          ],
          "barpolar": [
           {
            "marker": {
             "line": {
              "color": "white",
              "width": 0.5
             },
             "pattern": {
              "fillmode": "overlay",
              "size": 10,
              "solidity": 0.2
             }
            },
            "type": "barpolar"
           }
          ],
          "carpet": [
           {
            "aaxis": {
             "endlinecolor": "rgb(36,36,36)",
             "gridcolor": "white",
             "linecolor": "white",
             "minorgridcolor": "white",
             "startlinecolor": "rgb(36,36,36)"
            },
            "baxis": {
             "endlinecolor": "rgb(36,36,36)",
             "gridcolor": "white",
             "linecolor": "white",
             "minorgridcolor": "white",
             "startlinecolor": "rgb(36,36,36)"
            },
            "type": "carpet"
           }
          ],
          "choropleth": [
           {
            "colorbar": {
             "outlinewidth": 1,
             "tickcolor": "rgb(36,36,36)",
             "ticks": "outside"
            },
            "type": "choropleth"
           }
          ],
          "contour": [
           {
            "colorbar": {
             "outlinewidth": 1,
             "tickcolor": "rgb(36,36,36)",
             "ticks": "outside"
            },
            "colorscale": [
             [
              0,
              "#440154"
             ],
             [
              0.1111111111111111,
              "#482878"
             ],
             [
              0.2222222222222222,
              "#3e4989"
             ],
             [
              0.3333333333333333,
              "#31688e"
             ],
             [
              0.4444444444444444,
              "#26828e"
             ],
             [
              0.5555555555555556,
              "#1f9e89"
             ],
             [
              0.6666666666666666,
              "#35b779"
             ],
             [
              0.7777777777777778,
              "#6ece58"
             ],
             [
              0.8888888888888888,
              "#b5de2b"
             ],
             [
              1,
              "#fde725"
             ]
            ],
            "type": "contour"
           }
          ],
          "contourcarpet": [
           {
            "colorbar": {
             "outlinewidth": 1,
             "tickcolor": "rgb(36,36,36)",
             "ticks": "outside"
            },
            "type": "contourcarpet"
           }
          ],
          "heatmap": [
           {
            "colorbar": {
             "outlinewidth": 1,
             "tickcolor": "rgb(36,36,36)",
             "ticks": "outside"
            },
            "colorscale": [
             [
              0,
              "#440154"
             ],
             [
              0.1111111111111111,
              "#482878"
             ],
             [
              0.2222222222222222,
              "#3e4989"
             ],
             [
              0.3333333333333333,
              "#31688e"
             ],
             [
              0.4444444444444444,
              "#26828e"
             ],
             [
              0.5555555555555556,
              "#1f9e89"
             ],
             [
              0.6666666666666666,
              "#35b779"
             ],
             [
              0.7777777777777778,
              "#6ece58"
             ],
             [
              0.8888888888888888,
              "#b5de2b"
             ],
             [
              1,
              "#fde725"
             ]
            ],
            "type": "heatmap"
           }
          ],
          "heatmapgl": [
           {
            "colorbar": {
             "outlinewidth": 1,
             "tickcolor": "rgb(36,36,36)",
             "ticks": "outside"
            },
            "colorscale": [
             [
              0,
              "#440154"
             ],
             [
              0.1111111111111111,
              "#482878"
             ],
             [
              0.2222222222222222,
              "#3e4989"
             ],
             [
              0.3333333333333333,
              "#31688e"
             ],
             [
              0.4444444444444444,
              "#26828e"
             ],
             [
              0.5555555555555556,
              "#1f9e89"
             ],
             [
              0.6666666666666666,
              "#35b779"
             ],
             [
              0.7777777777777778,
              "#6ece58"
             ],
             [
              0.8888888888888888,
              "#b5de2b"
             ],
             [
              1,
              "#fde725"
             ]
            ],
            "type": "heatmapgl"
           }
          ],
          "histogram": [
           {
            "marker": {
             "line": {
              "color": "white",
              "width": 0.6
             }
            },
            "type": "histogram"
           }
          ],
          "histogram2d": [
           {
            "colorbar": {
             "outlinewidth": 1,
             "tickcolor": "rgb(36,36,36)",
             "ticks": "outside"
            },
            "colorscale": [
             [
              0,
              "#440154"
             ],
             [
              0.1111111111111111,
              "#482878"
             ],
             [
              0.2222222222222222,
              "#3e4989"
             ],
             [
              0.3333333333333333,
              "#31688e"
             ],
             [
              0.4444444444444444,
              "#26828e"
             ],
             [
              0.5555555555555556,
              "#1f9e89"
             ],
             [
              0.6666666666666666,
              "#35b779"
             ],
             [
              0.7777777777777778,
              "#6ece58"
             ],
             [
              0.8888888888888888,
              "#b5de2b"
             ],
             [
              1,
              "#fde725"
             ]
            ],
            "type": "histogram2d"
           }
          ],
          "histogram2dcontour": [
           {
            "colorbar": {
             "outlinewidth": 1,
             "tickcolor": "rgb(36,36,36)",
             "ticks": "outside"
            },
            "colorscale": [
             [
              0,
              "#440154"
             ],
             [
              0.1111111111111111,
              "#482878"
             ],
             [
              0.2222222222222222,
              "#3e4989"
             ],
             [
              0.3333333333333333,
              "#31688e"
             ],
             [
              0.4444444444444444,
              "#26828e"
             ],
             [
              0.5555555555555556,
              "#1f9e89"
             ],
             [
              0.6666666666666666,
              "#35b779"
             ],
             [
              0.7777777777777778,
              "#6ece58"
             ],
             [
              0.8888888888888888,
              "#b5de2b"
             ],
             [
              1,
              "#fde725"
             ]
            ],
            "type": "histogram2dcontour"
           }
          ],
          "mesh3d": [
           {
            "colorbar": {
             "outlinewidth": 1,
             "tickcolor": "rgb(36,36,36)",
             "ticks": "outside"
            },
            "type": "mesh3d"
           }
          ],
          "parcoords": [
           {
            "line": {
             "colorbar": {
              "outlinewidth": 1,
              "tickcolor": "rgb(36,36,36)",
              "ticks": "outside"
             }
            },
            "type": "parcoords"
           }
          ],
          "pie": [
           {
            "automargin": true,
            "type": "pie"
           }
          ],
          "scatter": [
           {
            "fillpattern": {
             "fillmode": "overlay",
             "size": 10,
             "solidity": 0.2
            },
            "type": "scatter"
           }
          ],
          "scatter3d": [
           {
            "line": {
             "colorbar": {
              "outlinewidth": 1,
              "tickcolor": "rgb(36,36,36)",
              "ticks": "outside"
             }
            },
            "marker": {
             "colorbar": {
              "outlinewidth": 1,
              "tickcolor": "rgb(36,36,36)",
              "ticks": "outside"
             }
            },
            "type": "scatter3d"
           }
          ],
          "scattercarpet": [
           {
            "marker": {
             "colorbar": {
              "outlinewidth": 1,
              "tickcolor": "rgb(36,36,36)",
              "ticks": "outside"
             }
            },
            "type": "scattercarpet"
           }
          ],
          "scattergeo": [
           {
            "marker": {
             "colorbar": {
              "outlinewidth": 1,
              "tickcolor": "rgb(36,36,36)",
              "ticks": "outside"
             }
            },
            "type": "scattergeo"
           }
          ],
          "scattergl": [
           {
            "marker": {
             "colorbar": {
              "outlinewidth": 1,
              "tickcolor": "rgb(36,36,36)",
              "ticks": "outside"
             }
            },
            "type": "scattergl"
           }
          ],
          "scattermapbox": [
           {
            "marker": {
             "colorbar": {
              "outlinewidth": 1,
              "tickcolor": "rgb(36,36,36)",
              "ticks": "outside"
             }
            },
            "type": "scattermapbox"
           }
          ],
          "scatterpolar": [
           {
            "marker": {
             "colorbar": {
              "outlinewidth": 1,
              "tickcolor": "rgb(36,36,36)",
              "ticks": "outside"
             }
            },
            "type": "scatterpolar"
           }
          ],
          "scatterpolargl": [
           {
            "marker": {
             "colorbar": {
              "outlinewidth": 1,
              "tickcolor": "rgb(36,36,36)",
              "ticks": "outside"
             }
            },
            "type": "scatterpolargl"
           }
          ],
          "scatterternary": [
           {
            "marker": {
             "colorbar": {
              "outlinewidth": 1,
              "tickcolor": "rgb(36,36,36)",
              "ticks": "outside"
             }
            },
            "type": "scatterternary"
           }
          ],
          "surface": [
           {
            "colorbar": {
             "outlinewidth": 1,
             "tickcolor": "rgb(36,36,36)",
             "ticks": "outside"
            },
            "colorscale": [
             [
              0,
              "#440154"
             ],
             [
              0.1111111111111111,
              "#482878"
             ],
             [
              0.2222222222222222,
              "#3e4989"
             ],
             [
              0.3333333333333333,
              "#31688e"
             ],
             [
              0.4444444444444444,
              "#26828e"
             ],
             [
              0.5555555555555556,
              "#1f9e89"
             ],
             [
              0.6666666666666666,
              "#35b779"
             ],
             [
              0.7777777777777778,
              "#6ece58"
             ],
             [
              0.8888888888888888,
              "#b5de2b"
             ],
             [
              1,
              "#fde725"
             ]
            ],
            "type": "surface"
           }
          ],
          "table": [
           {
            "cells": {
             "fill": {
              "color": "rgb(237,237,237)"
             },
             "line": {
              "color": "white"
             }
            },
            "header": {
             "fill": {
              "color": "rgb(217,217,217)"
             },
             "line": {
              "color": "white"
             }
            },
            "type": "table"
           }
          ]
         },
         "layout": {
          "annotationdefaults": {
           "arrowhead": 0,
           "arrowwidth": 1
          },
          "autotypenumbers": "strict",
          "coloraxis": {
           "colorbar": {
            "outlinewidth": 1,
            "tickcolor": "rgb(36,36,36)",
            "ticks": "outside"
           }
          },
          "colorscale": {
           "diverging": [
            [
             0,
             "rgb(103,0,31)"
            ],
            [
             0.1,
             "rgb(178,24,43)"
            ],
            [
             0.2,
             "rgb(214,96,77)"
            ],
            [
             0.3,
             "rgb(244,165,130)"
            ],
            [
             0.4,
             "rgb(253,219,199)"
            ],
            [
             0.5,
             "rgb(247,247,247)"
            ],
            [
             0.6,
             "rgb(209,229,240)"
            ],
            [
             0.7,
             "rgb(146,197,222)"
            ],
            [
             0.8,
             "rgb(67,147,195)"
            ],
            [
             0.9,
             "rgb(33,102,172)"
            ],
            [
             1,
             "rgb(5,48,97)"
            ]
           ],
           "sequential": [
            [
             0,
             "#440154"
            ],
            [
             0.1111111111111111,
             "#482878"
            ],
            [
             0.2222222222222222,
             "#3e4989"
            ],
            [
             0.3333333333333333,
             "#31688e"
            ],
            [
             0.4444444444444444,
             "#26828e"
            ],
            [
             0.5555555555555556,
             "#1f9e89"
            ],
            [
             0.6666666666666666,
             "#35b779"
            ],
            [
             0.7777777777777778,
             "#6ece58"
            ],
            [
             0.8888888888888888,
             "#b5de2b"
            ],
            [
             1,
             "#fde725"
            ]
           ],
           "sequentialminus": [
            [
             0,
             "#440154"
            ],
            [
             0.1111111111111111,
             "#482878"
            ],
            [
             0.2222222222222222,
             "#3e4989"
            ],
            [
             0.3333333333333333,
             "#31688e"
            ],
            [
             0.4444444444444444,
             "#26828e"
            ],
            [
             0.5555555555555556,
             "#1f9e89"
            ],
            [
             0.6666666666666666,
             "#35b779"
            ],
            [
             0.7777777777777778,
             "#6ece58"
            ],
            [
             0.8888888888888888,
             "#b5de2b"
            ],
            [
             1,
             "#fde725"
            ]
           ]
          },
          "colorway": [
           "#1F77B4",
           "#FF7F0E",
           "#2CA02C",
           "#D62728",
           "#9467BD",
           "#8C564B",
           "#E377C2",
           "#7F7F7F",
           "#BCBD22",
           "#17BECF"
          ],
          "font": {
           "color": "rgb(36,36,36)"
          },
          "geo": {
           "bgcolor": "white",
           "lakecolor": "white",
           "landcolor": "white",
           "showlakes": true,
           "showland": true,
           "subunitcolor": "white"
          },
          "hoverlabel": {
           "align": "left"
          },
          "hovermode": "closest",
          "mapbox": {
           "style": "light"
          },
          "paper_bgcolor": "white",
          "plot_bgcolor": "white",
          "polar": {
           "angularaxis": {
            "gridcolor": "rgb(232,232,232)",
            "linecolor": "rgb(36,36,36)",
            "showgrid": false,
            "showline": true,
            "ticks": "outside"
           },
           "bgcolor": "white",
           "radialaxis": {
            "gridcolor": "rgb(232,232,232)",
            "linecolor": "rgb(36,36,36)",
            "showgrid": false,
            "showline": true,
            "ticks": "outside"
           }
          },
          "scene": {
           "xaxis": {
            "backgroundcolor": "white",
            "gridcolor": "rgb(232,232,232)",
            "gridwidth": 2,
            "linecolor": "rgb(36,36,36)",
            "showbackground": true,
            "showgrid": false,
            "showline": true,
            "ticks": "outside",
            "zeroline": false,
            "zerolinecolor": "rgb(36,36,36)"
           },
           "yaxis": {
            "backgroundcolor": "white",
            "gridcolor": "rgb(232,232,232)",
            "gridwidth": 2,
            "linecolor": "rgb(36,36,36)",
            "showbackground": true,
            "showgrid": false,
            "showline": true,
            "ticks": "outside",
            "zeroline": false,
            "zerolinecolor": "rgb(36,36,36)"
           },
           "zaxis": {
            "backgroundcolor": "white",
            "gridcolor": "rgb(232,232,232)",
            "gridwidth": 2,
            "linecolor": "rgb(36,36,36)",
            "showbackground": true,
            "showgrid": false,
            "showline": true,
            "ticks": "outside",
            "zeroline": false,
            "zerolinecolor": "rgb(36,36,36)"
           }
          },
          "shapedefaults": {
           "fillcolor": "black",
           "line": {
            "width": 0
           },
           "opacity": 0.3
          },
          "ternary": {
           "aaxis": {
            "gridcolor": "rgb(232,232,232)",
            "linecolor": "rgb(36,36,36)",
            "showgrid": false,
            "showline": true,
            "ticks": "outside"
           },
           "baxis": {
            "gridcolor": "rgb(232,232,232)",
            "linecolor": "rgb(36,36,36)",
            "showgrid": false,
            "showline": true,
            "ticks": "outside"
           },
           "bgcolor": "white",
           "caxis": {
            "gridcolor": "rgb(232,232,232)",
            "linecolor": "rgb(36,36,36)",
            "showgrid": false,
            "showline": true,
            "ticks": "outside"
           }
          },
          "title": {
           "x": 0.05
          },
          "xaxis": {
           "automargin": true,
           "gridcolor": "rgb(232,232,232)",
           "linecolor": "rgb(36,36,36)",
           "showgrid": false,
           "showline": true,
           "ticks": "outside",
           "title": {
            "standoff": 15
           },
           "zeroline": false,
           "zerolinecolor": "rgb(36,36,36)"
          },
          "yaxis": {
           "automargin": true,
           "gridcolor": "rgb(232,232,232)",
           "linecolor": "rgb(36,36,36)",
           "showgrid": false,
           "showline": true,
           "ticks": "outside",
           "title": {
            "standoff": 15
           },
           "zeroline": false,
           "zerolinecolor": "rgb(36,36,36)"
          }
         }
        },
        "title": {
         "text": "<b>Resultado semanal"
        },
        "width": 800,
        "xaxis": {
         "range": [
          -35.350186140444336,
          20.716954037239038
         ],
         "showticklabels": true,
         "visible": true
        }
       }
      }
     },
     "metadata": {},
     "output_type": "display_data"
    }
   ],
   "source": [
    "fig_indices_results"
   ]
  },
  {
   "cell_type": "code",
   "execution_count": 34,
   "metadata": {},
   "outputs": [],
   "source": [
    "fig_indices_results.write_image(\"../Weekly Report/images/fig_internacional.png\", width = 800, height = 1000, scale = 3)"
   ]
  },
  {
   "cell_type": "code",
   "execution_count": 35,
   "metadata": {},
   "outputs": [],
   "source": [
    "fig_indices_results.write_html(\"../Weekly Report/html/fig_internacional.html\")"
   ]
  },
  {
   "cell_type": "markdown",
   "metadata": {},
   "source": [
    "## **4. Índices Nacionais**"
   ]
  },
  {
   "cell_type": "code",
   "execution_count": 36,
   "metadata": {},
   "outputs": [
    {
     "data": {
      "text/plain": [
       "Timestamp('2023-11-27 00:00:00')"
      ]
     },
     "execution_count": 36,
     "metadata": {},
     "output_type": "execute_result"
    }
   ],
   "source": [
    "data_inicio_mt5 = pd.to_datetime(data_inicio)\n",
    "data_final_mt5 = pd.to_datetime(data_final)\n",
    "data_inicio_mt5"
   ]
  },
  {
   "cell_type": "code",
   "execution_count": 80,
   "metadata": {},
   "outputs": [
    {
     "data": {
      "text/html": [
       "<div>\n",
       "<style scoped>\n",
       "    .dataframe tbody tr th:only-of-type {\n",
       "        vertical-align: middle;\n",
       "    }\n",
       "\n",
       "    .dataframe tbody tr th {\n",
       "        vertical-align: top;\n",
       "    }\n",
       "\n",
       "    .dataframe thead th {\n",
       "        text-align: right;\n",
       "    }\n",
       "</style>\n",
       "<table border=\"1\" class=\"dataframe\">\n",
       "  <thead>\n",
       "    <tr style=\"text-align: right;\">\n",
       "      <th></th>\n",
       "      <th>Índice</th>\n",
       "      <th>Ticker_MT5</th>\n",
       "    </tr>\n",
       "  </thead>\n",
       "  <tbody>\n",
       "    <tr>\n",
       "      <th>0</th>\n",
       "      <td>Bovespa</td>\n",
       "      <td>IBOV</td>\n",
       "    </tr>\n",
       "    <tr>\n",
       "      <th>1</th>\n",
       "      <td>Índice Futuro</td>\n",
       "      <td>IND$</td>\n",
       "    </tr>\n",
       "    <tr>\n",
       "      <th>2</th>\n",
       "      <td>Brazil Index</td>\n",
       "      <td>IBXX</td>\n",
       "    </tr>\n",
       "    <tr>\n",
       "      <th>3</th>\n",
       "      <td>Mid-Large Cap Index</td>\n",
       "      <td>MLCX</td>\n",
       "    </tr>\n",
       "    <tr>\n",
       "      <th>4</th>\n",
       "      <td>Small Cap Index</td>\n",
       "      <td>SMLL</td>\n",
       "    </tr>\n",
       "    <tr>\n",
       "      <th>5</th>\n",
       "      <td>Brazil Board-Based</td>\n",
       "      <td>IBRA</td>\n",
       "    </tr>\n",
       "    <tr>\n",
       "      <th>6</th>\n",
       "      <td>Real Estate Funds</td>\n",
       "      <td>IFIX</td>\n",
       "    </tr>\n",
       "    <tr>\n",
       "      <th>7</th>\n",
       "      <td>Braz. Depositary Receipts</td>\n",
       "      <td>BDRX</td>\n",
       "    </tr>\n",
       "    <tr>\n",
       "      <th>8</th>\n",
       "      <td>Bitcoin</td>\n",
       "      <td>cryBTCUSD</td>\n",
       "    </tr>\n",
       "  </tbody>\n",
       "</table>\n",
       "</div>"
      ],
      "text/plain": [
       "                      Índice Ticker_MT5\n",
       "0                    Bovespa       IBOV\n",
       "1              Índice Futuro       IND$\n",
       "2               Brazil Index       IBXX\n",
       "3        Mid-Large Cap Index       MLCX\n",
       "4            Small Cap Index       SMLL\n",
       "5         Brazil Board-Based       IBRA\n",
       "6          Real Estate Funds       IFIX\n",
       "7  Braz. Depositary Receipts       BDRX\n",
       "8                    Bitcoin  cryBTCUSD"
      ]
     },
     "execution_count": 80,
     "metadata": {},
     "output_type": "execute_result"
    }
   ],
   "source": [
    "dict_mt5_brazil_indices = {\n",
    "    \"Bovespa\": \"IBOV\",\n",
    "    \"Índice Futuro\": \"IND$\",\n",
    "    \"Brazil Index\": \"IBXX\",\n",
    "    \"Mid-Large Cap Index\": \"MLCX\",\n",
    "    \"Small Cap Index\": \"SMLL\",\n",
    "    \"Brazil Board-Based\": \"IBRA\",\n",
    "    \"Real Estate Funds\": \"IFIX\",\n",
    "    \"Braz. Depositary Receipts\": \"BDRX\",\n",
    "    \"Bitcoin\": \"cryBTCUSD\"\n",
    "}\n",
    "\n",
    "df_mt5_brazil_indices = pd.DataFrame.from_dict(dict_mt5_brazil_indices, orient='index', columns=['Ticker_MT5'])\n",
    "df_mt5_brazil_indices = df_mt5_brazil_indices.reset_index()\n",
    "df_mt5_brazil_indices = df_mt5_brazil_indices.rename({'index':'Índice'}, axis=1)\n",
    "df_mt5_brazil_indices"
   ]
  },
  {
   "cell_type": "code",
   "execution_count": 81,
   "metadata": {},
   "outputs": [
    {
     "data": {
      "text/plain": [
       "True"
      ]
     },
     "execution_count": 81,
     "metadata": {},
     "output_type": "execute_result"
    }
   ],
   "source": [
    "mt5.initialize()"
   ]
  },
  {
   "cell_type": "code",
   "execution_count": 82,
   "metadata": {},
   "outputs": [],
   "source": [
    "brazil_ohlcv = pd.DataFrame()\n",
    "\n",
    "for i in range(len(df_mt5_brazil_indices)):\n",
    "    try:\n",
    "        ohlcv_indice = pd.DataFrame(mt5.copy_rates_range(df_mt5_brazil_indices.Ticker_MT5[i], mt5.TIMEFRAME_D1, data_inicio_mt5, data_final_mt5))\n",
    "        ohlcv_indice.index = pd.to_datetime(ohlcv_indice[\"time\"], unit=\"s\")\n",
    "        ohlcv_indice = ohlcv_indice.resample(\"W\").agg({\"open\": \"first\", \"high\": \"max\", \"low\": \"min\", \"close\": \"last\"})\n",
    "        ohlcv_indice[\"Resultado_%\"] = (ohlcv_indice.close/ohlcv_indice.open-1)*100\n",
    "        ohlcv_indice.insert(0, \"Ticker_MT5\", df_mt5_brazil_indices.Ticker_MT5[i])\n",
    "        brazil_ohlcv = pd.concat([ohlcv_indice, brazil_ohlcv], axis=0)\n",
    "    except:\n",
    "        pass"
   ]
  },
  {
   "cell_type": "code",
   "execution_count": 83,
   "metadata": {},
   "outputs": [
    {
     "data": {
      "text/html": [
       "<div>\n",
       "<style scoped>\n",
       "    .dataframe tbody tr th:only-of-type {\n",
       "        vertical-align: middle;\n",
       "    }\n",
       "\n",
       "    .dataframe tbody tr th {\n",
       "        vertical-align: top;\n",
       "    }\n",
       "\n",
       "    .dataframe thead th {\n",
       "        text-align: right;\n",
       "    }\n",
       "</style>\n",
       "<table border=\"1\" class=\"dataframe\">\n",
       "  <thead>\n",
       "    <tr style=\"text-align: right;\">\n",
       "      <th></th>\n",
       "      <th>Ticker_MT5</th>\n",
       "      <th>open</th>\n",
       "      <th>high</th>\n",
       "      <th>low</th>\n",
       "      <th>close</th>\n",
       "      <th>Resultado_%</th>\n",
       "    </tr>\n",
       "    <tr>\n",
       "      <th>time</th>\n",
       "      <th></th>\n",
       "      <th></th>\n",
       "      <th></th>\n",
       "      <th></th>\n",
       "      <th></th>\n",
       "      <th></th>\n",
       "    </tr>\n",
       "  </thead>\n",
       "  <tbody>\n",
       "    <tr>\n",
       "      <th>2023-12-03</th>\n",
       "      <td>cryBTCUSD</td>\n",
       "      <td>38638.33</td>\n",
       "      <td>38663.85</td>\n",
       "      <td>38638.33</td>\n",
       "      <td>38661.05</td>\n",
       "      <td>0.058802</td>\n",
       "    </tr>\n",
       "    <tr>\n",
       "      <th>2023-12-03</th>\n",
       "      <td>BDRX</td>\n",
       "      <td>13575.00</td>\n",
       "      <td>13684.00</td>\n",
       "      <td>13390.00</td>\n",
       "      <td>13592.00</td>\n",
       "      <td>0.125230</td>\n",
       "    </tr>\n",
       "    <tr>\n",
       "      <th>2023-12-03</th>\n",
       "      <td>IFIX</td>\n",
       "      <td>3175.00</td>\n",
       "      <td>3181.00</td>\n",
       "      <td>3159.00</td>\n",
       "      <td>3164.00</td>\n",
       "      <td>-0.346457</td>\n",
       "    </tr>\n",
       "    <tr>\n",
       "      <th>2023-12-03</th>\n",
       "      <td>IBRA</td>\n",
       "      <td>4931.00</td>\n",
       "      <td>5007.00</td>\n",
       "      <td>4904.00</td>\n",
       "      <td>4958.00</td>\n",
       "      <td>0.547556</td>\n",
       "    </tr>\n",
       "    <tr>\n",
       "      <th>2023-12-03</th>\n",
       "      <td>SMLL</td>\n",
       "      <td>2141.00</td>\n",
       "      <td>2201.00</td>\n",
       "      <td>2133.00</td>\n",
       "      <td>2174.00</td>\n",
       "      <td>1.541336</td>\n",
       "    </tr>\n",
       "    <tr>\n",
       "      <th>2023-12-03</th>\n",
       "      <td>MLCX</td>\n",
       "      <td>2499.00</td>\n",
       "      <td>2534.00</td>\n",
       "      <td>2485.00</td>\n",
       "      <td>2510.00</td>\n",
       "      <td>0.440176</td>\n",
       "    </tr>\n",
       "    <tr>\n",
       "      <th>2023-12-03</th>\n",
       "      <td>IBXX</td>\n",
       "      <td>52762.00</td>\n",
       "      <td>53545.00</td>\n",
       "      <td>52470.00</td>\n",
       "      <td>53022.00</td>\n",
       "      <td>0.492779</td>\n",
       "    </tr>\n",
       "    <tr>\n",
       "      <th>2023-12-03</th>\n",
       "      <td>IND$</td>\n",
       "      <td>126050.00</td>\n",
       "      <td>127890.00</td>\n",
       "      <td>125485.00</td>\n",
       "      <td>126695.00</td>\n",
       "      <td>0.511702</td>\n",
       "    </tr>\n",
       "    <tr>\n",
       "      <th>2023-12-03</th>\n",
       "      <td>IBOV</td>\n",
       "      <td>125517.00</td>\n",
       "      <td>127388.00</td>\n",
       "      <td>124840.00</td>\n",
       "      <td>126166.00</td>\n",
       "      <td>0.517061</td>\n",
       "    </tr>\n",
       "  </tbody>\n",
       "</table>\n",
       "</div>"
      ],
      "text/plain": [
       "           Ticker_MT5       open       high        low      close  Resultado_%\n",
       "time                                                                          \n",
       "2023-12-03  cryBTCUSD   38638.33   38663.85   38638.33   38661.05     0.058802\n",
       "2023-12-03       BDRX   13575.00   13684.00   13390.00   13592.00     0.125230\n",
       "2023-12-03       IFIX    3175.00    3181.00    3159.00    3164.00    -0.346457\n",
       "2023-12-03       IBRA    4931.00    5007.00    4904.00    4958.00     0.547556\n",
       "2023-12-03       SMLL    2141.00    2201.00    2133.00    2174.00     1.541336\n",
       "2023-12-03       MLCX    2499.00    2534.00    2485.00    2510.00     0.440176\n",
       "2023-12-03       IBXX   52762.00   53545.00   52470.00   53022.00     0.492779\n",
       "2023-12-03       IND$  126050.00  127890.00  125485.00  126695.00     0.511702\n",
       "2023-12-03       IBOV  125517.00  127388.00  124840.00  126166.00     0.517061"
      ]
     },
     "execution_count": 83,
     "metadata": {},
     "output_type": "execute_result"
    }
   ],
   "source": [
    "brazil_ohlcv"
   ]
  },
  {
   "cell_type": "code",
   "execution_count": 84,
   "metadata": {},
   "outputs": [
    {
     "data": {
      "text/html": [
       "<div>\n",
       "<style scoped>\n",
       "    .dataframe tbody tr th:only-of-type {\n",
       "        vertical-align: middle;\n",
       "    }\n",
       "\n",
       "    .dataframe tbody tr th {\n",
       "        vertical-align: top;\n",
       "    }\n",
       "\n",
       "    .dataframe thead th {\n",
       "        text-align: right;\n",
       "    }\n",
       "</style>\n",
       "<table border=\"1\" class=\"dataframe\">\n",
       "  <thead>\n",
       "    <tr style=\"text-align: right;\">\n",
       "      <th></th>\n",
       "      <th>open</th>\n",
       "      <th>high</th>\n",
       "      <th>low</th>\n",
       "      <th>close</th>\n",
       "      <th>Resultado_%</th>\n",
       "    </tr>\n",
       "    <tr>\n",
       "      <th>Ticker_MT5</th>\n",
       "      <th></th>\n",
       "      <th></th>\n",
       "      <th></th>\n",
       "      <th></th>\n",
       "      <th></th>\n",
       "    </tr>\n",
       "  </thead>\n",
       "  <tbody>\n",
       "    <tr>\n",
       "      <th>cryBTCUSD</th>\n",
       "      <td>38638.33</td>\n",
       "      <td>38663.85</td>\n",
       "      <td>38638.33</td>\n",
       "      <td>38661.05</td>\n",
       "      <td>0.058802</td>\n",
       "    </tr>\n",
       "    <tr>\n",
       "      <th>BDRX</th>\n",
       "      <td>13575.00</td>\n",
       "      <td>13684.00</td>\n",
       "      <td>13390.00</td>\n",
       "      <td>13592.00</td>\n",
       "      <td>0.125230</td>\n",
       "    </tr>\n",
       "    <tr>\n",
       "      <th>IFIX</th>\n",
       "      <td>3175.00</td>\n",
       "      <td>3181.00</td>\n",
       "      <td>3159.00</td>\n",
       "      <td>3164.00</td>\n",
       "      <td>-0.346457</td>\n",
       "    </tr>\n",
       "    <tr>\n",
       "      <th>IBRA</th>\n",
       "      <td>4931.00</td>\n",
       "      <td>5007.00</td>\n",
       "      <td>4904.00</td>\n",
       "      <td>4958.00</td>\n",
       "      <td>0.547556</td>\n",
       "    </tr>\n",
       "    <tr>\n",
       "      <th>SMLL</th>\n",
       "      <td>2141.00</td>\n",
       "      <td>2201.00</td>\n",
       "      <td>2133.00</td>\n",
       "      <td>2174.00</td>\n",
       "      <td>1.541336</td>\n",
       "    </tr>\n",
       "    <tr>\n",
       "      <th>MLCX</th>\n",
       "      <td>2499.00</td>\n",
       "      <td>2534.00</td>\n",
       "      <td>2485.00</td>\n",
       "      <td>2510.00</td>\n",
       "      <td>0.440176</td>\n",
       "    </tr>\n",
       "    <tr>\n",
       "      <th>IBXX</th>\n",
       "      <td>52762.00</td>\n",
       "      <td>53545.00</td>\n",
       "      <td>52470.00</td>\n",
       "      <td>53022.00</td>\n",
       "      <td>0.492779</td>\n",
       "    </tr>\n",
       "    <tr>\n",
       "      <th>IND$</th>\n",
       "      <td>126050.00</td>\n",
       "      <td>127890.00</td>\n",
       "      <td>125485.00</td>\n",
       "      <td>126695.00</td>\n",
       "      <td>0.511702</td>\n",
       "    </tr>\n",
       "    <tr>\n",
       "      <th>IBOV</th>\n",
       "      <td>125517.00</td>\n",
       "      <td>127388.00</td>\n",
       "      <td>124840.00</td>\n",
       "      <td>126166.00</td>\n",
       "      <td>0.517061</td>\n",
       "    </tr>\n",
       "  </tbody>\n",
       "</table>\n",
       "</div>"
      ],
      "text/plain": [
       "                 open       high        low      close  Resultado_%\n",
       "Ticker_MT5                                                         \n",
       "cryBTCUSD    38638.33   38663.85   38638.33   38661.05     0.058802\n",
       "BDRX         13575.00   13684.00   13390.00   13592.00     0.125230\n",
       "IFIX          3175.00    3181.00    3159.00    3164.00    -0.346457\n",
       "IBRA          4931.00    5007.00    4904.00    4958.00     0.547556\n",
       "SMLL          2141.00    2201.00    2133.00    2174.00     1.541336\n",
       "MLCX          2499.00    2534.00    2485.00    2510.00     0.440176\n",
       "IBXX         52762.00   53545.00   52470.00   53022.00     0.492779\n",
       "IND$        126050.00  127890.00  125485.00  126695.00     0.511702\n",
       "IBOV        125517.00  127388.00  124840.00  126166.00     0.517061"
      ]
     },
     "execution_count": 84,
     "metadata": {},
     "output_type": "execute_result"
    }
   ],
   "source": [
    "brazil_ohlcv = brazil_ohlcv.set_index('Ticker_MT5', drop=True)\n",
    "brazil_ohlcv"
   ]
  },
  {
   "cell_type": "markdown",
   "metadata": {},
   "source": [
    "### **4.2 Dataframe interativo dos resultados**"
   ]
  },
  {
   "cell_type": "code",
   "execution_count": 85,
   "metadata": {},
   "outputs": [],
   "source": [
    "df = brazil_ohlcv.copy()\n",
    "\n"
   ]
  },
  {
   "cell_type": "code",
   "execution_count": 86,
   "metadata": {},
   "outputs": [
    {
     "data": {
      "text/html": [
       "<style type=\"text/css\">\n",
       "</style>\n",
       "<table id=\"T_b1131\">\n",
       "  <thead>\n",
       "    <tr>\n",
       "      <th class=\"blank level0\" >&nbsp;</th>\n",
       "      <th id=\"T_b1131_level0_col0\" class=\"col_heading level0 col0\" >open</th>\n",
       "      <th id=\"T_b1131_level0_col1\" class=\"col_heading level0 col1\" >high</th>\n",
       "      <th id=\"T_b1131_level0_col2\" class=\"col_heading level0 col2\" >low</th>\n",
       "      <th id=\"T_b1131_level0_col3\" class=\"col_heading level0 col3\" >close</th>\n",
       "      <th id=\"T_b1131_level0_col4\" class=\"col_heading level0 col4\" >Resultado_%</th>\n",
       "    </tr>\n",
       "    <tr>\n",
       "      <th class=\"index_name level0\" >Ticker_MT5</th>\n",
       "      <th class=\"blank col0\" >&nbsp;</th>\n",
       "      <th class=\"blank col1\" >&nbsp;</th>\n",
       "      <th class=\"blank col2\" >&nbsp;</th>\n",
       "      <th class=\"blank col3\" >&nbsp;</th>\n",
       "      <th class=\"blank col4\" >&nbsp;</th>\n",
       "    </tr>\n",
       "  </thead>\n",
       "  <tbody>\n",
       "    <tr>\n",
       "      <th id=\"T_b1131_level0_row0\" class=\"row_heading level0 row0\" >cryBTCUSD</th>\n",
       "      <td id=\"T_b1131_row0_col0\" class=\"data row0 col0\" >38638</td>\n",
       "      <td id=\"T_b1131_row0_col1\" class=\"data row0 col1\" >38664</td>\n",
       "      <td id=\"T_b1131_row0_col2\" class=\"data row0 col2\" >38638</td>\n",
       "      <td id=\"T_b1131_row0_col3\" class=\"data row0 col3\" >38661</td>\n",
       "      <td id=\"T_b1131_row0_col4\" class=\"data row0 col4\" >0.06</td>\n",
       "    </tr>\n",
       "    <tr>\n",
       "      <th id=\"T_b1131_level0_row1\" class=\"row_heading level0 row1\" >BDRX</th>\n",
       "      <td id=\"T_b1131_row1_col0\" class=\"data row1 col0\" >13575</td>\n",
       "      <td id=\"T_b1131_row1_col1\" class=\"data row1 col1\" >13684</td>\n",
       "      <td id=\"T_b1131_row1_col2\" class=\"data row1 col2\" >13390</td>\n",
       "      <td id=\"T_b1131_row1_col3\" class=\"data row1 col3\" >13592</td>\n",
       "      <td id=\"T_b1131_row1_col4\" class=\"data row1 col4\" >0.13</td>\n",
       "    </tr>\n",
       "    <tr>\n",
       "      <th id=\"T_b1131_level0_row2\" class=\"row_heading level0 row2\" >IFIX</th>\n",
       "      <td id=\"T_b1131_row2_col0\" class=\"data row2 col0\" >3175</td>\n",
       "      <td id=\"T_b1131_row2_col1\" class=\"data row2 col1\" >3181</td>\n",
       "      <td id=\"T_b1131_row2_col2\" class=\"data row2 col2\" >3159</td>\n",
       "      <td id=\"T_b1131_row2_col3\" class=\"data row2 col3\" >3164</td>\n",
       "      <td id=\"T_b1131_row2_col4\" class=\"data row2 col4\" >-0.35</td>\n",
       "    </tr>\n",
       "    <tr>\n",
       "      <th id=\"T_b1131_level0_row3\" class=\"row_heading level0 row3\" >IBRA</th>\n",
       "      <td id=\"T_b1131_row3_col0\" class=\"data row3 col0\" >4931</td>\n",
       "      <td id=\"T_b1131_row3_col1\" class=\"data row3 col1\" >5007</td>\n",
       "      <td id=\"T_b1131_row3_col2\" class=\"data row3 col2\" >4904</td>\n",
       "      <td id=\"T_b1131_row3_col3\" class=\"data row3 col3\" >4958</td>\n",
       "      <td id=\"T_b1131_row3_col4\" class=\"data row3 col4\" >0.55</td>\n",
       "    </tr>\n",
       "    <tr>\n",
       "      <th id=\"T_b1131_level0_row4\" class=\"row_heading level0 row4\" >SMLL</th>\n",
       "      <td id=\"T_b1131_row4_col0\" class=\"data row4 col0\" >2141</td>\n",
       "      <td id=\"T_b1131_row4_col1\" class=\"data row4 col1\" >2201</td>\n",
       "      <td id=\"T_b1131_row4_col2\" class=\"data row4 col2\" >2133</td>\n",
       "      <td id=\"T_b1131_row4_col3\" class=\"data row4 col3\" >2174</td>\n",
       "      <td id=\"T_b1131_row4_col4\" class=\"data row4 col4\" >1.54</td>\n",
       "    </tr>\n",
       "    <tr>\n",
       "      <th id=\"T_b1131_level0_row5\" class=\"row_heading level0 row5\" >MLCX</th>\n",
       "      <td id=\"T_b1131_row5_col0\" class=\"data row5 col0\" >2499</td>\n",
       "      <td id=\"T_b1131_row5_col1\" class=\"data row5 col1\" >2534</td>\n",
       "      <td id=\"T_b1131_row5_col2\" class=\"data row5 col2\" >2485</td>\n",
       "      <td id=\"T_b1131_row5_col3\" class=\"data row5 col3\" >2510</td>\n",
       "      <td id=\"T_b1131_row5_col4\" class=\"data row5 col4\" >0.44</td>\n",
       "    </tr>\n",
       "    <tr>\n",
       "      <th id=\"T_b1131_level0_row6\" class=\"row_heading level0 row6\" >IBXX</th>\n",
       "      <td id=\"T_b1131_row6_col0\" class=\"data row6 col0\" >52762</td>\n",
       "      <td id=\"T_b1131_row6_col1\" class=\"data row6 col1\" >53545</td>\n",
       "      <td id=\"T_b1131_row6_col2\" class=\"data row6 col2\" >52470</td>\n",
       "      <td id=\"T_b1131_row6_col3\" class=\"data row6 col3\" >53022</td>\n",
       "      <td id=\"T_b1131_row6_col4\" class=\"data row6 col4\" >0.49</td>\n",
       "    </tr>\n",
       "    <tr>\n",
       "      <th id=\"T_b1131_level0_row7\" class=\"row_heading level0 row7\" >IND$</th>\n",
       "      <td id=\"T_b1131_row7_col0\" class=\"data row7 col0\" >126050</td>\n",
       "      <td id=\"T_b1131_row7_col1\" class=\"data row7 col1\" >127890</td>\n",
       "      <td id=\"T_b1131_row7_col2\" class=\"data row7 col2\" >125485</td>\n",
       "      <td id=\"T_b1131_row7_col3\" class=\"data row7 col3\" >126695</td>\n",
       "      <td id=\"T_b1131_row7_col4\" class=\"data row7 col4\" >0.51</td>\n",
       "    </tr>\n",
       "    <tr>\n",
       "      <th id=\"T_b1131_level0_row8\" class=\"row_heading level0 row8\" >IBOV</th>\n",
       "      <td id=\"T_b1131_row8_col0\" class=\"data row8 col0\" >125517</td>\n",
       "      <td id=\"T_b1131_row8_col1\" class=\"data row8 col1\" >127388</td>\n",
       "      <td id=\"T_b1131_row8_col2\" class=\"data row8 col2\" >124840</td>\n",
       "      <td id=\"T_b1131_row8_col3\" class=\"data row8 col3\" >126166</td>\n",
       "      <td id=\"T_b1131_row8_col4\" class=\"data row8 col4\" >0.52</td>\n",
       "    </tr>\n",
       "  </tbody>\n",
       "</table>\n"
      ],
      "text/plain": [
       "<pandas.io.formats.style.Styler at 0x18728ef7fa0>"
      ]
     },
     "execution_count": 86,
     "metadata": {},
     "output_type": "execute_result"
    }
   ],
   "source": [
    "df = df.style.format(\"{:.0f}\").format(\"{:.2f}\", subset = 'Resultado_%')\n",
    "df"
   ]
  },
  {
   "cell_type": "code",
   "execution_count": 87,
   "metadata": {},
   "outputs": [
    {
     "data": {
      "text/html": [
       "<style type=\"text/css\">\n",
       "#T_cd0fa_row0_col4, #T_cd0fa_row1_col4, #T_cd0fa_row3_col4, #T_cd0fa_row5_col4, #T_cd0fa_row6_col4, #T_cd0fa_row7_col4, #T_cd0fa_row8_col4 {\n",
       "  font-weight: bold;\n",
       "  color: black;\n",
       "  background-color: #c1dec5;\n",
       "}\n",
       "#T_cd0fa_row2_col4 {\n",
       "  font-weight: bold;\n",
       "  color: white;\n",
       "  background-color: #d66363;\n",
       "}\n",
       "#T_cd0fa_row4_col4 {\n",
       "  font-weight: bold;\n",
       "  color: white;\n",
       "  background-color: #4eb55c;\n",
       "}\n",
       "</style>\n",
       "<table id=\"T_cd0fa\">\n",
       "  <thead>\n",
       "    <tr>\n",
       "      <th class=\"blank level0\" >&nbsp;</th>\n",
       "      <th id=\"T_cd0fa_level0_col0\" class=\"col_heading level0 col0\" >open</th>\n",
       "      <th id=\"T_cd0fa_level0_col1\" class=\"col_heading level0 col1\" >high</th>\n",
       "      <th id=\"T_cd0fa_level0_col2\" class=\"col_heading level0 col2\" >low</th>\n",
       "      <th id=\"T_cd0fa_level0_col3\" class=\"col_heading level0 col3\" >close</th>\n",
       "      <th id=\"T_cd0fa_level0_col4\" class=\"col_heading level0 col4\" >Resultado_%</th>\n",
       "    </tr>\n",
       "    <tr>\n",
       "      <th class=\"index_name level0\" >Ticker_MT5</th>\n",
       "      <th class=\"blank col0\" >&nbsp;</th>\n",
       "      <th class=\"blank col1\" >&nbsp;</th>\n",
       "      <th class=\"blank col2\" >&nbsp;</th>\n",
       "      <th class=\"blank col3\" >&nbsp;</th>\n",
       "      <th class=\"blank col4\" >&nbsp;</th>\n",
       "    </tr>\n",
       "  </thead>\n",
       "  <tbody>\n",
       "    <tr>\n",
       "      <th id=\"T_cd0fa_level0_row0\" class=\"row_heading level0 row0\" >cryBTCUSD</th>\n",
       "      <td id=\"T_cd0fa_row0_col0\" class=\"data row0 col0\" >38638</td>\n",
       "      <td id=\"T_cd0fa_row0_col1\" class=\"data row0 col1\" >38664</td>\n",
       "      <td id=\"T_cd0fa_row0_col2\" class=\"data row0 col2\" >38638</td>\n",
       "      <td id=\"T_cd0fa_row0_col3\" class=\"data row0 col3\" >38661</td>\n",
       "      <td id=\"T_cd0fa_row0_col4\" class=\"data row0 col4\" >0.06</td>\n",
       "    </tr>\n",
       "    <tr>\n",
       "      <th id=\"T_cd0fa_level0_row1\" class=\"row_heading level0 row1\" >BDRX</th>\n",
       "      <td id=\"T_cd0fa_row1_col0\" class=\"data row1 col0\" >13575</td>\n",
       "      <td id=\"T_cd0fa_row1_col1\" class=\"data row1 col1\" >13684</td>\n",
       "      <td id=\"T_cd0fa_row1_col2\" class=\"data row1 col2\" >13390</td>\n",
       "      <td id=\"T_cd0fa_row1_col3\" class=\"data row1 col3\" >13592</td>\n",
       "      <td id=\"T_cd0fa_row1_col4\" class=\"data row1 col4\" >0.13</td>\n",
       "    </tr>\n",
       "    <tr>\n",
       "      <th id=\"T_cd0fa_level0_row2\" class=\"row_heading level0 row2\" >IFIX</th>\n",
       "      <td id=\"T_cd0fa_row2_col0\" class=\"data row2 col0\" >3175</td>\n",
       "      <td id=\"T_cd0fa_row2_col1\" class=\"data row2 col1\" >3181</td>\n",
       "      <td id=\"T_cd0fa_row2_col2\" class=\"data row2 col2\" >3159</td>\n",
       "      <td id=\"T_cd0fa_row2_col3\" class=\"data row2 col3\" >3164</td>\n",
       "      <td id=\"T_cd0fa_row2_col4\" class=\"data row2 col4\" >-0.35</td>\n",
       "    </tr>\n",
       "    <tr>\n",
       "      <th id=\"T_cd0fa_level0_row3\" class=\"row_heading level0 row3\" >IBRA</th>\n",
       "      <td id=\"T_cd0fa_row3_col0\" class=\"data row3 col0\" >4931</td>\n",
       "      <td id=\"T_cd0fa_row3_col1\" class=\"data row3 col1\" >5007</td>\n",
       "      <td id=\"T_cd0fa_row3_col2\" class=\"data row3 col2\" >4904</td>\n",
       "      <td id=\"T_cd0fa_row3_col3\" class=\"data row3 col3\" >4958</td>\n",
       "      <td id=\"T_cd0fa_row3_col4\" class=\"data row3 col4\" >0.55</td>\n",
       "    </tr>\n",
       "    <tr>\n",
       "      <th id=\"T_cd0fa_level0_row4\" class=\"row_heading level0 row4\" >SMLL</th>\n",
       "      <td id=\"T_cd0fa_row4_col0\" class=\"data row4 col0\" >2141</td>\n",
       "      <td id=\"T_cd0fa_row4_col1\" class=\"data row4 col1\" >2201</td>\n",
       "      <td id=\"T_cd0fa_row4_col2\" class=\"data row4 col2\" >2133</td>\n",
       "      <td id=\"T_cd0fa_row4_col3\" class=\"data row4 col3\" >2174</td>\n",
       "      <td id=\"T_cd0fa_row4_col4\" class=\"data row4 col4\" >1.54</td>\n",
       "    </tr>\n",
       "    <tr>\n",
       "      <th id=\"T_cd0fa_level0_row5\" class=\"row_heading level0 row5\" >MLCX</th>\n",
       "      <td id=\"T_cd0fa_row5_col0\" class=\"data row5 col0\" >2499</td>\n",
       "      <td id=\"T_cd0fa_row5_col1\" class=\"data row5 col1\" >2534</td>\n",
       "      <td id=\"T_cd0fa_row5_col2\" class=\"data row5 col2\" >2485</td>\n",
       "      <td id=\"T_cd0fa_row5_col3\" class=\"data row5 col3\" >2510</td>\n",
       "      <td id=\"T_cd0fa_row5_col4\" class=\"data row5 col4\" >0.44</td>\n",
       "    </tr>\n",
       "    <tr>\n",
       "      <th id=\"T_cd0fa_level0_row6\" class=\"row_heading level0 row6\" >IBXX</th>\n",
       "      <td id=\"T_cd0fa_row6_col0\" class=\"data row6 col0\" >52762</td>\n",
       "      <td id=\"T_cd0fa_row6_col1\" class=\"data row6 col1\" >53545</td>\n",
       "      <td id=\"T_cd0fa_row6_col2\" class=\"data row6 col2\" >52470</td>\n",
       "      <td id=\"T_cd0fa_row6_col3\" class=\"data row6 col3\" >53022</td>\n",
       "      <td id=\"T_cd0fa_row6_col4\" class=\"data row6 col4\" >0.49</td>\n",
       "    </tr>\n",
       "    <tr>\n",
       "      <th id=\"T_cd0fa_level0_row7\" class=\"row_heading level0 row7\" >IND$</th>\n",
       "      <td id=\"T_cd0fa_row7_col0\" class=\"data row7 col0\" >126050</td>\n",
       "      <td id=\"T_cd0fa_row7_col1\" class=\"data row7 col1\" >127890</td>\n",
       "      <td id=\"T_cd0fa_row7_col2\" class=\"data row7 col2\" >125485</td>\n",
       "      <td id=\"T_cd0fa_row7_col3\" class=\"data row7 col3\" >126695</td>\n",
       "      <td id=\"T_cd0fa_row7_col4\" class=\"data row7 col4\" >0.51</td>\n",
       "    </tr>\n",
       "    <tr>\n",
       "      <th id=\"T_cd0fa_level0_row8\" class=\"row_heading level0 row8\" >IBOV</th>\n",
       "      <td id=\"T_cd0fa_row8_col0\" class=\"data row8 col0\" >125517</td>\n",
       "      <td id=\"T_cd0fa_row8_col1\" class=\"data row8 col1\" >127388</td>\n",
       "      <td id=\"T_cd0fa_row8_col2\" class=\"data row8 col2\" >124840</td>\n",
       "      <td id=\"T_cd0fa_row8_col3\" class=\"data row8 col3\" >126166</td>\n",
       "      <td id=\"T_cd0fa_row8_col4\" class=\"data row8 col4\" >0.52</td>\n",
       "    </tr>\n",
       "  </tbody>\n",
       "</table>\n"
      ],
      "text/plain": [
       "<pandas.io.formats.style.Styler at 0x18728ef63b0>"
      ]
     },
     "execution_count": 87,
     "metadata": {},
     "output_type": "execute_result"
    }
   ],
   "source": [
    "df = brazil_ohlcv.copy()\n",
    "\n",
    "df = df.style.format(\"{:.0f}\").format(\"{:.2f}\", subset = 'Resultado_%').applymap(\n",
    "    lambda x:\n",
    "\n",
    "        \"font-weight: bold; color: white; background-color: #d40202\"\n",
    "        if x < -1\n",
    "        else (\n",
    "            \"font-weight: bold; color: white; background-color: #d66363\"\n",
    "            if x < 0\n",
    "            else (\n",
    "                \"font-weight: bold; color: white; background-color: #4eb55c\"\n",
    "                if x > 1\n",
    "                else \"font-weight: bold; color: black; background-color: #c1dec5\"\n",
    "            )\n",
    "        ),\n",
    "    subset = ['Resultado_%'],\n",
    ")\n",
    "\n",
    "df"
   ]
  },
  {
   "cell_type": "code",
   "execution_count": 88,
   "metadata": {},
   "outputs": [
    {
     "data": {
      "text/html": [
       "<style type=\"text/css\">\n",
       "#T_135cb td {\n",
       "  text-align: center;\n",
       "}\n",
       "</style>\n",
       "<table id=\"T_135cb\">\n",
       "  <thead>\n",
       "    <tr>\n",
       "      <th class=\"blank level0\" >&nbsp;</th>\n",
       "      <th id=\"T_135cb_level0_col0\" class=\"col_heading level0 col0\" >open</th>\n",
       "      <th id=\"T_135cb_level0_col1\" class=\"col_heading level0 col1\" >high</th>\n",
       "      <th id=\"T_135cb_level0_col2\" class=\"col_heading level0 col2\" >low</th>\n",
       "      <th id=\"T_135cb_level0_col3\" class=\"col_heading level0 col3\" >close</th>\n",
       "      <th id=\"T_135cb_level0_col4\" class=\"col_heading level0 col4\" >Resultado_%</th>\n",
       "    </tr>\n",
       "    <tr>\n",
       "      <th class=\"index_name level0\" >Ticker_MT5</th>\n",
       "      <th class=\"blank col0\" >&nbsp;</th>\n",
       "      <th class=\"blank col1\" >&nbsp;</th>\n",
       "      <th class=\"blank col2\" >&nbsp;</th>\n",
       "      <th class=\"blank col3\" >&nbsp;</th>\n",
       "      <th class=\"blank col4\" >&nbsp;</th>\n",
       "    </tr>\n",
       "  </thead>\n",
       "  <tbody>\n",
       "    <tr>\n",
       "      <th id=\"T_135cb_level0_row0\" class=\"row_heading level0 row0\" >cryBTCUSD</th>\n",
       "      <td id=\"T_135cb_row0_col0\" class=\"data row0 col0\" >38638</td>\n",
       "      <td id=\"T_135cb_row0_col1\" class=\"data row0 col1\" >38664</td>\n",
       "      <td id=\"T_135cb_row0_col2\" class=\"data row0 col2\" >38638</td>\n",
       "      <td id=\"T_135cb_row0_col3\" class=\"data row0 col3\" >38661</td>\n",
       "      <td id=\"T_135cb_row0_col4\" class=\"data row0 col4\" >0.06</td>\n",
       "    </tr>\n",
       "    <tr>\n",
       "      <th id=\"T_135cb_level0_row1\" class=\"row_heading level0 row1\" >BDRX</th>\n",
       "      <td id=\"T_135cb_row1_col0\" class=\"data row1 col0\" >13575</td>\n",
       "      <td id=\"T_135cb_row1_col1\" class=\"data row1 col1\" >13684</td>\n",
       "      <td id=\"T_135cb_row1_col2\" class=\"data row1 col2\" >13390</td>\n",
       "      <td id=\"T_135cb_row1_col3\" class=\"data row1 col3\" >13592</td>\n",
       "      <td id=\"T_135cb_row1_col4\" class=\"data row1 col4\" >0.13</td>\n",
       "    </tr>\n",
       "    <tr>\n",
       "      <th id=\"T_135cb_level0_row2\" class=\"row_heading level0 row2\" >IFIX</th>\n",
       "      <td id=\"T_135cb_row2_col0\" class=\"data row2 col0\" >3175</td>\n",
       "      <td id=\"T_135cb_row2_col1\" class=\"data row2 col1\" >3181</td>\n",
       "      <td id=\"T_135cb_row2_col2\" class=\"data row2 col2\" >3159</td>\n",
       "      <td id=\"T_135cb_row2_col3\" class=\"data row2 col3\" >3164</td>\n",
       "      <td id=\"T_135cb_row2_col4\" class=\"data row2 col4\" >-0.35</td>\n",
       "    </tr>\n",
       "    <tr>\n",
       "      <th id=\"T_135cb_level0_row3\" class=\"row_heading level0 row3\" >IBRA</th>\n",
       "      <td id=\"T_135cb_row3_col0\" class=\"data row3 col0\" >4931</td>\n",
       "      <td id=\"T_135cb_row3_col1\" class=\"data row3 col1\" >5007</td>\n",
       "      <td id=\"T_135cb_row3_col2\" class=\"data row3 col2\" >4904</td>\n",
       "      <td id=\"T_135cb_row3_col3\" class=\"data row3 col3\" >4958</td>\n",
       "      <td id=\"T_135cb_row3_col4\" class=\"data row3 col4\" >0.55</td>\n",
       "    </tr>\n",
       "    <tr>\n",
       "      <th id=\"T_135cb_level0_row4\" class=\"row_heading level0 row4\" >SMLL</th>\n",
       "      <td id=\"T_135cb_row4_col0\" class=\"data row4 col0\" >2141</td>\n",
       "      <td id=\"T_135cb_row4_col1\" class=\"data row4 col1\" >2201</td>\n",
       "      <td id=\"T_135cb_row4_col2\" class=\"data row4 col2\" >2133</td>\n",
       "      <td id=\"T_135cb_row4_col3\" class=\"data row4 col3\" >2174</td>\n",
       "      <td id=\"T_135cb_row4_col4\" class=\"data row4 col4\" >1.54</td>\n",
       "    </tr>\n",
       "    <tr>\n",
       "      <th id=\"T_135cb_level0_row5\" class=\"row_heading level0 row5\" >MLCX</th>\n",
       "      <td id=\"T_135cb_row5_col0\" class=\"data row5 col0\" >2499</td>\n",
       "      <td id=\"T_135cb_row5_col1\" class=\"data row5 col1\" >2534</td>\n",
       "      <td id=\"T_135cb_row5_col2\" class=\"data row5 col2\" >2485</td>\n",
       "      <td id=\"T_135cb_row5_col3\" class=\"data row5 col3\" >2510</td>\n",
       "      <td id=\"T_135cb_row5_col4\" class=\"data row5 col4\" >0.44</td>\n",
       "    </tr>\n",
       "    <tr>\n",
       "      <th id=\"T_135cb_level0_row6\" class=\"row_heading level0 row6\" >IBXX</th>\n",
       "      <td id=\"T_135cb_row6_col0\" class=\"data row6 col0\" >52762</td>\n",
       "      <td id=\"T_135cb_row6_col1\" class=\"data row6 col1\" >53545</td>\n",
       "      <td id=\"T_135cb_row6_col2\" class=\"data row6 col2\" >52470</td>\n",
       "      <td id=\"T_135cb_row6_col3\" class=\"data row6 col3\" >53022</td>\n",
       "      <td id=\"T_135cb_row6_col4\" class=\"data row6 col4\" >0.49</td>\n",
       "    </tr>\n",
       "    <tr>\n",
       "      <th id=\"T_135cb_level0_row7\" class=\"row_heading level0 row7\" >IND$</th>\n",
       "      <td id=\"T_135cb_row7_col0\" class=\"data row7 col0\" >126050</td>\n",
       "      <td id=\"T_135cb_row7_col1\" class=\"data row7 col1\" >127890</td>\n",
       "      <td id=\"T_135cb_row7_col2\" class=\"data row7 col2\" >125485</td>\n",
       "      <td id=\"T_135cb_row7_col3\" class=\"data row7 col3\" >126695</td>\n",
       "      <td id=\"T_135cb_row7_col4\" class=\"data row7 col4\" >0.51</td>\n",
       "    </tr>\n",
       "    <tr>\n",
       "      <th id=\"T_135cb_level0_row8\" class=\"row_heading level0 row8\" >IBOV</th>\n",
       "      <td id=\"T_135cb_row8_col0\" class=\"data row8 col0\" >125517</td>\n",
       "      <td id=\"T_135cb_row8_col1\" class=\"data row8 col1\" >127388</td>\n",
       "      <td id=\"T_135cb_row8_col2\" class=\"data row8 col2\" >124840</td>\n",
       "      <td id=\"T_135cb_row8_col3\" class=\"data row8 col3\" >126166</td>\n",
       "      <td id=\"T_135cb_row8_col4\" class=\"data row8 col4\" >0.52</td>\n",
       "    </tr>\n",
       "  </tbody>\n",
       "</table>\n"
      ],
      "text/plain": [
       "<pandas.io.formats.style.Styler at 0x18728ef7b20>"
      ]
     },
     "execution_count": 88,
     "metadata": {},
     "output_type": "execute_result"
    }
   ],
   "source": [
    "df = brazil_ohlcv.copy()\n",
    "\n",
    "df = df.style.format(\"{:.0f}\").format(\"{:.2f}\", subset = 'Resultado_%').set_table_styles(\n",
    "    [\n",
    "        {\"selector\": \"td\", \"props\": [(\"text-align\", \"center\")]},\n",
    "    ],\n",
    "    overwrite=False,\n",
    ")\n",
    "\n",
    "df"
   ]
  },
  {
   "cell_type": "code",
   "execution_count": 89,
   "metadata": {},
   "outputs": [
    {
     "data": {
      "text/html": [
       "<style type=\"text/css\">\n",
       "#T_bd955 td {\n",
       "  text-align: center;\n",
       "}\n",
       "#T_bd955 th {\n",
       "  text-align: center;\n",
       "  font-weight: bold;\n",
       "  background-color: #b8b4b4;\n",
       "  color: black;\n",
       "  font-size: 14pt,;\n",
       "}\n",
       "</style>\n",
       "<table id=\"T_bd955\">\n",
       "  <thead>\n",
       "    <tr>\n",
       "      <th class=\"blank level0\" >&nbsp;</th>\n",
       "      <th id=\"T_bd955_level0_col0\" class=\"col_heading level0 col0\" >open</th>\n",
       "      <th id=\"T_bd955_level0_col1\" class=\"col_heading level0 col1\" >high</th>\n",
       "      <th id=\"T_bd955_level0_col2\" class=\"col_heading level0 col2\" >low</th>\n",
       "      <th id=\"T_bd955_level0_col3\" class=\"col_heading level0 col3\" >close</th>\n",
       "      <th id=\"T_bd955_level0_col4\" class=\"col_heading level0 col4\" >Resultado_%</th>\n",
       "    </tr>\n",
       "    <tr>\n",
       "      <th class=\"index_name level0\" >Ticker_MT5</th>\n",
       "      <th class=\"blank col0\" >&nbsp;</th>\n",
       "      <th class=\"blank col1\" >&nbsp;</th>\n",
       "      <th class=\"blank col2\" >&nbsp;</th>\n",
       "      <th class=\"blank col3\" >&nbsp;</th>\n",
       "      <th class=\"blank col4\" >&nbsp;</th>\n",
       "    </tr>\n",
       "  </thead>\n",
       "  <tbody>\n",
       "    <tr>\n",
       "      <th id=\"T_bd955_level0_row0\" class=\"row_heading level0 row0\" >cryBTCUSD</th>\n",
       "      <td id=\"T_bd955_row0_col0\" class=\"data row0 col0\" >38638</td>\n",
       "      <td id=\"T_bd955_row0_col1\" class=\"data row0 col1\" >38664</td>\n",
       "      <td id=\"T_bd955_row0_col2\" class=\"data row0 col2\" >38638</td>\n",
       "      <td id=\"T_bd955_row0_col3\" class=\"data row0 col3\" >38661</td>\n",
       "      <td id=\"T_bd955_row0_col4\" class=\"data row0 col4\" >0.06</td>\n",
       "    </tr>\n",
       "    <tr>\n",
       "      <th id=\"T_bd955_level0_row1\" class=\"row_heading level0 row1\" >BDRX</th>\n",
       "      <td id=\"T_bd955_row1_col0\" class=\"data row1 col0\" >13575</td>\n",
       "      <td id=\"T_bd955_row1_col1\" class=\"data row1 col1\" >13684</td>\n",
       "      <td id=\"T_bd955_row1_col2\" class=\"data row1 col2\" >13390</td>\n",
       "      <td id=\"T_bd955_row1_col3\" class=\"data row1 col3\" >13592</td>\n",
       "      <td id=\"T_bd955_row1_col4\" class=\"data row1 col4\" >0.13</td>\n",
       "    </tr>\n",
       "    <tr>\n",
       "      <th id=\"T_bd955_level0_row2\" class=\"row_heading level0 row2\" >IFIX</th>\n",
       "      <td id=\"T_bd955_row2_col0\" class=\"data row2 col0\" >3175</td>\n",
       "      <td id=\"T_bd955_row2_col1\" class=\"data row2 col1\" >3181</td>\n",
       "      <td id=\"T_bd955_row2_col2\" class=\"data row2 col2\" >3159</td>\n",
       "      <td id=\"T_bd955_row2_col3\" class=\"data row2 col3\" >3164</td>\n",
       "      <td id=\"T_bd955_row2_col4\" class=\"data row2 col4\" >-0.35</td>\n",
       "    </tr>\n",
       "    <tr>\n",
       "      <th id=\"T_bd955_level0_row3\" class=\"row_heading level0 row3\" >IBRA</th>\n",
       "      <td id=\"T_bd955_row3_col0\" class=\"data row3 col0\" >4931</td>\n",
       "      <td id=\"T_bd955_row3_col1\" class=\"data row3 col1\" >5007</td>\n",
       "      <td id=\"T_bd955_row3_col2\" class=\"data row3 col2\" >4904</td>\n",
       "      <td id=\"T_bd955_row3_col3\" class=\"data row3 col3\" >4958</td>\n",
       "      <td id=\"T_bd955_row3_col4\" class=\"data row3 col4\" >0.55</td>\n",
       "    </tr>\n",
       "    <tr>\n",
       "      <th id=\"T_bd955_level0_row4\" class=\"row_heading level0 row4\" >SMLL</th>\n",
       "      <td id=\"T_bd955_row4_col0\" class=\"data row4 col0\" >2141</td>\n",
       "      <td id=\"T_bd955_row4_col1\" class=\"data row4 col1\" >2201</td>\n",
       "      <td id=\"T_bd955_row4_col2\" class=\"data row4 col2\" >2133</td>\n",
       "      <td id=\"T_bd955_row4_col3\" class=\"data row4 col3\" >2174</td>\n",
       "      <td id=\"T_bd955_row4_col4\" class=\"data row4 col4\" >1.54</td>\n",
       "    </tr>\n",
       "    <tr>\n",
       "      <th id=\"T_bd955_level0_row5\" class=\"row_heading level0 row5\" >MLCX</th>\n",
       "      <td id=\"T_bd955_row5_col0\" class=\"data row5 col0\" >2499</td>\n",
       "      <td id=\"T_bd955_row5_col1\" class=\"data row5 col1\" >2534</td>\n",
       "      <td id=\"T_bd955_row5_col2\" class=\"data row5 col2\" >2485</td>\n",
       "      <td id=\"T_bd955_row5_col3\" class=\"data row5 col3\" >2510</td>\n",
       "      <td id=\"T_bd955_row5_col4\" class=\"data row5 col4\" >0.44</td>\n",
       "    </tr>\n",
       "    <tr>\n",
       "      <th id=\"T_bd955_level0_row6\" class=\"row_heading level0 row6\" >IBXX</th>\n",
       "      <td id=\"T_bd955_row6_col0\" class=\"data row6 col0\" >52762</td>\n",
       "      <td id=\"T_bd955_row6_col1\" class=\"data row6 col1\" >53545</td>\n",
       "      <td id=\"T_bd955_row6_col2\" class=\"data row6 col2\" >52470</td>\n",
       "      <td id=\"T_bd955_row6_col3\" class=\"data row6 col3\" >53022</td>\n",
       "      <td id=\"T_bd955_row6_col4\" class=\"data row6 col4\" >0.49</td>\n",
       "    </tr>\n",
       "    <tr>\n",
       "      <th id=\"T_bd955_level0_row7\" class=\"row_heading level0 row7\" >IND$</th>\n",
       "      <td id=\"T_bd955_row7_col0\" class=\"data row7 col0\" >126050</td>\n",
       "      <td id=\"T_bd955_row7_col1\" class=\"data row7 col1\" >127890</td>\n",
       "      <td id=\"T_bd955_row7_col2\" class=\"data row7 col2\" >125485</td>\n",
       "      <td id=\"T_bd955_row7_col3\" class=\"data row7 col3\" >126695</td>\n",
       "      <td id=\"T_bd955_row7_col4\" class=\"data row7 col4\" >0.51</td>\n",
       "    </tr>\n",
       "    <tr>\n",
       "      <th id=\"T_bd955_level0_row8\" class=\"row_heading level0 row8\" >IBOV</th>\n",
       "      <td id=\"T_bd955_row8_col0\" class=\"data row8 col0\" >125517</td>\n",
       "      <td id=\"T_bd955_row8_col1\" class=\"data row8 col1\" >127388</td>\n",
       "      <td id=\"T_bd955_row8_col2\" class=\"data row8 col2\" >124840</td>\n",
       "      <td id=\"T_bd955_row8_col3\" class=\"data row8 col3\" >126166</td>\n",
       "      <td id=\"T_bd955_row8_col4\" class=\"data row8 col4\" >0.52</td>\n",
       "    </tr>\n",
       "  </tbody>\n",
       "</table>\n"
      ],
      "text/plain": [
       "<pandas.io.formats.style.Styler at 0x18728ed10c0>"
      ]
     },
     "execution_count": 89,
     "metadata": {},
     "output_type": "execute_result"
    }
   ],
   "source": [
    "df = brazil_ohlcv.copy()\n",
    "\n",
    "df = df.style.format(\"{:.0f}\").format(\"{:.2f}\", subset = 'Resultado_%').set_table_styles(\n",
    "    [\n",
    "        {\"selector\": \"td\", \"props\": [(\"text-align\", \"center\")]},\n",
    "        {\"selector\": \"th\", \n",
    "         \"props\": \"text-align: center; font-weight: bold; background-color: #b8b4b4; color: black; font-size: 14pt,\"},\n",
    "    ],\n",
    "    overwrite=False,\n",
    ")\n",
    "\n",
    "df"
   ]
  },
  {
   "cell_type": "code",
   "execution_count": 90,
   "metadata": {},
   "outputs": [
    {
     "data": {
      "text/html": [
       "<style type=\"text/css\">\n",
       "#T_10c88 td {\n",
       "  text-align: center;\n",
       "}\n",
       "#T_10c88 th {\n",
       "  text-align: center;\n",
       "  font-weight: bold;\n",
       "  background-color: #b8b4b4;\n",
       "  color: black;\n",
       "  font-size: 14pt,;\n",
       "}\n",
       "#T_10c88 th.index_name {\n",
       "  text-align: center;\n",
       "  font-weight: bold;\n",
       "  background-color: red;\n",
       "  color: white;\n",
       "  font-size: 14pt,;\n",
       "}\n",
       "</style>\n",
       "<table id=\"T_10c88\">\n",
       "  <thead>\n",
       "    <tr>\n",
       "      <th class=\"blank level0\" >&nbsp;</th>\n",
       "      <th id=\"T_10c88_level0_col0\" class=\"col_heading level0 col0\" >open</th>\n",
       "      <th id=\"T_10c88_level0_col1\" class=\"col_heading level0 col1\" >high</th>\n",
       "      <th id=\"T_10c88_level0_col2\" class=\"col_heading level0 col2\" >low</th>\n",
       "      <th id=\"T_10c88_level0_col3\" class=\"col_heading level0 col3\" >close</th>\n",
       "      <th id=\"T_10c88_level0_col4\" class=\"col_heading level0 col4\" >Resultado_%</th>\n",
       "    </tr>\n",
       "    <tr>\n",
       "      <th class=\"index_name level0\" >Ticker_MT5</th>\n",
       "      <th class=\"blank col0\" >&nbsp;</th>\n",
       "      <th class=\"blank col1\" >&nbsp;</th>\n",
       "      <th class=\"blank col2\" >&nbsp;</th>\n",
       "      <th class=\"blank col3\" >&nbsp;</th>\n",
       "      <th class=\"blank col4\" >&nbsp;</th>\n",
       "    </tr>\n",
       "  </thead>\n",
       "  <tbody>\n",
       "    <tr>\n",
       "      <th id=\"T_10c88_level0_row0\" class=\"row_heading level0 row0\" >cryBTCUSD</th>\n",
       "      <td id=\"T_10c88_row0_col0\" class=\"data row0 col0\" >38638</td>\n",
       "      <td id=\"T_10c88_row0_col1\" class=\"data row0 col1\" >38664</td>\n",
       "      <td id=\"T_10c88_row0_col2\" class=\"data row0 col2\" >38638</td>\n",
       "      <td id=\"T_10c88_row0_col3\" class=\"data row0 col3\" >38661</td>\n",
       "      <td id=\"T_10c88_row0_col4\" class=\"data row0 col4\" >0.06</td>\n",
       "    </tr>\n",
       "    <tr>\n",
       "      <th id=\"T_10c88_level0_row1\" class=\"row_heading level0 row1\" >BDRX</th>\n",
       "      <td id=\"T_10c88_row1_col0\" class=\"data row1 col0\" >13575</td>\n",
       "      <td id=\"T_10c88_row1_col1\" class=\"data row1 col1\" >13684</td>\n",
       "      <td id=\"T_10c88_row1_col2\" class=\"data row1 col2\" >13390</td>\n",
       "      <td id=\"T_10c88_row1_col3\" class=\"data row1 col3\" >13592</td>\n",
       "      <td id=\"T_10c88_row1_col4\" class=\"data row1 col4\" >0.13</td>\n",
       "    </tr>\n",
       "    <tr>\n",
       "      <th id=\"T_10c88_level0_row2\" class=\"row_heading level0 row2\" >IFIX</th>\n",
       "      <td id=\"T_10c88_row2_col0\" class=\"data row2 col0\" >3175</td>\n",
       "      <td id=\"T_10c88_row2_col1\" class=\"data row2 col1\" >3181</td>\n",
       "      <td id=\"T_10c88_row2_col2\" class=\"data row2 col2\" >3159</td>\n",
       "      <td id=\"T_10c88_row2_col3\" class=\"data row2 col3\" >3164</td>\n",
       "      <td id=\"T_10c88_row2_col4\" class=\"data row2 col4\" >-0.35</td>\n",
       "    </tr>\n",
       "    <tr>\n",
       "      <th id=\"T_10c88_level0_row3\" class=\"row_heading level0 row3\" >IBRA</th>\n",
       "      <td id=\"T_10c88_row3_col0\" class=\"data row3 col0\" >4931</td>\n",
       "      <td id=\"T_10c88_row3_col1\" class=\"data row3 col1\" >5007</td>\n",
       "      <td id=\"T_10c88_row3_col2\" class=\"data row3 col2\" >4904</td>\n",
       "      <td id=\"T_10c88_row3_col3\" class=\"data row3 col3\" >4958</td>\n",
       "      <td id=\"T_10c88_row3_col4\" class=\"data row3 col4\" >0.55</td>\n",
       "    </tr>\n",
       "    <tr>\n",
       "      <th id=\"T_10c88_level0_row4\" class=\"row_heading level0 row4\" >SMLL</th>\n",
       "      <td id=\"T_10c88_row4_col0\" class=\"data row4 col0\" >2141</td>\n",
       "      <td id=\"T_10c88_row4_col1\" class=\"data row4 col1\" >2201</td>\n",
       "      <td id=\"T_10c88_row4_col2\" class=\"data row4 col2\" >2133</td>\n",
       "      <td id=\"T_10c88_row4_col3\" class=\"data row4 col3\" >2174</td>\n",
       "      <td id=\"T_10c88_row4_col4\" class=\"data row4 col4\" >1.54</td>\n",
       "    </tr>\n",
       "    <tr>\n",
       "      <th id=\"T_10c88_level0_row5\" class=\"row_heading level0 row5\" >MLCX</th>\n",
       "      <td id=\"T_10c88_row5_col0\" class=\"data row5 col0\" >2499</td>\n",
       "      <td id=\"T_10c88_row5_col1\" class=\"data row5 col1\" >2534</td>\n",
       "      <td id=\"T_10c88_row5_col2\" class=\"data row5 col2\" >2485</td>\n",
       "      <td id=\"T_10c88_row5_col3\" class=\"data row5 col3\" >2510</td>\n",
       "      <td id=\"T_10c88_row5_col4\" class=\"data row5 col4\" >0.44</td>\n",
       "    </tr>\n",
       "    <tr>\n",
       "      <th id=\"T_10c88_level0_row6\" class=\"row_heading level0 row6\" >IBXX</th>\n",
       "      <td id=\"T_10c88_row6_col0\" class=\"data row6 col0\" >52762</td>\n",
       "      <td id=\"T_10c88_row6_col1\" class=\"data row6 col1\" >53545</td>\n",
       "      <td id=\"T_10c88_row6_col2\" class=\"data row6 col2\" >52470</td>\n",
       "      <td id=\"T_10c88_row6_col3\" class=\"data row6 col3\" >53022</td>\n",
       "      <td id=\"T_10c88_row6_col4\" class=\"data row6 col4\" >0.49</td>\n",
       "    </tr>\n",
       "    <tr>\n",
       "      <th id=\"T_10c88_level0_row7\" class=\"row_heading level0 row7\" >IND$</th>\n",
       "      <td id=\"T_10c88_row7_col0\" class=\"data row7 col0\" >126050</td>\n",
       "      <td id=\"T_10c88_row7_col1\" class=\"data row7 col1\" >127890</td>\n",
       "      <td id=\"T_10c88_row7_col2\" class=\"data row7 col2\" >125485</td>\n",
       "      <td id=\"T_10c88_row7_col3\" class=\"data row7 col3\" >126695</td>\n",
       "      <td id=\"T_10c88_row7_col4\" class=\"data row7 col4\" >0.51</td>\n",
       "    </tr>\n",
       "    <tr>\n",
       "      <th id=\"T_10c88_level0_row8\" class=\"row_heading level0 row8\" >IBOV</th>\n",
       "      <td id=\"T_10c88_row8_col0\" class=\"data row8 col0\" >125517</td>\n",
       "      <td id=\"T_10c88_row8_col1\" class=\"data row8 col1\" >127388</td>\n",
       "      <td id=\"T_10c88_row8_col2\" class=\"data row8 col2\" >124840</td>\n",
       "      <td id=\"T_10c88_row8_col3\" class=\"data row8 col3\" >126166</td>\n",
       "      <td id=\"T_10c88_row8_col4\" class=\"data row8 col4\" >0.52</td>\n",
       "    </tr>\n",
       "  </tbody>\n",
       "</table>\n"
      ],
      "text/plain": [
       "<pandas.io.formats.style.Styler at 0x18728de72e0>"
      ]
     },
     "execution_count": 90,
     "metadata": {},
     "output_type": "execute_result"
    }
   ],
   "source": [
    "df = brazil_ohlcv.copy()\n",
    "\n",
    "df = df.style.format(\"{:.0f}\").format(\"{:.2f}\", subset = 'Resultado_%').set_table_styles(\n",
    "    [\n",
    "        {\"selector\": \"td\", \n",
    "         \"props\": [(\"text-align\", \"center\")]},\n",
    "        {\"selector\": \"th\", \n",
    "         \"props\": \"text-align: center; font-weight: bold; background-color: #b8b4b4; color: black; font-size: 14pt,\"},\n",
    "        {\"selector\": \"th.index_name\", \n",
    "         \"props\": \"text-align: center; font-weight: bold; background-color: red; color: white; font-size: 14pt,\"},\n",
    "          \n",
    "    ],\n",
    "    overwrite=False,\n",
    ")\n",
    "\n",
    "df"
   ]
  },
  {
   "cell_type": "code",
   "execution_count": 91,
   "metadata": {},
   "outputs": [
    {
     "data": {
      "text/html": [
       "<style type=\"text/css\">\n",
       "#T_fcbb1 td {\n",
       "  text-align: center;\n",
       "}\n",
       "#T_fcbb1 th {\n",
       "  text-align: center;\n",
       "  font-weight: bold;\n",
       "  background-color: #b8b4b4;\n",
       "  color: black;\n",
       "  font-size: 14pt,;\n",
       "}\n",
       "#T_fcbb1 th.index_name {\n",
       "  text-align: center;\n",
       "  font-weight: bold;\n",
       "  background-color: red;\n",
       "  color: white;\n",
       "  font-size: 14pt,;\n",
       "}\n",
       "#T_fcbb1 th.row_heading {\n",
       "  text-align: center;\n",
       "  font-weight: bold;\n",
       "  background-color: salmon;\n",
       "  color: black;\n",
       "  font-size: 11pt,;\n",
       "}\n",
       "#T_fcbb1 th.col_heading {\n",
       "  text-align: center;\n",
       "  font-weight: bold;\n",
       "  background-color: green;\n",
       "  color: black;\n",
       "  font-size: 11pt,;\n",
       "}\n",
       "</style>\n",
       "<table id=\"T_fcbb1\">\n",
       "  <thead>\n",
       "    <tr>\n",
       "      <th class=\"blank level0\" >&nbsp;</th>\n",
       "      <th id=\"T_fcbb1_level0_col0\" class=\"col_heading level0 col0\" >open</th>\n",
       "      <th id=\"T_fcbb1_level0_col1\" class=\"col_heading level0 col1\" >high</th>\n",
       "      <th id=\"T_fcbb1_level0_col2\" class=\"col_heading level0 col2\" >low</th>\n",
       "      <th id=\"T_fcbb1_level0_col3\" class=\"col_heading level0 col3\" >close</th>\n",
       "      <th id=\"T_fcbb1_level0_col4\" class=\"col_heading level0 col4\" >Resultado_%</th>\n",
       "    </tr>\n",
       "    <tr>\n",
       "      <th class=\"index_name level0\" >Ticker_MT5</th>\n",
       "      <th class=\"blank col0\" >&nbsp;</th>\n",
       "      <th class=\"blank col1\" >&nbsp;</th>\n",
       "      <th class=\"blank col2\" >&nbsp;</th>\n",
       "      <th class=\"blank col3\" >&nbsp;</th>\n",
       "      <th class=\"blank col4\" >&nbsp;</th>\n",
       "    </tr>\n",
       "  </thead>\n",
       "  <tbody>\n",
       "    <tr>\n",
       "      <th id=\"T_fcbb1_level0_row0\" class=\"row_heading level0 row0\" >cryBTCUSD</th>\n",
       "      <td id=\"T_fcbb1_row0_col0\" class=\"data row0 col0\" >38638</td>\n",
       "      <td id=\"T_fcbb1_row0_col1\" class=\"data row0 col1\" >38664</td>\n",
       "      <td id=\"T_fcbb1_row0_col2\" class=\"data row0 col2\" >38638</td>\n",
       "      <td id=\"T_fcbb1_row0_col3\" class=\"data row0 col3\" >38661</td>\n",
       "      <td id=\"T_fcbb1_row0_col4\" class=\"data row0 col4\" >0.06</td>\n",
       "    </tr>\n",
       "    <tr>\n",
       "      <th id=\"T_fcbb1_level0_row1\" class=\"row_heading level0 row1\" >BDRX</th>\n",
       "      <td id=\"T_fcbb1_row1_col0\" class=\"data row1 col0\" >13575</td>\n",
       "      <td id=\"T_fcbb1_row1_col1\" class=\"data row1 col1\" >13684</td>\n",
       "      <td id=\"T_fcbb1_row1_col2\" class=\"data row1 col2\" >13390</td>\n",
       "      <td id=\"T_fcbb1_row1_col3\" class=\"data row1 col3\" >13592</td>\n",
       "      <td id=\"T_fcbb1_row1_col4\" class=\"data row1 col4\" >0.13</td>\n",
       "    </tr>\n",
       "    <tr>\n",
       "      <th id=\"T_fcbb1_level0_row2\" class=\"row_heading level0 row2\" >IFIX</th>\n",
       "      <td id=\"T_fcbb1_row2_col0\" class=\"data row2 col0\" >3175</td>\n",
       "      <td id=\"T_fcbb1_row2_col1\" class=\"data row2 col1\" >3181</td>\n",
       "      <td id=\"T_fcbb1_row2_col2\" class=\"data row2 col2\" >3159</td>\n",
       "      <td id=\"T_fcbb1_row2_col3\" class=\"data row2 col3\" >3164</td>\n",
       "      <td id=\"T_fcbb1_row2_col4\" class=\"data row2 col4\" >-0.35</td>\n",
       "    </tr>\n",
       "    <tr>\n",
       "      <th id=\"T_fcbb1_level0_row3\" class=\"row_heading level0 row3\" >IBRA</th>\n",
       "      <td id=\"T_fcbb1_row3_col0\" class=\"data row3 col0\" >4931</td>\n",
       "      <td id=\"T_fcbb1_row3_col1\" class=\"data row3 col1\" >5007</td>\n",
       "      <td id=\"T_fcbb1_row3_col2\" class=\"data row3 col2\" >4904</td>\n",
       "      <td id=\"T_fcbb1_row3_col3\" class=\"data row3 col3\" >4958</td>\n",
       "      <td id=\"T_fcbb1_row3_col4\" class=\"data row3 col4\" >0.55</td>\n",
       "    </tr>\n",
       "    <tr>\n",
       "      <th id=\"T_fcbb1_level0_row4\" class=\"row_heading level0 row4\" >SMLL</th>\n",
       "      <td id=\"T_fcbb1_row4_col0\" class=\"data row4 col0\" >2141</td>\n",
       "      <td id=\"T_fcbb1_row4_col1\" class=\"data row4 col1\" >2201</td>\n",
       "      <td id=\"T_fcbb1_row4_col2\" class=\"data row4 col2\" >2133</td>\n",
       "      <td id=\"T_fcbb1_row4_col3\" class=\"data row4 col3\" >2174</td>\n",
       "      <td id=\"T_fcbb1_row4_col4\" class=\"data row4 col4\" >1.54</td>\n",
       "    </tr>\n",
       "    <tr>\n",
       "      <th id=\"T_fcbb1_level0_row5\" class=\"row_heading level0 row5\" >MLCX</th>\n",
       "      <td id=\"T_fcbb1_row5_col0\" class=\"data row5 col0\" >2499</td>\n",
       "      <td id=\"T_fcbb1_row5_col1\" class=\"data row5 col1\" >2534</td>\n",
       "      <td id=\"T_fcbb1_row5_col2\" class=\"data row5 col2\" >2485</td>\n",
       "      <td id=\"T_fcbb1_row5_col3\" class=\"data row5 col3\" >2510</td>\n",
       "      <td id=\"T_fcbb1_row5_col4\" class=\"data row5 col4\" >0.44</td>\n",
       "    </tr>\n",
       "    <tr>\n",
       "      <th id=\"T_fcbb1_level0_row6\" class=\"row_heading level0 row6\" >IBXX</th>\n",
       "      <td id=\"T_fcbb1_row6_col0\" class=\"data row6 col0\" >52762</td>\n",
       "      <td id=\"T_fcbb1_row6_col1\" class=\"data row6 col1\" >53545</td>\n",
       "      <td id=\"T_fcbb1_row6_col2\" class=\"data row6 col2\" >52470</td>\n",
       "      <td id=\"T_fcbb1_row6_col3\" class=\"data row6 col3\" >53022</td>\n",
       "      <td id=\"T_fcbb1_row6_col4\" class=\"data row6 col4\" >0.49</td>\n",
       "    </tr>\n",
       "    <tr>\n",
       "      <th id=\"T_fcbb1_level0_row7\" class=\"row_heading level0 row7\" >IND$</th>\n",
       "      <td id=\"T_fcbb1_row7_col0\" class=\"data row7 col0\" >126050</td>\n",
       "      <td id=\"T_fcbb1_row7_col1\" class=\"data row7 col1\" >127890</td>\n",
       "      <td id=\"T_fcbb1_row7_col2\" class=\"data row7 col2\" >125485</td>\n",
       "      <td id=\"T_fcbb1_row7_col3\" class=\"data row7 col3\" >126695</td>\n",
       "      <td id=\"T_fcbb1_row7_col4\" class=\"data row7 col4\" >0.51</td>\n",
       "    </tr>\n",
       "    <tr>\n",
       "      <th id=\"T_fcbb1_level0_row8\" class=\"row_heading level0 row8\" >IBOV</th>\n",
       "      <td id=\"T_fcbb1_row8_col0\" class=\"data row8 col0\" >125517</td>\n",
       "      <td id=\"T_fcbb1_row8_col1\" class=\"data row8 col1\" >127388</td>\n",
       "      <td id=\"T_fcbb1_row8_col2\" class=\"data row8 col2\" >124840</td>\n",
       "      <td id=\"T_fcbb1_row8_col3\" class=\"data row8 col3\" >126166</td>\n",
       "      <td id=\"T_fcbb1_row8_col4\" class=\"data row8 col4\" >0.52</td>\n",
       "    </tr>\n",
       "  </tbody>\n",
       "</table>\n"
      ],
      "text/plain": [
       "<pandas.io.formats.style.Styler at 0x18728ef62f0>"
      ]
     },
     "execution_count": 91,
     "metadata": {},
     "output_type": "execute_result"
    }
   ],
   "source": [
    "df = brazil_ohlcv.copy()\n",
    "\n",
    "df = df.style.format(\"{:.0f}\").format(\"{:.2f}\", subset = 'Resultado_%').set_table_styles(\n",
    "    [\n",
    "        {\"selector\": \"td\", \n",
    "         \"props\": [(\"text-align\", \"center\")]},\n",
    "        {\"selector\": \"th\", \n",
    "         \"props\": \"text-align: center; font-weight: bold; background-color: #b8b4b4; color: black; font-size: 14pt,\"},\n",
    "        {\"selector\": \"th.index_name\", \n",
    "         \"props\": \"text-align: center; font-weight: bold; background-color: red; color: white; font-size: 14pt,\"},\n",
    "        {\"selector\": \"th.row_heading\", \n",
    "         \"props\": \"text-align: center; font-weight: bold; background-color: salmon; color: black; font-size: 11pt,\"},\n",
    "        {\"selector\": \"th.col_heading\", \n",
    "         \"props\": \"text-align: center; font-weight: bold; background-color: green; color: black; font-size: 11pt,\"},\n",
    "        \n",
    "            \n",
    "    ],\n",
    "    overwrite=False,\n",
    ")\n",
    "\n",
    "df"
   ]
  },
  {
   "cell_type": "code",
   "execution_count": 92,
   "metadata": {},
   "outputs": [
    {
     "data": {
      "text/html": [
       "<style type=\"text/css\">\n",
       "#T_efb37 td {\n",
       "  text-align: center;\n",
       "}\n",
       "#T_efb37 th {\n",
       "  text-align: center;\n",
       "  font-weight: bold;\n",
       "  background-color: #b8b4b4;\n",
       "  color: black;\n",
       "  font-size: 14pt,;\n",
       "}\n",
       "#T_efb37 th.index_name {\n",
       "  text-align: center;\n",
       "  font-weight: bold;\n",
       "  background-color: red;\n",
       "  color: white;\n",
       "  font-size: 14pt,;\n",
       "}\n",
       "#T_efb37 th.row_heading {\n",
       "  text-align: center;\n",
       "  font-weight: bold;\n",
       "  background-color: salmon;\n",
       "  color: black;\n",
       "  font-size: 11pt,;\n",
       "}\n",
       "#T_efb37 th.col_heading {\n",
       "  text-align: center;\n",
       "  font-weight: bold;\n",
       "  background-color: green;\n",
       "  color: black;\n",
       "  font-size: 11pt,;\n",
       "}\n",
       "#T_efb37 td:hover {\n",
       "  text-align: center;\n",
       "  font-weight: bold;\n",
       "  background-color: yellow;\n",
       "  color: black;\n",
       "  font-size: 15pt,;\n",
       "}\n",
       "</style>\n",
       "<table id=\"T_efb37\">\n",
       "  <thead>\n",
       "    <tr>\n",
       "      <th class=\"blank level0\" >&nbsp;</th>\n",
       "      <th id=\"T_efb37_level0_col0\" class=\"col_heading level0 col0\" >open</th>\n",
       "      <th id=\"T_efb37_level0_col1\" class=\"col_heading level0 col1\" >high</th>\n",
       "      <th id=\"T_efb37_level0_col2\" class=\"col_heading level0 col2\" >low</th>\n",
       "      <th id=\"T_efb37_level0_col3\" class=\"col_heading level0 col3\" >close</th>\n",
       "      <th id=\"T_efb37_level0_col4\" class=\"col_heading level0 col4\" >Resultado_%</th>\n",
       "    </tr>\n",
       "    <tr>\n",
       "      <th class=\"index_name level0\" >Ticker_MT5</th>\n",
       "      <th class=\"blank col0\" >&nbsp;</th>\n",
       "      <th class=\"blank col1\" >&nbsp;</th>\n",
       "      <th class=\"blank col2\" >&nbsp;</th>\n",
       "      <th class=\"blank col3\" >&nbsp;</th>\n",
       "      <th class=\"blank col4\" >&nbsp;</th>\n",
       "    </tr>\n",
       "  </thead>\n",
       "  <tbody>\n",
       "    <tr>\n",
       "      <th id=\"T_efb37_level0_row0\" class=\"row_heading level0 row0\" >cryBTCUSD</th>\n",
       "      <td id=\"T_efb37_row0_col0\" class=\"data row0 col0\" >38638</td>\n",
       "      <td id=\"T_efb37_row0_col1\" class=\"data row0 col1\" >38664</td>\n",
       "      <td id=\"T_efb37_row0_col2\" class=\"data row0 col2\" >38638</td>\n",
       "      <td id=\"T_efb37_row0_col3\" class=\"data row0 col3\" >38661</td>\n",
       "      <td id=\"T_efb37_row0_col4\" class=\"data row0 col4\" >0.06</td>\n",
       "    </tr>\n",
       "    <tr>\n",
       "      <th id=\"T_efb37_level0_row1\" class=\"row_heading level0 row1\" >BDRX</th>\n",
       "      <td id=\"T_efb37_row1_col0\" class=\"data row1 col0\" >13575</td>\n",
       "      <td id=\"T_efb37_row1_col1\" class=\"data row1 col1\" >13684</td>\n",
       "      <td id=\"T_efb37_row1_col2\" class=\"data row1 col2\" >13390</td>\n",
       "      <td id=\"T_efb37_row1_col3\" class=\"data row1 col3\" >13592</td>\n",
       "      <td id=\"T_efb37_row1_col4\" class=\"data row1 col4\" >0.13</td>\n",
       "    </tr>\n",
       "    <tr>\n",
       "      <th id=\"T_efb37_level0_row2\" class=\"row_heading level0 row2\" >IFIX</th>\n",
       "      <td id=\"T_efb37_row2_col0\" class=\"data row2 col0\" >3175</td>\n",
       "      <td id=\"T_efb37_row2_col1\" class=\"data row2 col1\" >3181</td>\n",
       "      <td id=\"T_efb37_row2_col2\" class=\"data row2 col2\" >3159</td>\n",
       "      <td id=\"T_efb37_row2_col3\" class=\"data row2 col3\" >3164</td>\n",
       "      <td id=\"T_efb37_row2_col4\" class=\"data row2 col4\" >-0.35</td>\n",
       "    </tr>\n",
       "    <tr>\n",
       "      <th id=\"T_efb37_level0_row3\" class=\"row_heading level0 row3\" >IBRA</th>\n",
       "      <td id=\"T_efb37_row3_col0\" class=\"data row3 col0\" >4931</td>\n",
       "      <td id=\"T_efb37_row3_col1\" class=\"data row3 col1\" >5007</td>\n",
       "      <td id=\"T_efb37_row3_col2\" class=\"data row3 col2\" >4904</td>\n",
       "      <td id=\"T_efb37_row3_col3\" class=\"data row3 col3\" >4958</td>\n",
       "      <td id=\"T_efb37_row3_col4\" class=\"data row3 col4\" >0.55</td>\n",
       "    </tr>\n",
       "    <tr>\n",
       "      <th id=\"T_efb37_level0_row4\" class=\"row_heading level0 row4\" >SMLL</th>\n",
       "      <td id=\"T_efb37_row4_col0\" class=\"data row4 col0\" >2141</td>\n",
       "      <td id=\"T_efb37_row4_col1\" class=\"data row4 col1\" >2201</td>\n",
       "      <td id=\"T_efb37_row4_col2\" class=\"data row4 col2\" >2133</td>\n",
       "      <td id=\"T_efb37_row4_col3\" class=\"data row4 col3\" >2174</td>\n",
       "      <td id=\"T_efb37_row4_col4\" class=\"data row4 col4\" >1.54</td>\n",
       "    </tr>\n",
       "    <tr>\n",
       "      <th id=\"T_efb37_level0_row5\" class=\"row_heading level0 row5\" >MLCX</th>\n",
       "      <td id=\"T_efb37_row5_col0\" class=\"data row5 col0\" >2499</td>\n",
       "      <td id=\"T_efb37_row5_col1\" class=\"data row5 col1\" >2534</td>\n",
       "      <td id=\"T_efb37_row5_col2\" class=\"data row5 col2\" >2485</td>\n",
       "      <td id=\"T_efb37_row5_col3\" class=\"data row5 col3\" >2510</td>\n",
       "      <td id=\"T_efb37_row5_col4\" class=\"data row5 col4\" >0.44</td>\n",
       "    </tr>\n",
       "    <tr>\n",
       "      <th id=\"T_efb37_level0_row6\" class=\"row_heading level0 row6\" >IBXX</th>\n",
       "      <td id=\"T_efb37_row6_col0\" class=\"data row6 col0\" >52762</td>\n",
       "      <td id=\"T_efb37_row6_col1\" class=\"data row6 col1\" >53545</td>\n",
       "      <td id=\"T_efb37_row6_col2\" class=\"data row6 col2\" >52470</td>\n",
       "      <td id=\"T_efb37_row6_col3\" class=\"data row6 col3\" >53022</td>\n",
       "      <td id=\"T_efb37_row6_col4\" class=\"data row6 col4\" >0.49</td>\n",
       "    </tr>\n",
       "    <tr>\n",
       "      <th id=\"T_efb37_level0_row7\" class=\"row_heading level0 row7\" >IND$</th>\n",
       "      <td id=\"T_efb37_row7_col0\" class=\"data row7 col0\" >126050</td>\n",
       "      <td id=\"T_efb37_row7_col1\" class=\"data row7 col1\" >127890</td>\n",
       "      <td id=\"T_efb37_row7_col2\" class=\"data row7 col2\" >125485</td>\n",
       "      <td id=\"T_efb37_row7_col3\" class=\"data row7 col3\" >126695</td>\n",
       "      <td id=\"T_efb37_row7_col4\" class=\"data row7 col4\" >0.51</td>\n",
       "    </tr>\n",
       "    <tr>\n",
       "      <th id=\"T_efb37_level0_row8\" class=\"row_heading level0 row8\" >IBOV</th>\n",
       "      <td id=\"T_efb37_row8_col0\" class=\"data row8 col0\" >125517</td>\n",
       "      <td id=\"T_efb37_row8_col1\" class=\"data row8 col1\" >127388</td>\n",
       "      <td id=\"T_efb37_row8_col2\" class=\"data row8 col2\" >124840</td>\n",
       "      <td id=\"T_efb37_row8_col3\" class=\"data row8 col3\" >126166</td>\n",
       "      <td id=\"T_efb37_row8_col4\" class=\"data row8 col4\" >0.52</td>\n",
       "    </tr>\n",
       "  </tbody>\n",
       "</table>\n"
      ],
      "text/plain": [
       "<pandas.io.formats.style.Styler at 0x18728f19270>"
      ]
     },
     "execution_count": 92,
     "metadata": {},
     "output_type": "execute_result"
    }
   ],
   "source": [
    "df = brazil_ohlcv.copy()\n",
    "\n",
    "df = df.style.format(\"{:.0f}\").format(\"{:.2f}\", subset = 'Resultado_%').set_table_styles(\n",
    "    [\n",
    "        {\"selector\": \"td\", \n",
    "         \"props\": [(\"text-align\", \"center\")]},\n",
    "        {\"selector\": \"th\", \n",
    "         \"props\": \"text-align: center; font-weight: bold; background-color: #b8b4b4; color: black; font-size: 14pt,\"},\n",
    "        {\"selector\": \"th.index_name\", \n",
    "         \"props\": \"text-align: center; font-weight: bold; background-color: red; color: white; font-size: 14pt,\"},\n",
    "        {\"selector\": \"th.row_heading\", \n",
    "         \"props\": \"text-align: center; font-weight: bold; background-color: salmon; color: black; font-size: 11pt,\"},\n",
    "        {\"selector\": \"th.col_heading\", \n",
    "         \"props\": \"text-align: center; font-weight: bold; background-color: green; color: black; font-size: 11pt,\"},\n",
    "        {\"selector\": \"td:hover\", \n",
    "         \"props\": \"text-align: center; font-weight: bold; background-color: yellow; color: black; font-size: 15pt,\"},\n",
    "        \n",
    "            \n",
    "    ],\n",
    "    overwrite=False,\n",
    ")\n",
    "\n",
    "df"
   ]
  },
  {
   "cell_type": "code",
   "execution_count": 93,
   "metadata": {},
   "outputs": [
    {
     "data": {
      "text/html": [
       "<style type=\"text/css\">\n",
       "#T_becc7 td {\n",
       "  text-align: center;\n",
       "}\n",
       "#T_becc7 th {\n",
       "  text-align: center;\n",
       "  font-weight: bold;\n",
       "  background-color: #b8b4b4;\n",
       "  color: black;\n",
       "  font-size: 14pt,;\n",
       "}\n",
       "#T_becc7 th.index_name {\n",
       "  text-align: center;\n",
       "  font-weight: bold;\n",
       "  background-color: #b8b4b4;\n",
       "  color: black;\n",
       "  font-size: 14pt,;\n",
       "}\n",
       "#T_becc7 th.row_heading {\n",
       "  text-align: center;\n",
       "  font-weight: bold;\n",
       "  background-color: #f5f2f2;\n",
       "  color: black;\n",
       "  font-size: 11pt,;\n",
       "}\n",
       "#T_becc7 td:hover {\n",
       "  text-align: center;\n",
       "  font-weight: bold;\n",
       "  background-color: #e8e8e8;\n",
       "  color: black;\n",
       "  font-size: 16pt,;\n",
       "}\n",
       "#T_becc7_row0_col4, #T_becc7_row1_col4, #T_becc7_row3_col4, #T_becc7_row5_col4, #T_becc7_row6_col4, #T_becc7_row7_col4, #T_becc7_row8_col4 {\n",
       "  font-weight: bold;\n",
       "  color: black;\n",
       "  background-color: #c1dec5;\n",
       "}\n",
       "#T_becc7_row2_col4 {\n",
       "  font-weight: bold;\n",
       "  color: white;\n",
       "  background-color: #d66363;\n",
       "}\n",
       "#T_becc7_row4_col4 {\n",
       "  font-weight: bold;\n",
       "  color: white;\n",
       "  background-color: #4eb55c;\n",
       "}\n",
       "</style>\n",
       "<table id=\"T_becc7\">\n",
       "  <thead>\n",
       "    <tr>\n",
       "      <th class=\"blank level0\" >&nbsp;</th>\n",
       "      <th id=\"T_becc7_level0_col0\" class=\"col_heading level0 col0\" >open</th>\n",
       "      <th id=\"T_becc7_level0_col1\" class=\"col_heading level0 col1\" >high</th>\n",
       "      <th id=\"T_becc7_level0_col2\" class=\"col_heading level0 col2\" >low</th>\n",
       "      <th id=\"T_becc7_level0_col3\" class=\"col_heading level0 col3\" >close</th>\n",
       "      <th id=\"T_becc7_level0_col4\" class=\"col_heading level0 col4\" >Resultado_%</th>\n",
       "    </tr>\n",
       "    <tr>\n",
       "      <th class=\"index_name level0\" >Ticker_MT5</th>\n",
       "      <th class=\"blank col0\" >&nbsp;</th>\n",
       "      <th class=\"blank col1\" >&nbsp;</th>\n",
       "      <th class=\"blank col2\" >&nbsp;</th>\n",
       "      <th class=\"blank col3\" >&nbsp;</th>\n",
       "      <th class=\"blank col4\" >&nbsp;</th>\n",
       "    </tr>\n",
       "  </thead>\n",
       "  <tbody>\n",
       "    <tr>\n",
       "      <th id=\"T_becc7_level0_row0\" class=\"row_heading level0 row0\" >cryBTCUSD</th>\n",
       "      <td id=\"T_becc7_row0_col0\" class=\"data row0 col0\" >38638</td>\n",
       "      <td id=\"T_becc7_row0_col1\" class=\"data row0 col1\" >38664</td>\n",
       "      <td id=\"T_becc7_row0_col2\" class=\"data row0 col2\" >38638</td>\n",
       "      <td id=\"T_becc7_row0_col3\" class=\"data row0 col3\" >38661</td>\n",
       "      <td id=\"T_becc7_row0_col4\" class=\"data row0 col4\" >0.06</td>\n",
       "    </tr>\n",
       "    <tr>\n",
       "      <th id=\"T_becc7_level0_row1\" class=\"row_heading level0 row1\" >BDRX</th>\n",
       "      <td id=\"T_becc7_row1_col0\" class=\"data row1 col0\" >13575</td>\n",
       "      <td id=\"T_becc7_row1_col1\" class=\"data row1 col1\" >13684</td>\n",
       "      <td id=\"T_becc7_row1_col2\" class=\"data row1 col2\" >13390</td>\n",
       "      <td id=\"T_becc7_row1_col3\" class=\"data row1 col3\" >13592</td>\n",
       "      <td id=\"T_becc7_row1_col4\" class=\"data row1 col4\" >0.13</td>\n",
       "    </tr>\n",
       "    <tr>\n",
       "      <th id=\"T_becc7_level0_row2\" class=\"row_heading level0 row2\" >IFIX</th>\n",
       "      <td id=\"T_becc7_row2_col0\" class=\"data row2 col0\" >3175</td>\n",
       "      <td id=\"T_becc7_row2_col1\" class=\"data row2 col1\" >3181</td>\n",
       "      <td id=\"T_becc7_row2_col2\" class=\"data row2 col2\" >3159</td>\n",
       "      <td id=\"T_becc7_row2_col3\" class=\"data row2 col3\" >3164</td>\n",
       "      <td id=\"T_becc7_row2_col4\" class=\"data row2 col4\" >-0.35</td>\n",
       "    </tr>\n",
       "    <tr>\n",
       "      <th id=\"T_becc7_level0_row3\" class=\"row_heading level0 row3\" >IBRA</th>\n",
       "      <td id=\"T_becc7_row3_col0\" class=\"data row3 col0\" >4931</td>\n",
       "      <td id=\"T_becc7_row3_col1\" class=\"data row3 col1\" >5007</td>\n",
       "      <td id=\"T_becc7_row3_col2\" class=\"data row3 col2\" >4904</td>\n",
       "      <td id=\"T_becc7_row3_col3\" class=\"data row3 col3\" >4958</td>\n",
       "      <td id=\"T_becc7_row3_col4\" class=\"data row3 col4\" >0.55</td>\n",
       "    </tr>\n",
       "    <tr>\n",
       "      <th id=\"T_becc7_level0_row4\" class=\"row_heading level0 row4\" >SMLL</th>\n",
       "      <td id=\"T_becc7_row4_col0\" class=\"data row4 col0\" >2141</td>\n",
       "      <td id=\"T_becc7_row4_col1\" class=\"data row4 col1\" >2201</td>\n",
       "      <td id=\"T_becc7_row4_col2\" class=\"data row4 col2\" >2133</td>\n",
       "      <td id=\"T_becc7_row4_col3\" class=\"data row4 col3\" >2174</td>\n",
       "      <td id=\"T_becc7_row4_col4\" class=\"data row4 col4\" >1.54</td>\n",
       "    </tr>\n",
       "    <tr>\n",
       "      <th id=\"T_becc7_level0_row5\" class=\"row_heading level0 row5\" >MLCX</th>\n",
       "      <td id=\"T_becc7_row5_col0\" class=\"data row5 col0\" >2499</td>\n",
       "      <td id=\"T_becc7_row5_col1\" class=\"data row5 col1\" >2534</td>\n",
       "      <td id=\"T_becc7_row5_col2\" class=\"data row5 col2\" >2485</td>\n",
       "      <td id=\"T_becc7_row5_col3\" class=\"data row5 col3\" >2510</td>\n",
       "      <td id=\"T_becc7_row5_col4\" class=\"data row5 col4\" >0.44</td>\n",
       "    </tr>\n",
       "    <tr>\n",
       "      <th id=\"T_becc7_level0_row6\" class=\"row_heading level0 row6\" >IBXX</th>\n",
       "      <td id=\"T_becc7_row6_col0\" class=\"data row6 col0\" >52762</td>\n",
       "      <td id=\"T_becc7_row6_col1\" class=\"data row6 col1\" >53545</td>\n",
       "      <td id=\"T_becc7_row6_col2\" class=\"data row6 col2\" >52470</td>\n",
       "      <td id=\"T_becc7_row6_col3\" class=\"data row6 col3\" >53022</td>\n",
       "      <td id=\"T_becc7_row6_col4\" class=\"data row6 col4\" >0.49</td>\n",
       "    </tr>\n",
       "    <tr>\n",
       "      <th id=\"T_becc7_level0_row7\" class=\"row_heading level0 row7\" >IND$</th>\n",
       "      <td id=\"T_becc7_row7_col0\" class=\"data row7 col0\" >126050</td>\n",
       "      <td id=\"T_becc7_row7_col1\" class=\"data row7 col1\" >127890</td>\n",
       "      <td id=\"T_becc7_row7_col2\" class=\"data row7 col2\" >125485</td>\n",
       "      <td id=\"T_becc7_row7_col3\" class=\"data row7 col3\" >126695</td>\n",
       "      <td id=\"T_becc7_row7_col4\" class=\"data row7 col4\" >0.51</td>\n",
       "    </tr>\n",
       "    <tr>\n",
       "      <th id=\"T_becc7_level0_row8\" class=\"row_heading level0 row8\" >IBOV</th>\n",
       "      <td id=\"T_becc7_row8_col0\" class=\"data row8 col0\" >125517</td>\n",
       "      <td id=\"T_becc7_row8_col1\" class=\"data row8 col1\" >127388</td>\n",
       "      <td id=\"T_becc7_row8_col2\" class=\"data row8 col2\" >124840</td>\n",
       "      <td id=\"T_becc7_row8_col3\" class=\"data row8 col3\" >126166</td>\n",
       "      <td id=\"T_becc7_row8_col4\" class=\"data row8 col4\" >0.52</td>\n",
       "    </tr>\n",
       "  </tbody>\n",
       "</table>\n"
      ],
      "text/plain": [
       "<pandas.io.formats.style.Styler at 0x18728f1a380>"
      ]
     },
     "execution_count": 93,
     "metadata": {},
     "output_type": "execute_result"
    }
   ],
   "source": [
    "df = brazil_ohlcv.copy()\n",
    "\n",
    "df = df.style.format(\"{:.0f}\").format(\"{:.2f}\", subset = 'Resultado_%').applymap(\n",
    "    lambda x:\n",
    "\n",
    "        \"font-weight: bold; color: white; background-color: #d40202\"\n",
    "        if x < -1\n",
    "        else (\n",
    "            \"font-weight: bold; color: white; background-color: #d66363\"\n",
    "            if x < 0\n",
    "            else (\n",
    "                \"font-weight: bold; color: white; background-color: #4eb55c\"\n",
    "                if x > 1\n",
    "                else \"font-weight: bold; color: black; background-color: #c1dec5\"\n",
    "            )\n",
    "        ),\n",
    "    subset = ['Resultado_%'],\n",
    ").set_table_styles(\n",
    "    [\n",
    "        {\"selector\": \"td\", \n",
    "         \"props\": [(\"text-align\", \"center\")]},\n",
    "        {\"selector\": \"th\", \n",
    "         \"props\": \"text-align: center; font-weight: bold; background-color: #b8b4b4; color: black; font-size: 14pt,\"},\n",
    "        {\"selector\": \"th.index_name\", \n",
    "         \"props\": \"text-align: center; font-weight: bold; background-color: #b8b4b4; color: black; font-size: 14pt,\"},\n",
    "        {\"selector\": \"th.row_heading\", \n",
    "         \"props\": \"text-align: center; font-weight: bold; background-color: #f5f2f2; color: black; font-size: 11pt,\"},\n",
    "        # {\"selector\": \"th.col_heading\", \n",
    "        #  \"props\": \"text-align: center; font-weight: bold; background-color: green; color: black; font-size: 11pt,\"},\n",
    "        {\"selector\": \"td:hover\", \n",
    "         \"props\": \"text-align: center; font-weight: bold; background-color: #e8e8e8; color: black; font-size: 16pt,\"},\n",
    "        \n",
    "            \n",
    "    ],\n",
    "    overwrite=False,\n",
    ")\n",
    "\n",
    "df"
   ]
  },
  {
   "cell_type": "markdown",
   "metadata": {},
   "source": [
    "### **4.3 Candles da semana e último mês**"
   ]
  },
  {
   "cell_type": "code",
   "execution_count": 94,
   "metadata": {},
   "outputs": [
    {
     "data": {
      "text/plain": [
       "True"
      ]
     },
     "execution_count": 94,
     "metadata": {},
     "output_type": "execute_result"
    }
   ],
   "source": [
    "mt5.initialize()"
   ]
  },
  {
   "cell_type": "code",
   "execution_count": 96,
   "metadata": {},
   "outputs": [
    {
     "data": {
      "text/plain": [
       "Timestamp('2023-10-28 00:00:00')"
      ]
     },
     "execution_count": 96,
     "metadata": {},
     "output_type": "execute_result"
    }
   ],
   "source": [
    "data_inicio_mt5 = pd.to_datetime(data_inicio)\n",
    "data_final_mt5 = pd.to_datetime(data_final)\n",
    "data_inicio_mes_mt5 = pd.to_datetime(data_inicio) - timedelta(days=30)\n",
    "data_inicio_mes_mt5\n"
   ]
  },
  {
   "cell_type": "code",
   "execution_count": 97,
   "metadata": {},
   "outputs": [
    {
     "data": {
      "text/html": [
       "<div>\n",
       "<style scoped>\n",
       "    .dataframe tbody tr th:only-of-type {\n",
       "        vertical-align: middle;\n",
       "    }\n",
       "\n",
       "    .dataframe tbody tr th {\n",
       "        vertical-align: top;\n",
       "    }\n",
       "\n",
       "    .dataframe thead th {\n",
       "        text-align: right;\n",
       "    }\n",
       "</style>\n",
       "<table border=\"1\" class=\"dataframe\">\n",
       "  <thead>\n",
       "    <tr style=\"text-align: right;\">\n",
       "      <th></th>\n",
       "      <th>time</th>\n",
       "      <th>open</th>\n",
       "      <th>high</th>\n",
       "      <th>low</th>\n",
       "      <th>close</th>\n",
       "      <th>tick_volume</th>\n",
       "      <th>spread</th>\n",
       "      <th>real_volume</th>\n",
       "    </tr>\n",
       "    <tr>\n",
       "      <th>time</th>\n",
       "      <th></th>\n",
       "      <th></th>\n",
       "      <th></th>\n",
       "      <th></th>\n",
       "      <th></th>\n",
       "      <th></th>\n",
       "      <th></th>\n",
       "      <th></th>\n",
       "    </tr>\n",
       "  </thead>\n",
       "  <tbody>\n",
       "    <tr>\n",
       "      <th>2023-12-01</th>\n",
       "      <td>1701388800</td>\n",
       "      <td>38638.33</td>\n",
       "      <td>38663.85</td>\n",
       "      <td>38638.33</td>\n",
       "      <td>38661.05</td>\n",
       "      <td>217</td>\n",
       "      <td>0</td>\n",
       "      <td>0</td>\n",
       "    </tr>\n",
       "  </tbody>\n",
       "</table>\n",
       "</div>"
      ],
      "text/plain": [
       "                  time      open      high       low     close  tick_volume  \\\n",
       "time                                                                          \n",
       "2023-12-01  1701388800  38638.33  38663.85  38638.33  38661.05          217   \n",
       "\n",
       "            spread  real_volume  \n",
       "time                             \n",
       "2023-12-01       0            0  "
      ]
     },
     "execution_count": 97,
     "metadata": {},
     "output_type": "execute_result"
    }
   ],
   "source": [
    "ohlcv_semana = pd.DataFrame(mt5.copy_rates_range('cryBTCUSD', mt5.TIMEFRAME_D1, data_inicio_mt5, data_final_mt5))\n",
    "ohlcv_semana.index = pd.to_datetime(ohlcv_semana[\"time\"], unit=\"s\")\n",
    "ohlcv_mes = pd.DataFrame(mt5.copy_rates_range('cryBTCUSD',mt5.TIMEFRAME_D1, data_inicio_mes_mt5, data_final_mt5))\n",
    "ohlcv_mes.index = pd.to_datetime(ohlcv_mes[\"time\"], unit=\"s\")\n",
    "ohlcv_mes.head()"
   ]
  },
  {
   "cell_type": "code",
   "execution_count": 98,
   "metadata": {},
   "outputs": [],
   "source": [
    "def figura_candlesticks(ohlcv_semana, ohlcv_mes, ativo):\n",
    "\n",
    "    fig_candlesticks = make_subplots(rows=2, cols=1)\n",
    "    fig_candlesticks.add_trace(\n",
    "        go.Candlestick(\n",
    "            name=str(ativo + \" última semana\"),\n",
    "            x=ohlcv_semana.index,\n",
    "            open=ohlcv_semana[\"open\"],\n",
    "            high=ohlcv_semana[\"high\"],\n",
    "            low=ohlcv_semana[\"low\"],\n",
    "            close=ohlcv_semana[\"close\"],\n",
    "            increasing_line_color=\"green\",\n",
    "            decreasing_line_color=\"red\",\n",
    "            showlegend=False,\n",
    "        ),\n",
    "        row=1,\n",
    "        col=1,\n",
    "    )\n",
    "\n",
    "    fig_candlesticks.add_trace(\n",
    "        go.Candlestick(\n",
    "            name=str(ativo + \" último mês\"),\n",
    "            x=ohlcv_mes.index,\n",
    "            open=ohlcv_mes[\"open\"],\n",
    "            high=ohlcv_mes[\"high\"],\n",
    "            low=ohlcv_mes[\"low\"],\n",
    "            close=ohlcv_mes[\"close\"],\n",
    "            increasing_line_color=\"green\",\n",
    "            decreasing_line_color=\"red\",\n",
    "            showlegend=False,\n",
    "        ),\n",
    "        row=2,\n",
    "        col=1,\n",
    "    )\n",
    "\n",
    "    fig_candlesticks.add_vrect(\n",
    "        x0=(ohlcv_semana.index[0] - timedelta(days=0.5)),\n",
    "        x1=(ohlcv_semana.index[-1] + timedelta(days=1)),\n",
    "        fillcolor=\"gray\",\n",
    "        opacity=0.25,\n",
    "        line_width=0,\n",
    "        row=2,\n",
    "        col=1,\n",
    "    )\n",
    "\n",
    "    fig_candlesticks.update_xaxes(\n",
    "        title_text=\"<b> Data\",\n",
    "        rangebreaks=[\n",
    "            dict(bounds=[\"sat\", \"mon\"]),\n",
    "            #dict(bounds=[18,10],pattern=\"hour\"), #para dados intraday\n",
    "            #dict(values=[\"2023-07-15\"]) #se tiver feriado, usar para remover uma data específica\n",
    "        ],\n",
    "    )\n",
    "\n",
    "    fig_candlesticks.update_traces(line_width=1)\n",
    "\n",
    "    fig_candlesticks.update_yaxes(title_text=f\"<b> {ativo} (pts)\")\n",
    "\n",
    "    fig_candlesticks.update_layout(\n",
    "        title_text=f\"<b>Gráfico candlestricks {ativo}\",\n",
    "        template=\"simple_white\" ,\n",
    "        font=dict(family=\"Arial\", size=20, color=\"black\"),\n",
    "    )\n",
    "\n",
    "    fig_candlesticks.update_layout(\n",
    "        margin=dict(l=20, r=20, t=70, b=20),\n",
    "        paper_bgcolor=\"#f7f8fa\",\n",
    "        width=800,\n",
    "        height=1200,\n",
    "        xaxis_rangeslider_visible=False,\n",
    "        xaxis2_rangeslider_visible=False,\n",
    "    )\n",
    "\n",
    "    return fig_candlesticks\n"
   ]
  },
  {
   "cell_type": "code",
   "execution_count": 100,
   "metadata": {},
   "outputs": [
    {
     "data": {
      "application/vnd.plotly.v1+json": {
       "config": {
        "plotlyServerURL": "https://plot.ly"
       },
       "data": [
        {
         "close": [
          38661.05
         ],
         "decreasing": {
          "line": {
           "color": "red"
          }
         },
         "high": [
          38663.85
         ],
         "increasing": {
          "line": {
           "color": "green"
          }
         },
         "line": {
          "width": 1
         },
         "low": [
          38638.33
         ],
         "name": "cryBTCUSD última semana",
         "open": [
          38638.33
         ],
         "showlegend": false,
         "type": "candlestick",
         "x": [
          "2023-12-01T00:00:00"
         ],
         "xaxis": "x",
         "yaxis": "y"
        },
        {
         "close": [
          38661.05
         ],
         "decreasing": {
          "line": {
           "color": "red"
          }
         },
         "high": [
          38663.85
         ],
         "increasing": {
          "line": {
           "color": "green"
          }
         },
         "line": {
          "width": 1
         },
         "low": [
          38638.33
         ],
         "name": "cryBTCUSD último mês",
         "open": [
          38638.33
         ],
         "showlegend": false,
         "type": "candlestick",
         "x": [
          "2023-12-01T00:00:00"
         ],
         "xaxis": "x2",
         "yaxis": "y2"
        }
       ],
       "layout": {
        "font": {
         "color": "black",
         "family": "Arial",
         "size": 20
        },
        "height": 1200,
        "margin": {
         "b": 20,
         "l": 20,
         "r": 20,
         "t": 70
        },
        "paper_bgcolor": "#f7f8fa",
        "shapes": [
         {
          "fillcolor": "gray",
          "line": {
           "width": 0
          },
          "opacity": 0.25,
          "type": "rect",
          "x0": "2023-11-30T12:00:00",
          "x1": "2023-12-02T00:00:00",
          "xref": "x2",
          "y0": 0,
          "y1": 1,
          "yref": "y2 domain"
         }
        ],
        "template": {
         "data": {
          "bar": [
           {
            "error_x": {
             "color": "rgb(36,36,36)"
            },
            "error_y": {
             "color": "rgb(36,36,36)"
            },
            "marker": {
             "line": {
              "color": "white",
              "width": 0.5
             },
             "pattern": {
              "fillmode": "overlay",
              "size": 10,
              "solidity": 0.2
             }
            },
            "type": "bar"
           }
          ],
          "barpolar": [
           {
            "marker": {
             "line": {
              "color": "white",
              "width": 0.5
             },
             "pattern": {
              "fillmode": "overlay",
              "size": 10,
              "solidity": 0.2
             }
            },
            "type": "barpolar"
           }
          ],
          "carpet": [
           {
            "aaxis": {
             "endlinecolor": "rgb(36,36,36)",
             "gridcolor": "white",
             "linecolor": "white",
             "minorgridcolor": "white",
             "startlinecolor": "rgb(36,36,36)"
            },
            "baxis": {
             "endlinecolor": "rgb(36,36,36)",
             "gridcolor": "white",
             "linecolor": "white",
             "minorgridcolor": "white",
             "startlinecolor": "rgb(36,36,36)"
            },
            "type": "carpet"
           }
          ],
          "choropleth": [
           {
            "colorbar": {
             "outlinewidth": 1,
             "tickcolor": "rgb(36,36,36)",
             "ticks": "outside"
            },
            "type": "choropleth"
           }
          ],
          "contour": [
           {
            "colorbar": {
             "outlinewidth": 1,
             "tickcolor": "rgb(36,36,36)",
             "ticks": "outside"
            },
            "colorscale": [
             [
              0,
              "#440154"
             ],
             [
              0.1111111111111111,
              "#482878"
             ],
             [
              0.2222222222222222,
              "#3e4989"
             ],
             [
              0.3333333333333333,
              "#31688e"
             ],
             [
              0.4444444444444444,
              "#26828e"
             ],
             [
              0.5555555555555556,
              "#1f9e89"
             ],
             [
              0.6666666666666666,
              "#35b779"
             ],
             [
              0.7777777777777778,
              "#6ece58"
             ],
             [
              0.8888888888888888,
              "#b5de2b"
             ],
             [
              1,
              "#fde725"
             ]
            ],
            "type": "contour"
           }
          ],
          "contourcarpet": [
           {
            "colorbar": {
             "outlinewidth": 1,
             "tickcolor": "rgb(36,36,36)",
             "ticks": "outside"
            },
            "type": "contourcarpet"
           }
          ],
          "heatmap": [
           {
            "colorbar": {
             "outlinewidth": 1,
             "tickcolor": "rgb(36,36,36)",
             "ticks": "outside"
            },
            "colorscale": [
             [
              0,
              "#440154"
             ],
             [
              0.1111111111111111,
              "#482878"
             ],
             [
              0.2222222222222222,
              "#3e4989"
             ],
             [
              0.3333333333333333,
              "#31688e"
             ],
             [
              0.4444444444444444,
              "#26828e"
             ],
             [
              0.5555555555555556,
              "#1f9e89"
             ],
             [
              0.6666666666666666,
              "#35b779"
             ],
             [
              0.7777777777777778,
              "#6ece58"
             ],
             [
              0.8888888888888888,
              "#b5de2b"
             ],
             [
              1,
              "#fde725"
             ]
            ],
            "type": "heatmap"
           }
          ],
          "heatmapgl": [
           {
            "colorbar": {
             "outlinewidth": 1,
             "tickcolor": "rgb(36,36,36)",
             "ticks": "outside"
            },
            "colorscale": [
             [
              0,
              "#440154"
             ],
             [
              0.1111111111111111,
              "#482878"
             ],
             [
              0.2222222222222222,
              "#3e4989"
             ],
             [
              0.3333333333333333,
              "#31688e"
             ],
             [
              0.4444444444444444,
              "#26828e"
             ],
             [
              0.5555555555555556,
              "#1f9e89"
             ],
             [
              0.6666666666666666,
              "#35b779"
             ],
             [
              0.7777777777777778,
              "#6ece58"
             ],
             [
              0.8888888888888888,
              "#b5de2b"
             ],
             [
              1,
              "#fde725"
             ]
            ],
            "type": "heatmapgl"
           }
          ],
          "histogram": [
           {
            "marker": {
             "line": {
              "color": "white",
              "width": 0.6
             }
            },
            "type": "histogram"
           }
          ],
          "histogram2d": [
           {
            "colorbar": {
             "outlinewidth": 1,
             "tickcolor": "rgb(36,36,36)",
             "ticks": "outside"
            },
            "colorscale": [
             [
              0,
              "#440154"
             ],
             [
              0.1111111111111111,
              "#482878"
             ],
             [
              0.2222222222222222,
              "#3e4989"
             ],
             [
              0.3333333333333333,
              "#31688e"
             ],
             [
              0.4444444444444444,
              "#26828e"
             ],
             [
              0.5555555555555556,
              "#1f9e89"
             ],
             [
              0.6666666666666666,
              "#35b779"
             ],
             [
              0.7777777777777778,
              "#6ece58"
             ],
             [
              0.8888888888888888,
              "#b5de2b"
             ],
             [
              1,
              "#fde725"
             ]
            ],
            "type": "histogram2d"
           }
          ],
          "histogram2dcontour": [
           {
            "colorbar": {
             "outlinewidth": 1,
             "tickcolor": "rgb(36,36,36)",
             "ticks": "outside"
            },
            "colorscale": [
             [
              0,
              "#440154"
             ],
             [
              0.1111111111111111,
              "#482878"
             ],
             [
              0.2222222222222222,
              "#3e4989"
             ],
             [
              0.3333333333333333,
              "#31688e"
             ],
             [
              0.4444444444444444,
              "#26828e"
             ],
             [
              0.5555555555555556,
              "#1f9e89"
             ],
             [
              0.6666666666666666,
              "#35b779"
             ],
             [
              0.7777777777777778,
              "#6ece58"
             ],
             [
              0.8888888888888888,
              "#b5de2b"
             ],
             [
              1,
              "#fde725"
             ]
            ],
            "type": "histogram2dcontour"
           }
          ],
          "mesh3d": [
           {
            "colorbar": {
             "outlinewidth": 1,
             "tickcolor": "rgb(36,36,36)",
             "ticks": "outside"
            },
            "type": "mesh3d"
           }
          ],
          "parcoords": [
           {
            "line": {
             "colorbar": {
              "outlinewidth": 1,
              "tickcolor": "rgb(36,36,36)",
              "ticks": "outside"
             }
            },
            "type": "parcoords"
           }
          ],
          "pie": [
           {
            "automargin": true,
            "type": "pie"
           }
          ],
          "scatter": [
           {
            "fillpattern": {
             "fillmode": "overlay",
             "size": 10,
             "solidity": 0.2
            },
            "type": "scatter"
           }
          ],
          "scatter3d": [
           {
            "line": {
             "colorbar": {
              "outlinewidth": 1,
              "tickcolor": "rgb(36,36,36)",
              "ticks": "outside"
             }
            },
            "marker": {
             "colorbar": {
              "outlinewidth": 1,
              "tickcolor": "rgb(36,36,36)",
              "ticks": "outside"
             }
            },
            "type": "scatter3d"
           }
          ],
          "scattercarpet": [
           {
            "marker": {
             "colorbar": {
              "outlinewidth": 1,
              "tickcolor": "rgb(36,36,36)",
              "ticks": "outside"
             }
            },
            "type": "scattercarpet"
           }
          ],
          "scattergeo": [
           {
            "marker": {
             "colorbar": {
              "outlinewidth": 1,
              "tickcolor": "rgb(36,36,36)",
              "ticks": "outside"
             }
            },
            "type": "scattergeo"
           }
          ],
          "scattergl": [
           {
            "marker": {
             "colorbar": {
              "outlinewidth": 1,
              "tickcolor": "rgb(36,36,36)",
              "ticks": "outside"
             }
            },
            "type": "scattergl"
           }
          ],
          "scattermapbox": [
           {
            "marker": {
             "colorbar": {
              "outlinewidth": 1,
              "tickcolor": "rgb(36,36,36)",
              "ticks": "outside"
             }
            },
            "type": "scattermapbox"
           }
          ],
          "scatterpolar": [
           {
            "marker": {
             "colorbar": {
              "outlinewidth": 1,
              "tickcolor": "rgb(36,36,36)",
              "ticks": "outside"
             }
            },
            "type": "scatterpolar"
           }
          ],
          "scatterpolargl": [
           {
            "marker": {
             "colorbar": {
              "outlinewidth": 1,
              "tickcolor": "rgb(36,36,36)",
              "ticks": "outside"
             }
            },
            "type": "scatterpolargl"
           }
          ],
          "scatterternary": [
           {
            "marker": {
             "colorbar": {
              "outlinewidth": 1,
              "tickcolor": "rgb(36,36,36)",
              "ticks": "outside"
             }
            },
            "type": "scatterternary"
           }
          ],
          "surface": [
           {
            "colorbar": {
             "outlinewidth": 1,
             "tickcolor": "rgb(36,36,36)",
             "ticks": "outside"
            },
            "colorscale": [
             [
              0,
              "#440154"
             ],
             [
              0.1111111111111111,
              "#482878"
             ],
             [
              0.2222222222222222,
              "#3e4989"
             ],
             [
              0.3333333333333333,
              "#31688e"
             ],
             [
              0.4444444444444444,
              "#26828e"
             ],
             [
              0.5555555555555556,
              "#1f9e89"
             ],
             [
              0.6666666666666666,
              "#35b779"
             ],
             [
              0.7777777777777778,
              "#6ece58"
             ],
             [
              0.8888888888888888,
              "#b5de2b"
             ],
             [
              1,
              "#fde725"
             ]
            ],
            "type": "surface"
           }
          ],
          "table": [
           {
            "cells": {
             "fill": {
              "color": "rgb(237,237,237)"
             },
             "line": {
              "color": "white"
             }
            },
            "header": {
             "fill": {
              "color": "rgb(217,217,217)"
             },
             "line": {
              "color": "white"
             }
            },
            "type": "table"
           }
          ]
         },
         "layout": {
          "annotationdefaults": {
           "arrowhead": 0,
           "arrowwidth": 1
          },
          "autotypenumbers": "strict",
          "coloraxis": {
           "colorbar": {
            "outlinewidth": 1,
            "tickcolor": "rgb(36,36,36)",
            "ticks": "outside"
           }
          },
          "colorscale": {
           "diverging": [
            [
             0,
             "rgb(103,0,31)"
            ],
            [
             0.1,
             "rgb(178,24,43)"
            ],
            [
             0.2,
             "rgb(214,96,77)"
            ],
            [
             0.3,
             "rgb(244,165,130)"
            ],
            [
             0.4,
             "rgb(253,219,199)"
            ],
            [
             0.5,
             "rgb(247,247,247)"
            ],
            [
             0.6,
             "rgb(209,229,240)"
            ],
            [
             0.7,
             "rgb(146,197,222)"
            ],
            [
             0.8,
             "rgb(67,147,195)"
            ],
            [
             0.9,
             "rgb(33,102,172)"
            ],
            [
             1,
             "rgb(5,48,97)"
            ]
           ],
           "sequential": [
            [
             0,
             "#440154"
            ],
            [
             0.1111111111111111,
             "#482878"
            ],
            [
             0.2222222222222222,
             "#3e4989"
            ],
            [
             0.3333333333333333,
             "#31688e"
            ],
            [
             0.4444444444444444,
             "#26828e"
            ],
            [
             0.5555555555555556,
             "#1f9e89"
            ],
            [
             0.6666666666666666,
             "#35b779"
            ],
            [
             0.7777777777777778,
             "#6ece58"
            ],
            [
             0.8888888888888888,
             "#b5de2b"
            ],
            [
             1,
             "#fde725"
            ]
           ],
           "sequentialminus": [
            [
             0,
             "#440154"
            ],
            [
             0.1111111111111111,
             "#482878"
            ],
            [
             0.2222222222222222,
             "#3e4989"
            ],
            [
             0.3333333333333333,
             "#31688e"
            ],
            [
             0.4444444444444444,
             "#26828e"
            ],
            [
             0.5555555555555556,
             "#1f9e89"
            ],
            [
             0.6666666666666666,
             "#35b779"
            ],
            [
             0.7777777777777778,
             "#6ece58"
            ],
            [
             0.8888888888888888,
             "#b5de2b"
            ],
            [
             1,
             "#fde725"
            ]
           ]
          },
          "colorway": [
           "#1F77B4",
           "#FF7F0E",
           "#2CA02C",
           "#D62728",
           "#9467BD",
           "#8C564B",
           "#E377C2",
           "#7F7F7F",
           "#BCBD22",
           "#17BECF"
          ],
          "font": {
           "color": "rgb(36,36,36)"
          },
          "geo": {
           "bgcolor": "white",
           "lakecolor": "white",
           "landcolor": "white",
           "showlakes": true,
           "showland": true,
           "subunitcolor": "white"
          },
          "hoverlabel": {
           "align": "left"
          },
          "hovermode": "closest",
          "mapbox": {
           "style": "light"
          },
          "paper_bgcolor": "white",
          "plot_bgcolor": "white",
          "polar": {
           "angularaxis": {
            "gridcolor": "rgb(232,232,232)",
            "linecolor": "rgb(36,36,36)",
            "showgrid": false,
            "showline": true,
            "ticks": "outside"
           },
           "bgcolor": "white",
           "radialaxis": {
            "gridcolor": "rgb(232,232,232)",
            "linecolor": "rgb(36,36,36)",
            "showgrid": false,
            "showline": true,
            "ticks": "outside"
           }
          },
          "scene": {
           "xaxis": {
            "backgroundcolor": "white",
            "gridcolor": "rgb(232,232,232)",
            "gridwidth": 2,
            "linecolor": "rgb(36,36,36)",
            "showbackground": true,
            "showgrid": false,
            "showline": true,
            "ticks": "outside",
            "zeroline": false,
            "zerolinecolor": "rgb(36,36,36)"
           },
           "yaxis": {
            "backgroundcolor": "white",
            "gridcolor": "rgb(232,232,232)",
            "gridwidth": 2,
            "linecolor": "rgb(36,36,36)",
            "showbackground": true,
            "showgrid": false,
            "showline": true,
            "ticks": "outside",
            "zeroline": false,
            "zerolinecolor": "rgb(36,36,36)"
           },
           "zaxis": {
            "backgroundcolor": "white",
            "gridcolor": "rgb(232,232,232)",
            "gridwidth": 2,
            "linecolor": "rgb(36,36,36)",
            "showbackground": true,
            "showgrid": false,
            "showline": true,
            "ticks": "outside",
            "zeroline": false,
            "zerolinecolor": "rgb(36,36,36)"
           }
          },
          "shapedefaults": {
           "fillcolor": "black",
           "line": {
            "width": 0
           },
           "opacity": 0.3
          },
          "ternary": {
           "aaxis": {
            "gridcolor": "rgb(232,232,232)",
            "linecolor": "rgb(36,36,36)",
            "showgrid": false,
            "showline": true,
            "ticks": "outside"
           },
           "baxis": {
            "gridcolor": "rgb(232,232,232)",
            "linecolor": "rgb(36,36,36)",
            "showgrid": false,
            "showline": true,
            "ticks": "outside"
           },
           "bgcolor": "white",
           "caxis": {
            "gridcolor": "rgb(232,232,232)",
            "linecolor": "rgb(36,36,36)",
            "showgrid": false,
            "showline": true,
            "ticks": "outside"
           }
          },
          "title": {
           "x": 0.05
          },
          "xaxis": {
           "automargin": true,
           "gridcolor": "rgb(232,232,232)",
           "linecolor": "rgb(36,36,36)",
           "showgrid": false,
           "showline": true,
           "ticks": "outside",
           "title": {
            "standoff": 15
           },
           "zeroline": false,
           "zerolinecolor": "rgb(36,36,36)"
          },
          "yaxis": {
           "automargin": true,
           "gridcolor": "rgb(232,232,232)",
           "linecolor": "rgb(36,36,36)",
           "showgrid": false,
           "showline": true,
           "ticks": "outside",
           "title": {
            "standoff": 15
           },
           "zeroline": false,
           "zerolinecolor": "rgb(36,36,36)"
          }
         }
        },
        "title": {
         "text": "<b>Gráfico candlestricks cryBTCUSD"
        },
        "width": 800,
        "xaxis": {
         "anchor": "y",
         "domain": [
          0,
          1
         ],
         "rangebreaks": [
          {
           "bounds": [
            "sat",
            "mon"
           ]
          }
         ],
         "rangeslider": {
          "visible": false
         },
         "title": {
          "text": "<b> Data"
         }
        },
        "xaxis2": {
         "anchor": "y2",
         "domain": [
          0,
          1
         ],
         "rangebreaks": [
          {
           "bounds": [
            "sat",
            "mon"
           ]
          }
         ],
         "rangeslider": {
          "visible": false
         },
         "title": {
          "text": "<b> Data"
         }
        },
        "yaxis": {
         "anchor": "x",
         "domain": [
          0.575,
          1
         ],
         "title": {
          "text": "<b> cryBTCUSD (pts)"
         }
        },
        "yaxis2": {
         "anchor": "x2",
         "domain": [
          0,
          0.425
         ],
         "title": {
          "text": "<b> cryBTCUSD (pts)"
         }
        }
       }
      }
     },
     "metadata": {},
     "output_type": "display_data"
    }
   ],
   "source": [
    "fig_candles = figura_candlesticks(ohlcv_semana, ohlcv_mes, ativo='cryBTCUSD')\n",
    "fig_candles"
   ]
  }
 ],
 "metadata": {
  "kernelspec": {
   "display_name": "Python 3",
   "language": "python",
   "name": "python3"
  },
  "language_info": {
   "codemirror_mode": {
    "name": "ipython",
    "version": 3
   },
   "file_extension": ".py",
   "mimetype": "text/x-python",
   "name": "python",
   "nbconvert_exporter": "python",
   "pygments_lexer": "ipython3",
   "version": "3.10.4"
  }
 },
 "nbformat": 4,
 "nbformat_minor": 2
}
