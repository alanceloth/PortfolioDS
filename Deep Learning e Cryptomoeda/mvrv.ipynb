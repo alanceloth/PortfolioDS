{
 "cells": [
  {
   "attachments": {},
   "cell_type": "markdown",
   "metadata": {},
   "source": [
    "# Imports"
   ]
  },
  {
   "cell_type": "code",
   "execution_count": 1,
   "metadata": {},
   "outputs": [],
   "source": [
    "import numpy as np\n",
    "import matplotlib.pyplot as plt\n",
    "import requests\n",
    "import json\n",
    "import pandas as pd\n",
    "import datetime\n",
    "import io"
   ]
  },
  {
   "attachments": {},
   "cell_type": "markdown",
   "metadata": {},
   "source": [
    "# Code"
   ]
  },
  {
   "cell_type": "code",
   "execution_count": 2,
   "metadata": {},
   "outputs": [
    {
     "name": "stdout",
     "output_type": "stream",
     "text": [
      "Total de bitcoins em circulação: 19296881 BTC\n"
     ]
    }
   ],
   "source": [
    "# URL da API da Blockchain.info\n",
    "url = 'https://blockchain.info/q/totalbc'\n",
    "\n",
    "# Fazendo a requisição à API\n",
    "response = requests.get(url)\n",
    "\n",
    "# Convertendo a resposta da requisição para texto\n",
    "total_btc = int(int(response.text)/100000000)\n",
    "\n",
    "# Imprimindo o número de bitcoins em circulação\n",
    "print('Total de bitcoins em circulação:', total_btc, 'BTC')\n"
   ]
  },
  {
   "cell_type": "code",
   "execution_count": 3,
   "metadata": {},
   "outputs": [
    {
     "data": {
      "text/html": [
       "<div>\n",
       "<style scoped>\n",
       "    .dataframe tbody tr th:only-of-type {\n",
       "        vertical-align: middle;\n",
       "    }\n",
       "\n",
       "    .dataframe tbody tr th {\n",
       "        vertical-align: top;\n",
       "    }\n",
       "\n",
       "    .dataframe thead th {\n",
       "        text-align: right;\n",
       "    }\n",
       "</style>\n",
       "<table border=\"1\" class=\"dataframe\">\n",
       "  <thead>\n",
       "    <tr style=\"text-align: right;\">\n",
       "      <th></th>\n",
       "      <th>Date</th>\n",
       "      <th>Max Circulating Supply</th>\n",
       "    </tr>\n",
       "  </thead>\n",
       "  <tbody>\n",
       "    <tr>\n",
       "      <th>0</th>\n",
       "      <td>2023-01-01</td>\n",
       "      <td>19249637.50</td>\n",
       "    </tr>\n",
       "    <tr>\n",
       "      <th>1</th>\n",
       "      <td>2023-01-02</td>\n",
       "      <td>19250612.50</td>\n",
       "    </tr>\n",
       "    <tr>\n",
       "      <th>2</th>\n",
       "      <td>2023-01-03</td>\n",
       "      <td>19251575.00</td>\n",
       "    </tr>\n",
       "    <tr>\n",
       "      <th>3</th>\n",
       "      <td>2023-01-04</td>\n",
       "      <td>19252468.75</td>\n",
       "    </tr>\n",
       "    <tr>\n",
       "      <th>4</th>\n",
       "      <td>2023-01-05</td>\n",
       "      <td>19253450.00</td>\n",
       "    </tr>\n",
       "  </tbody>\n",
       "</table>\n",
       "</div>"
      ],
      "text/plain": [
       "         Date  Max Circulating Supply\n",
       "0  2023-01-01             19249637.50\n",
       "1  2023-01-02             19250612.50\n",
       "2  2023-01-03             19251575.00\n",
       "3  2023-01-04             19252468.75\n",
       "4  2023-01-05             19253450.00"
      ]
     },
     "execution_count": 3,
     "metadata": {},
     "output_type": "execute_result"
    }
   ],
   "source": [
    "date = datetime.datetime(2023, 1, 1)\n",
    "timestamp = int(date.timestamp())\n",
    "\n",
    "url = f\"https://api.blockchain.info/charts/total-bitcoins?timespan=all&format=csv&sampled=false&cors=true&start={timestamp}\"\n",
    "\n",
    "response = requests.get(url)\n",
    "\n",
    "data = response.text\n",
    "circulating_supply = pd.read_csv(io.StringIO(data))\n",
    "circulating_supply = circulating_supply.rename(columns={circulating_supply.columns[0]: 'Datetime'})\n",
    "circulating_supply = circulating_supply.rename(columns={circulating_supply.columns[1]: 'Circulating Supply'})\n",
    "\n",
    "# Converter a coluna 'Datetime' para o tipo de data\n",
    "circulating_supply['Datetime'] = pd.to_datetime(circulating_supply['Datetime'])\n",
    "\n",
    "# Criar uma nova coluna 'Date' com apenas a data\n",
    "circulating_supply['Date'] = circulating_supply['Datetime'].dt.date\n",
    "\n",
    "# Agrupar os dados por dia e aplicar a função max() na coluna 'Circulating Supply'\n",
    "circulating_supply = circulating_supply.groupby(['Date']).max()\n",
    "\n",
    "# Remover a coluna 'Datetime' que não é mais necessária\n",
    "circulating_supply.drop(['Datetime'], axis=1, inplace=True)\n",
    "\n",
    "# Renomear a coluna 'Circulating Supply' para 'Max Circulating Supply'\n",
    "circulating_supply.rename(columns={'Circulating Supply': 'Max Circulating Supply'}, inplace=True)\n",
    "\n",
    "#circulating_supply = circulating_supply.set_index('Date')\n",
    "circulating_supply.reset_index(inplace=True)\n",
    "\n",
    "circulating_supply.head()"
   ]
  },
  {
   "cell_type": "code",
   "execution_count": 4,
   "metadata": {},
   "outputs": [
    {
     "data": {
      "text/plain": [
       "<AxesSubplot:>"
      ]
     },
     "execution_count": 4,
     "metadata": {},
     "output_type": "execute_result"
    },
    {
     "data": {
      "image/png": "[encoded data removed]",
      "text/plain": [
       "<Figure size 432x288 with 1 Axes>"
      ]
     },
     "metadata": {
      "needs_background": "light"
     },
     "output_type": "display_data"
    }
   ],
   "source": [
    "circulating_supply.plot()"
   ]
  },
  {
   "cell_type": "code",
   "execution_count": 5,
   "metadata": {},
   "outputs": [
    {
     "data": {
      "text/html": [
       "<div>\n",
       "<style scoped>\n",
       "    .dataframe tbody tr th:only-of-type {\n",
       "        vertical-align: middle;\n",
       "    }\n",
       "\n",
       "    .dataframe tbody tr th {\n",
       "        vertical-align: top;\n",
       "    }\n",
       "\n",
       "    .dataframe thead th {\n",
       "        text-align: right;\n",
       "    }\n",
       "</style>\n",
       "<table border=\"1\" class=\"dataframe\">\n",
       "  <thead>\n",
       "    <tr style=\"text-align: right;\">\n",
       "      <th></th>\n",
       "      <th>Date</th>\n",
       "      <th>Max Market Price</th>\n",
       "    </tr>\n",
       "  </thead>\n",
       "  <tbody>\n",
       "    <tr>\n",
       "      <th>0</th>\n",
       "      <td>2023-01-02</td>\n",
       "      <td>16613.71</td>\n",
       "    </tr>\n",
       "    <tr>\n",
       "      <th>1</th>\n",
       "      <td>2023-01-03</td>\n",
       "      <td>16671.54</td>\n",
       "    </tr>\n",
       "    <tr>\n",
       "      <th>2</th>\n",
       "      <td>2023-01-04</td>\n",
       "      <td>16669.60</td>\n",
       "    </tr>\n",
       "    <tr>\n",
       "      <th>3</th>\n",
       "      <td>2023-01-05</td>\n",
       "      <td>16850.63</td>\n",
       "    </tr>\n",
       "    <tr>\n",
       "      <th>4</th>\n",
       "      <td>2023-01-06</td>\n",
       "      <td>16826.41</td>\n",
       "    </tr>\n",
       "  </tbody>\n",
       "</table>\n",
       "</div>"
      ],
      "text/plain": [
       "         Date  Max Market Price\n",
       "0  2023-01-02          16613.71\n",
       "1  2023-01-03          16671.54\n",
       "2  2023-01-04          16669.60\n",
       "3  2023-01-05          16850.63\n",
       "4  2023-01-06          16826.41"
      ]
     },
     "execution_count": 5,
     "metadata": {},
     "output_type": "execute_result"
    }
   ],
   "source": [
    "date = datetime.datetime(2023, 1, 1)\n",
    "timestamp = int(date.timestamp())\n",
    "\n",
    "url = f\"https://api.blockchain.info/charts/market-price?timespan=all&format=csv&sampled=false&cors=true&start={timestamp}\"\n",
    "\n",
    "response = requests.get(url)\n",
    "\n",
    "data = response.text\n",
    "market_price = pd.read_csv(io.StringIO(data))\n",
    "market_price = market_price.rename(columns={market_price.columns[0]: 'Datetime'})\n",
    "market_price = market_price.rename(columns={market_price.columns[1]: 'Market Price'})\n",
    "\n",
    "\n",
    "market_price['Datetime'] = pd.to_datetime(market_price['Datetime'])\n",
    "\n",
    "market_price['Date'] = market_price['Datetime'].dt.date\n",
    "\n",
    "market_price = market_price.groupby(['Date']).max()\n",
    "\n",
    "# Remover a coluna 'Datetime' que não é mais necessária\n",
    "market_price.drop('Datetime', axis=1, inplace=True)\n",
    "\n",
    "# Renomear a coluna 'Circulating Supply' para 'Max Circulating Supply'\n",
    "market_price.rename(columns={'Market Price': 'Max Market Price'}, inplace=True)\n",
    "\n",
    "market_price.reset_index(inplace=True)\n",
    "\n",
    "market_price.head()"
   ]
  },
  {
   "cell_type": "code",
   "execution_count": 6,
   "metadata": {},
   "outputs": [
    {
     "data": {
      "text/plain": [
       "<AxesSubplot:>"
      ]
     },
     "execution_count": 6,
     "metadata": {},
     "output_type": "execute_result"
    },
    {
     "data": {
      "image/png": "[encoded data removed]",
      "text/plain": [
       "<Figure size 432x288 with 1 Axes>"
      ]
     },
     "metadata": {
      "needs_background": "light"
     },
     "output_type": "display_data"
    }
   ],
   "source": [
    "market_price.plot()"
   ]
  },
  {
   "cell_type": "code",
   "execution_count": 7,
   "metadata": {},
   "outputs": [
    {
     "data": {
      "text/html": [
       "<div>\n",
       "<style scoped>\n",
       "    .dataframe tbody tr th:only-of-type {\n",
       "        vertical-align: middle;\n",
       "    }\n",
       "\n",
       "    .dataframe tbody tr th {\n",
       "        vertical-align: top;\n",
       "    }\n",
       "\n",
       "    .dataframe thead th {\n",
       "        text-align: right;\n",
       "    }\n",
       "</style>\n",
       "<table border=\"1\" class=\"dataframe\">\n",
       "  <thead>\n",
       "    <tr style=\"text-align: right;\">\n",
       "      <th></th>\n",
       "      <th>Date</th>\n",
       "      <th>Max Market Price</th>\n",
       "      <th>Max Circulating Supply</th>\n",
       "      <th>Market Value</th>\n",
       "    </tr>\n",
       "  </thead>\n",
       "  <tbody>\n",
       "    <tr>\n",
       "      <th>0</th>\n",
       "      <td>2023-01-02</td>\n",
       "      <td>16613.71</td>\n",
       "      <td>19250612.50</td>\n",
       "      <td>3.198241e+11</td>\n",
       "    </tr>\n",
       "    <tr>\n",
       "      <th>1</th>\n",
       "      <td>2023-01-03</td>\n",
       "      <td>16671.54</td>\n",
       "      <td>19251575.00</td>\n",
       "      <td>3.209534e+11</td>\n",
       "    </tr>\n",
       "    <tr>\n",
       "      <th>2</th>\n",
       "      <td>2023-01-04</td>\n",
       "      <td>16669.60</td>\n",
       "      <td>19252468.75</td>\n",
       "      <td>3.209310e+11</td>\n",
       "    </tr>\n",
       "    <tr>\n",
       "      <th>3</th>\n",
       "      <td>2023-01-05</td>\n",
       "      <td>16850.63</td>\n",
       "      <td>19253450.00</td>\n",
       "      <td>3.244328e+11</td>\n",
       "    </tr>\n",
       "    <tr>\n",
       "      <th>4</th>\n",
       "      <td>2023-01-06</td>\n",
       "      <td>16826.41</td>\n",
       "      <td>19254575.00</td>\n",
       "      <td>3.239854e+11</td>\n",
       "    </tr>\n",
       "  </tbody>\n",
       "</table>\n",
       "</div>"
      ],
      "text/plain": [
       "         Date  Max Market Price  Max Circulating Supply  Market Value\n",
       "0  2023-01-02          16613.71             19250612.50  3.198241e+11\n",
       "1  2023-01-03          16671.54             19251575.00  3.209534e+11\n",
       "2  2023-01-04          16669.60             19252468.75  3.209310e+11\n",
       "3  2023-01-05          16850.63             19253450.00  3.244328e+11\n",
       "4  2023-01-06          16826.41             19254575.00  3.239854e+11"
      ]
     },
     "execution_count": 7,
     "metadata": {},
     "output_type": "execute_result"
    }
   ],
   "source": [
    "# Junta os dataframes market_price e circulating_supply baseado na coluna 'Date'\n",
    "merged_df = pd.merge(market_price, circulating_supply, on='Date', how='inner')\n",
    "\n",
    "# Cria uma nova coluna 'Market Value'\n",
    "merged_df['Market Value'] = merged_df['Max Market Price'] * merged_df['Max Circulating Supply']\n",
    "\n",
    "# Remove as colunas 'Market Price' e 'Circulating Supply'\n",
    "#merged_df = merged_df.drop(['Max Market Price', 'Max Circulating Supply'], axis=1)\n",
    "\n",
    "# Define a coluna 'Date' como index\n",
    "#merged_df.set_index('Date', inplace=True)\n",
    "\n",
    "# Mostra o novo dataframe\n",
    "merged_df.head()\n",
    "\n",
    "\n"
   ]
  },
  {
   "cell_type": "code",
   "execution_count": 8,
   "metadata": {},
   "outputs": [
    {
     "data": {
      "text/html": [
       "<div>\n",
       "<style scoped>\n",
       "    .dataframe tbody tr th:only-of-type {\n",
       "        vertical-align: middle;\n",
       "    }\n",
       "\n",
       "    .dataframe tbody tr th {\n",
       "        vertical-align: top;\n",
       "    }\n",
       "\n",
       "    .dataframe thead th {\n",
       "        text-align: right;\n",
       "    }\n",
       "</style>\n",
       "<table border=\"1\" class=\"dataframe\">\n",
       "  <thead>\n",
       "    <tr style=\"text-align: right;\">\n",
       "      <th></th>\n",
       "      <th>Date</th>\n",
       "      <th>Market Price</th>\n",
       "      <th>Circulating Supply</th>\n",
       "      <th>Market Value</th>\n",
       "    </tr>\n",
       "  </thead>\n",
       "  <tbody>\n",
       "    <tr>\n",
       "      <th>0</th>\n",
       "      <td>2023-01-02</td>\n",
       "      <td>16613.71</td>\n",
       "      <td>19250612.50</td>\n",
       "      <td>3.198241e+11</td>\n",
       "    </tr>\n",
       "    <tr>\n",
       "      <th>1</th>\n",
       "      <td>2023-01-03</td>\n",
       "      <td>16671.54</td>\n",
       "      <td>19251575.00</td>\n",
       "      <td>3.209534e+11</td>\n",
       "    </tr>\n",
       "    <tr>\n",
       "      <th>2</th>\n",
       "      <td>2023-01-04</td>\n",
       "      <td>16669.60</td>\n",
       "      <td>19252468.75</td>\n",
       "      <td>3.209310e+11</td>\n",
       "    </tr>\n",
       "    <tr>\n",
       "      <th>3</th>\n",
       "      <td>2023-01-05</td>\n",
       "      <td>16850.63</td>\n",
       "      <td>19253450.00</td>\n",
       "      <td>3.244328e+11</td>\n",
       "    </tr>\n",
       "    <tr>\n",
       "      <th>4</th>\n",
       "      <td>2023-01-06</td>\n",
       "      <td>16826.41</td>\n",
       "      <td>19254575.00</td>\n",
       "      <td>3.239854e+11</td>\n",
       "    </tr>\n",
       "  </tbody>\n",
       "</table>\n",
       "</div>"
      ],
      "text/plain": [
       "         Date  Market Price   Circulating Supply  Market Value\n",
       "0  2023-01-02      16613.71          19250612.50  3.198241e+11\n",
       "1  2023-01-03      16671.54          19251575.00  3.209534e+11\n",
       "2  2023-01-04      16669.60          19252468.75  3.209310e+11\n",
       "3  2023-01-05      16850.63          19253450.00  3.244328e+11\n",
       "4  2023-01-06      16826.41          19254575.00  3.239854e+11"
      ]
     },
     "execution_count": 8,
     "metadata": {},
     "output_type": "execute_result"
    }
   ],
   "source": [
    "merged_df.rename(columns={'Max Market Price': 'Market Price', 'Max Circulating Supply': ' Circulating Supply'}, inplace=True)\n",
    "\n",
    "merged_df.head()"
   ]
  },
  {
   "cell_type": "code",
   "execution_count": 9,
   "metadata": {},
   "outputs": [
    {
     "data": {
      "text/html": [
       "<div>\n",
       "<style scoped>\n",
       "    .dataframe tbody tr th:only-of-type {\n",
       "        vertical-align: middle;\n",
       "    }\n",
       "\n",
       "    .dataframe tbody tr th {\n",
       "        vertical-align: top;\n",
       "    }\n",
       "\n",
       "    .dataframe thead th {\n",
       "        text-align: right;\n",
       "    }\n",
       "</style>\n",
       "<table border=\"1\" class=\"dataframe\">\n",
       "  <thead>\n",
       "    <tr style=\"text-align: right;\">\n",
       "      <th></th>\n",
       "      <th>Date</th>\n",
       "      <th>Market Price</th>\n",
       "      <th>Circulating Supply</th>\n",
       "      <th>Market Value</th>\n",
       "    </tr>\n",
       "  </thead>\n",
       "  <tbody>\n",
       "    <tr>\n",
       "      <th>45</th>\n",
       "      <td>2023-02-16</td>\n",
       "      <td>24340.73</td>\n",
       "      <td>19293218.75</td>\n",
       "      <td>4.696110e+11</td>\n",
       "    </tr>\n",
       "    <tr>\n",
       "      <th>46</th>\n",
       "      <td>2023-02-17</td>\n",
       "      <td>23544.67</td>\n",
       "      <td>19294250.00</td>\n",
       "      <td>4.542767e+11</td>\n",
       "    </tr>\n",
       "    <tr>\n",
       "      <th>47</th>\n",
       "      <td>2023-02-18</td>\n",
       "      <td>24572.97</td>\n",
       "      <td>19295300.00</td>\n",
       "      <td>4.741428e+11</td>\n",
       "    </tr>\n",
       "    <tr>\n",
       "      <th>48</th>\n",
       "      <td>2023-02-19</td>\n",
       "      <td>24641.94</td>\n",
       "      <td>19296312.50</td>\n",
       "      <td>4.754986e+11</td>\n",
       "    </tr>\n",
       "    <tr>\n",
       "      <th>49</th>\n",
       "      <td>2023-02-20</td>\n",
       "      <td>24290.18</td>\n",
       "      <td>19296850.00</td>\n",
       "      <td>4.687240e+11</td>\n",
       "    </tr>\n",
       "  </tbody>\n",
       "</table>\n",
       "</div>"
      ],
      "text/plain": [
       "          Date  Market Price   Circulating Supply  Market Value\n",
       "45  2023-02-16      24340.73          19293218.75  4.696110e+11\n",
       "46  2023-02-17      23544.67          19294250.00  4.542767e+11\n",
       "47  2023-02-18      24572.97          19295300.00  4.741428e+11\n",
       "48  2023-02-19      24641.94          19296312.50  4.754986e+11\n",
       "49  2023-02-20      24290.18          19296850.00  4.687240e+11"
      ]
     },
     "execution_count": 9,
     "metadata": {},
     "output_type": "execute_result"
    }
   ],
   "source": [
    "merged_df.tail()"
   ]
  },
  {
   "attachments": {},
   "cell_type": "markdown",
   "metadata": {},
   "source": [
    "## Através de API Glassnode\n",
    "\n",
    "[link](https://docs.glassnode.com/basic-api/endpoints/market)"
   ]
  },
  {
   "cell_type": "code",
   "execution_count": 26,
   "metadata": {},
   "outputs": [],
   "source": [
    "#SOPR\n",
    "'''\n",
    "The Spent Output Profit Ratio (SOPR) is computed by dividing the realized value (in USD) divided by the value at creation (USD) \n",
    "of a spent output. Or simply: price sold / price paid. \n",
    "This metric was created by Renato Shirakashi. For a detailed commentary see this post.\n",
    "'''\n",
    "\n",
    "import json\n",
    "import requests\n",
    "import pandas as pd\n",
    "\n",
    "\n",
    "# insert your API key here\n",
    "API_KEY = ''\n",
    "\n",
    "# make API request\n",
    "res = requests.get('https://api.glassnode.com/v1/metrics/indicators/sopr',\n",
    "    params={'a': 'BTC', 'api_key': API_KEY})\n",
    "\n",
    "# convert to pandas dataframe\n",
    "sopr = pd.read_json(res.text, convert_dates=['t'])"
   ]
  },
  {
   "cell_type": "code",
   "execution_count": 27,
   "metadata": {},
   "outputs": [
    {
     "data": {
      "text/html": [
       "<div>\n",
       "<style scoped>\n",
       "    .dataframe tbody tr th:only-of-type {\n",
       "        vertical-align: middle;\n",
       "    }\n",
       "\n",
       "    .dataframe tbody tr th {\n",
       "        vertical-align: top;\n",
       "    }\n",
       "\n",
       "    .dataframe thead th {\n",
       "        text-align: right;\n",
       "    }\n",
       "</style>\n",
       "<table border=\"1\" class=\"dataframe\">\n",
       "  <thead>\n",
       "    <tr style=\"text-align: right;\">\n",
       "      <th></th>\n",
       "      <th>t</th>\n",
       "      <th>v</th>\n",
       "    </tr>\n",
       "  </thead>\n",
       "  <tbody>\n",
       "    <tr>\n",
       "      <th>4596</th>\n",
       "      <td>2023-02-15</td>\n",
       "      <td>1.008583</td>\n",
       "    </tr>\n",
       "    <tr>\n",
       "      <th>4597</th>\n",
       "      <td>2023-02-16</td>\n",
       "      <td>1.015120</td>\n",
       "    </tr>\n",
       "    <tr>\n",
       "      <th>4598</th>\n",
       "      <td>2023-02-17</td>\n",
       "      <td>1.003852</td>\n",
       "    </tr>\n",
       "    <tr>\n",
       "      <th>4599</th>\n",
       "      <td>2023-02-18</td>\n",
       "      <td>1.005204</td>\n",
       "    </tr>\n",
       "    <tr>\n",
       "      <th>4600</th>\n",
       "      <td>2023-02-19</td>\n",
       "      <td>1.005298</td>\n",
       "    </tr>\n",
       "  </tbody>\n",
       "</table>\n",
       "</div>"
      ],
      "text/plain": [
       "              t         v\n",
       "4596 2023-02-15  1.008583\n",
       "4597 2023-02-16  1.015120\n",
       "4598 2023-02-17  1.003852\n",
       "4599 2023-02-18  1.005204\n",
       "4600 2023-02-19  1.005298"
      ]
     },
     "execution_count": 27,
     "metadata": {},
     "output_type": "execute_result"
    }
   ],
   "source": [
    "sopr.tail()"
   ]
  },
  {
   "cell_type": "code",
   "execution_count": 29,
   "metadata": {},
   "outputs": [],
   "source": [
    "#Market Cap Realized\n",
    "'''\n",
    "Realized Cap values different part of the supplies at different prices (instead of using the current daily close). \n",
    "Specifically, it is computed by valuing each UTXO by the price when it was last moved.\n",
    "'''\n",
    "\n",
    "import json\n",
    "import requests\n",
    "import pandas as pd\n",
    "\n",
    "\n",
    "# insert your API key here\n",
    "API_KEY = ''\n",
    "\n",
    "# make API request\n",
    "res = requests.get('https://api.glassnode.com/v1/metrics/market/marketcap_realized_usd',\n",
    "    params={'a': 'BTC', 'api_key': API_KEY})\n",
    "\n",
    "# convert to pandas dataframe\n",
    "mkt_cap_realized_usd = pd.read_json(res.text, convert_dates=['t'])"
   ]
  },
  {
   "cell_type": "code",
   "execution_count": 30,
   "metadata": {},
   "outputs": [
    {
     "data": {
      "text/html": [
       "<div>\n",
       "<style scoped>\n",
       "    .dataframe tbody tr th:only-of-type {\n",
       "        vertical-align: middle;\n",
       "    }\n",
       "\n",
       "    .dataframe tbody tr th {\n",
       "        vertical-align: top;\n",
       "    }\n",
       "\n",
       "    .dataframe thead th {\n",
       "        text-align: right;\n",
       "    }\n",
       "</style>\n",
       "<table border=\"1\" class=\"dataframe\">\n",
       "  <thead>\n",
       "    <tr style=\"text-align: right;\">\n",
       "      <th></th>\n",
       "      <th>t</th>\n",
       "      <th>v</th>\n",
       "    </tr>\n",
       "  </thead>\n",
       "  <tbody>\n",
       "    <tr>\n",
       "      <th>4791</th>\n",
       "      <td>2022-02-15</td>\n",
       "      <td>4.583189e+11</td>\n",
       "    </tr>\n",
       "    <tr>\n",
       "      <th>4792</th>\n",
       "      <td>2022-02-16</td>\n",
       "      <td>4.585352e+11</td>\n",
       "    </tr>\n",
       "    <tr>\n",
       "      <th>4793</th>\n",
       "      <td>2022-02-17</td>\n",
       "      <td>4.582529e+11</td>\n",
       "    </tr>\n",
       "    <tr>\n",
       "      <th>4794</th>\n",
       "      <td>2022-02-18</td>\n",
       "      <td>4.578976e+11</td>\n",
       "    </tr>\n",
       "    <tr>\n",
       "      <th>4795</th>\n",
       "      <td>2022-02-19</td>\n",
       "      <td>4.578588e+11</td>\n",
       "    </tr>\n",
       "  </tbody>\n",
       "</table>\n",
       "</div>"
      ],
      "text/plain": [
       "              t             v\n",
       "4791 2022-02-15  4.583189e+11\n",
       "4792 2022-02-16  4.585352e+11\n",
       "4793 2022-02-17  4.582529e+11\n",
       "4794 2022-02-18  4.578976e+11\n",
       "4795 2022-02-19  4.578588e+11"
      ]
     },
     "execution_count": 30,
     "metadata": {},
     "output_type": "execute_result"
    }
   ],
   "source": [
    "mkt_cap_realized_usd.tail()"
   ]
  },
  {
   "cell_type": "code",
   "execution_count": 31,
   "metadata": {},
   "outputs": [],
   "source": [
    "#Market Cap\n",
    "'''\n",
    "The market capitalization (or network value) is defined as the product of the current supply by the current USD price.\n",
    "'''\n",
    "\n",
    "\n",
    "import json\n",
    "import requests\n",
    "import pandas as pd\n",
    "\n",
    "\n",
    "# insert your API key here\n",
    "API_KEY = ''\n",
    "\n",
    "# make API request\n",
    "res = requests.get('https://api.glassnode.com/v1/metrics/market/marketcap_usd',\n",
    "    params={'a': 'BTC', 'api_key': API_KEY})\n",
    "\n",
    "# convert to pandas dataframe\n",
    "mkt_cap = pd.read_json(res.text, convert_dates=['t'])"
   ]
  },
  {
   "cell_type": "code",
   "execution_count": 32,
   "metadata": {},
   "outputs": [
    {
     "data": {
      "text/html": [
       "<div>\n",
       "<style scoped>\n",
       "    .dataframe tbody tr th:only-of-type {\n",
       "        vertical-align: middle;\n",
       "    }\n",
       "\n",
       "    .dataframe tbody tr th {\n",
       "        vertical-align: top;\n",
       "    }\n",
       "\n",
       "    .dataframe thead th {\n",
       "        text-align: right;\n",
       "    }\n",
       "</style>\n",
       "<table border=\"1\" class=\"dataframe\">\n",
       "  <thead>\n",
       "    <tr style=\"text-align: right;\">\n",
       "      <th></th>\n",
       "      <th>t</th>\n",
       "      <th>v</th>\n",
       "    </tr>\n",
       "  </thead>\n",
       "  <tbody>\n",
       "    <tr>\n",
       "      <th>4596</th>\n",
       "      <td>2023-02-15</td>\n",
       "      <td>4.687167e+11</td>\n",
       "    </tr>\n",
       "    <tr>\n",
       "      <th>4597</th>\n",
       "      <td>2023-02-16</td>\n",
       "      <td>4.564245e+11</td>\n",
       "    </tr>\n",
       "    <tr>\n",
       "      <th>4598</th>\n",
       "      <td>2023-02-17</td>\n",
       "      <td>4.742125e+11</td>\n",
       "    </tr>\n",
       "    <tr>\n",
       "      <th>4599</th>\n",
       "      <td>2023-02-18</td>\n",
       "      <td>4.753625e+11</td>\n",
       "    </tr>\n",
       "    <tr>\n",
       "      <th>4600</th>\n",
       "      <td>2023-02-19</td>\n",
       "      <td>4.700420e+11</td>\n",
       "    </tr>\n",
       "  </tbody>\n",
       "</table>\n",
       "</div>"
      ],
      "text/plain": [
       "              t             v\n",
       "4596 2023-02-15  4.687167e+11\n",
       "4597 2023-02-16  4.564245e+11\n",
       "4598 2023-02-17  4.742125e+11\n",
       "4599 2023-02-18  4.753625e+11\n",
       "4600 2023-02-19  4.700420e+11"
      ]
     },
     "execution_count": 32,
     "metadata": {},
     "output_type": "execute_result"
    }
   ],
   "source": [
    "mkt_cap.tail()"
   ]
  },
  {
   "cell_type": "code",
   "execution_count": 33,
   "metadata": {},
   "outputs": [],
   "source": [
    "#MVRV\n",
    "'''\n",
    "MVRV is the ratio between market cap and realised cap. It gives an indication of when the traded price is below a “fair value”. \n",
    "This metric was created by David Puell and Murad Mahmudov.\n",
    "'''\n",
    "\n",
    "import json\n",
    "import requests\n",
    "import pandas as pd\n",
    "\n",
    "\n",
    "# insert your API key here\n",
    "API_KEY = ''\n",
    "\n",
    "# make API request\n",
    "res = requests.get('https://api.glassnode.com/v1/metrics/market/mvrv',\n",
    "    params={'a': 'BTC', 'api_key': API_KEY})\n",
    "\n",
    "# convert to pandas dataframe\n",
    "mvrv = pd.read_json(res.text, convert_dates=['t'])"
   ]
  },
  {
   "cell_type": "code",
   "execution_count": 34,
   "metadata": {},
   "outputs": [
    {
     "data": {
      "text/html": [
       "<div>\n",
       "<style scoped>\n",
       "    .dataframe tbody tr th:only-of-type {\n",
       "        vertical-align: middle;\n",
       "    }\n",
       "\n",
       "    .dataframe tbody tr th {\n",
       "        vertical-align: top;\n",
       "    }\n",
       "\n",
       "    .dataframe thead th {\n",
       "        text-align: right;\n",
       "    }\n",
       "</style>\n",
       "<table border=\"1\" class=\"dataframe\">\n",
       "  <thead>\n",
       "    <tr style=\"text-align: right;\">\n",
       "      <th></th>\n",
       "      <th>t</th>\n",
       "      <th>v</th>\n",
       "    </tr>\n",
       "  </thead>\n",
       "  <tbody>\n",
       "    <tr>\n",
       "      <th>4231</th>\n",
       "      <td>2022-02-15</td>\n",
       "      <td>1.845015</td>\n",
       "    </tr>\n",
       "    <tr>\n",
       "      <th>4232</th>\n",
       "      <td>2022-02-16</td>\n",
       "      <td>1.818592</td>\n",
       "    </tr>\n",
       "    <tr>\n",
       "      <th>4233</th>\n",
       "      <td>2022-02-17</td>\n",
       "      <td>1.677812</td>\n",
       "    </tr>\n",
       "    <tr>\n",
       "      <th>4234</th>\n",
       "      <td>2022-02-18</td>\n",
       "      <td>1.657768</td>\n",
       "    </tr>\n",
       "    <tr>\n",
       "      <th>4235</th>\n",
       "      <td>2022-02-19</td>\n",
       "      <td>1.661957</td>\n",
       "    </tr>\n",
       "  </tbody>\n",
       "</table>\n",
       "</div>"
      ],
      "text/plain": [
       "              t         v\n",
       "4231 2022-02-15  1.845015\n",
       "4232 2022-02-16  1.818592\n",
       "4233 2022-02-17  1.677812\n",
       "4234 2022-02-18  1.657768\n",
       "4235 2022-02-19  1.661957"
      ]
     },
     "execution_count": 34,
     "metadata": {},
     "output_type": "execute_result"
    }
   ],
   "source": [
    "mvrv.tail()"
   ]
  },
  {
   "cell_type": "code",
   "execution_count": 36,
   "metadata": {},
   "outputs": [],
   "source": [
    "mvrv_plot = mvrv.set_index(['t'])"
   ]
  },
  {
   "cell_type": "code",
   "execution_count": 38,
   "metadata": {},
   "outputs": [
    {
     "data": {
      "text/plain": [
       "<AxesSubplot:xlabel='t'>"
      ]
     },
     "execution_count": 38,
     "metadata": {},
     "output_type": "execute_result"
    },
    {
     "data": {
      "image/png": "[encoded data removed]",
      "text/plain": [
       "<Figure size 432x288 with 1 Axes>"
      ]
     },
     "metadata": {
      "needs_background": "light"
     },
     "output_type": "display_data"
    }
   ],
   "source": [
    "mvrv_plot.plot()"
   ]
  },
  {
   "cell_type": "code",
   "execution_count": 43,
   "metadata": {},
   "outputs": [],
   "source": [
    "#MVRV ZScore\n",
    "'''\n",
    "The MVRV Z-Score is used to assess when Bitcoin is over/undervalued relative to its \"fair value\". \n",
    "When market value is significantly higher than realized value, it has historically indicated a market top (red zone), \n",
    "while the opposite has indicated market bottoms (green zone). \n",
    "Technically, MVRV Z-Score is defined as the ratio between the difference of market cap and realized cap, \n",
    "and the standard deviation of market cap, i.e. (market cap – realized cap) / std(market cap).\n",
    "'''\n",
    "\n",
    "import json\n",
    "import requests\n",
    "import pandas as pd\n",
    "\n",
    "\n",
    "# insert your API key here\n",
    "API_KEY = ''\n",
    "\n",
    "# make API request\n",
    "res = requests.get('https://api.glassnode.com/v1/metrics/market/mvrv_z_score',\n",
    "    params={'a': 'BTC', 'api_key': API_KEY})\n",
    "\n",
    "# convert to pandas dataframe\n",
    "mvrv_zscore = pd.read_json(res.text, convert_dates=['t'])"
   ]
  },
  {
   "cell_type": "code",
   "execution_count": 44,
   "metadata": {},
   "outputs": [
    {
     "data": {
      "text/html": [
       "<div>\n",
       "<style scoped>\n",
       "    .dataframe tbody tr th:only-of-type {\n",
       "        vertical-align: middle;\n",
       "    }\n",
       "\n",
       "    .dataframe tbody tr th {\n",
       "        vertical-align: top;\n",
       "    }\n",
       "\n",
       "    .dataframe thead th {\n",
       "        text-align: right;\n",
       "    }\n",
       "</style>\n",
       "<table border=\"1\" class=\"dataframe\">\n",
       "  <thead>\n",
       "    <tr style=\"text-align: right;\">\n",
       "      <th></th>\n",
       "      <th>t</th>\n",
       "      <th>v</th>\n",
       "    </tr>\n",
       "  </thead>\n",
       "  <tbody>\n",
       "    <tr>\n",
       "      <th>4791</th>\n",
       "      <td>2022-02-15</td>\n",
       "      <td>1.544504</td>\n",
       "    </tr>\n",
       "    <tr>\n",
       "      <th>4792</th>\n",
       "      <td>2022-02-16</td>\n",
       "      <td>1.533300</td>\n",
       "    </tr>\n",
       "    <tr>\n",
       "      <th>4793</th>\n",
       "      <td>2022-02-17</td>\n",
       "      <td>1.262933</td>\n",
       "    </tr>\n",
       "    <tr>\n",
       "      <th>4794</th>\n",
       "      <td>2022-02-18</td>\n",
       "      <td>1.218545</td>\n",
       "    </tr>\n",
       "    <tr>\n",
       "      <th>4795</th>\n",
       "      <td>2022-02-19</td>\n",
       "      <td>1.223116</td>\n",
       "    </tr>\n",
       "  </tbody>\n",
       "</table>\n",
       "</div>"
      ],
      "text/plain": [
       "              t         v\n",
       "4791 2022-02-15  1.544504\n",
       "4792 2022-02-16  1.533300\n",
       "4793 2022-02-17  1.262933\n",
       "4794 2022-02-18  1.218545\n",
       "4795 2022-02-19  1.223116"
      ]
     },
     "execution_count": 44,
     "metadata": {},
     "output_type": "execute_result"
    }
   ],
   "source": [
    "mvrv_zscore.tail()"
   ]
  },
  {
   "cell_type": "code",
   "execution_count": 45,
   "metadata": {},
   "outputs": [],
   "source": [
    "mvrv_zscore_plot = mvrv_zscore.set_index(['t'])"
   ]
  },
  {
   "cell_type": "code",
   "execution_count": 46,
   "metadata": {},
   "outputs": [
    {
     "data": {
      "text/plain": [
       "<AxesSubplot:xlabel='t'>"
      ]
     },
     "execution_count": 46,
     "metadata": {},
     "output_type": "execute_result"
    },
    {
     "data": {
      "image/png": "[encoded data removed]",
      "text/plain": [
       "<Figure size 432x288 with 1 Axes>"
      ]
     },
     "metadata": {
      "needs_background": "light"
     },
     "output_type": "display_data"
    }
   ],
   "source": [
    "mvrv_zscore_plot.plot()"
   ]
  },
  {
   "cell_type": "code",
   "execution_count": 47,
   "metadata": {},
   "outputs": [],
   "source": [
    "#Realized Price\n",
    "'''\n",
    "Realized Price is the Realized Cap divided by the current supply.\n",
    "'''\n",
    "\n",
    "import json\n",
    "import requests\n",
    "import pandas as pd\n",
    "\n",
    "\n",
    "# insert your API key here\n",
    "API_KEY = ''\n",
    "\n",
    "# make API request\n",
    "res = requests.get('https://api.glassnode.com/v1/metrics/market/price_realized_usd',\n",
    "    params={'a': 'BTC', 'api_key': API_KEY})\n",
    "\n",
    "# convert to pandas dataframe\n",
    "realized_price = pd.read_json(res.text, convert_dates=['t'])"
   ]
  },
  {
   "cell_type": "code",
   "execution_count": 48,
   "metadata": {},
   "outputs": [
    {
     "data": {
      "text/html": [
       "<div>\n",
       "<style scoped>\n",
       "    .dataframe tbody tr th:only-of-type {\n",
       "        vertical-align: middle;\n",
       "    }\n",
       "\n",
       "    .dataframe tbody tr th {\n",
       "        vertical-align: top;\n",
       "    }\n",
       "\n",
       "    .dataframe thead th {\n",
       "        text-align: right;\n",
       "    }\n",
       "</style>\n",
       "<table border=\"1\" class=\"dataframe\">\n",
       "  <thead>\n",
       "    <tr style=\"text-align: right;\">\n",
       "      <th></th>\n",
       "      <th>t</th>\n",
       "      <th>v</th>\n",
       "    </tr>\n",
       "  </thead>\n",
       "  <tbody>\n",
       "    <tr>\n",
       "      <th>4791</th>\n",
       "      <td>2022-02-15</td>\n",
       "      <td>24173.664648</td>\n",
       "    </tr>\n",
       "    <tr>\n",
       "      <th>4792</th>\n",
       "      <td>2022-02-16</td>\n",
       "      <td>24183.829621</td>\n",
       "    </tr>\n",
       "    <tr>\n",
       "      <th>4793</th>\n",
       "      <td>2022-02-17</td>\n",
       "      <td>24167.687518</td>\n",
       "    </tr>\n",
       "    <tr>\n",
       "      <th>4794</th>\n",
       "      <td>2022-02-18</td>\n",
       "      <td>24147.885190</td>\n",
       "    </tr>\n",
       "    <tr>\n",
       "      <th>4795</th>\n",
       "      <td>2022-02-19</td>\n",
       "      <td>24144.650025</td>\n",
       "    </tr>\n",
       "  </tbody>\n",
       "</table>\n",
       "</div>"
      ],
      "text/plain": [
       "              t             v\n",
       "4791 2022-02-15  24173.664648\n",
       "4792 2022-02-16  24183.829621\n",
       "4793 2022-02-17  24167.687518\n",
       "4794 2022-02-18  24147.885190\n",
       "4795 2022-02-19  24144.650025"
      ]
     },
     "execution_count": 48,
     "metadata": {},
     "output_type": "execute_result"
    }
   ],
   "source": [
    "realized_price.tail()"
   ]
  }
 ],
 "metadata": {
  "kernelspec": {
   "display_name": "Python 3",
   "language": "python",
   "name": "python3"
  },
  "language_info": {
   "codemirror_mode": {
    "name": "ipython",
    "version": 3
   },
   "file_extension": ".py",
   "mimetype": "text/x-python",
   "name": "python",
   "nbconvert_exporter": "python",
   "pygments_lexer": "ipython3",
   "version": "3.10.4"
  },
  "orig_nbformat": 4,
  "vscode": {
   "interpreter": {
    "hash": "369f2c481f4da34e4445cda3fffd2e751bd1c4d706f27375911949ba6bb62e1c"
   }
  }
 },
 "nbformat": 4,
 "nbformat_minor": 2
}
