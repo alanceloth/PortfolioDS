{
 "cells": [
  {
   "cell_type": "markdown",
   "metadata": {
    "application/vnd.databricks.v1+cell": {
     "cellMetadata": {
      "byteLimit": 2048000,
      "rowLimit": 10000
     },
     "inputWidgets": {},
     "nuid": "e132b416-8cb5-466c-8727-e632f5b0dcac",
     "showTitle": false,
     "title": ""
    }
   },
   "source": [
    "# Bibliotecas"
   ]
  },
  {
   "cell_type": "code",
   "execution_count": 0,
   "metadata": {
    "application/vnd.databricks.v1+cell": {
     "cellMetadata": {
      "byteLimit": 2048000,
      "rowLimit": 10000
     },
     "inputWidgets": {},
     "nuid": "af90bf18-02b0-4815-925c-c0fa44b59f51",
     "showTitle": false,
     "title": ""
    }
   },
   "outputs": [],
   "source": [
    "!python.exe -m pip install --upgrade pip\n",
    "!pip install pandas_datareader\n",
    "!pip install yfinance"
   ]
  },
  {
   "cell_type": "markdown",
   "metadata": {
    "application/vnd.databricks.v1+cell": {
     "cellMetadata": {
      "byteLimit": 2048000,
      "rowLimit": 10000
     },
     "inputWidgets": {},
     "nuid": "2d91fde5-a844-4dfa-b5a5-e0e9e635d08e",
     "showTitle": false,
     "title": ""
    }
   },
   "source": [
    "# Imports"
   ]
  },
  {
   "cell_type": "code",
   "execution_count": 0,
   "metadata": {
    "application/vnd.databricks.v1+cell": {
     "cellMetadata": {
      "byteLimit": 2048000,
      "rowLimit": 10000
     },
     "inputWidgets": {},
     "nuid": "28f98146-9ae8-43e7-a436-8fc137100dca",
     "showTitle": false,
     "title": ""
    }
   },
   "outputs": [],
   "source": [
    "import pandas_datareader as pdr\n",
    "import yfinance as yf\n",
    "import pandas as pd\n",
    "import matplotlib.pyplot as plt\n"
   ]
  },
  {
   "cell_type": "markdown",
   "metadata": {
    "application/vnd.databricks.v1+cell": {
     "cellMetadata": {
      "byteLimit": 2048000,
      "rowLimit": 10000
     },
     "inputWidgets": {},
     "nuid": "e43681c3-c230-41a0-b1be-87fe17120de2",
     "showTitle": false,
     "title": ""
    }
   },
   "source": [
    "# Carteira com aportes variáveis"
   ]
  },
  {
   "cell_type": "code",
   "execution_count": 0,
   "metadata": {
    "application/vnd.databricks.v1+cell": {
     "cellMetadata": {
      "byteLimit": 2048000,
      "rowLimit": 10000
     },
     "inputWidgets": {},
     "nuid": "6ec1af6e-6b81-4d7d-aef2-bece77a9e166",
     "showTitle": false,
     "title": ""
    }
   },
   "outputs": [],
   "source": [
    "# Definir a carteira\n",
    "carteira = {\n",
    "    'BRCR11.SA': [('2021-11-04', 1), ('2022-05-02', 1), ('2022-06-02', 3), ('2023-01-02', 4), ('2023-02-10', 1)],\n",
    "    'BTAL11.SA': [('2022-05-02', 1), ('2022-06-02', 1), ('2022-08-02', 1), ('2022-08-26', 2), ('2023-03-06', 4)],\n",
    "    'BTLG11.SA': [('2022-05-02', 1), ('2022-06-02', 1), ('2022-08-01', 1), ('2023-01-12', 4)],\n",
    "    'CPTS11.SA': [('2022-05-02', 1), ('2022-06-02', 1), ('2022-08-01', 1), ('2022-09-02', 2), ('2023-01-02', 3)],\n",
    "    'DEVA11.SA': [('2022-06-02', 1), ('2022-08-01', 1), ('2022-09-02', 2)\n",
    "                  #, ('2023-05-08', 8) \n",
    "                  ],\n",
    "    'HCTR11.SA': [('2023-02-27', 1)],\n",
    "    'KNSC11.SA': [('2022-05-02', 2), ('2022-06-02', 1), ('2022-08-01', 1)],\n",
    "    #'MALL11.SA': [('2023-05-08', 20)],\n",
    "    'RBRR11.SA': [('2022-05-02', 2), ('2022-06-02', 2), ('2022-08-01', 1), ('2023-01-02', 2)],\n",
    "    'RECR11.SA': [('2022-11-08', 1), ('2023-03-20', 4)],\n",
    "    'SARE11.SA': [('2022-11-21', 1)],\n",
    "    'SNAG11.SA': [('2022-09-02', 2), ('2022-10-10', 5)\n",
    "                  #, ('2023-05-08', 3)\n",
    "                  ],\n",
    "    'SNFF11.SA': [('2022-08-26', 1), ('2023-03-06', 3)],\n",
    "    'VISC11.SA': [('2022-05-02', 1), ('2022-06-02', 1), ('2022-08-01', 1)\n",
    "                  #, ('2023-05-08', 20)\n",
    "                  ],\n",
    "    'XPML11.SA': [('2023-03-03', 3)\n",
    "                  #, ('2023-05-08', 1)\n",
    "                  ],\n",
    "}\n",
    "\n",
    "\n",
    "# Definir a data de início e fim da simulação\n",
    "start_date = '2021-11-04'\n",
    "end_date = '2023-07-15'\n",
    "\n",
    "# Baixar os preços de fechamento históricos de cada ativo\n",
    "prices = {}\n",
    "for ticker in carteira.keys():\n",
    "    data = yf.download(ticker, start=start_date, end=end_date)\n",
    "    prices[ticker] = data['Adj Close']\n",
    "\n",
    "\n"
   ]
  },
  {
   "cell_type": "code",
   "execution_count": 0,
   "metadata": {
    "application/vnd.databricks.v1+cell": {
     "cellMetadata": {
      "byteLimit": 2048000,
      "rowLimit": 10000
     },
     "inputWidgets": {},
     "nuid": "98a01d3e-c2e5-4f08-9128-67dcf9aaf1d3",
     "showTitle": false,
     "title": ""
    }
   },
   "outputs": [],
   "source": [
    "# Calcular a valorização da carteira\n",
    "valorizacao = 0\n",
    "for ticker, compras in carteira.items():\n",
    "    \n",
    "    for compra in compras:\n",
    "        data_compra, qtd = compra\n",
    "        preco_compra = prices[ticker][data_compra]\n",
    "        preco_atual = prices[ticker][-1]\n",
    "        valorizacao += int(qtd) * (preco_atual - preco_compra)\n",
    "        \n",
    "\n",
    "print('Valorização da carteira:', valorizacao)\n"
   ]
  },
  {
   "cell_type": "code",
   "execution_count": 0,
   "metadata": {
    "application/vnd.databricks.v1+cell": {
     "cellMetadata": {
      "byteLimit": 2048000,
      "rowLimit": 10000
     },
     "inputWidgets": {},
     "nuid": "b44f25d4-b63a-4ee5-b477-c3e0947e544d",
     "showTitle": false,
     "title": ""
    }
   },
   "outputs": [],
   "source": [
    "# Criar lista de datas\n",
    "date_range = pd.date_range(pd.to_datetime(start_date), pd.to_datetime(end_date), freq='MS')\n",
    "\n",
    "# Calcular a valorização da carteira para cada data da lista de datas\n",
    "valorizacao_mes_a_mes = []\n",
    "for data in date_range:\n",
    "    valorizacao = 0\n",
    "    for ticker, compras in carteira.items():\n",
    "        for compra in compras:\n",
    "            data_compra, qtd = compra\n",
    "            if pd.Timestamp(data) >= pd.Timestamp(data_compra):\n",
    "                try:\n",
    "                    preco_compra = prices[ticker].loc[pd.Timestamp(data_compra)]\n",
    "                    preco_atual = prices[ticker].loc[pd.Timestamp(data)]\n",
    "                    valorizacao += int(qtd) * (preco_atual - preco_compra)\n",
    "                except KeyError:\n",
    "                    pass\n",
    "    valorizacao_mes_a_mes.append(valorizacao)\n",
    "\n",
    "# Formatando as datas\n",
    "date_range = date_range.strftime('%Y-%m-%d').tolist()\n",
    "\n",
    "# Plotar gráfico\n",
    "plt.figure(figsize=(16, 9))\n",
    "plt.plot(date_range, valorizacao_mes_a_mes, marker='o')\n",
    "plt.title('Valorização do mês')\n",
    "plt.xlabel('Mês')\n",
    "plt.ylabel('Valorização')\n",
    "plt.xticks(rotation=45)\n",
    "plt.annotate(f'Maior valor: R${max(valorizacao_mes_a_mes):,.2f}', \n",
    "             xy=(date_range[valorizacao_mes_a_mes.index(max(valorizacao_mes_a_mes))], max(valorizacao_mes_a_mes)), \n",
    "             xytext=(pd.Timestamp(date_range[valorizacao_mes_a_mes.index(max(valorizacao_mes_a_mes))]).strftime('%Y-%m-%d') + ' 30D', max(valorizacao_mes_a_mes)), \n",
    "             arrowprops=dict(facecolor='black', shrink=0.05, linewidth=0.0000001))\n",
    "plt.annotate(f'Menor valor: R${min(valorizacao_mes_a_mes):,.2f}', \n",
    "             xy=(date_range[valorizacao_mes_a_mes.index(min(valorizacao_mes_a_mes))], min(valorizacao_mes_a_mes)), \n",
    "             xytext=(pd.Timestamp(date_range[valorizacao_mes_a_mes.index(min(valorizacao_mes_a_mes))]).strftime('%Y-%m-%d') + ' 30D', min(valorizacao_mes_a_mes)), \n",
    "             arrowprops=dict(facecolor='black', shrink=0.05, linewidth=0.0000001))\n",
    "plt.annotate(f'Valor mais recente: R${valorizacao_mes_a_mes[-1]:,.2f}', \n",
    "             xy=(date_range[-1], valorizacao_mes_a_mes[-1]), \n",
    "             xytext=(pd.Timestamp(date_range[-1]).strftime('%Y-%m-%d') + ' 30D', valorizacao_mes_a_mes[-1]), \n",
    "             arrowprops=dict(facecolor='black', shrink=0.05, linewidth=0.0000001))\n",
    "\n",
    "\n",
    "plt.show()\n",
    "\n",
    "#TODO:  Conferir a valorização dos ativos\n",
    "#       Conferir porque a valorização nos ultimos meses está zerada"
   ]
  }
 ],
 "metadata": {
  "application/vnd.databricks.v1+notebook": {
   "dashboards": [],
   "language": "python",
   "notebookMetadata": {
    "pythonIndentUnit": 4
   },
   "notebookName": "estudo_fiis",
   "widgets": {}
  },
  "kernelspec": {
   "display_name": "Python 3",
   "language": "python",
   "name": "python3"
  },
  "language_info": {
   "codemirror_mode": {
    "name": "ipython",
    "version": 3
   },
   "file_extension": ".py",
   "mimetype": "text/x-python",
   "name": "python",
   "nbconvert_exporter": "python",
   "pygments_lexer": "ipython3",
   "version": "3.10.4"
  },
  "orig_nbformat": 4
 },
 "nbformat": 4,
 "nbformat_minor": 0
}
